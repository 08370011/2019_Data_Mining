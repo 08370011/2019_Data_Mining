{
 "cells": [
  {
   "cell_type": "markdown",
   "metadata": {},
   "source": [
    "# U.S. News & World Report’s College Data\n",
    "\n",
    "## 一. <a href='#資料介紹'>資料介紹</a>\n",
    "\n",
    "1. 來源\n",
    "2. 資料介紹\n",
    "3. 欄位\n",
    "\n",
    "\n",
    "## 二. <a href='#呈現'>呈現</a>\n",
    "1. <a href='#1.-Load-Libraries'>Load Libraries</a>\n",
    "2. <a href='#2.-Load-Data'>Load Data</a>\n",
    "3. <a href='#3.-Data-Preprocessing'>Data Preprocessing</a>          \n",
    "4. <a href='#4.-Analyze-Data-1'>Analyze Data-1</a>        \n",
    "4. <a href='#5.-Analyze-Data-2'>Analyze Data-2</a>        \n",
    "5. <a href='#6.-PCA'>PCA</a>\n"
   ]
  },
  {
   "cell_type": "markdown",
   "metadata": {},
   "source": [
    "## 資料介紹\n",
    "\n",
    "\n",
    "### 1.來源\n",
    "[An Introduction to Statistical Learning with Applications in R](http://faculty.marshall.usc.edu/gareth-james/ISL/data.html) 這本書裡使用到的資料集 - [College.csv](http://faculty.marshall.usc.edu/gareth-james/ISL/College.csv)\n",
    "\n",
    "[Kaggle](https://www.kaggle.com/flyingwombat/us-news-and-world-reports-college-data) 上也可以下載得到\n",
    "\n",
    "### 2.資料介紹\n",
    "根據1995年《[U.S. News & World Report’s](https://www.usnews.com)》發布的美國大學的統計數據。\n",
    "\n",
    "### 3.欄位\n",
    "\n",
    "Shape：(777, 18)\n",
    "\n",
    "\n",
    "英文欄位|中文欄位|描述\n",
    ":---:|:---:|:---\n",
    "Private|私立學校|No：公立學校 / Yes：私立學校\n",
    "Apps|申請數量|Number of applications received\n",
    "Accept|接受的申請數量|Number of applications accepted\n",
    "Enroll|註冊數量|Number of new students enrolled\n",
    "Top10perc|新生在高中的班排為前10%的比例|Pct. new students from top 10% of H.S. class\n",
    "Top25perc|新生在高中的班排為前25%的比例|Pct. new students from top 25% of H.S. class\n",
    "F.Undergrad|全職學生|Number of fulltime undergraduates\n",
    "P.Undergrad|非全職學生|Number of parttime undergraduates\n",
    "Outstate|州外學費|Out-of-state tuition\n",
    "Room.Board|食宿費用|Room and board costs\n",
    "Books|書籍費用|Estimated book costs\n",
    "Personal|個人花費|Estimated personal spending\n",
    "PhD|教職員為博士的比例|Pct. of faculty with Ph.D.’s\n",
    "Terminal|教職員為領域中最高學位的比例（一般來說為博士）|Pct. of faculty with terminal degree\n",
    "S.F.Ratio|師生比|Student/faculty ratio\n",
    "perc.alumni|校友捐獻的比例|Pct. alumni who donate\n",
    "Expend|每個學生的教學支出|Instructional expenditure per student\n",
    "Grad.Rate|畢業率|Graduation rate"
   ]
  },
  {
   "cell_type": "markdown",
   "metadata": {},
   "source": [
    "<a href='#U.S.-News-&-World-Report’s-College-Data'>Back To Top</a>"
   ]
  },
  {
   "cell_type": "markdown",
   "metadata": {},
   "source": [
    "---"
   ]
  },
  {
   "cell_type": "markdown",
   "metadata": {},
   "source": [
    "## 呈現"
   ]
  },
  {
   "cell_type": "markdown",
   "metadata": {},
   "source": [
    "## 1. Load Libraries"
   ]
  },
  {
   "cell_type": "code",
   "execution_count": 1,
   "metadata": {},
   "outputs": [],
   "source": [
    "import pandas as pd\n",
    "import numpy as np\n",
    "import seaborn as sns\n",
    "import matplotlib.pyplot as plt\n",
    "\n",
    "from sklearn.preprocessing import StandardScaler\n",
    "from sklearn.decomposition import PCA\n",
    "\n",
    "%matplotlib inline\n",
    "pd.set_option('display.float_format',lambda x : '%.2f' % x)\n",
    "pd.set_option('display.max_rows', 1000)\n",
    "pd.set_option('display.max_columns', 30)\n",
    "\n",
    "\n",
    "sns.set()"
   ]
  },
  {
   "cell_type": "markdown",
   "metadata": {},
   "source": [
    "<a href='#U.S.-News-&-World-Report’s-College-Data'>Back To Top</a>"
   ]
  },
  {
   "cell_type": "markdown",
   "metadata": {},
   "source": [
    "---"
   ]
  },
  {
   "cell_type": "markdown",
   "metadata": {},
   "source": [
    "## 2. Load Data"
   ]
  },
  {
   "cell_type": "code",
   "execution_count": 2,
   "metadata": {},
   "outputs": [],
   "source": [
    "df = pd.read_csv(\"../input/College.csv\", index_col=0)"
   ]
  },
  {
   "cell_type": "markdown",
   "metadata": {},
   "source": [
    "### 資料筆數：(777, 18)"
   ]
  },
  {
   "cell_type": "code",
   "execution_count": 3,
   "metadata": {},
   "outputs": [
    {
     "data": {
      "text/plain": [
       "(777, 18)"
      ]
     },
     "execution_count": 3,
     "metadata": {},
     "output_type": "execute_result"
    }
   ],
   "source": [
    "df.shape"
   ]
  },
  {
   "cell_type": "code",
   "execution_count": 4,
   "metadata": {},
   "outputs": [
    {
     "data": {
      "text/html": [
       "<div>\n",
       "<style scoped>\n",
       "    .dataframe tbody tr th:only-of-type {\n",
       "        vertical-align: middle;\n",
       "    }\n",
       "\n",
       "    .dataframe tbody tr th {\n",
       "        vertical-align: top;\n",
       "    }\n",
       "\n",
       "    .dataframe thead th {\n",
       "        text-align: right;\n",
       "    }\n",
       "</style>\n",
       "<table border=\"1\" class=\"dataframe\">\n",
       "  <thead>\n",
       "    <tr style=\"text-align: right;\">\n",
       "      <th></th>\n",
       "      <th>Private</th>\n",
       "      <th>Apps</th>\n",
       "      <th>Accept</th>\n",
       "      <th>Enroll</th>\n",
       "      <th>Top10perc</th>\n",
       "      <th>Top25perc</th>\n",
       "      <th>F.Undergrad</th>\n",
       "      <th>P.Undergrad</th>\n",
       "      <th>Outstate</th>\n",
       "      <th>Room.Board</th>\n",
       "      <th>Books</th>\n",
       "      <th>Personal</th>\n",
       "      <th>PhD</th>\n",
       "      <th>Terminal</th>\n",
       "      <th>S.F.Ratio</th>\n",
       "      <th>perc.alumni</th>\n",
       "      <th>Expend</th>\n",
       "      <th>Grad.Rate</th>\n",
       "    </tr>\n",
       "  </thead>\n",
       "  <tbody>\n",
       "    <tr>\n",
       "      <td>Abilene Christian University</td>\n",
       "      <td>Yes</td>\n",
       "      <td>1660</td>\n",
       "      <td>1232</td>\n",
       "      <td>721</td>\n",
       "      <td>23</td>\n",
       "      <td>52</td>\n",
       "      <td>2885</td>\n",
       "      <td>537</td>\n",
       "      <td>7440</td>\n",
       "      <td>3300</td>\n",
       "      <td>450</td>\n",
       "      <td>2200</td>\n",
       "      <td>70</td>\n",
       "      <td>78</td>\n",
       "      <td>18.10</td>\n",
       "      <td>12</td>\n",
       "      <td>7041</td>\n",
       "      <td>60</td>\n",
       "    </tr>\n",
       "    <tr>\n",
       "      <td>Adelphi University</td>\n",
       "      <td>Yes</td>\n",
       "      <td>2186</td>\n",
       "      <td>1924</td>\n",
       "      <td>512</td>\n",
       "      <td>16</td>\n",
       "      <td>29</td>\n",
       "      <td>2683</td>\n",
       "      <td>1227</td>\n",
       "      <td>12280</td>\n",
       "      <td>6450</td>\n",
       "      <td>750</td>\n",
       "      <td>1500</td>\n",
       "      <td>29</td>\n",
       "      <td>30</td>\n",
       "      <td>12.20</td>\n",
       "      <td>16</td>\n",
       "      <td>10527</td>\n",
       "      <td>56</td>\n",
       "    </tr>\n",
       "    <tr>\n",
       "      <td>Adrian College</td>\n",
       "      <td>Yes</td>\n",
       "      <td>1428</td>\n",
       "      <td>1097</td>\n",
       "      <td>336</td>\n",
       "      <td>22</td>\n",
       "      <td>50</td>\n",
       "      <td>1036</td>\n",
       "      <td>99</td>\n",
       "      <td>11250</td>\n",
       "      <td>3750</td>\n",
       "      <td>400</td>\n",
       "      <td>1165</td>\n",
       "      <td>53</td>\n",
       "      <td>66</td>\n",
       "      <td>12.90</td>\n",
       "      <td>30</td>\n",
       "      <td>8735</td>\n",
       "      <td>54</td>\n",
       "    </tr>\n",
       "    <tr>\n",
       "      <td>Agnes Scott College</td>\n",
       "      <td>Yes</td>\n",
       "      <td>417</td>\n",
       "      <td>349</td>\n",
       "      <td>137</td>\n",
       "      <td>60</td>\n",
       "      <td>89</td>\n",
       "      <td>510</td>\n",
       "      <td>63</td>\n",
       "      <td>12960</td>\n",
       "      <td>5450</td>\n",
       "      <td>450</td>\n",
       "      <td>875</td>\n",
       "      <td>92</td>\n",
       "      <td>97</td>\n",
       "      <td>7.70</td>\n",
       "      <td>37</td>\n",
       "      <td>19016</td>\n",
       "      <td>59</td>\n",
       "    </tr>\n",
       "    <tr>\n",
       "      <td>Alaska Pacific University</td>\n",
       "      <td>Yes</td>\n",
       "      <td>193</td>\n",
       "      <td>146</td>\n",
       "      <td>55</td>\n",
       "      <td>16</td>\n",
       "      <td>44</td>\n",
       "      <td>249</td>\n",
       "      <td>869</td>\n",
       "      <td>7560</td>\n",
       "      <td>4120</td>\n",
       "      <td>800</td>\n",
       "      <td>1500</td>\n",
       "      <td>76</td>\n",
       "      <td>72</td>\n",
       "      <td>11.90</td>\n",
       "      <td>2</td>\n",
       "      <td>10922</td>\n",
       "      <td>15</td>\n",
       "    </tr>\n",
       "  </tbody>\n",
       "</table>\n",
       "</div>"
      ],
      "text/plain": [
       "                             Private  Apps  Accept  Enroll  Top10perc  \\\n",
       "Abilene Christian University     Yes  1660    1232     721         23   \n",
       "Adelphi University               Yes  2186    1924     512         16   \n",
       "Adrian College                   Yes  1428    1097     336         22   \n",
       "Agnes Scott College              Yes   417     349     137         60   \n",
       "Alaska Pacific University        Yes   193     146      55         16   \n",
       "\n",
       "                              Top25perc  F.Undergrad  P.Undergrad  Outstate  \\\n",
       "Abilene Christian University         52         2885          537      7440   \n",
       "Adelphi University                   29         2683         1227     12280   \n",
       "Adrian College                       50         1036           99     11250   \n",
       "Agnes Scott College                  89          510           63     12960   \n",
       "Alaska Pacific University            44          249          869      7560   \n",
       "\n",
       "                              Room.Board  Books  Personal  PhD  Terminal  \\\n",
       "Abilene Christian University        3300    450      2200   70        78   \n",
       "Adelphi University                  6450    750      1500   29        30   \n",
       "Adrian College                      3750    400      1165   53        66   \n",
       "Agnes Scott College                 5450    450       875   92        97   \n",
       "Alaska Pacific University           4120    800      1500   76        72   \n",
       "\n",
       "                              S.F.Ratio  perc.alumni  Expend  Grad.Rate  \n",
       "Abilene Christian University      18.10           12    7041         60  \n",
       "Adelphi University                12.20           16   10527         56  \n",
       "Adrian College                    12.90           30    8735         54  \n",
       "Agnes Scott College                7.70           37   19016         59  \n",
       "Alaska Pacific University         11.90            2   10922         15  "
      ]
     },
     "execution_count": 4,
     "metadata": {},
     "output_type": "execute_result"
    }
   ],
   "source": [
    "df.head()"
   ]
  },
  {
   "cell_type": "code",
   "execution_count": 5,
   "metadata": {},
   "outputs": [],
   "source": [
    "# df = df.rename(columns={\"Unnamed: 0\": \"University\"})"
   ]
  },
  {
   "cell_type": "markdown",
   "metadata": {},
   "source": [
    "<a href='#U.S.-News-&-World-Report’s-College-Data'>Back To Top</a>"
   ]
  },
  {
   "cell_type": "markdown",
   "metadata": {},
   "source": [
    "---"
   ]
  },
  {
   "cell_type": "markdown",
   "metadata": {},
   "source": [
    "## 3. Data Preprocessing\n",
    "1. Private Yes/No to 1/0\n",
    "2. Missing Value\n",
    "3. Percentage > 100\n",
    "4. Columns Preprocess"
   ]
  },
  {
   "cell_type": "markdown",
   "metadata": {},
   "source": [
    "### 3.1 Private Yes/No to 1/0\n",
    "- 私立大學：Yes -> 1\n",
    "- 公立大學：No -> 0"
   ]
  },
  {
   "cell_type": "code",
   "execution_count": 6,
   "metadata": {},
   "outputs": [],
   "source": [
    "df['Private'] = df['Private'].apply(lambda x:1 if x =='Yes' else 0)"
   ]
  },
  {
   "cell_type": "code",
   "execution_count": 7,
   "metadata": {},
   "outputs": [
    {
     "data": {
      "text/html": [
       "<div>\n",
       "<style scoped>\n",
       "    .dataframe tbody tr th:only-of-type {\n",
       "        vertical-align: middle;\n",
       "    }\n",
       "\n",
       "    .dataframe tbody tr th {\n",
       "        vertical-align: top;\n",
       "    }\n",
       "\n",
       "    .dataframe thead th {\n",
       "        text-align: right;\n",
       "    }\n",
       "</style>\n",
       "<table border=\"1\" class=\"dataframe\">\n",
       "  <thead>\n",
       "    <tr style=\"text-align: right;\">\n",
       "      <th></th>\n",
       "      <th>Private</th>\n",
       "      <th>Apps</th>\n",
       "      <th>Accept</th>\n",
       "      <th>Enroll</th>\n",
       "      <th>Top10perc</th>\n",
       "      <th>Top25perc</th>\n",
       "      <th>F.Undergrad</th>\n",
       "      <th>P.Undergrad</th>\n",
       "      <th>Outstate</th>\n",
       "      <th>Room.Board</th>\n",
       "      <th>Books</th>\n",
       "      <th>Personal</th>\n",
       "      <th>PhD</th>\n",
       "      <th>Terminal</th>\n",
       "      <th>S.F.Ratio</th>\n",
       "      <th>perc.alumni</th>\n",
       "      <th>Expend</th>\n",
       "      <th>Grad.Rate</th>\n",
       "    </tr>\n",
       "  </thead>\n",
       "  <tbody>\n",
       "    <tr>\n",
       "      <td>Abilene Christian University</td>\n",
       "      <td>1</td>\n",
       "      <td>1660</td>\n",
       "      <td>1232</td>\n",
       "      <td>721</td>\n",
       "      <td>23</td>\n",
       "      <td>52</td>\n",
       "      <td>2885</td>\n",
       "      <td>537</td>\n",
       "      <td>7440</td>\n",
       "      <td>3300</td>\n",
       "      <td>450</td>\n",
       "      <td>2200</td>\n",
       "      <td>70</td>\n",
       "      <td>78</td>\n",
       "      <td>18.10</td>\n",
       "      <td>12</td>\n",
       "      <td>7041</td>\n",
       "      <td>60</td>\n",
       "    </tr>\n",
       "    <tr>\n",
       "      <td>Adelphi University</td>\n",
       "      <td>1</td>\n",
       "      <td>2186</td>\n",
       "      <td>1924</td>\n",
       "      <td>512</td>\n",
       "      <td>16</td>\n",
       "      <td>29</td>\n",
       "      <td>2683</td>\n",
       "      <td>1227</td>\n",
       "      <td>12280</td>\n",
       "      <td>6450</td>\n",
       "      <td>750</td>\n",
       "      <td>1500</td>\n",
       "      <td>29</td>\n",
       "      <td>30</td>\n",
       "      <td>12.20</td>\n",
       "      <td>16</td>\n",
       "      <td>10527</td>\n",
       "      <td>56</td>\n",
       "    </tr>\n",
       "    <tr>\n",
       "      <td>Adrian College</td>\n",
       "      <td>1</td>\n",
       "      <td>1428</td>\n",
       "      <td>1097</td>\n",
       "      <td>336</td>\n",
       "      <td>22</td>\n",
       "      <td>50</td>\n",
       "      <td>1036</td>\n",
       "      <td>99</td>\n",
       "      <td>11250</td>\n",
       "      <td>3750</td>\n",
       "      <td>400</td>\n",
       "      <td>1165</td>\n",
       "      <td>53</td>\n",
       "      <td>66</td>\n",
       "      <td>12.90</td>\n",
       "      <td>30</td>\n",
       "      <td>8735</td>\n",
       "      <td>54</td>\n",
       "    </tr>\n",
       "  </tbody>\n",
       "</table>\n",
       "</div>"
      ],
      "text/plain": [
       "                              Private  Apps  Accept  Enroll  Top10perc  \\\n",
       "Abilene Christian University        1  1660    1232     721         23   \n",
       "Adelphi University                  1  2186    1924     512         16   \n",
       "Adrian College                      1  1428    1097     336         22   \n",
       "\n",
       "                              Top25perc  F.Undergrad  P.Undergrad  Outstate  \\\n",
       "Abilene Christian University         52         2885          537      7440   \n",
       "Adelphi University                   29         2683         1227     12280   \n",
       "Adrian College                       50         1036           99     11250   \n",
       "\n",
       "                              Room.Board  Books  Personal  PhD  Terminal  \\\n",
       "Abilene Christian University        3300    450      2200   70        78   \n",
       "Adelphi University                  6450    750      1500   29        30   \n",
       "Adrian College                      3750    400      1165   53        66   \n",
       "\n",
       "                              S.F.Ratio  perc.alumni  Expend  Grad.Rate  \n",
       "Abilene Christian University      18.10           12    7041         60  \n",
       "Adelphi University                12.20           16   10527         56  \n",
       "Adrian College                    12.90           30    8735         54  "
      ]
     },
     "execution_count": 7,
     "metadata": {},
     "output_type": "execute_result"
    }
   ],
   "source": [
    "df.head(3)"
   ]
  },
  {
   "cell_type": "markdown",
   "metadata": {},
   "source": [
    "### 3.2 Missing Value"
   ]
  },
  {
   "cell_type": "code",
   "execution_count": 8,
   "metadata": {},
   "outputs": [
    {
     "name": "stdout",
     "output_type": "stream",
     "text": [
      "No Missing Value !\n"
     ]
    }
   ],
   "source": [
    "def na_check(df):\n",
    "    missing = pd.DataFrame(df.isnull().sum(), columns=['missing'])\n",
    "    missing = missing.sort_values(ascending=False, by=['missing'])\n",
    "    missing = missing[missing['missing']>0]\n",
    "    if len(missing)==0:\n",
    "        print('No Missing Value !')\n",
    "    else:\n",
    "        display(missing)\n",
    "na_check(df)"
   ]
  },
  {
   "cell_type": "markdown",
   "metadata": {},
   "source": [
    "### 3.3 Percentage > 100\n",
    "> 有些欄位的比例大於100，不合理，所以把那些 >100%的改成 100%\n",
    "\n",
    "1. PhD：103%\n",
    "2. Grad.Rate：108%"
   ]
  },
  {
   "cell_type": "code",
   "execution_count": 9,
   "metadata": {},
   "outputs": [
    {
     "data": {
      "text/html": [
       "<div>\n",
       "<style scoped>\n",
       "    .dataframe tbody tr th:only-of-type {\n",
       "        vertical-align: middle;\n",
       "    }\n",
       "\n",
       "    .dataframe tbody tr th {\n",
       "        vertical-align: top;\n",
       "    }\n",
       "\n",
       "    .dataframe thead th {\n",
       "        text-align: right;\n",
       "    }\n",
       "</style>\n",
       "<table border=\"1\" class=\"dataframe\">\n",
       "  <thead>\n",
       "    <tr style=\"text-align: right;\">\n",
       "      <th></th>\n",
       "      <th>Private</th>\n",
       "      <th>Apps</th>\n",
       "      <th>Accept</th>\n",
       "      <th>Enroll</th>\n",
       "      <th>Top10perc</th>\n",
       "      <th>Top25perc</th>\n",
       "      <th>F.Undergrad</th>\n",
       "      <th>P.Undergrad</th>\n",
       "      <th>Outstate</th>\n",
       "      <th>Room.Board</th>\n",
       "      <th>Books</th>\n",
       "      <th>Personal</th>\n",
       "      <th>PhD</th>\n",
       "      <th>Terminal</th>\n",
       "      <th>S.F.Ratio</th>\n",
       "      <th>perc.alumni</th>\n",
       "      <th>Expend</th>\n",
       "      <th>Grad.Rate</th>\n",
       "    </tr>\n",
       "  </thead>\n",
       "  <tbody>\n",
       "    <tr>\n",
       "      <td>count</td>\n",
       "      <td>777.00</td>\n",
       "      <td>777.00</td>\n",
       "      <td>777.00</td>\n",
       "      <td>777.00</td>\n",
       "      <td>777.00</td>\n",
       "      <td>777.00</td>\n",
       "      <td>777.00</td>\n",
       "      <td>777.00</td>\n",
       "      <td>777.00</td>\n",
       "      <td>777.00</td>\n",
       "      <td>777.00</td>\n",
       "      <td>777.00</td>\n",
       "      <td>777.00</td>\n",
       "      <td>777.00</td>\n",
       "      <td>777.00</td>\n",
       "      <td>777.00</td>\n",
       "      <td>777.00</td>\n",
       "      <td>777.00</td>\n",
       "    </tr>\n",
       "    <tr>\n",
       "      <td>mean</td>\n",
       "      <td>0.73</td>\n",
       "      <td>3001.64</td>\n",
       "      <td>2018.80</td>\n",
       "      <td>779.97</td>\n",
       "      <td>27.56</td>\n",
       "      <td>55.80</td>\n",
       "      <td>3699.91</td>\n",
       "      <td>855.30</td>\n",
       "      <td>10440.67</td>\n",
       "      <td>4357.53</td>\n",
       "      <td>549.38</td>\n",
       "      <td>1340.64</td>\n",
       "      <td>72.66</td>\n",
       "      <td>79.70</td>\n",
       "      <td>14.09</td>\n",
       "      <td>22.74</td>\n",
       "      <td>9660.17</td>\n",
       "      <td>65.46</td>\n",
       "    </tr>\n",
       "    <tr>\n",
       "      <td>std</td>\n",
       "      <td>0.45</td>\n",
       "      <td>3870.20</td>\n",
       "      <td>2451.11</td>\n",
       "      <td>929.18</td>\n",
       "      <td>17.64</td>\n",
       "      <td>19.80</td>\n",
       "      <td>4850.42</td>\n",
       "      <td>1522.43</td>\n",
       "      <td>4023.02</td>\n",
       "      <td>1096.70</td>\n",
       "      <td>165.11</td>\n",
       "      <td>677.07</td>\n",
       "      <td>16.33</td>\n",
       "      <td>14.72</td>\n",
       "      <td>3.96</td>\n",
       "      <td>12.39</td>\n",
       "      <td>5221.77</td>\n",
       "      <td>17.18</td>\n",
       "    </tr>\n",
       "    <tr>\n",
       "      <td>min</td>\n",
       "      <td>0.00</td>\n",
       "      <td>81.00</td>\n",
       "      <td>72.00</td>\n",
       "      <td>35.00</td>\n",
       "      <td>1.00</td>\n",
       "      <td>9.00</td>\n",
       "      <td>139.00</td>\n",
       "      <td>1.00</td>\n",
       "      <td>2340.00</td>\n",
       "      <td>1780.00</td>\n",
       "      <td>96.00</td>\n",
       "      <td>250.00</td>\n",
       "      <td>8.00</td>\n",
       "      <td>24.00</td>\n",
       "      <td>2.50</td>\n",
       "      <td>0.00</td>\n",
       "      <td>3186.00</td>\n",
       "      <td>10.00</td>\n",
       "    </tr>\n",
       "    <tr>\n",
       "      <td>25%</td>\n",
       "      <td>0.00</td>\n",
       "      <td>776.00</td>\n",
       "      <td>604.00</td>\n",
       "      <td>242.00</td>\n",
       "      <td>15.00</td>\n",
       "      <td>41.00</td>\n",
       "      <td>992.00</td>\n",
       "      <td>95.00</td>\n",
       "      <td>7320.00</td>\n",
       "      <td>3597.00</td>\n",
       "      <td>470.00</td>\n",
       "      <td>850.00</td>\n",
       "      <td>62.00</td>\n",
       "      <td>71.00</td>\n",
       "      <td>11.50</td>\n",
       "      <td>13.00</td>\n",
       "      <td>6751.00</td>\n",
       "      <td>53.00</td>\n",
       "    </tr>\n",
       "    <tr>\n",
       "      <td>50%</td>\n",
       "      <td>1.00</td>\n",
       "      <td>1558.00</td>\n",
       "      <td>1110.00</td>\n",
       "      <td>434.00</td>\n",
       "      <td>23.00</td>\n",
       "      <td>54.00</td>\n",
       "      <td>1707.00</td>\n",
       "      <td>353.00</td>\n",
       "      <td>9990.00</td>\n",
       "      <td>4200.00</td>\n",
       "      <td>500.00</td>\n",
       "      <td>1200.00</td>\n",
       "      <td>75.00</td>\n",
       "      <td>82.00</td>\n",
       "      <td>13.60</td>\n",
       "      <td>21.00</td>\n",
       "      <td>8377.00</td>\n",
       "      <td>65.00</td>\n",
       "    </tr>\n",
       "    <tr>\n",
       "      <td>75%</td>\n",
       "      <td>1.00</td>\n",
       "      <td>3624.00</td>\n",
       "      <td>2424.00</td>\n",
       "      <td>902.00</td>\n",
       "      <td>35.00</td>\n",
       "      <td>69.00</td>\n",
       "      <td>4005.00</td>\n",
       "      <td>967.00</td>\n",
       "      <td>12925.00</td>\n",
       "      <td>5050.00</td>\n",
       "      <td>600.00</td>\n",
       "      <td>1700.00</td>\n",
       "      <td>85.00</td>\n",
       "      <td>92.00</td>\n",
       "      <td>16.50</td>\n",
       "      <td>31.00</td>\n",
       "      <td>10830.00</td>\n",
       "      <td>78.00</td>\n",
       "    </tr>\n",
       "    <tr>\n",
       "      <td>max</td>\n",
       "      <td>1.00</td>\n",
       "      <td>48094.00</td>\n",
       "      <td>26330.00</td>\n",
       "      <td>6392.00</td>\n",
       "      <td>96.00</td>\n",
       "      <td>100.00</td>\n",
       "      <td>31643.00</td>\n",
       "      <td>21836.00</td>\n",
       "      <td>21700.00</td>\n",
       "      <td>8124.00</td>\n",
       "      <td>2340.00</td>\n",
       "      <td>6800.00</td>\n",
       "      <td>103.00</td>\n",
       "      <td>100.00</td>\n",
       "      <td>39.80</td>\n",
       "      <td>64.00</td>\n",
       "      <td>56233.00</td>\n",
       "      <td>118.00</td>\n",
       "    </tr>\n",
       "  </tbody>\n",
       "</table>\n",
       "</div>"
      ],
      "text/plain": [
       "       Private     Apps   Accept  Enroll  Top10perc  Top25perc  F.Undergrad  \\\n",
       "count   777.00   777.00   777.00  777.00     777.00     777.00       777.00   \n",
       "mean      0.73  3001.64  2018.80  779.97      27.56      55.80      3699.91   \n",
       "std       0.45  3870.20  2451.11  929.18      17.64      19.80      4850.42   \n",
       "min       0.00    81.00    72.00   35.00       1.00       9.00       139.00   \n",
       "25%       0.00   776.00   604.00  242.00      15.00      41.00       992.00   \n",
       "50%       1.00  1558.00  1110.00  434.00      23.00      54.00      1707.00   \n",
       "75%       1.00  3624.00  2424.00  902.00      35.00      69.00      4005.00   \n",
       "max       1.00 48094.00 26330.00 6392.00      96.00     100.00     31643.00   \n",
       "\n",
       "       P.Undergrad  Outstate  Room.Board   Books  Personal    PhD  Terminal  \\\n",
       "count       777.00    777.00      777.00  777.00    777.00 777.00    777.00   \n",
       "mean        855.30  10440.67     4357.53  549.38   1340.64  72.66     79.70   \n",
       "std        1522.43   4023.02     1096.70  165.11    677.07  16.33     14.72   \n",
       "min           1.00   2340.00     1780.00   96.00    250.00   8.00     24.00   \n",
       "25%          95.00   7320.00     3597.00  470.00    850.00  62.00     71.00   \n",
       "50%         353.00   9990.00     4200.00  500.00   1200.00  75.00     82.00   \n",
       "75%         967.00  12925.00     5050.00  600.00   1700.00  85.00     92.00   \n",
       "max       21836.00  21700.00     8124.00 2340.00   6800.00 103.00    100.00   \n",
       "\n",
       "       S.F.Ratio  perc.alumni   Expend  Grad.Rate  \n",
       "count     777.00       777.00   777.00     777.00  \n",
       "mean       14.09        22.74  9660.17      65.46  \n",
       "std         3.96        12.39  5221.77      17.18  \n",
       "min         2.50         0.00  3186.00      10.00  \n",
       "25%        11.50        13.00  6751.00      53.00  \n",
       "50%        13.60        21.00  8377.00      65.00  \n",
       "75%        16.50        31.00 10830.00      78.00  \n",
       "max        39.80        64.00 56233.00     118.00  "
      ]
     },
     "execution_count": 9,
     "metadata": {},
     "output_type": "execute_result"
    }
   ],
   "source": [
    "df.describe()"
   ]
  },
  {
   "cell_type": "code",
   "execution_count": 10,
   "metadata": {},
   "outputs": [
    {
     "data": {
      "text/html": [
       "<div>\n",
       "<style scoped>\n",
       "    .dataframe tbody tr th:only-of-type {\n",
       "        vertical-align: middle;\n",
       "    }\n",
       "\n",
       "    .dataframe tbody tr th {\n",
       "        vertical-align: top;\n",
       "    }\n",
       "\n",
       "    .dataframe thead th {\n",
       "        text-align: right;\n",
       "    }\n",
       "</style>\n",
       "<table border=\"1\" class=\"dataframe\">\n",
       "  <thead>\n",
       "    <tr style=\"text-align: right;\">\n",
       "      <th></th>\n",
       "      <th>PhD</th>\n",
       "    </tr>\n",
       "  </thead>\n",
       "  <tbody>\n",
       "    <tr>\n",
       "      <td>Texas A&amp;M University at Galveston</td>\n",
       "      <td>103</td>\n",
       "    </tr>\n",
       "  </tbody>\n",
       "</table>\n",
       "</div>"
      ],
      "text/plain": [
       "                                   PhD\n",
       "Texas A&M University at Galveston  103"
      ]
     },
     "execution_count": 10,
     "metadata": {},
     "output_type": "execute_result"
    }
   ],
   "source": [
    "df[df['PhD']>100][['PhD']]"
   ]
  },
  {
   "cell_type": "code",
   "execution_count": 11,
   "metadata": {},
   "outputs": [],
   "source": [
    "df['PhD'] = df['PhD'].apply(lambda x:100 if x >100 else x) "
   ]
  },
  {
   "cell_type": "code",
   "execution_count": 12,
   "metadata": {},
   "outputs": [
    {
     "data": {
      "text/html": [
       "<div>\n",
       "<style scoped>\n",
       "    .dataframe tbody tr th:only-of-type {\n",
       "        vertical-align: middle;\n",
       "    }\n",
       "\n",
       "    .dataframe tbody tr th {\n",
       "        vertical-align: top;\n",
       "    }\n",
       "\n",
       "    .dataframe thead th {\n",
       "        text-align: right;\n",
       "    }\n",
       "</style>\n",
       "<table border=\"1\" class=\"dataframe\">\n",
       "  <thead>\n",
       "    <tr style=\"text-align: right;\">\n",
       "      <th></th>\n",
       "      <th>Grad.Rate</th>\n",
       "    </tr>\n",
       "  </thead>\n",
       "  <tbody>\n",
       "    <tr>\n",
       "      <td>Cazenovia College</td>\n",
       "      <td>118</td>\n",
       "    </tr>\n",
       "  </tbody>\n",
       "</table>\n",
       "</div>"
      ],
      "text/plain": [
       "                   Grad.Rate\n",
       "Cazenovia College        118"
      ]
     },
     "execution_count": 12,
     "metadata": {},
     "output_type": "execute_result"
    }
   ],
   "source": [
    "df[df['Grad.Rate']>100][['Grad.Rate']]"
   ]
  },
  {
   "cell_type": "code",
   "execution_count": 13,
   "metadata": {},
   "outputs": [],
   "source": [
    "df['Grad.Rate'] = df['Grad.Rate'].apply(lambda x:100 if x >100 else x) "
   ]
  },
  {
   "cell_type": "markdown",
   "metadata": {},
   "source": [
    "### 3.4 Columns Preprocess\n",
    "\n",
    "#### Add\n",
    "1. Accept_Rate：錄取率 Accept / Apps\n",
    "2. Enroll_Rate：註冊率  Enroll / Accept\n",
    "3. Full_Percentage：全職學生比例 = F.Undergrad / F.Undergrad + P.Undergrad\n",
    "4. Full_Percentage：全職學生比例 = P.Undergrad / F.Undergrad + P.Undergrad\n",
    "\n",
    "#### Turn To Percentage\n",
    "1. Top10perc / 100\n",
    "2. Top25perc / 100\n",
    "3. PhD / 100\n",
    "4. Terminal / 100\n",
    "4. perc.alumni / 100\n",
    "5. Grad.Rate / 100\n"
   ]
  },
  {
   "cell_type": "code",
   "execution_count": 14,
   "metadata": {},
   "outputs": [
    {
     "data": {
      "text/html": [
       "<div>\n",
       "<style scoped>\n",
       "    .dataframe tbody tr th:only-of-type {\n",
       "        vertical-align: middle;\n",
       "    }\n",
       "\n",
       "    .dataframe tbody tr th {\n",
       "        vertical-align: top;\n",
       "    }\n",
       "\n",
       "    .dataframe thead th {\n",
       "        text-align: right;\n",
       "    }\n",
       "</style>\n",
       "<table border=\"1\" class=\"dataframe\">\n",
       "  <thead>\n",
       "    <tr style=\"text-align: right;\">\n",
       "      <th></th>\n",
       "      <th>Private</th>\n",
       "      <th>Apps</th>\n",
       "      <th>Accept</th>\n",
       "      <th>Enroll</th>\n",
       "      <th>Top10perc</th>\n",
       "      <th>Top25perc</th>\n",
       "      <th>F.Undergrad</th>\n",
       "      <th>P.Undergrad</th>\n",
       "      <th>Outstate</th>\n",
       "      <th>Room.Board</th>\n",
       "      <th>Books</th>\n",
       "      <th>Personal</th>\n",
       "      <th>PhD</th>\n",
       "      <th>Terminal</th>\n",
       "      <th>S.F.Ratio</th>\n",
       "      <th>perc.alumni</th>\n",
       "      <th>Expend</th>\n",
       "      <th>Grad.Rate</th>\n",
       "    </tr>\n",
       "  </thead>\n",
       "  <tbody>\n",
       "    <tr>\n",
       "      <td>Abilene Christian University</td>\n",
       "      <td>1</td>\n",
       "      <td>1660</td>\n",
       "      <td>1232</td>\n",
       "      <td>721</td>\n",
       "      <td>23</td>\n",
       "      <td>52</td>\n",
       "      <td>2885</td>\n",
       "      <td>537</td>\n",
       "      <td>7440</td>\n",
       "      <td>3300</td>\n",
       "      <td>450</td>\n",
       "      <td>2200</td>\n",
       "      <td>70</td>\n",
       "      <td>78</td>\n",
       "      <td>18.10</td>\n",
       "      <td>12</td>\n",
       "      <td>7041</td>\n",
       "      <td>60</td>\n",
       "    </tr>\n",
       "    <tr>\n",
       "      <td>Adelphi University</td>\n",
       "      <td>1</td>\n",
       "      <td>2186</td>\n",
       "      <td>1924</td>\n",
       "      <td>512</td>\n",
       "      <td>16</td>\n",
       "      <td>29</td>\n",
       "      <td>2683</td>\n",
       "      <td>1227</td>\n",
       "      <td>12280</td>\n",
       "      <td>6450</td>\n",
       "      <td>750</td>\n",
       "      <td>1500</td>\n",
       "      <td>29</td>\n",
       "      <td>30</td>\n",
       "      <td>12.20</td>\n",
       "      <td>16</td>\n",
       "      <td>10527</td>\n",
       "      <td>56</td>\n",
       "    </tr>\n",
       "    <tr>\n",
       "      <td>Adrian College</td>\n",
       "      <td>1</td>\n",
       "      <td>1428</td>\n",
       "      <td>1097</td>\n",
       "      <td>336</td>\n",
       "      <td>22</td>\n",
       "      <td>50</td>\n",
       "      <td>1036</td>\n",
       "      <td>99</td>\n",
       "      <td>11250</td>\n",
       "      <td>3750</td>\n",
       "      <td>400</td>\n",
       "      <td>1165</td>\n",
       "      <td>53</td>\n",
       "      <td>66</td>\n",
       "      <td>12.90</td>\n",
       "      <td>30</td>\n",
       "      <td>8735</td>\n",
       "      <td>54</td>\n",
       "    </tr>\n",
       "    <tr>\n",
       "      <td>Agnes Scott College</td>\n",
       "      <td>1</td>\n",
       "      <td>417</td>\n",
       "      <td>349</td>\n",
       "      <td>137</td>\n",
       "      <td>60</td>\n",
       "      <td>89</td>\n",
       "      <td>510</td>\n",
       "      <td>63</td>\n",
       "      <td>12960</td>\n",
       "      <td>5450</td>\n",
       "      <td>450</td>\n",
       "      <td>875</td>\n",
       "      <td>92</td>\n",
       "      <td>97</td>\n",
       "      <td>7.70</td>\n",
       "      <td>37</td>\n",
       "      <td>19016</td>\n",
       "      <td>59</td>\n",
       "    </tr>\n",
       "    <tr>\n",
       "      <td>Alaska Pacific University</td>\n",
       "      <td>1</td>\n",
       "      <td>193</td>\n",
       "      <td>146</td>\n",
       "      <td>55</td>\n",
       "      <td>16</td>\n",
       "      <td>44</td>\n",
       "      <td>249</td>\n",
       "      <td>869</td>\n",
       "      <td>7560</td>\n",
       "      <td>4120</td>\n",
       "      <td>800</td>\n",
       "      <td>1500</td>\n",
       "      <td>76</td>\n",
       "      <td>72</td>\n",
       "      <td>11.90</td>\n",
       "      <td>2</td>\n",
       "      <td>10922</td>\n",
       "      <td>15</td>\n",
       "    </tr>\n",
       "  </tbody>\n",
       "</table>\n",
       "</div>"
      ],
      "text/plain": [
       "                              Private  Apps  Accept  Enroll  Top10perc  \\\n",
       "Abilene Christian University        1  1660    1232     721         23   \n",
       "Adelphi University                  1  2186    1924     512         16   \n",
       "Adrian College                      1  1428    1097     336         22   \n",
       "Agnes Scott College                 1   417     349     137         60   \n",
       "Alaska Pacific University           1   193     146      55         16   \n",
       "\n",
       "                              Top25perc  F.Undergrad  P.Undergrad  Outstate  \\\n",
       "Abilene Christian University         52         2885          537      7440   \n",
       "Adelphi University                   29         2683         1227     12280   \n",
       "Adrian College                       50         1036           99     11250   \n",
       "Agnes Scott College                  89          510           63     12960   \n",
       "Alaska Pacific University            44          249          869      7560   \n",
       "\n",
       "                              Room.Board  Books  Personal  PhD  Terminal  \\\n",
       "Abilene Christian University        3300    450      2200   70        78   \n",
       "Adelphi University                  6450    750      1500   29        30   \n",
       "Adrian College                      3750    400      1165   53        66   \n",
       "Agnes Scott College                 5450    450       875   92        97   \n",
       "Alaska Pacific University           4120    800      1500   76        72   \n",
       "\n",
       "                              S.F.Ratio  perc.alumni  Expend  Grad.Rate  \n",
       "Abilene Christian University      18.10           12    7041         60  \n",
       "Adelphi University                12.20           16   10527         56  \n",
       "Adrian College                    12.90           30    8735         54  \n",
       "Agnes Scott College                7.70           37   19016         59  \n",
       "Alaska Pacific University         11.90            2   10922         15  "
      ]
     },
     "execution_count": 14,
     "metadata": {},
     "output_type": "execute_result"
    }
   ],
   "source": [
    "df.head()"
   ]
  },
  {
   "cell_type": "code",
   "execution_count": 15,
   "metadata": {},
   "outputs": [],
   "source": [
    "df['Accept_Rate'] = df['Accept'] / df['Apps']\n",
    "df['Enroll_Rate'] = df['Enroll'] / df['Accept']\n",
    "df['Top10perc'] = df['Top10perc'] / 100\n",
    "df['Top25perc'] = df['Top25perc'] / 100\n",
    "df['PhD'] = df['PhD'] / 100\n",
    "df['Terminal'] = df['Terminal'] / 100\n",
    "df['perc.alumni'] = df['perc.alumni'] / 100\n",
    "df['Grad.Rate'] = df['Grad.Rate'] / 100\n",
    "df['Full_Percentage'] = df['F.Undergrad'] / (df['F.Undergrad'] + df['P.Undergrad'])\n",
    "df['Partime_Percentage'] = df['P.Undergrad'] / (df['F.Undergrad'] + df['P.Undergrad'])"
   ]
  },
  {
   "cell_type": "code",
   "execution_count": 16,
   "metadata": {},
   "outputs": [
    {
     "data": {
      "text/html": [
       "<div>\n",
       "<style scoped>\n",
       "    .dataframe tbody tr th:only-of-type {\n",
       "        vertical-align: middle;\n",
       "    }\n",
       "\n",
       "    .dataframe tbody tr th {\n",
       "        vertical-align: top;\n",
       "    }\n",
       "\n",
       "    .dataframe thead th {\n",
       "        text-align: right;\n",
       "    }\n",
       "</style>\n",
       "<table border=\"1\" class=\"dataframe\">\n",
       "  <thead>\n",
       "    <tr style=\"text-align: right;\">\n",
       "      <th></th>\n",
       "      <th>Private</th>\n",
       "      <th>Apps</th>\n",
       "      <th>Accept</th>\n",
       "      <th>Enroll</th>\n",
       "      <th>Top10perc</th>\n",
       "      <th>Top25perc</th>\n",
       "      <th>F.Undergrad</th>\n",
       "      <th>P.Undergrad</th>\n",
       "      <th>Outstate</th>\n",
       "      <th>Room.Board</th>\n",
       "      <th>Books</th>\n",
       "      <th>Personal</th>\n",
       "      <th>PhD</th>\n",
       "      <th>Terminal</th>\n",
       "      <th>S.F.Ratio</th>\n",
       "      <th>perc.alumni</th>\n",
       "      <th>Expend</th>\n",
       "      <th>Grad.Rate</th>\n",
       "      <th>Accept_Rate</th>\n",
       "      <th>Enroll_Rate</th>\n",
       "      <th>Full_Percentage</th>\n",
       "      <th>Partime_Percentage</th>\n",
       "    </tr>\n",
       "  </thead>\n",
       "  <tbody>\n",
       "    <tr>\n",
       "      <td>Abilene Christian University</td>\n",
       "      <td>1</td>\n",
       "      <td>1660</td>\n",
       "      <td>1232</td>\n",
       "      <td>721</td>\n",
       "      <td>0.23</td>\n",
       "      <td>0.52</td>\n",
       "      <td>2885</td>\n",
       "      <td>537</td>\n",
       "      <td>7440</td>\n",
       "      <td>3300</td>\n",
       "      <td>450</td>\n",
       "      <td>2200</td>\n",
       "      <td>0.70</td>\n",
       "      <td>0.78</td>\n",
       "      <td>18.10</td>\n",
       "      <td>0.12</td>\n",
       "      <td>7041</td>\n",
       "      <td>0.60</td>\n",
       "      <td>0.74</td>\n",
       "      <td>0.59</td>\n",
       "      <td>0.84</td>\n",
       "      <td>0.16</td>\n",
       "    </tr>\n",
       "    <tr>\n",
       "      <td>Adelphi University</td>\n",
       "      <td>1</td>\n",
       "      <td>2186</td>\n",
       "      <td>1924</td>\n",
       "      <td>512</td>\n",
       "      <td>0.16</td>\n",
       "      <td>0.29</td>\n",
       "      <td>2683</td>\n",
       "      <td>1227</td>\n",
       "      <td>12280</td>\n",
       "      <td>6450</td>\n",
       "      <td>750</td>\n",
       "      <td>1500</td>\n",
       "      <td>0.29</td>\n",
       "      <td>0.30</td>\n",
       "      <td>12.20</td>\n",
       "      <td>0.16</td>\n",
       "      <td>10527</td>\n",
       "      <td>0.56</td>\n",
       "      <td>0.88</td>\n",
       "      <td>0.27</td>\n",
       "      <td>0.69</td>\n",
       "      <td>0.31</td>\n",
       "    </tr>\n",
       "  </tbody>\n",
       "</table>\n",
       "</div>"
      ],
      "text/plain": [
       "                              Private  Apps  Accept  Enroll  Top10perc  \\\n",
       "Abilene Christian University        1  1660    1232     721       0.23   \n",
       "Adelphi University                  1  2186    1924     512       0.16   \n",
       "\n",
       "                              Top25perc  F.Undergrad  P.Undergrad  Outstate  \\\n",
       "Abilene Christian University       0.52         2885          537      7440   \n",
       "Adelphi University                 0.29         2683         1227     12280   \n",
       "\n",
       "                              Room.Board  Books  Personal  PhD  Terminal  \\\n",
       "Abilene Christian University        3300    450      2200 0.70      0.78   \n",
       "Adelphi University                  6450    750      1500 0.29      0.30   \n",
       "\n",
       "                              S.F.Ratio  perc.alumni  Expend  Grad.Rate  \\\n",
       "Abilene Christian University      18.10         0.12    7041       0.60   \n",
       "Adelphi University                12.20         0.16   10527       0.56   \n",
       "\n",
       "                              Accept_Rate  Enroll_Rate  Full_Percentage  \\\n",
       "Abilene Christian University         0.74         0.59             0.84   \n",
       "Adelphi University                   0.88         0.27             0.69   \n",
       "\n",
       "                              Partime_Percentage  \n",
       "Abilene Christian University                0.16  \n",
       "Adelphi University                          0.31  "
      ]
     },
     "execution_count": 16,
     "metadata": {},
     "output_type": "execute_result"
    }
   ],
   "source": [
    "df.head(2)"
   ]
  },
  {
   "cell_type": "markdown",
   "metadata": {},
   "source": [
    "<a href='#U.S.-News-&-World-Report’s-College-Data'>Back To Top</a>"
   ]
  },
  {
   "cell_type": "markdown",
   "metadata": {},
   "source": [
    "---"
   ]
  },
  {
   "cell_type": "markdown",
   "metadata": {},
   "source": [
    "## 4. Analyze Data-1"
   ]
  },
  {
   "cell_type": "markdown",
   "metadata": {},
   "source": [
    "### 4.0 統整差異\n",
    "- [美國最佳十大公立大學和私立大學對比分析！(2017)](https://kknews.cc/zh-tw/education/mmkav8z.html)\n",
    "\n",
    "---\n",
    "1.  資金來源\n",
    "    - 公立院校：主要為聯邦政府、州政府的稅收撥款或地方政府部門的撥款。\n",
    "    - 私立院校：主要經費來源為教會、校友會、企業界、基金會等方面的贈款及從這些款項累積而成的捐贈基金所得的收益等。\n",
    "\n",
    "\n",
    "2. 留學費用\n",
    "    - 公立大學：學費在1.5-2.5萬美金/年，算上生活費，公立大學一年整個花費會在2.5-3.5萬美金左右\n",
    "    - 私立學校：可達到5萬元左右。\n",
    "\n",
    "\n",
    "3. 錄取方面\n",
    "    - 公立和私立的另一個區別在於錄取學生的標準不同。公立大學除了某些知名大學外都帶有普及性質，而私立大學的錄取標準要求較高。\n",
    "    \n",
    "    \n",
    "4. 規模方面\n",
    "    - 公立和私立大學的學校規模不同。\n",
    "    - 公立大學的規模一般要大於私立大學的規模\n",
    "    - 教師與學生的比例往往是公立大學少於私立大學。\n",
    "\n",
    "\n",
    "5. 學校排名\n",
    "    - 根據USNEWS，排名前五十的大學私立大學居多。\n",
    "    \n",
    "    \n",
    "6. 教育質量\n",
    "    - 私立大學的教育品質會比公立要好。\n",
    "    - 主要是因為公立大學的經費來源是由政府出資，而私立大學則是面向私人或者財團。\n",
    "    - 美國人又比較重視私人或者財團對教育的投資和回報。\n",
    "    \n",
    "    \n",
    "7. 2017 US NEWS 參考排名\n",
    "\n",
    "排名|美國最佳私立大學|美國最佳公立大學\n",
    ":---:|:---:|:---:\n",
    "1|哈佛大學|加州大學伯克利分校\n",
    "2|史丹福大學|加州大學洛杉磯分校\n",
    "3|麻省理工學院|密西根大學安娜堡分校\n",
    "4|哥倫比亞大學|加州大學聖地亞哥分校\n",
    "5|芝加哥大學|威斯康星大學麥迪遜分校\n",
    "6|普林斯頓大學|加州大學\n",
    "7|康奈爾大學|德克薩斯大學奧斯汀分校\n",
    "8|耶魯大學|華盛頓大學\n",
    "9|加州理工學院|伊利諾伊大學厄巴納\n",
    "10|賓夕法尼亞大學|北卡羅萊納大學教堂山分校"
   ]
  },
  {
   "cell_type": "markdown",
   "metadata": {},
   "source": [
    "### 4.1 最多申請數量的前10名\n",
    "1. 可以看出最多申請數量的前10名大學中只有1間是私立學校\n",
    "2. 申請數量最多的反而不是排名最前面的學校\n",
    "3. 東部 > 中西部 >>>> 西部\n",
    "\n",
    "\n",
    "\n",
    "\n",
    "- [註] 以下的排名都是以2020 US NEWS的Ranking去填入的"
   ]
  },
  {
   "cell_type": "code",
   "execution_count": 17,
   "metadata": {},
   "outputs": [
    {
     "data": {
      "text/html": [
       "<div>\n",
       "<style scoped>\n",
       "    .dataframe tbody tr th:only-of-type {\n",
       "        vertical-align: middle;\n",
       "    }\n",
       "\n",
       "    .dataframe tbody tr th {\n",
       "        vertical-align: top;\n",
       "    }\n",
       "\n",
       "    .dataframe thead th {\n",
       "        text-align: right;\n",
       "    }\n",
       "</style>\n",
       "<table border=\"1\" class=\"dataframe\">\n",
       "  <thead>\n",
       "    <tr style=\"text-align: right;\">\n",
       "      <th></th>\n",
       "      <th>University</th>\n",
       "      <th>Apps</th>\n",
       "      <th>Private</th>\n",
       "      <th>Ranking</th>\n",
       "      <th>State</th>\n",
       "      <th>Direction</th>\n",
       "    </tr>\n",
       "  </thead>\n",
       "  <tbody>\n",
       "    <tr>\n",
       "      <td>0</td>\n",
       "      <td>Rutgers at New Brunswick</td>\n",
       "      <td>48094</td>\n",
       "      <td>0</td>\n",
       "      <td>62</td>\n",
       "      <td>New Jersey</td>\n",
       "      <td>East</td>\n",
       "    </tr>\n",
       "    <tr>\n",
       "      <td>1</td>\n",
       "      <td>Purdue University at West Lafayette</td>\n",
       "      <td>21804</td>\n",
       "      <td>0</td>\n",
       "      <td>57</td>\n",
       "      <td>Indiana</td>\n",
       "      <td>Midwest</td>\n",
       "    </tr>\n",
       "    <tr>\n",
       "      <td>2</td>\n",
       "      <td>Boston University</td>\n",
       "      <td>20192</td>\n",
       "      <td>1</td>\n",
       "      <td>40</td>\n",
       "      <td>Massachusetts</td>\n",
       "      <td>East</td>\n",
       "    </tr>\n",
       "    <tr>\n",
       "      <td>3</td>\n",
       "      <td>University of California at Berkeley</td>\n",
       "      <td>19873</td>\n",
       "      <td>0</td>\n",
       "      <td>22</td>\n",
       "      <td>California</td>\n",
       "      <td>West</td>\n",
       "    </tr>\n",
       "    <tr>\n",
       "      <td>4</td>\n",
       "      <td>Pennsylvania State Univ. Main Campus</td>\n",
       "      <td>19315</td>\n",
       "      <td>0</td>\n",
       "      <td>50</td>\n",
       "      <td>Pennsylvania</td>\n",
       "      <td>East</td>\n",
       "    </tr>\n",
       "    <tr>\n",
       "      <td>5</td>\n",
       "      <td>University of Michigan at Ann Arbor</td>\n",
       "      <td>19152</td>\n",
       "      <td>0</td>\n",
       "      <td>25</td>\n",
       "      <td>Michigan</td>\n",
       "      <td>Midwest</td>\n",
       "    </tr>\n",
       "    <tr>\n",
       "      <td>6</td>\n",
       "      <td>Michigan State University</td>\n",
       "      <td>18114</td>\n",
       "      <td>0</td>\n",
       "      <td>84</td>\n",
       "      <td>Michigan</td>\n",
       "      <td>Midwest</td>\n",
       "    </tr>\n",
       "    <tr>\n",
       "      <td>7</td>\n",
       "      <td>Indiana University at Bloomington</td>\n",
       "      <td>16587</td>\n",
       "      <td>0</td>\n",
       "      <td>79</td>\n",
       "      <td>Indiana</td>\n",
       "      <td>Midwest</td>\n",
       "    </tr>\n",
       "    <tr>\n",
       "      <td>8</td>\n",
       "      <td>University of Virginia</td>\n",
       "      <td>15849</td>\n",
       "      <td>0</td>\n",
       "      <td>28</td>\n",
       "      <td>Virginia</td>\n",
       "      <td>East</td>\n",
       "    </tr>\n",
       "    <tr>\n",
       "      <td>9</td>\n",
       "      <td>Virginia Tech</td>\n",
       "      <td>15712</td>\n",
       "      <td>0</td>\n",
       "      <td>74</td>\n",
       "      <td>Virginia</td>\n",
       "      <td>East</td>\n",
       "    </tr>\n",
       "  </tbody>\n",
       "</table>\n",
       "</div>"
      ],
      "text/plain": [
       "                             University   Apps  Private Ranking  \\\n",
       "0              Rutgers at New Brunswick  48094        0      62   \n",
       "1   Purdue University at West Lafayette  21804        0      57   \n",
       "2                     Boston University  20192        1      40   \n",
       "3  University of California at Berkeley  19873        0      22   \n",
       "4  Pennsylvania State Univ. Main Campus  19315        0      50   \n",
       "5   University of Michigan at Ann Arbor  19152        0      25   \n",
       "6             Michigan State University  18114        0      84   \n",
       "7     Indiana University at Bloomington  16587        0      79   \n",
       "8                University of Virginia  15849        0      28   \n",
       "9                         Virginia Tech  15712        0      74   \n",
       "\n",
       "           State Direction  \n",
       "0     New Jersey      East  \n",
       "1        Indiana   Midwest  \n",
       "2  Massachusetts      East  \n",
       "3     California      West  \n",
       "4   Pennsylvania      East  \n",
       "5       Michigan   Midwest  \n",
       "6       Michigan   Midwest  \n",
       "7        Indiana   Midwest  \n",
       "8       Virginia      East  \n",
       "9       Virginia      East  "
      ]
     },
     "execution_count": 17,
     "metadata": {},
     "output_type": "execute_result"
    }
   ],
   "source": [
    "Top10_Apps_df = df.sort_values(by='Apps', ascending = False).reset_index()[['index', 'Apps', 'Private']]\n",
    "Top10_Apps_df = Top10_Apps_df.rename(columns={\"index\": \"University\"})[:10]\n",
    "Ranking = ['62', '57', '40', '22', '50', '25', '84', '79', '28', '74']\n",
    "State = ['New Jersey', 'Indiana', 'Massachusetts', 'California', 'Pennsylvania', 'Michigan', 'Michigan', 'Indiana', 'Virginia', 'Virginia']\n",
    "Direction = ['East', 'Midwest', 'East', 'West', 'East', 'Midwest', 'Midwest', 'Midwest', 'East', 'East']\n",
    "Top10_Apps_df['Ranking'] = Ranking\n",
    "Top10_Apps_df['State'] = State \n",
    "Top10_Apps_df['Direction'] = Direction \n",
    "Top10_Apps_df"
   ]
  },
  {
   "cell_type": "code",
   "execution_count": 18,
   "metadata": {},
   "outputs": [
    {
     "data": {
      "image/png": "[encoded data removed]",
      "text/plain": [
       "<Figure size 720x432 with 1 Axes>"
      ]
     },
     "metadata": {
      "needs_background": "light"
     },
     "output_type": "display_data"
    }
   ],
   "source": [
    "plt.figure(figsize=(10,6))\n",
    "sns.barplot(x=Top10_Apps_df.Apps, y=Top10_Apps_df.University)\n",
    "plt.show()"
   ]
  },
  {
   "cell_type": "code",
   "execution_count": 19,
   "metadata": {},
   "outputs": [],
   "source": [
    "Top10_Apps_groupby = Top10_Apps_df.groupby(['Direction']).count()['University'].reset_index()"
   ]
  },
  {
   "cell_type": "code",
   "execution_count": 20,
   "metadata": {
    "scrolled": true
   },
   "outputs": [
    {
     "data": {
      "image/png": "[encoded data removed]",
      "text/plain": [
       "<Figure size 360x360 with 1 Axes>"
      ]
     },
     "metadata": {
      "needs_background": "light"
     },
     "output_type": "display_data"
    }
   ],
   "source": [
    "plt.figure(figsize=(5,5))\n",
    "sns.barplot(x=Top10_Apps_groupby.Direction, y=Top10_Apps_groupby.University)\n",
    "plt.show()"
   ]
  },
  {
   "cell_type": "markdown",
   "metadata": {},
   "source": [
    "### 4.2 新生在高中的班排為前10%的比例的前10名\n",
    "\n",
    "1. 可以看出新生在高中的班排為前10%比例最高的前10名大學中只有2間是公立學校\n",
    "2. 均為排名30以前\n",
    "3. 東部 >>>> 西部"
   ]
  },
  {
   "cell_type": "code",
   "execution_count": 21,
   "metadata": {},
   "outputs": [
    {
     "data": {
      "text/html": [
       "<div>\n",
       "<style scoped>\n",
       "    .dataframe tbody tr th:only-of-type {\n",
       "        vertical-align: middle;\n",
       "    }\n",
       "\n",
       "    .dataframe tbody tr th {\n",
       "        vertical-align: top;\n",
       "    }\n",
       "\n",
       "    .dataframe thead th {\n",
       "        text-align: right;\n",
       "    }\n",
       "</style>\n",
       "<table border=\"1\" class=\"dataframe\">\n",
       "  <thead>\n",
       "    <tr style=\"text-align: right;\">\n",
       "      <th></th>\n",
       "      <th>University</th>\n",
       "      <th>Top10perc</th>\n",
       "      <th>Private</th>\n",
       "      <th>Ranking</th>\n",
       "      <th>State</th>\n",
       "      <th>Direction</th>\n",
       "    </tr>\n",
       "  </thead>\n",
       "  <tbody>\n",
       "    <tr>\n",
       "      <td>0</td>\n",
       "      <td>Massachusetts Institute of Technology</td>\n",
       "      <td>0.96</td>\n",
       "      <td>1</td>\n",
       "      <td>3</td>\n",
       "      <td>Massachusetts</td>\n",
       "      <td>East</td>\n",
       "    </tr>\n",
       "    <tr>\n",
       "      <td>1</td>\n",
       "      <td>University of California at Berkeley</td>\n",
       "      <td>0.95</td>\n",
       "      <td>0</td>\n",
       "      <td>22</td>\n",
       "      <td>California</td>\n",
       "      <td>West</td>\n",
       "    </tr>\n",
       "    <tr>\n",
       "      <td>2</td>\n",
       "      <td>Harvey Mudd College</td>\n",
       "      <td>0.95</td>\n",
       "      <td>1</td>\n",
       "      <td>College 23</td>\n",
       "      <td>California</td>\n",
       "      <td>West</td>\n",
       "    </tr>\n",
       "    <tr>\n",
       "      <td>3</td>\n",
       "      <td>Yale University</td>\n",
       "      <td>0.95</td>\n",
       "      <td>1</td>\n",
       "      <td>3</td>\n",
       "      <td>Connecticut</td>\n",
       "      <td>East</td>\n",
       "    </tr>\n",
       "    <tr>\n",
       "      <td>4</td>\n",
       "      <td>Duke University</td>\n",
       "      <td>0.90</td>\n",
       "      <td>1</td>\n",
       "      <td>10</td>\n",
       "      <td>North Carolina</td>\n",
       "      <td>East</td>\n",
       "    </tr>\n",
       "    <tr>\n",
       "      <td>5</td>\n",
       "      <td>Princeton University</td>\n",
       "      <td>0.90</td>\n",
       "      <td>1</td>\n",
       "      <td>1</td>\n",
       "      <td>New Jersey</td>\n",
       "      <td>East</td>\n",
       "    </tr>\n",
       "    <tr>\n",
       "      <td>6</td>\n",
       "      <td>Harvard University</td>\n",
       "      <td>0.90</td>\n",
       "      <td>1</td>\n",
       "      <td>2</td>\n",
       "      <td>Massachusetts</td>\n",
       "      <td>East</td>\n",
       "    </tr>\n",
       "    <tr>\n",
       "      <td>7</td>\n",
       "      <td>Georgia Institute of Technology</td>\n",
       "      <td>0.89</td>\n",
       "      <td>0</td>\n",
       "      <td>29</td>\n",
       "      <td>Georgia</td>\n",
       "      <td>East</td>\n",
       "    </tr>\n",
       "    <tr>\n",
       "      <td>8</td>\n",
       "      <td>Dartmouth College</td>\n",
       "      <td>0.87</td>\n",
       "      <td>1</td>\n",
       "      <td>12</td>\n",
       "      <td>New Hampshire</td>\n",
       "      <td>East</td>\n",
       "    </tr>\n",
       "    <tr>\n",
       "      <td>9</td>\n",
       "      <td>Brown University</td>\n",
       "      <td>0.87</td>\n",
       "      <td>1</td>\n",
       "      <td>14</td>\n",
       "      <td>Rhode Island</td>\n",
       "      <td>East</td>\n",
       "    </tr>\n",
       "  </tbody>\n",
       "</table>\n",
       "</div>"
      ],
      "text/plain": [
       "                              University  Top10perc  Private     Ranking  \\\n",
       "0  Massachusetts Institute of Technology       0.96        1           3   \n",
       "1   University of California at Berkeley       0.95        0          22   \n",
       "2                    Harvey Mudd College       0.95        1  College 23   \n",
       "3                        Yale University       0.95        1           3   \n",
       "4                        Duke University       0.90        1          10   \n",
       "5                   Princeton University       0.90        1           1   \n",
       "6                     Harvard University       0.90        1           2   \n",
       "7        Georgia Institute of Technology       0.89        0          29   \n",
       "8                      Dartmouth College       0.87        1          12   \n",
       "9                       Brown University       0.87        1          14   \n",
       "\n",
       "            State Direction  \n",
       "0   Massachusetts      East  \n",
       "1      California      West  \n",
       "2      California      West  \n",
       "3     Connecticut      East  \n",
       "4  North Carolina      East  \n",
       "5      New Jersey      East  \n",
       "6   Massachusetts      East  \n",
       "7         Georgia      East  \n",
       "8   New Hampshire      East  \n",
       "9    Rhode Island      East  "
      ]
     },
     "execution_count": 21,
     "metadata": {},
     "output_type": "execute_result"
    }
   ],
   "source": [
    "Top10perc_df = df.sort_values(by='Top10perc', ascending = False).reset_index()[['index', 'Top10perc', 'Private']]\n",
    "Top10perc_df = Top10perc_df.rename(columns={\"index\": \"University\"})[:10]\n",
    "Ranking = ['3', '22', 'College 23', '3', '10', '1', '2', '29', '12', '14']\n",
    "State = ['Massachusetts', 'California', 'California', 'Connecticut', 'North Carolina', 'New Jersey', 'Massachusetts', 'Georgia', 'New Hampshire', 'Rhode Island']\n",
    "Direction = ['East', 'West', 'West', 'East', 'East', 'East', 'East', 'East', 'East', 'East']\n",
    "Top10perc_df['Ranking'] = Ranking\n",
    "Top10perc_df['State'] = State \n",
    "Top10perc_df['Direction'] = Direction \n",
    "Top10perc_df"
   ]
  },
  {
   "cell_type": "code",
   "execution_count": 22,
   "metadata": {},
   "outputs": [],
   "source": [
    "Top10perc_groupby = Top10perc_df.groupby(['Direction']).count()['University'].reset_index()"
   ]
  },
  {
   "cell_type": "code",
   "execution_count": 23,
   "metadata": {
    "scrolled": false
   },
   "outputs": [
    {
     "data": {
      "image/png": "[encoded data removed]",
      "text/plain": [
       "<Figure size 360x360 with 1 Axes>"
      ]
     },
     "metadata": {
      "needs_background": "light"
     },
     "output_type": "display_data"
    }
   ],
   "source": [
    "plt.figure(figsize=(5,5))\n",
    "sns.barplot(x=Top10perc_groupby.Direction, y=Top10perc_groupby.University)\n",
    "plt.show()"
   ]
  },
  {
   "cell_type": "markdown",
   "metadata": {},
   "source": [
    "### 4.3 校友捐獻比例最多的前10名\n",
    "\n",
    "1. 可以看出校友捐獻比例最多都是私立學校\n",
    "    - 因為公、私立學校的主要差異是經費來源\n",
    "    - 公立學校的經費主要來自於聯邦政府、州政府和地方政府的資助\n",
    "    - 私立學校的主要經費來源則是教會、校友會、企業、基金會等單位的捐款，以及學生繳交的學費\n",
    "2. 均為排名30以前\n",
    "3. 東部 >>>> 西部"
   ]
  },
  {
   "cell_type": "code",
   "execution_count": 24,
   "metadata": {},
   "outputs": [
    {
     "data": {
      "text/html": [
       "<div>\n",
       "<style scoped>\n",
       "    .dataframe tbody tr th:only-of-type {\n",
       "        vertical-align: middle;\n",
       "    }\n",
       "\n",
       "    .dataframe tbody tr th {\n",
       "        vertical-align: top;\n",
       "    }\n",
       "\n",
       "    .dataframe thead th {\n",
       "        text-align: right;\n",
       "    }\n",
       "</style>\n",
       "<table border=\"1\" class=\"dataframe\">\n",
       "  <thead>\n",
       "    <tr style=\"text-align: right;\">\n",
       "      <th></th>\n",
       "      <th>University</th>\n",
       "      <th>perc.alumni</th>\n",
       "      <th>Private</th>\n",
       "      <th>Ranking</th>\n",
       "      <th>State</th>\n",
       "      <th>Direction</th>\n",
       "    </tr>\n",
       "  </thead>\n",
       "  <tbody>\n",
       "    <tr>\n",
       "      <td>0</td>\n",
       "      <td>Williams College</td>\n",
       "      <td>0.64</td>\n",
       "      <td>1</td>\n",
       "      <td>3</td>\n",
       "      <td>Massachusetts</td>\n",
       "      <td>East</td>\n",
       "    </tr>\n",
       "    <tr>\n",
       "      <td>1</td>\n",
       "      <td>Amherst College</td>\n",
       "      <td>0.63</td>\n",
       "      <td>1</td>\n",
       "      <td>22</td>\n",
       "      <td>California</td>\n",
       "      <td>West</td>\n",
       "    </tr>\n",
       "    <tr>\n",
       "      <td>2</td>\n",
       "      <td>Carleton College</td>\n",
       "      <td>0.60</td>\n",
       "      <td>1</td>\n",
       "      <td>College 23</td>\n",
       "      <td>California</td>\n",
       "      <td>West</td>\n",
       "    </tr>\n",
       "    <tr>\n",
       "      <td>3</td>\n",
       "      <td>Hamilton College</td>\n",
       "      <td>0.60</td>\n",
       "      <td>1</td>\n",
       "      <td>3</td>\n",
       "      <td>Connecticut</td>\n",
       "      <td>East</td>\n",
       "    </tr>\n",
       "    <tr>\n",
       "      <td>4</td>\n",
       "      <td>Centre College</td>\n",
       "      <td>0.60</td>\n",
       "      <td>1</td>\n",
       "      <td>10</td>\n",
       "      <td>North Carolina</td>\n",
       "      <td>East</td>\n",
       "    </tr>\n",
       "    <tr>\n",
       "      <td>5</td>\n",
       "      <td>Gustavus Adolphus College</td>\n",
       "      <td>0.58</td>\n",
       "      <td>1</td>\n",
       "      <td>1</td>\n",
       "      <td>New Jersey</td>\n",
       "      <td>East</td>\n",
       "    </tr>\n",
       "    <tr>\n",
       "      <td>6</td>\n",
       "      <td>Lawrence University</td>\n",
       "      <td>0.57</td>\n",
       "      <td>1</td>\n",
       "      <td>2</td>\n",
       "      <td>Massachusetts</td>\n",
       "      <td>East</td>\n",
       "    </tr>\n",
       "    <tr>\n",
       "      <td>7</td>\n",
       "      <td>Wabash College</td>\n",
       "      <td>0.55</td>\n",
       "      <td>1</td>\n",
       "      <td>29</td>\n",
       "      <td>Georgia</td>\n",
       "      <td>East</td>\n",
       "    </tr>\n",
       "    <tr>\n",
       "      <td>8</td>\n",
       "      <td>College of the Holy Cross</td>\n",
       "      <td>0.55</td>\n",
       "      <td>1</td>\n",
       "      <td>12</td>\n",
       "      <td>New Hampshire</td>\n",
       "      <td>East</td>\n",
       "    </tr>\n",
       "    <tr>\n",
       "      <td>9</td>\n",
       "      <td>Princeton University</td>\n",
       "      <td>0.54</td>\n",
       "      <td>1</td>\n",
       "      <td>14</td>\n",
       "      <td>Rhode Island</td>\n",
       "      <td>East</td>\n",
       "    </tr>\n",
       "  </tbody>\n",
       "</table>\n",
       "</div>"
      ],
      "text/plain": [
       "                  University  perc.alumni  Private     Ranking  \\\n",
       "0           Williams College         0.64        1           3   \n",
       "1            Amherst College         0.63        1          22   \n",
       "2           Carleton College         0.60        1  College 23   \n",
       "3           Hamilton College         0.60        1           3   \n",
       "4             Centre College         0.60        1          10   \n",
       "5  Gustavus Adolphus College         0.58        1           1   \n",
       "6        Lawrence University         0.57        1           2   \n",
       "7             Wabash College         0.55        1          29   \n",
       "8  College of the Holy Cross         0.55        1          12   \n",
       "9       Princeton University         0.54        1          14   \n",
       "\n",
       "            State Direction  \n",
       "0   Massachusetts      East  \n",
       "1      California      West  \n",
       "2      California      West  \n",
       "3     Connecticut      East  \n",
       "4  North Carolina      East  \n",
       "5      New Jersey      East  \n",
       "6   Massachusetts      East  \n",
       "7         Georgia      East  \n",
       "8   New Hampshire      East  \n",
       "9    Rhode Island      East  "
      ]
     },
     "execution_count": 24,
     "metadata": {},
     "output_type": "execute_result"
    }
   ],
   "source": [
    "Top10_alumni_df = df.sort_values(by='perc.alumni', ascending = False).reset_index()[['index', 'perc.alumni', 'Private']]\n",
    "Top10_alumni_df = Top10_alumni_df.rename(columns={\"index\": \"University\"})[:10]\n",
    "Ranking = ['3', '22', 'College 23', '3', '10', '1', '2', '29', '12', '14']\n",
    "State = ['Massachusetts', 'California', 'California', 'Connecticut', 'North Carolina', 'New Jersey', 'Massachusetts', 'Georgia', 'New Hampshire', 'Rhode Island']\n",
    "Direction = ['East', 'West', 'West', 'East', 'East', 'East', 'East', 'East', 'East', 'East']\n",
    "Top10_alumni_df['Ranking'] = Ranking\n",
    "Top10_alumni_df['State'] = State \n",
    "Top10_alumni_df['Direction'] = Direction \n",
    "Top10_alumni_df"
   ]
  },
  {
   "cell_type": "code",
   "execution_count": 25,
   "metadata": {},
   "outputs": [],
   "source": [
    "# plt.figure(figsize=(10,6))\n",
    "# sns.barplot(x=Top10_alumni_df['perc.alumni'], y=Top10_alumni_df.University)\n",
    "# plt.show()"
   ]
  },
  {
   "cell_type": "code",
   "execution_count": 26,
   "metadata": {
    "scrolled": true
   },
   "outputs": [
    {
     "data": {
      "image/png": "[encoded data removed]",
      "text/plain": [
       "<Figure size 360x360 with 1 Axes>"
      ]
     },
     "metadata": {
      "needs_background": "light"
     },
     "output_type": "display_data"
    }
   ],
   "source": [
    "plt.figure(figsize=(5,5))\n",
    "sns.barplot(x=Top10perc_groupby.Direction, y=Top10perc_groupby.University)\n",
    "plt.show()"
   ]
  },
  {
   "cell_type": "markdown",
   "metadata": {},
   "source": [
    "### 4.3-1 註\n",
    "有想過要看畢業率低的學校，但因為變數很多，畢業率低有可能是因為學生不認真，也有可能因為某些學校比較不好畢業（課業太重以致無法準時畢業），也有可能因為學生的個人因素，所以比較就沒有參考"
   ]
  },
  {
   "cell_type": "markdown",
   "metadata": {},
   "source": [
    "### 4.4 錄取率最低的前10名\n",
    "\n",
    "1. 可以看出錄取率最低都是私立學校\n",
    "    [University跟College差別](https://www.thenewslens.com/article/18038)\n",
    "    - College：\n",
    "        - Liberal arts colleges （可以譯作「文理學院」，另一種翻譯是「博雅教育學院」）幾乎全是私立的，規模較小，只有一二千學生，大多只提供本科教育（學士），少數有碩士課程，但一定沒有研究院。還有Liberal arts college著重通才教育，包括體育、德育、思辨能力、領導才能等，不只是傳授知識，更不會提供偏重職業技能的課程（例如會計） 。\n",
    "    - University：\n",
    "        - 分研究型和教學型，前者規模很大，有不同的研究院；頂尖的研究型大學裡，研究生的人數可以比本科生多（例如Columbia University）。\n",
    "        - 教學型大學大多是公立的，沒有研究院，但很多都有碩士課程；教學型大學的規模比研究型的小，但比起liberal arts college則仍然大很多，學生至少過萬，提供的課程也較多樣化，而且肯定會包括偏重職業技能的課程。\n",
    "    - 這樣的解釋好像很清楚了，可是不要以為名字是 ‘University’ 的一定是 University，名字是 ‘College’ 一定是 Liberal arts college。\n",
    "        - 長春藤聯盟裡的Dartmouth College是university，Big Three 是Harvard , Yale, 和Princeton) ，名為University，卻是一間Liberal arts college。\n",
    "        - 還有一點容易令人混淆的，是University可以由不同的Colleges組成\n",
    "        \n",
    "        \n",
    "    \n",
    "2. 均為排名30以前\n",
    "\n",
    "3. 東部 >>>> 西部"
   ]
  },
  {
   "cell_type": "code",
   "execution_count": 27,
   "metadata": {},
   "outputs": [
    {
     "data": {
      "text/html": [
       "<div>\n",
       "<style scoped>\n",
       "    .dataframe tbody tr th:only-of-type {\n",
       "        vertical-align: middle;\n",
       "    }\n",
       "\n",
       "    .dataframe tbody tr th {\n",
       "        vertical-align: top;\n",
       "    }\n",
       "\n",
       "    .dataframe thead th {\n",
       "        text-align: right;\n",
       "    }\n",
       "</style>\n",
       "<table border=\"1\" class=\"dataframe\">\n",
       "  <thead>\n",
       "    <tr style=\"text-align: right;\">\n",
       "      <th></th>\n",
       "      <th>University</th>\n",
       "      <th>Accept_Rate</th>\n",
       "      <th>Private</th>\n",
       "      <th>Ranking</th>\n",
       "      <th>State</th>\n",
       "      <th>Direction</th>\n",
       "    </tr>\n",
       "  </thead>\n",
       "  <tbody>\n",
       "    <tr>\n",
       "      <td>0</td>\n",
       "      <td>Princeton University</td>\n",
       "      <td>0.15</td>\n",
       "      <td>1</td>\n",
       "      <td>1</td>\n",
       "      <td>New Jersey</td>\n",
       "      <td>East</td>\n",
       "    </tr>\n",
       "    <tr>\n",
       "      <td>1</td>\n",
       "      <td>Harvard University</td>\n",
       "      <td>0.16</td>\n",
       "      <td>1</td>\n",
       "      <td>2</td>\n",
       "      <td>California</td>\n",
       "      <td>West</td>\n",
       "    </tr>\n",
       "    <tr>\n",
       "      <td>2</td>\n",
       "      <td>Yale University</td>\n",
       "      <td>0.23</td>\n",
       "      <td>1</td>\n",
       "      <td>3</td>\n",
       "      <td>Connecticut</td>\n",
       "      <td>East</td>\n",
       "    </tr>\n",
       "    <tr>\n",
       "      <td>3</td>\n",
       "      <td>Amherst College</td>\n",
       "      <td>0.23</td>\n",
       "      <td>1</td>\n",
       "      <td>College #2</td>\n",
       "      <td>Massachusetts</td>\n",
       "      <td>East</td>\n",
       "    </tr>\n",
       "    <tr>\n",
       "      <td>4</td>\n",
       "      <td>Brown University</td>\n",
       "      <td>0.26</td>\n",
       "      <td>1</td>\n",
       "      <td>14</td>\n",
       "      <td>Rhode Island</td>\n",
       "      <td>East</td>\n",
       "    </tr>\n",
       "    <tr>\n",
       "      <td>5</td>\n",
       "      <td>Georgetown University</td>\n",
       "      <td>0.26</td>\n",
       "      <td>1</td>\n",
       "      <td>24</td>\n",
       "      <td>Washington</td>\n",
       "      <td>West</td>\n",
       "    </tr>\n",
       "    <tr>\n",
       "      <td>6</td>\n",
       "      <td>Dartmouth College</td>\n",
       "      <td>0.26</td>\n",
       "      <td>1</td>\n",
       "      <td>12</td>\n",
       "      <td>Massachusetts</td>\n",
       "      <td>East</td>\n",
       "    </tr>\n",
       "    <tr>\n",
       "      <td>7</td>\n",
       "      <td>Duke University</td>\n",
       "      <td>0.28</td>\n",
       "      <td>1</td>\n",
       "      <td>10</td>\n",
       "      <td>Georgia</td>\n",
       "      <td>East</td>\n",
       "    </tr>\n",
       "    <tr>\n",
       "      <td>8</td>\n",
       "      <td>Columbia University</td>\n",
       "      <td>0.29</td>\n",
       "      <td>1</td>\n",
       "      <td>3</td>\n",
       "      <td>New York</td>\n",
       "      <td>East</td>\n",
       "    </tr>\n",
       "    <tr>\n",
       "      <td>9</td>\n",
       "      <td>Williams College</td>\n",
       "      <td>0.30</td>\n",
       "      <td>1</td>\n",
       "      <td>College #1</td>\n",
       "      <td>Massachusetts</td>\n",
       "      <td>East</td>\n",
       "    </tr>\n",
       "  </tbody>\n",
       "</table>\n",
       "</div>"
      ],
      "text/plain": [
       "              University  Accept_Rate  Private     Ranking          State  \\\n",
       "0   Princeton University         0.15        1           1     New Jersey   \n",
       "1     Harvard University         0.16        1           2     California   \n",
       "2        Yale University         0.23        1           3    Connecticut   \n",
       "3        Amherst College         0.23        1  College #2  Massachusetts   \n",
       "4       Brown University         0.26        1          14   Rhode Island   \n",
       "5  Georgetown University         0.26        1          24     Washington   \n",
       "6      Dartmouth College         0.26        1          12  Massachusetts   \n",
       "7        Duke University         0.28        1          10        Georgia   \n",
       "8    Columbia University         0.29        1           3       New York   \n",
       "9       Williams College         0.30        1  College #1  Massachusetts   \n",
       "\n",
       "  Direction  \n",
       "0      East  \n",
       "1      West  \n",
       "2      East  \n",
       "3      East  \n",
       "4      East  \n",
       "5      West  \n",
       "6      East  \n",
       "7      East  \n",
       "8      East  \n",
       "9      East  "
      ]
     },
     "execution_count": 27,
     "metadata": {},
     "output_type": "execute_result"
    }
   ],
   "source": [
    "Accept_Rate_df = df.sort_values(by='Accept_Rate').reset_index()[['index', 'Accept_Rate', 'Private']]\n",
    "Accept_Rate_df = Accept_Rate_df.rename(columns={\"index\": \"University\"})[:10]\n",
    "Ranking = ['1', '2', '3', 'College #2', '14', '24', '12', '10', '3', 'College #1']\n",
    "State = ['New Jersey', 'California', 'Connecticut', 'Massachusetts', 'Rhode Island', 'Washington', 'Massachusetts', 'Georgia', 'New York', 'Massachusetts']\n",
    "Direction = ['East', 'West', 'East', 'East', 'East', 'West', 'East', 'East', 'East', 'East']\n",
    "Accept_Rate_df['Ranking'] = Ranking\n",
    "Accept_Rate_df['State'] = State \n",
    "Accept_Rate_df['Direction'] = Direction \n",
    "Accept_Rate_df"
   ]
  },
  {
   "cell_type": "code",
   "execution_count": 28,
   "metadata": {},
   "outputs": [],
   "source": [
    "Accept_Rate_groupby = Accept_Rate_df.groupby(['Direction']).count()['University'].reset_index()"
   ]
  },
  {
   "cell_type": "code",
   "execution_count": 29,
   "metadata": {
    "scrolled": true
   },
   "outputs": [
    {
     "data": {
      "image/png": "[encoded data removed]",
      "text/plain": [
       "<Figure size 360x360 with 1 Axes>"
      ]
     },
     "metadata": {
      "needs_background": "light"
     },
     "output_type": "display_data"
    }
   ],
   "source": [
    "plt.figure(figsize=(5,5))\n",
    "sns.barplot(x=Accept_Rate_groupby.Direction, y=Accept_Rate_groupby.University)\n",
    "plt.show()"
   ]
  },
  {
   "cell_type": "markdown",
   "metadata": {},
   "source": [
    "### 4.5 師生比最低的前10名\n",
    "\n",
    "1. 可以看出師生比最低都是私立學校       \n",
    "    \n",
    "2. 排名有前面也有後面的\n",
    "\n",
    "3. 東部 > 中西部"
   ]
  },
  {
   "cell_type": "code",
   "execution_count": 30,
   "metadata": {},
   "outputs": [
    {
     "data": {
      "text/html": [
       "<div>\n",
       "<style scoped>\n",
       "    .dataframe tbody tr th:only-of-type {\n",
       "        vertical-align: middle;\n",
       "    }\n",
       "\n",
       "    .dataframe tbody tr th {\n",
       "        vertical-align: top;\n",
       "    }\n",
       "\n",
       "    .dataframe thead th {\n",
       "        text-align: right;\n",
       "    }\n",
       "</style>\n",
       "<table border=\"1\" class=\"dataframe\">\n",
       "  <thead>\n",
       "    <tr style=\"text-align: right;\">\n",
       "      <th></th>\n",
       "      <th>University</th>\n",
       "      <th>S.F.Ratio</th>\n",
       "      <th>Private</th>\n",
       "      <th>Ranking</th>\n",
       "      <th>State</th>\n",
       "      <th>Direction</th>\n",
       "    </tr>\n",
       "  </thead>\n",
       "  <tbody>\n",
       "    <tr>\n",
       "      <td>0</td>\n",
       "      <td>University of Charleston</td>\n",
       "      <td>2.50</td>\n",
       "      <td>1</td>\n",
       "      <td>293-381</td>\n",
       "      <td>South Carolina</td>\n",
       "      <td>East</td>\n",
       "    </tr>\n",
       "    <tr>\n",
       "      <td>1</td>\n",
       "      <td>Case Western Reserve University</td>\n",
       "      <td>2.90</td>\n",
       "      <td>1</td>\n",
       "      <td>40</td>\n",
       "      <td>Ohio</td>\n",
       "      <td>Midwest</td>\n",
       "    </tr>\n",
       "    <tr>\n",
       "      <td>2</td>\n",
       "      <td>Johns Hopkins University</td>\n",
       "      <td>3.30</td>\n",
       "      <td>1</td>\n",
       "      <td>10</td>\n",
       "      <td>Washington</td>\n",
       "      <td>West</td>\n",
       "    </tr>\n",
       "    <tr>\n",
       "      <td>3</td>\n",
       "      <td>Washington University</td>\n",
       "      <td>3.90</td>\n",
       "      <td>1</td>\n",
       "      <td>19</td>\n",
       "      <td>North Carolina</td>\n",
       "      <td>East</td>\n",
       "    </tr>\n",
       "    <tr>\n",
       "      <td>4</td>\n",
       "      <td>Wake Forest University</td>\n",
       "      <td>4.30</td>\n",
       "      <td>1</td>\n",
       "      <td>27</td>\n",
       "      <td>Missouri</td>\n",
       "      <td>Midwest</td>\n",
       "    </tr>\n",
       "    <tr>\n",
       "      <td>5</td>\n",
       "      <td>Saint Louis University</td>\n",
       "      <td>4.60</td>\n",
       "      <td>1</td>\n",
       "      <td>97</td>\n",
       "      <td>Washington</td>\n",
       "      <td>West</td>\n",
       "    </tr>\n",
       "    <tr>\n",
       "      <td>6</td>\n",
       "      <td>Dartmouth College</td>\n",
       "      <td>4.70</td>\n",
       "      <td>1</td>\n",
       "      <td>12</td>\n",
       "      <td>Massachusetts</td>\n",
       "      <td>East</td>\n",
       "    </tr>\n",
       "    <tr>\n",
       "      <td>7</td>\n",
       "      <td>Duke University</td>\n",
       "      <td>5.00</td>\n",
       "      <td>1</td>\n",
       "      <td>10</td>\n",
       "      <td>Georgia</td>\n",
       "      <td>East</td>\n",
       "    </tr>\n",
       "    <tr>\n",
       "      <td>8</td>\n",
       "      <td>Emory University</td>\n",
       "      <td>5.00</td>\n",
       "      <td>1</td>\n",
       "      <td>21</td>\n",
       "      <td>Georgia</td>\n",
       "      <td>East</td>\n",
       "    </tr>\n",
       "    <tr>\n",
       "      <td>9</td>\n",
       "      <td>University of Chicago</td>\n",
       "      <td>5.30</td>\n",
       "      <td>1</td>\n",
       "      <td>6</td>\n",
       "      <td>Illinois</td>\n",
       "      <td>Midwest</td>\n",
       "    </tr>\n",
       "  </tbody>\n",
       "</table>\n",
       "</div>"
      ],
      "text/plain": [
       "                        University  S.F.Ratio  Private  Ranking  \\\n",
       "0         University of Charleston       2.50        1  293-381   \n",
       "1  Case Western Reserve University       2.90        1       40   \n",
       "2         Johns Hopkins University       3.30        1       10   \n",
       "3            Washington University       3.90        1       19   \n",
       "4           Wake Forest University       4.30        1       27   \n",
       "5           Saint Louis University       4.60        1       97   \n",
       "6                Dartmouth College       4.70        1       12   \n",
       "7                  Duke University       5.00        1       10   \n",
       "8                 Emory University       5.00        1       21   \n",
       "9            University of Chicago       5.30        1        6   \n",
       "\n",
       "            State Direction  \n",
       "0  South Carolina      East  \n",
       "1            Ohio   Midwest  \n",
       "2      Washington      West  \n",
       "3  North Carolina      East  \n",
       "4        Missouri   Midwest  \n",
       "5      Washington      West  \n",
       "6   Massachusetts      East  \n",
       "7         Georgia      East  \n",
       "8         Georgia      East  \n",
       "9        Illinois   Midwest  "
      ]
     },
     "execution_count": 30,
     "metadata": {},
     "output_type": "execute_result"
    }
   ],
   "source": [
    "SFRatio_df = df.sort_values(by='S.F.Ratio').reset_index()[['index', 'S.F.Ratio', 'Private']][0:10]\n",
    "SFRatio_df = SFRatio_df.rename(columns={\"index\": \"University\"})[:10]\n",
    "Ranking = ['293-381', '40', '10', '19', '27', '97', '12', '10', '21', '6']\n",
    "State = ['South Carolina', ' Ohio', 'Washington', 'North Carolina', 'Missouri', 'Washington', 'Massachusetts', 'Georgia', 'Georgia', 'Illinois']\n",
    "Direction = ['East', 'Midwest', 'West', 'East', 'Midwest', 'West', 'East', 'East', 'East', 'Midwest']\n",
    "SFRatio_df['Ranking'] = Ranking\n",
    "SFRatio_df['State'] = State \n",
    "SFRatio_df['Direction'] = Direction \n",
    "SFRatio_df"
   ]
  },
  {
   "cell_type": "code",
   "execution_count": 31,
   "metadata": {},
   "outputs": [
    {
     "data": {
      "image/png": "[encoded data removed]",
      "text/plain": [
       "<Figure size 720x432 with 1 Axes>"
      ]
     },
     "metadata": {
      "needs_background": "light"
     },
     "output_type": "display_data"
    }
   ],
   "source": [
    "plt.figure(figsize=(10,6))\n",
    "sns.barplot(x=SFRatio_df['S.F.Ratio'], y=SFRatio_df.University)\n",
    "plt.show()"
   ]
  },
  {
   "cell_type": "code",
   "execution_count": 32,
   "metadata": {},
   "outputs": [],
   "source": [
    "SFRatio_df_groupby = SFRatio_df.groupby(['Direction']).count()['University'].reset_index()"
   ]
  },
  {
   "cell_type": "code",
   "execution_count": 33,
   "metadata": {
    "scrolled": false
   },
   "outputs": [
    {
     "data": {
      "image/png": "[encoded data removed]",
      "text/plain": [
       "<Figure size 360x360 with 1 Axes>"
      ]
     },
     "metadata": {
      "needs_background": "light"
     },
     "output_type": "display_data"
    }
   ],
   "source": [
    "plt.figure(figsize=(5,5))\n",
    "sns.barplot(x=SFRatio_df_groupby.Direction, y=SFRatio_df_groupby.University)\n",
    "plt.show()"
   ]
  },
  {
   "cell_type": "markdown",
   "metadata": {},
   "source": [
    "### 4.6 申請數量最低的前10名（有可能過幾年就會消失...）\n",
    "\n",
    "1. 可以看出錄取率最低都是私立學校\n",
    "\n",
    "3. 東部 >>>> 西部"
   ]
  },
  {
   "cell_type": "code",
   "execution_count": 34,
   "metadata": {},
   "outputs": [
    {
     "data": {
      "text/html": [
       "<div>\n",
       "<style scoped>\n",
       "    .dataframe tbody tr th:only-of-type {\n",
       "        vertical-align: middle;\n",
       "    }\n",
       "\n",
       "    .dataframe tbody tr th {\n",
       "        vertical-align: top;\n",
       "    }\n",
       "\n",
       "    .dataframe thead th {\n",
       "        text-align: right;\n",
       "    }\n",
       "</style>\n",
       "<table border=\"1\" class=\"dataframe\">\n",
       "  <thead>\n",
       "    <tr style=\"text-align: right;\">\n",
       "      <th></th>\n",
       "      <th>University</th>\n",
       "      <th>Apps</th>\n",
       "      <th>Private</th>\n",
       "      <th>State</th>\n",
       "      <th>Direction</th>\n",
       "    </tr>\n",
       "  </thead>\n",
       "  <tbody>\n",
       "    <tr>\n",
       "      <td>0</td>\n",
       "      <td>Christendom College</td>\n",
       "      <td>81</td>\n",
       "      <td>1</td>\n",
       "      <td>Virginia</td>\n",
       "      <td>East</td>\n",
       "    </tr>\n",
       "    <tr>\n",
       "      <td>1</td>\n",
       "      <td>Capitol College</td>\n",
       "      <td>100</td>\n",
       "      <td>1</td>\n",
       "      <td>Washington</td>\n",
       "      <td>East</td>\n",
       "    </tr>\n",
       "    <tr>\n",
       "      <td>2</td>\n",
       "      <td>College of St. Joseph</td>\n",
       "      <td>141</td>\n",
       "      <td>1</td>\n",
       "      <td>Vermont</td>\n",
       "      <td>Midwest</td>\n",
       "    </tr>\n",
       "    <tr>\n",
       "      <td>3</td>\n",
       "      <td>Saint Mary-of-the-Woods College</td>\n",
       "      <td>150</td>\n",
       "      <td>1</td>\n",
       "      <td>Indiana</td>\n",
       "      <td>Midwest</td>\n",
       "    </tr>\n",
       "    <tr>\n",
       "      <td>4</td>\n",
       "      <td>Wisconsin Lutheran College</td>\n",
       "      <td>152</td>\n",
       "      <td>1</td>\n",
       "      <td>Wisconsin</td>\n",
       "      <td>East</td>\n",
       "    </tr>\n",
       "    <tr>\n",
       "      <td>5</td>\n",
       "      <td>Wilson College</td>\n",
       "      <td>167</td>\n",
       "      <td>1</td>\n",
       "      <td>Pennsylvania</td>\n",
       "      <td>East</td>\n",
       "    </tr>\n",
       "    <tr>\n",
       "      <td>6</td>\n",
       "      <td>Central Wesleyan College</td>\n",
       "      <td>174</td>\n",
       "      <td>1</td>\n",
       "      <td>Washington</td>\n",
       "      <td>West</td>\n",
       "    </tr>\n",
       "    <tr>\n",
       "      <td>7</td>\n",
       "      <td>St. Martin's College</td>\n",
       "      <td>191</td>\n",
       "      <td>1</td>\n",
       "      <td>Missouri</td>\n",
       "      <td>Midwest</td>\n",
       "    </tr>\n",
       "    <tr>\n",
       "      <td>8</td>\n",
       "      <td>Alaska Pacific University</td>\n",
       "      <td>193</td>\n",
       "      <td>1</td>\n",
       "      <td>Alaska</td>\n",
       "      <td>-</td>\n",
       "    </tr>\n",
       "    <tr>\n",
       "      <td>9</td>\n",
       "      <td>Bethel College KS</td>\n",
       "      <td>202</td>\n",
       "      <td>1</td>\n",
       "      <td>Kansas</td>\n",
       "      <td>Midwest</td>\n",
       "    </tr>\n",
       "  </tbody>\n",
       "</table>\n",
       "</div>"
      ],
      "text/plain": [
       "                        University  Apps  Private         State Direction\n",
       "0              Christendom College    81        1      Virginia      East\n",
       "1                  Capitol College   100        1    Washington      East\n",
       "2            College of St. Joseph   141        1       Vermont   Midwest\n",
       "3  Saint Mary-of-the-Woods College   150        1       Indiana   Midwest\n",
       "4       Wisconsin Lutheran College   152        1     Wisconsin      East\n",
       "5                   Wilson College   167        1  Pennsylvania      East\n",
       "6         Central Wesleyan College   174        1    Washington      West\n",
       "7             St. Martin's College   191        1      Missouri   Midwest\n",
       "8        Alaska Pacific University   193        1        Alaska         -\n",
       "9                Bethel College KS   202        1        Kansas   Midwest"
      ]
     },
     "execution_count": 34,
     "metadata": {},
     "output_type": "execute_result"
    }
   ],
   "source": [
    "Apps_df = df.sort_values(by='Apps').reset_index()[['index', 'Apps', 'Private']][0:10]\n",
    "Apps_df = Apps_df.rename(columns={\"index\": \"University\"})[:10]\n",
    "State = ['Virginia', 'Washington', 'Vermont', 'Indiana', ' Wisconsin', 'Pennsylvania', ' Washington', 'Missouri', 'Alaska', 'Kansas']\n",
    "Direction = ['East', 'East', 'Midwest', 'Midwest', 'East', 'East', 'West', 'Midwest', '-', 'Midwest']\n",
    "Apps_df['State'] = State \n",
    "Apps_df['Direction'] = Direction \n",
    "Apps_df"
   ]
  },
  {
   "cell_type": "code",
   "execution_count": 35,
   "metadata": {},
   "outputs": [
    {
     "data": {
      "image/png": "[encoded data removed]",
      "text/plain": [
       "<Figure size 720x432 with 1 Axes>"
      ]
     },
     "metadata": {
      "needs_background": "light"
     },
     "output_type": "display_data"
    }
   ],
   "source": [
    "plt.figure(figsize=(10,6))\n",
    "sns.barplot(x=Apps_df['Apps'], y=Apps_df.University)\n",
    "plt.show()"
   ]
  },
  {
   "cell_type": "code",
   "execution_count": 36,
   "metadata": {},
   "outputs": [],
   "source": [
    "Apps_df_groupby = Apps_df.groupby(['Direction']).count()['University'].reset_index()"
   ]
  },
  {
   "cell_type": "code",
   "execution_count": 37,
   "metadata": {
    "scrolled": false
   },
   "outputs": [
    {
     "data": {
      "image/png": "[encoded data removed]",
      "text/plain": [
       "<Figure size 360x360 with 1 Axes>"
      ]
     },
     "metadata": {
      "needs_background": "light"
     },
     "output_type": "display_data"
    }
   ],
   "source": [
    "plt.figure(figsize=(5,5))\n",
    "sns.barplot(x=Apps_df_groupby.Direction, y=Apps_df_groupby.University)\n",
    "plt.show()"
   ]
  },
  {
   "cell_type": "markdown",
   "metadata": {},
   "source": [
    "<a href='#U.S.-News-&-World-Report’s-College-Data'>Back To Top</a>"
   ]
  },
  {
   "cell_type": "markdown",
   "metadata": {},
   "source": [
    "---"
   ]
  },
  {
   "cell_type": "markdown",
   "metadata": {},
   "source": [
    "## 5. Analyze Data-2"
   ]
  },
  {
   "cell_type": "markdown",
   "metadata": {},
   "source": [
    "### 5.1 Distplot\n",
    "1. Grad.Rate：可以看出私立的畢業率比公立的整體來說要來得高\n",
    "2. F.Undergrad：可以看出私立的全職學生數量比較集中，大部分都在5000以下，公立的就較為分散\n",
    "    - 我自己的想法是會當非全職的學生很有可能的原因是因為經濟壓力，因為美國大學學費一年都要將近100萬台幣，應該有一部分的學生是負擔不起這個價錢的，所以可能會選擇當非全職學生，這樣可以繳的學費可能會少一點。或是另外一個想法是，很多已經出社會的人可來再回來念在職專班的，就不會一定選好的私立學校，因為畢竟他們需要的是即戰力，所以公立學校對他們的誘因應該會大一些\n",
    "3. Outstate：州外學費可以看出私立的明顯比公立的多很多\n",
    "    - 因為就像前面提到的公立學校主要是靠聯邦政府、州政府的稅收或其他款項來支撐，私立的一切都要靠校友捐款，資源就會比較不夠，所以州外學費比較貴也是說得通的\n",
    "4. Expend：花費的話私立學校還是比公立學校來得多一些\n",
    "5. perc.alumni：私立學校的校友捐款比公立多出很多\n",
    "6. Terminal：學校的教授拿到該領域最高的學位的比例 公立學校比私立學校多一些"
   ]
  },
  {
   "cell_type": "code",
   "execution_count": 38,
   "metadata": {},
   "outputs": [
    {
     "data": {
      "image/png": "[encoded data removed]",
      "text/plain": [
       "<Figure size 1728x1296 with 6 Axes>"
      ]
     },
     "metadata": {},
     "output_type": "display_data"
    }
   ],
   "source": [
    "sns.set_style(\"white\")\n",
    "\n",
    "fig, ((a,b),(c,d), (e,f)) = plt.subplots(3,2,figsize=(24,18))\n",
    "plt.subplots_adjust(wspace =0.16, hspace =0.24)\n",
    "num_features =  ['Grad.Rate','F.Undergrad', 'Outstate', 'Expend', 'perc.alumni', 'Terminal']\n",
    "\n",
    "ax_ = [a, b, c, d, e, f]\n",
    "\n",
    "for col, ax in zip(num_features, ax_):\n",
    "    sns.set(font_scale =1.7)\n",
    "    sns.distplot(df.loc[df['Private'] == 1][col], kde_kws={\"label\": \"Private = 1\", \"shade\": True}, hist=False ,ax=ax)\n",
    "    sns.distplot(df.loc[df['Private'] == 0][col], kde_kws={\"label\": \"Private = 0\", \"shade\": True}, hist=False ,ax=ax)"
   ]
  },
  {
   "cell_type": "markdown",
   "metadata": {},
   "source": [
    "### 5.2 新生在高中的班排為前10%的比例 跟 錄取率"
   ]
  },
  {
   "cell_type": "code",
   "execution_count": 39,
   "metadata": {},
   "outputs": [
    {
     "data": {
      "text/plain": [
       "<seaborn.axisgrid.FacetGrid at 0x1a1cdc76d8>"
      ]
     },
     "execution_count": 39,
     "metadata": {},
     "output_type": "execute_result"
    },
    {
     "data": {
      "image/png": "[encoded data removed]",
      "text/plain": [
       "<Figure size 720x360 with 1 Axes>"
      ]
     },
     "metadata": {},
     "output_type": "display_data"
    }
   ],
   "source": [
    "sns.set(font_scale =1.2)\n",
    "sns.set_style(\"white\")\n",
    "sns.lmplot(x=\"Top10perc\", y=\"Accept_Rate\", data=df, height=5, aspect= 2, line_kws={'color': 'red'})"
   ]
  },
  {
   "cell_type": "markdown",
   "metadata": {},
   "source": [
    "<a href='#U.S.-News-&-World-Report’s-College-Data'>Back To Top</a>"
   ]
  },
  {
   "cell_type": "markdown",
   "metadata": {},
   "source": [
    "---"
   ]
  },
  {
   "cell_type": "markdown",
   "metadata": {},
   "source": [
    "## 6. PCA"
   ]
  },
  {
   "cell_type": "code",
   "execution_count": 40,
   "metadata": {},
   "outputs": [],
   "source": [
    "scaler = StandardScaler()\n",
    "scaler.fit(df)\n",
    "scaled_data = scaler.transform(df)"
   ]
  },
  {
   "cell_type": "code",
   "execution_count": 41,
   "metadata": {},
   "outputs": [
    {
     "name": "stdout",
     "output_type": "stream",
     "text": [
      "Before PCA Shape :  (777, 22)\n",
      "After PCA Shape :  (777, 2)\n"
     ]
    }
   ],
   "source": [
    "pca = PCA(n_components=2)\n",
    "pca.fit(scaled_data)\n",
    "x_pca = pca.transform(scaled_data)\n",
    "print('Before PCA Shape : ', scaled_data.shape)\n",
    "print('After PCA Shape : ', x_pca.shape)"
   ]
  },
  {
   "cell_type": "code",
   "execution_count": 49,
   "metadata": {},
   "outputs": [
    {
     "data": {
      "image/png": "[encoded data removed]",
      "text/plain": [
       "<Figure size 800x480 with 1 Axes>"
      ]
     },
     "metadata": {},
     "output_type": "display_data"
    }
   ],
   "source": [
    "plt.style.use('classic')\n",
    "plt.figure(figsize=(10,6))\n",
    "plt.scatter(x_pca[:,0],x_pca[:,1],c=df['Private'],alpha=0.85)\n",
    "plt.xlabel('First Principle Component')\n",
    "plt.ylabel('Second Principle Component')\n",
    "plt.show()"
   ]
  },
  {
   "cell_type": "code",
   "execution_count": 43,
   "metadata": {},
   "outputs": [
    {
     "name": "stdout",
     "output_type": "stream",
     "text": [
      "Explained variation per principal component: [0.28263166 0.23192188]\n"
     ]
    }
   ],
   "source": [
    "print('Explained variation per principal component: {}'.format(pca.explained_variance_ratio_))"
   ]
  },
  {
   "cell_type": "code",
   "execution_count": 44,
   "metadata": {},
   "outputs": [
    {
     "data": {
      "text/plain": [
       "array([69.50759371, 62.96405793])"
      ]
     },
     "execution_count": 44,
     "metadata": {},
     "output_type": "execute_result"
    }
   ],
   "source": [
    "pca.singular_values_"
   ]
  },
  {
   "cell_type": "markdown",
   "metadata": {},
   "source": [
    "<a href='#U.S.-News-&-World-Report’s-College-Data'>Back To Top</a>"
   ]
  }
 ],
 "metadata": {
  "kernelspec": {
   "display_name": "Python 3",
   "language": "python",
   "name": "python3"
  },
  "language_info": {
   "codemirror_mode": {
    "name": "ipython",
    "version": 3
   },
   "file_extension": ".py",
   "mimetype": "text/x-python",
   "name": "python",
   "nbconvert_exporter": "python",
   "pygments_lexer": "ipython3",
   "version": "3.7.3"
  }
 },
 "nbformat": 4,
 "nbformat_minor": 2
}
