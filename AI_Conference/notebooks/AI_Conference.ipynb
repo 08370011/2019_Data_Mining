{
 "cells": [
  {
   "cell_type": "markdown",
   "metadata": {},
   "source": [
    "# AI Conference in NTUB\n",
    "- 11/15 9:00-17:00"
   ]
  },
  {
   "cell_type": "markdown",
   "metadata": {},
   "source": [
    "## 主題：讓我們一同感受自然語言處理與文字探勘的樂趣"
   ]
  },
  {
   "cell_type": "markdown",
   "metadata": {},
   "source": [
    "## 演講人\n",
    "### 張詠淳助理教授\n",
    "### 臺北醫學大學大數據科技及管理研究所"
   ]
  },
  {
   "cell_type": "markdown",
   "metadata": {},
   "source": [
    "---"
   ]
  },
  {
   "cell_type": "markdown",
   "metadata": {},
   "source": [
    "## 標題\n",
    "0. <a href='#摘要'>摘要</a>\n",
    "2. <a href='#1.-處理資料時80%都是非結構化資料'>處理資料時80%都是非結構化資料</a>\n",
    "3. <a href='#2.-Reader-Emotion'>Reader Emotion</a>          \n",
    "4. <a href='#3.-文字雲'>文字雲</a>        \n",
    "4. <a href='#4.-Pattern-Mining'>Pattern Mining</a>        \n",
    "5. <a href='#5.-Public-Mining'>Public Mining</a>\n",
    "5. <a href='#6.-客戶關係管理CRM（Customer-Relationship-Management）'>客戶關係管理CRM（Customer-Relationship-Management）</a>\n",
    "5. <a href='#7.-社群軟體'>社群軟體</a>\n",
    "5. <a href='#8.-掛號'>掛號</a>\n",
    "5. <a href='#9.-AI做本草綱目'>AI做本草綱目</a>\n"
   ]
  },
  {
   "cell_type": "markdown",
   "metadata": {},
   "source": [
    "---"
   ]
  },
  {
   "cell_type": "markdown",
   "metadata": {},
   "source": [
    "### 摘要\n",
    ">在這個網路普及的時代，**社群媒體**已經成為人們分享與取得知識的重要來源，任何網際網路使用者都能夠輕鬆地對不同的事件發表意見與看法，因此分析社群媒體將有助於獲得**即時的群眾資訊與意見**，這讓社群媒體成為了解事件的重要知識寶庫。讓我們一同感受自然語言處理與文字探勘技術的奧妙吧！"
   ]
  },
  {
   "cell_type": "markdown",
   "metadata": {},
   "source": [
    "---"
   ]
  },
  {
   "cell_type": "markdown",
   "metadata": {},
   "source": [
    "### 1. 處理資料時80%都是非結構化資料\n",
    "- 我們現在做作業找到的資料都是比較乾淨的\n",
    "- 但其實在日常生活中或是工作上大部分拿到的**資料都是很髒的**\n",
    "- 如果是只有數字那還比較好處理\n",
    "- 如果是有文字的資料處理的時間就會比較長，要處理的步驟也會複雜很多"
   ]
  },
  {
   "cell_type": "markdown",
   "metadata": {},
   "source": [
    "---"
   ]
  },
  {
   "cell_type": "markdown",
   "metadata": {},
   "source": [
    "### 2. Reader Emotion\n",
    "- 明天油價暴漲3.1元\n",
    "\n",
    "從文字中可以去分析出讀者的**情緒**等"
   ]
  },
  {
   "cell_type": "markdown",
   "metadata": {},
   "source": [
    "---"
   ]
  },
  {
   "cell_type": "markdown",
   "metadata": {},
   "source": [
    "### 3. 文字雲\n",
    "\n",
    "<img src='../img/AI_Conference1.png' style='zoom:60%'>\n",
    "\n",
    "---\n",
    "\n",
    "\n",
    "- 從這個文字雲可以看出把這些話題分成幾類，生氣、無聊、悲傷等\n",
    "- 這個圖是演講者拿2016（還是2017有點忘了）的**新聞資料**去做文字雲\n",
    "- 統計每個名詞**出現的次數**以及可能帶給讀者的**情緒**去分類\n",
    "- 出現次數較多的字就會比較大\n",
    "- 不同的顏色有不同的情緒\n",
    "    - 紅：Angry\n",
    "    - 綠：Happy\n",
    "    - 粉紅：Boring\n"
   ]
  },
  {
   "cell_type": "markdown",
   "metadata": {},
   "source": [
    "---"
   ]
  },
  {
   "cell_type": "markdown",
   "metadata": {},
   "source": [
    "### 4. Pattern Mining\n",
    "- 某國家災難->Worry（311大地震）\n",
    "   \n",
    "可以從文字資料中看出固定的Pattern，比如一直出現災難類的新聞會讓讀者們感到擔心"
   ]
  },
  {
   "cell_type": "markdown",
   "metadata": {},
   "source": [
    "---"
   ]
  },
  {
   "cell_type": "markdown",
   "metadata": {},
   "source": [
    "### 5. Public Mining\n",
    "- 川普、希拉蕊、歐巴馬 民眾支持或反對\n",
    "\n",
    "可以從推特上面去分析大眾支持的候選人"
   ]
  },
  {
   "cell_type": "markdown",
   "metadata": {},
   "source": [
    "---"
   ]
  },
  {
   "cell_type": "markdown",
   "metadata": {},
   "source": [
    "### 6. 客戶關係管理CRM（Customer Relationship Management）\n",
    "1. 分析Hotel評論（Hilton）\n",
    "    - 大量負面評價：7月，給負面評價的多為商務客\n",
    "        - 因為Check-In太久（暑假時期入住的客人較多）\n",
    "        \n",
    "    - 大量正面評價：12月，給正面評價的多為情侶\n",
    "       - 飯店聯合附近的商店做策略聯盟（Shopping）\n",
    "       \n",
    "       \n",
    "   \n",
    "2. HotelReview & Response\n",
    "    - 分析出哪些顧客的回覆要先做回應\n",
    "    - 回覆的方式（是否太官腔等）\n",
    "        "
   ]
  },
  {
   "cell_type": "markdown",
   "metadata": {},
   "source": [
    "---"
   ]
  },
  {
   "cell_type": "markdown",
   "metadata": {},
   "source": [
    "### 7. 社群軟體\n",
    "- 社群軟體的發文\n",
    "    1. 文字1 - 流感\n",
    "    2. 文字2 - 花粉、感冒\n",
    "    3. 文字3 - 都無關\n",
    "    \n",
    "    \n",
    "- 即時觀測流感、疾病\n",
    "- EX. 大安區很多po文有關感冒\n",
    "    \n",
    "    "
   ]
  },
  {
   "cell_type": "markdown",
   "metadata": {},
   "source": [
    "---"
   ]
  },
  {
   "cell_type": "markdown",
   "metadata": {},
   "source": [
    "### 8. 掛號\n",
    "- 可以根據病患以往的病例，去判斷哪些人是比較急的就幫他掛急診\n",
    "- 並且能夠依據病人輸入的症狀告訴他應該掛哪一科，以及目前能舒緩的方式等"
   ]
  },
  {
   "cell_type": "markdown",
   "metadata": {},
   "source": [
    "---"
   ]
  },
  {
   "cell_type": "markdown",
   "metadata": {},
   "source": [
    "### 9. AI做本草綱目\n",
    "\n",
    "<img src='../img/AI_Conference2.png' style='zoom:40%'>\n",
    "\n",
    "- 把這些文字資料從紙本的方式電子化變成資料庫\n",
    "    - Book -> Txt -> Database\n",
    "    \n",
    "    \n",
    "- 文言文做斷詞 -> 人工標註 -> 爬蟲 專有名詞(Wikipedia)\n",
    "    - 紅：中藥\n",
    "    - 綠：相關草藥\n",
    "    - 藍：功效，症狀\n",
    "    \n",
    "    \n",
    ">再根據醫生的醫學知識去判斷這樣的分類是否正確，這種方式也有發現一些沒有被發現過的關聯"
   ]
  }
 ],
 "metadata": {
  "kernelspec": {
   "display_name": "Python 3",
   "language": "python",
   "name": "python3"
  },
  "language_info": {
   "codemirror_mode": {
    "name": "ipython",
    "version": 3
   },
   "file_extension": ".py",
   "mimetype": "text/x-python",
   "name": "python",
   "nbconvert_exporter": "python",
   "pygments_lexer": "ipython3",
   "version": "3.7.3"
  }
 },
 "nbformat": 4,
 "nbformat_minor": 2
}
