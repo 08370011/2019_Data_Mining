{
 "cells": [
  {
   "cell_type": "markdown",
   "metadata": {},
   "source": [
    "# Online Retail\n",
    "\n",
    "## 一. <a href='#資料介紹'>資料介紹</a>\n",
    "\n",
    "1. 來源\n",
    "2. 資料介紹\n",
    "3. 欄位\n",
    "\n",
    "\n",
    "## 二. <a href='#呈現'>呈現</a>\n",
    "1. <a href='#1.-Load-Libraries'>Load Libraries</a>\n",
    "2. <a href='#2.-Load-Data'>Load Data</a>\n",
    "3. <a href='#3.-Data-Preprocessing'>Data Preprocessing</a>    \n",
    "    1. Drop Duplicates\n",
    "    2. Missing Value\n",
    "    3. Outlier\n",
    "    4. Date Split Year / Month / Hour / Year_Month / Week\n",
    "    5. Date Before 2011-12-01\n",
    "    6. Drop Quantity > quantile(.999)\n",
    "    7. Drop Irrelevant Items\n",
    "    \n",
    "      \n",
    "4. <a href='#4.-Analyze-Data'>Analyze Data</a>\n",
    "    1. 客戶購買的商品數\n",
    "    2. 以月份區分，比較總額和數量\n",
    "    3. 星期\n",
    "    4. 小時\n",
    "    5. 總額前十名的商品以及數量前十名的商品\n",
    "    6. 個別商品比較\n",
    "        - Jumbo Bag Red Retrospot\n",
    "        - White Hanging Heart T-Light Holder \n",
    "        - Pack Of 72 Retrospot Cake Cases\n",
    "        \n",
    "        \n",
    "5. <a href='#5.-Apriori-Algorithm'>Apriori Algorithm</a>\n",
    "    1. Definition\n",
    "        1. Support (支持度) : 意思是某特定種類在所有種類的比重\n",
    "        2. Confidence (信賴度) : 意思是某A種類中，含有某B種類的比重\n",
    "        3. Lift (提升度) : 意思為某兩者關係的比值\n",
    "    2. France\n",
    "    3. Germany\n",
    "\n",
    "\n"
   ]
  },
  {
   "cell_type": "markdown",
   "metadata": {},
   "source": [
    "---"
   ]
  },
  {
   "cell_type": "markdown",
   "metadata": {},
   "source": [
    "## 資料介紹\n",
    "\n",
    "### 1.來源\n",
    "使用[UCI機器學習](https://archive.ics.uci.edu/ml/index.php)的[線上零售資料集](http://archive.ics.uci.edu/ml/datasets/Online+Retail)\n",
    "\n",
    "\n",
    "### 2.資料介紹\n",
    "- 資料包含了從 2010年12月1日 至 2011年12月9日 之間，在英國註冊的線上零售的所有交易數據。\n",
    "\n",
    "- 因為 2011年12月 的資料不滿一個月，我會取 2010年12月1日 到 2011年11月30日 來分析\n",
    "\n",
    "- 該公司主要銷售獨特的禮品，許多客戶都是批發商，客戶來自各個國家。\n",
    "\n",
    "### 3.欄位\n",
    "\n",
    "Shape：(541909, 8)\n",
    "\n",
    "\n",
    "英文欄位|中文欄位|描述\n",
    ":---:|:---:|:---\n",
    "InvoiceNo|訂單編號|每筆交易分配唯一的6位整數，退貨訂單的代碼以字母'C'開頭。\n",
    "StockCode|產品編號|每個不同的產品分配唯一的5位整數\n",
    "Description|產品名稱|對每件產品的簡略描述。\n",
    "Quantity|購買數量|每筆交易的每件產品的數量。\n",
    "InvoiceDate|交易日期及時間|每筆交易發生的日期和時間。\n",
    "UnitPrice|產品單價|單位產品價格。\n",
    "CustomerID|客戶ID|每個客戶分配唯一的5位整數。\n",
    "Country|客戶所在國家|每個客戶所在國家/地區的名稱。"
   ]
  },
  {
   "cell_type": "markdown",
   "metadata": {},
   "source": [
    "<a href='#Online-Retail'>Back To Top</a>"
   ]
  },
  {
   "cell_type": "markdown",
   "metadata": {},
   "source": [
    "---"
   ]
  },
  {
   "cell_type": "markdown",
   "metadata": {},
   "source": [
    "## 呈現"
   ]
  },
  {
   "cell_type": "markdown",
   "metadata": {},
   "source": [
    "## 1. Load Libraries"
   ]
  },
  {
   "cell_type": "code",
   "execution_count": 1,
   "metadata": {},
   "outputs": [],
   "source": [
    "import pandas as pd\n",
    "import numpy as np\n",
    "import datetime as dt\n",
    "import matplotlib.pyplot as plt\n",
    "import seaborn as sns\n",
    "import networkx as nx\n",
    "\n",
    "from mlxtend.frequent_patterns import apriori\n",
    "from mlxtend.frequent_patterns import association_rules\n",
    "\n",
    "%matplotlib inline\n",
    "pd.set_option('display.float_format',lambda x : '%.2f' % x)\n",
    "pd.set_option('max_colwidth',100)\n",
    "sns.set()"
   ]
  },
  {
   "cell_type": "markdown",
   "metadata": {},
   "source": [
    "<a href='#Online-Retail'>Back To Top</a>"
   ]
  },
  {
   "cell_type": "markdown",
   "metadata": {},
   "source": [
    "---"
   ]
  },
  {
   "cell_type": "markdown",
   "metadata": {},
   "source": [
    "## 2. Load Data"
   ]
  },
  {
   "cell_type": "code",
   "execution_count": 2,
   "metadata": {},
   "outputs": [],
   "source": [
    "dataset = pd.read_csv(\"../input/Online_Retail.csv\")"
   ]
  },
  {
   "cell_type": "markdown",
   "metadata": {},
   "source": [
    "### 資料筆數：(541909, 8)"
   ]
  },
  {
   "cell_type": "code",
   "execution_count": 3,
   "metadata": {},
   "outputs": [
    {
     "data": {
      "text/plain": [
       "(541909, 8)"
      ]
     },
     "execution_count": 3,
     "metadata": {},
     "output_type": "execute_result"
    }
   ],
   "source": [
    "dataset.shape"
   ]
  },
  {
   "cell_type": "code",
   "execution_count": 4,
   "metadata": {},
   "outputs": [
    {
     "data": {
      "text/html": [
       "<div>\n",
       "<style scoped>\n",
       "    .dataframe tbody tr th:only-of-type {\n",
       "        vertical-align: middle;\n",
       "    }\n",
       "\n",
       "    .dataframe tbody tr th {\n",
       "        vertical-align: top;\n",
       "    }\n",
       "\n",
       "    .dataframe thead th {\n",
       "        text-align: right;\n",
       "    }\n",
       "</style>\n",
       "<table border=\"1\" class=\"dataframe\">\n",
       "  <thead>\n",
       "    <tr style=\"text-align: right;\">\n",
       "      <th></th>\n",
       "      <th>InvoiceNo</th>\n",
       "      <th>StockCode</th>\n",
       "      <th>Description</th>\n",
       "      <th>Quantity</th>\n",
       "      <th>InvoiceDate</th>\n",
       "      <th>UnitPrice</th>\n",
       "      <th>CustomerID</th>\n",
       "      <th>Country</th>\n",
       "    </tr>\n",
       "  </thead>\n",
       "  <tbody>\n",
       "    <tr>\n",
       "      <td>0</td>\n",
       "      <td>536365</td>\n",
       "      <td>85123A</td>\n",
       "      <td>WHITE HANGING HEART T-LIGHT HOLDER</td>\n",
       "      <td>6</td>\n",
       "      <td>2010/12/1 8:26</td>\n",
       "      <td>2.55</td>\n",
       "      <td>17850.00</td>\n",
       "      <td>United Kingdom</td>\n",
       "    </tr>\n",
       "    <tr>\n",
       "      <td>1</td>\n",
       "      <td>536365</td>\n",
       "      <td>71053</td>\n",
       "      <td>WHITE METAL LANTERN</td>\n",
       "      <td>6</td>\n",
       "      <td>2010/12/1 8:26</td>\n",
       "      <td>3.39</td>\n",
       "      <td>17850.00</td>\n",
       "      <td>United Kingdom</td>\n",
       "    </tr>\n",
       "    <tr>\n",
       "      <td>2</td>\n",
       "      <td>536365</td>\n",
       "      <td>84406B</td>\n",
       "      <td>CREAM CUPID HEARTS COAT HANGER</td>\n",
       "      <td>8</td>\n",
       "      <td>2010/12/1 8:26</td>\n",
       "      <td>2.75</td>\n",
       "      <td>17850.00</td>\n",
       "      <td>United Kingdom</td>\n",
       "    </tr>\n",
       "    <tr>\n",
       "      <td>3</td>\n",
       "      <td>536365</td>\n",
       "      <td>84029G</td>\n",
       "      <td>KNITTED UNION FLAG HOT WATER BOTTLE</td>\n",
       "      <td>6</td>\n",
       "      <td>2010/12/1 8:26</td>\n",
       "      <td>3.39</td>\n",
       "      <td>17850.00</td>\n",
       "      <td>United Kingdom</td>\n",
       "    </tr>\n",
       "    <tr>\n",
       "      <td>4</td>\n",
       "      <td>536365</td>\n",
       "      <td>84029E</td>\n",
       "      <td>RED WOOLLY HOTTIE WHITE HEART.</td>\n",
       "      <td>6</td>\n",
       "      <td>2010/12/1 8:26</td>\n",
       "      <td>3.39</td>\n",
       "      <td>17850.00</td>\n",
       "      <td>United Kingdom</td>\n",
       "    </tr>\n",
       "  </tbody>\n",
       "</table>\n",
       "</div>"
      ],
      "text/plain": [
       "  InvoiceNo StockCode                          Description  Quantity  \\\n",
       "0    536365    85123A   WHITE HANGING HEART T-LIGHT HOLDER         6   \n",
       "1    536365     71053                  WHITE METAL LANTERN         6   \n",
       "2    536365    84406B       CREAM CUPID HEARTS COAT HANGER         8   \n",
       "3    536365    84029G  KNITTED UNION FLAG HOT WATER BOTTLE         6   \n",
       "4    536365    84029E       RED WOOLLY HOTTIE WHITE HEART.         6   \n",
       "\n",
       "      InvoiceDate  UnitPrice  CustomerID         Country  \n",
       "0  2010/12/1 8:26       2.55    17850.00  United Kingdom  \n",
       "1  2010/12/1 8:26       3.39    17850.00  United Kingdom  \n",
       "2  2010/12/1 8:26       2.75    17850.00  United Kingdom  \n",
       "3  2010/12/1 8:26       3.39    17850.00  United Kingdom  \n",
       "4  2010/12/1 8:26       3.39    17850.00  United Kingdom  "
      ]
     },
     "execution_count": 4,
     "metadata": {},
     "output_type": "execute_result"
    }
   ],
   "source": [
    "dataset.head()"
   ]
  },
  {
   "cell_type": "code",
   "execution_count": 5,
   "metadata": {
    "scrolled": true
   },
   "outputs": [
    {
     "data": {
      "text/plain": [
       "array(['United Kingdom', 'France', 'Australia', 'Netherlands', 'Germany',\n",
       "       'Norway', 'EIRE', 'Switzerland', 'Spain', 'Poland', 'Portugal',\n",
       "       'Italy', 'Belgium', 'Lithuania', 'Japan', 'Iceland',\n",
       "       'Channel Islands', 'Denmark', 'Cyprus', 'Sweden', 'Austria',\n",
       "       'Israel', 'Finland', 'Bahrain', 'Greece', 'Hong Kong', 'Singapore',\n",
       "       'Lebanon', 'United Arab Emirates', 'Saudi Arabia',\n",
       "       'Czech Republic', 'Canada', 'Unspecified', 'Brazil', 'USA',\n",
       "       'European Community', 'Malta', 'RSA'], dtype=object)"
      ]
     },
     "execution_count": 5,
     "metadata": {},
     "output_type": "execute_result"
    }
   ],
   "source": [
    "dataset.Country.unique()"
   ]
  },
  {
   "cell_type": "markdown",
   "metadata": {},
   "source": [
    "<a href='#Online-Retail'>Back To Top</a>"
   ]
  },
  {
   "cell_type": "markdown",
   "metadata": {},
   "source": [
    "---"
   ]
  },
  {
   "cell_type": "markdown",
   "metadata": {},
   "source": [
    "## 3. Data Preprocessing\n",
    "1. Drop Duplicates\n",
    "2. Missing Value\n",
    "3. Outlier\n",
    "4. Date Split Year / Month / Hour / Year_Month / Week\n",
    "5. Date Before 2011-12-01\n",
    "6. Drop Quantity > quantile(.999)\n",
    "7. Drop Irrelevant Items\n",
    "\n",
    "\n",
    "方法|刪除多少筆資料|剩多少筆資料\n",
    ":---:|:---:|:---:\n",
    "Drop Duplicates|5,268|536,641\n",
    "Missing Value|135,037|401,604\n",
    "Outlier(Quantity + UnitPrice)|8,912|392,692\n",
    "Drop Date After 2011-11-30|17,026|375,666\n",
    "Drop Quantity > quantile(.999)|368|375,298\n",
    "Drop Irrelevant Items|1,477|373,821"
   ]
  },
  {
   "cell_type": "markdown",
   "metadata": {},
   "source": [
    "### 3.1 Drop Duplicates\n",
    "#### 把完全重複的資料刪除"
   ]
  },
  {
   "cell_type": "code",
   "execution_count": 6,
   "metadata": {},
   "outputs": [
    {
     "name": "stdout",
     "output_type": "stream",
     "text": [
      "Drop Duplicates :  5268\n",
      "Dataset Now :  536641\n"
     ]
    }
   ],
   "source": [
    "dataset = dataset.drop_duplicates(subset=['InvoiceNo','StockCode','Description','Quantity','InvoiceDate','UnitPrice','CustomerID','Country'])\n",
    "duplicates_length = 541909-dataset.shape[0]\n",
    "print('Drop Duplicates : ', duplicates_length)\n",
    "print('Dataset Now : ', dataset.shape[0])"
   ]
  },
  {
   "cell_type": "markdown",
   "metadata": {},
   "source": [
    "---"
   ]
  },
  {
   "cell_type": "markdown",
   "metadata": {},
   "source": [
    "### 3.2 Missing Value"
   ]
  },
  {
   "cell_type": "markdown",
   "metadata": {},
   "source": [
    "#### 因為要研究用戶的消費行為以及產品的銷售情況，所以把用戶ID或者產品名稱缺失的數據刪除。\n",
    "這邊選擇直接刪掉不填補缺失值，因為用戶ID跟產品名稱沒辦法靠其他欄位來做填補"
   ]
  },
  {
   "cell_type": "code",
   "execution_count": 7,
   "metadata": {
    "scrolled": false
   },
   "outputs": [
    {
     "data": {
      "text/html": [
       "<div>\n",
       "<style scoped>\n",
       "    .dataframe tbody tr th:only-of-type {\n",
       "        vertical-align: middle;\n",
       "    }\n",
       "\n",
       "    .dataframe tbody tr th {\n",
       "        vertical-align: top;\n",
       "    }\n",
       "\n",
       "    .dataframe thead th {\n",
       "        text-align: right;\n",
       "    }\n",
       "</style>\n",
       "<table border=\"1\" class=\"dataframe\">\n",
       "  <thead>\n",
       "    <tr style=\"text-align: right;\">\n",
       "      <th></th>\n",
       "      <th>missing</th>\n",
       "    </tr>\n",
       "  </thead>\n",
       "  <tbody>\n",
       "    <tr>\n",
       "      <td>CustomerID</td>\n",
       "      <td>135037</td>\n",
       "    </tr>\n",
       "    <tr>\n",
       "      <td>Description</td>\n",
       "      <td>1454</td>\n",
       "    </tr>\n",
       "  </tbody>\n",
       "</table>\n",
       "</div>"
      ],
      "text/plain": [
       "             missing\n",
       "CustomerID    135037\n",
       "Description     1454"
      ]
     },
     "metadata": {},
     "output_type": "display_data"
    }
   ],
   "source": [
    "def na_check(df):\n",
    "    missing_data = pd.DataFrame(dataset.isnull().sum(), columns=['missing'])\n",
    "    missing_data = missing_data.sort_values(ascending=False, by=['missing'])\n",
    "    missing_data = missing_data[missing_data['missing']>0]\n",
    "    display(missing_data)\n",
    "na_check(dataset)"
   ]
  },
  {
   "cell_type": "code",
   "execution_count": 8,
   "metadata": {},
   "outputs": [
    {
     "name": "stdout",
     "output_type": "stream",
     "text": [
      "Drop Missing Value:  135037\n",
      "Dataset Now :  401604\n"
     ]
    }
   ],
   "source": [
    "dataset = dataset.dropna(subset=['InvoiceNo','CustomerID'],how='any')\n",
    "missing_length = 541909-duplicates_length-dataset.shape[0]\n",
    "print('Drop Missing Value: ',missing_length)\n",
    "print('Dataset Now : ', dataset.shape[0])"
   ]
  },
  {
   "cell_type": "markdown",
   "metadata": {},
   "source": [
    "---"
   ]
  },
  {
   "cell_type": "markdown",
   "metadata": {},
   "source": [
    "### 3.3 Outlier"
   ]
  },
  {
   "cell_type": "markdown",
   "metadata": {},
   "source": [
    "#### Quantity, UnitPrice 有Outlier\n",
    "\n",
    "1. 購買產品的數量最小值為 -8095\n",
    "2. 單品單價為 0\n",
    "\n",
    "```\n",
    "產品數量及單價都不可能為0，將這兩個不符合實際情況的異常值刪除\n",
    "刪掉異常值時，也順便處理掉InvoiceNo(訂單編號)開頭為C的退貨資料了 \n",
    "數量<0就表示退貨 \n",
    "```"
   ]
  },
  {
   "cell_type": "code",
   "execution_count": 9,
   "metadata": {},
   "outputs": [
    {
     "data": {
      "text/html": [
       "<div>\n",
       "<style scoped>\n",
       "    .dataframe tbody tr th:only-of-type {\n",
       "        vertical-align: middle;\n",
       "    }\n",
       "\n",
       "    .dataframe tbody tr th {\n",
       "        vertical-align: top;\n",
       "    }\n",
       "\n",
       "    .dataframe thead th {\n",
       "        text-align: right;\n",
       "    }\n",
       "</style>\n",
       "<table border=\"1\" class=\"dataframe\">\n",
       "  <thead>\n",
       "    <tr style=\"text-align: right;\">\n",
       "      <th></th>\n",
       "      <th>Quantity</th>\n",
       "      <th>UnitPrice</th>\n",
       "      <th>CustomerID</th>\n",
       "    </tr>\n",
       "  </thead>\n",
       "  <tbody>\n",
       "    <tr>\n",
       "      <td>count</td>\n",
       "      <td>401604.00</td>\n",
       "      <td>401604.00</td>\n",
       "      <td>401604.00</td>\n",
       "    </tr>\n",
       "    <tr>\n",
       "      <td>mean</td>\n",
       "      <td>12.18</td>\n",
       "      <td>3.47</td>\n",
       "      <td>15281.16</td>\n",
       "    </tr>\n",
       "    <tr>\n",
       "      <td>std</td>\n",
       "      <td>250.28</td>\n",
       "      <td>69.76</td>\n",
       "      <td>1714.01</td>\n",
       "    </tr>\n",
       "    <tr>\n",
       "      <td>min</td>\n",
       "      <td>-80995.00</td>\n",
       "      <td>0.00</td>\n",
       "      <td>12346.00</td>\n",
       "    </tr>\n",
       "    <tr>\n",
       "      <td>25%</td>\n",
       "      <td>2.00</td>\n",
       "      <td>1.25</td>\n",
       "      <td>13939.00</td>\n",
       "    </tr>\n",
       "    <tr>\n",
       "      <td>50%</td>\n",
       "      <td>5.00</td>\n",
       "      <td>1.95</td>\n",
       "      <td>15145.00</td>\n",
       "    </tr>\n",
       "    <tr>\n",
       "      <td>75%</td>\n",
       "      <td>12.00</td>\n",
       "      <td>3.75</td>\n",
       "      <td>16784.00</td>\n",
       "    </tr>\n",
       "    <tr>\n",
       "      <td>max</td>\n",
       "      <td>80995.00</td>\n",
       "      <td>38970.00</td>\n",
       "      <td>18287.00</td>\n",
       "    </tr>\n",
       "  </tbody>\n",
       "</table>\n",
       "</div>"
      ],
      "text/plain": [
       "       Quantity  UnitPrice  CustomerID\n",
       "count 401604.00  401604.00   401604.00\n",
       "mean      12.18       3.47    15281.16\n",
       "std      250.28      69.76     1714.01\n",
       "min   -80995.00       0.00    12346.00\n",
       "25%        2.00       1.25    13939.00\n",
       "50%        5.00       1.95    15145.00\n",
       "75%       12.00       3.75    16784.00\n",
       "max    80995.00   38970.00    18287.00"
      ]
     },
     "execution_count": 9,
     "metadata": {},
     "output_type": "execute_result"
    }
   ],
   "source": [
    "dataset.describe()"
   ]
  },
  {
   "cell_type": "code",
   "execution_count": 10,
   "metadata": {},
   "outputs": [
    {
     "data": {
      "text/plain": [
       "count     8872.00\n",
       "mean       -30.77\n",
       "std       1172.25\n",
       "min     -80995.00\n",
       "25%         -6.00\n",
       "50%         -2.00\n",
       "75%         -1.00\n",
       "max         -1.00\n",
       "Name: Quantity, dtype: float64"
      ]
     },
     "execution_count": 10,
     "metadata": {},
     "output_type": "execute_result"
    }
   ],
   "source": [
    "dataset[dataset['InvoiceNo'].str.contains('C')].describe()['Quantity']"
   ]
  },
  {
   "cell_type": "code",
   "execution_count": 11,
   "metadata": {},
   "outputs": [
    {
     "name": "stdout",
     "output_type": "stream",
     "text": [
      "Drop Quantity <0 :  8872\n",
      "Drop UnitPrice <0 :  40\n",
      "Drop Quantity + UnitPrice： 8912\n",
      "Dataset Now :  392692\n"
     ]
    }
   ],
   "source": [
    "Quantity_num = len(dataset[dataset['Quantity']<=0])\n",
    "UnitPrice_num = len(dataset[dataset['UnitPrice']<=0])\n",
    "dataset = dataset[dataset['Quantity']>0]\n",
    "dataset = dataset[dataset['UnitPrice']>0]\n",
    "\n",
    "print('Drop Quantity <0 : ', Quantity_num)\n",
    "print('Drop UnitPrice <0 : ', UnitPrice_num)\n",
    "print('Drop Quantity + UnitPrice：', Quantity_num+UnitPrice_num)\n",
    "print('Dataset Now : ', dataset.shape[0])"
   ]
  },
  {
   "cell_type": "markdown",
   "metadata": {},
   "source": [
    "---"
   ]
  },
  {
   "cell_type": "markdown",
   "metadata": {},
   "source": [
    "### 3.4 Date Split Year / Month / Hour / Year_Month / Week"
   ]
  },
  {
   "cell_type": "markdown",
   "metadata": {},
   "source": [
    "#### 把Date這個變數，再細分出Year / Month / Hour / Year_Month / Week，以便後續資料視覺化"
   ]
  },
  {
   "cell_type": "code",
   "execution_count": 12,
   "metadata": {},
   "outputs": [],
   "source": [
    "dataset['Year'] = dataset['InvoiceDate'].map(lambda x:x.split('/')[0])\n",
    "dataset['Month'] = dataset['InvoiceDate'].map(lambda x:x.split('/')[1])\n",
    "dataset['Hour'] = dataset['InvoiceDate'].map(lambda x:x.split(' ')[1].split(':')[0])\n",
    "dataset['Year_Month'] = dataset['Year'] + '-' + dataset['Month'] "
   ]
  },
  {
   "cell_type": "code",
   "execution_count": 13,
   "metadata": {},
   "outputs": [],
   "source": [
    "dataset.loc[:,'InvoiceDate']=pd.to_datetime(dataset.loc[:,'InvoiceDate'],\n",
    "                                                   format='%Y-%m-%d')"
   ]
  },
  {
   "cell_type": "code",
   "execution_count": 14,
   "metadata": {},
   "outputs": [],
   "source": [
    "dataset['Week'] = dataset['InvoiceDate'].map(lambda x:x.weekday())+1"
   ]
  },
  {
   "cell_type": "code",
   "execution_count": 15,
   "metadata": {},
   "outputs": [
    {
     "data": {
      "text/html": [
       "<div>\n",
       "<style scoped>\n",
       "    .dataframe tbody tr th:only-of-type {\n",
       "        vertical-align: middle;\n",
       "    }\n",
       "\n",
       "    .dataframe tbody tr th {\n",
       "        vertical-align: top;\n",
       "    }\n",
       "\n",
       "    .dataframe thead th {\n",
       "        text-align: right;\n",
       "    }\n",
       "</style>\n",
       "<table border=\"1\" class=\"dataframe\">\n",
       "  <thead>\n",
       "    <tr style=\"text-align: right;\">\n",
       "      <th></th>\n",
       "      <th>InvoiceNo</th>\n",
       "      <th>StockCode</th>\n",
       "      <th>Description</th>\n",
       "      <th>Quantity</th>\n",
       "      <th>InvoiceDate</th>\n",
       "      <th>UnitPrice</th>\n",
       "      <th>CustomerID</th>\n",
       "      <th>Country</th>\n",
       "      <th>Year</th>\n",
       "      <th>Month</th>\n",
       "      <th>Hour</th>\n",
       "      <th>Year_Month</th>\n",
       "      <th>Week</th>\n",
       "    </tr>\n",
       "  </thead>\n",
       "  <tbody>\n",
       "    <tr>\n",
       "      <td>541904</td>\n",
       "      <td>581587</td>\n",
       "      <td>22613</td>\n",
       "      <td>PACK OF 20 SPACEBOY NAPKINS</td>\n",
       "      <td>12</td>\n",
       "      <td>2011-12-09 12:50:00</td>\n",
       "      <td>0.85</td>\n",
       "      <td>12680.00</td>\n",
       "      <td>France</td>\n",
       "      <td>2011</td>\n",
       "      <td>12</td>\n",
       "      <td>12</td>\n",
       "      <td>2011-12</td>\n",
       "      <td>5</td>\n",
       "    </tr>\n",
       "    <tr>\n",
       "      <td>541905</td>\n",
       "      <td>581587</td>\n",
       "      <td>22899</td>\n",
       "      <td>CHILDREN'S APRON DOLLY GIRL</td>\n",
       "      <td>6</td>\n",
       "      <td>2011-12-09 12:50:00</td>\n",
       "      <td>2.10</td>\n",
       "      <td>12680.00</td>\n",
       "      <td>France</td>\n",
       "      <td>2011</td>\n",
       "      <td>12</td>\n",
       "      <td>12</td>\n",
       "      <td>2011-12</td>\n",
       "      <td>5</td>\n",
       "    </tr>\n",
       "    <tr>\n",
       "      <td>541906</td>\n",
       "      <td>581587</td>\n",
       "      <td>23254</td>\n",
       "      <td>CHILDRENS CUTLERY DOLLY GIRL</td>\n",
       "      <td>4</td>\n",
       "      <td>2011-12-09 12:50:00</td>\n",
       "      <td>4.15</td>\n",
       "      <td>12680.00</td>\n",
       "      <td>France</td>\n",
       "      <td>2011</td>\n",
       "      <td>12</td>\n",
       "      <td>12</td>\n",
       "      <td>2011-12</td>\n",
       "      <td>5</td>\n",
       "    </tr>\n",
       "    <tr>\n",
       "      <td>541907</td>\n",
       "      <td>581587</td>\n",
       "      <td>23255</td>\n",
       "      <td>CHILDRENS CUTLERY CIRCUS PARADE</td>\n",
       "      <td>4</td>\n",
       "      <td>2011-12-09 12:50:00</td>\n",
       "      <td>4.15</td>\n",
       "      <td>12680.00</td>\n",
       "      <td>France</td>\n",
       "      <td>2011</td>\n",
       "      <td>12</td>\n",
       "      <td>12</td>\n",
       "      <td>2011-12</td>\n",
       "      <td>5</td>\n",
       "    </tr>\n",
       "    <tr>\n",
       "      <td>541908</td>\n",
       "      <td>581587</td>\n",
       "      <td>22138</td>\n",
       "      <td>BAKING SET 9 PIECE RETROSPOT</td>\n",
       "      <td>3</td>\n",
       "      <td>2011-12-09 12:50:00</td>\n",
       "      <td>4.95</td>\n",
       "      <td>12680.00</td>\n",
       "      <td>France</td>\n",
       "      <td>2011</td>\n",
       "      <td>12</td>\n",
       "      <td>12</td>\n",
       "      <td>2011-12</td>\n",
       "      <td>5</td>\n",
       "    </tr>\n",
       "  </tbody>\n",
       "</table>\n",
       "</div>"
      ],
      "text/plain": [
       "       InvoiceNo StockCode                      Description  Quantity  \\\n",
       "541904    581587     22613      PACK OF 20 SPACEBOY NAPKINS        12   \n",
       "541905    581587     22899     CHILDREN'S APRON DOLLY GIRL          6   \n",
       "541906    581587     23254    CHILDRENS CUTLERY DOLLY GIRL          4   \n",
       "541907    581587     23255  CHILDRENS CUTLERY CIRCUS PARADE         4   \n",
       "541908    581587     22138    BAKING SET 9 PIECE RETROSPOT          3   \n",
       "\n",
       "               InvoiceDate  UnitPrice  CustomerID Country  Year Month Hour  \\\n",
       "541904 2011-12-09 12:50:00       0.85    12680.00  France  2011    12   12   \n",
       "541905 2011-12-09 12:50:00       2.10    12680.00  France  2011    12   12   \n",
       "541906 2011-12-09 12:50:00       4.15    12680.00  France  2011    12   12   \n",
       "541907 2011-12-09 12:50:00       4.15    12680.00  France  2011    12   12   \n",
       "541908 2011-12-09 12:50:00       4.95    12680.00  France  2011    12   12   \n",
       "\n",
       "       Year_Month  Week  \n",
       "541904    2011-12     5  \n",
       "541905    2011-12     5  \n",
       "541906    2011-12     5  \n",
       "541907    2011-12     5  \n",
       "541908    2011-12     5  "
      ]
     },
     "execution_count": 15,
     "metadata": {},
     "output_type": "execute_result"
    }
   ],
   "source": [
    "dataset.tail()"
   ]
  },
  {
   "cell_type": "markdown",
   "metadata": {},
   "source": [
    "---"
   ]
  },
  {
   "cell_type": "markdown",
   "metadata": {},
   "source": [
    "### 3.5 Date Before 2011-12-01\n",
    "\n",
    "- 資料包含了從 2010年12月1日 至 2011年12月9日 之間\n",
    "\n",
    "- 因為 2011年12月 的資料不滿一個月，我會取 2010年12月1日 到 2011年11月30日 來分析"
   ]
  },
  {
   "cell_type": "code",
   "execution_count": 16,
   "metadata": {},
   "outputs": [
    {
     "name": "stdout",
     "output_type": "stream",
     "text": [
      "Data After 2011-12-01 :  17026\n",
      "Dataset Now :  375666\n"
     ]
    }
   ],
   "source": [
    "After_20111201_num = len(dataset[(dataset.loc[:,'Year']=='2011') & (dataset.loc[:,'Month']=='12')])\n",
    "dataset = dataset[-((dataset.loc[:,'Year']=='2011') & (dataset.loc[:,'Month']=='12'))]\n",
    "\n",
    "print('Data After 2011-12-01 : ', After_20111201_num)\n",
    "print('Dataset Now : ', dataset.shape[0])"
   ]
  },
  {
   "cell_type": "markdown",
   "metadata": {},
   "source": [
    "---"
   ]
  },
  {
   "cell_type": "markdown",
   "metadata": {},
   "source": [
    "### 3.6 Drop Quantity > quantile(.999)\n",
    "#### 刪掉Outlier，只保留99.9%的資料"
   ]
  },
  {
   "cell_type": "code",
   "execution_count": 17,
   "metadata": {},
   "outputs": [
    {
     "name": "stdout",
     "output_type": "stream",
     "text": [
      "Quantity > quantile(.999) :  368\n",
      "Dataset Now :  375298\n"
     ]
    }
   ],
   "source": [
    "quantity_999 = dataset['Quantity'].quantile(.999)\n",
    "quantity_999_num = dataset[dataset['Quantity']>quantity_999].shape[0]\n",
    "dataset = dataset[dataset['Quantity']<=quantity_999]\n",
    "\n",
    "print('Quantity > quantile(.999) : ', quantity_999_num)\n",
    "print('Dataset Now : ', dataset.shape[0])"
   ]
  },
  {
   "cell_type": "markdown",
   "metadata": {},
   "source": [
    "---"
   ]
  },
  {
   "cell_type": "markdown",
   "metadata": {},
   "source": [
    "### 3.7 Drop Irrelevant Items\n",
    "StockCode|Items\n",
    ":---:|:---:\n",
    "BANK CHARGES|銀行收費\n",
    "CARRIAGE|運輸費用\n",
    "DOTCOM POSTAGE|郵費\n",
    "PADS|緩衝墊\n",
    "M|使用說明書\n",
    "POST|郵費"
   ]
  },
  {
   "cell_type": "code",
   "execution_count": 18,
   "metadata": {},
   "outputs": [
    {
     "data": {
      "text/plain": [
       "array(['POST', 'PADS', 'M', 'DOT', 'C2', 'BANK CHARGES', '90214Y',\n",
       "       '90214V'], dtype=object)"
      ]
     },
     "execution_count": 18,
     "metadata": {},
     "output_type": "execute_result"
    }
   ],
   "source": [
    "Irrelevant = dataset['StockCode'].unique()\n",
    "Irrelevant.sort()\n",
    "Irrelevant[::-1][:8]"
   ]
  },
  {
   "cell_type": "code",
   "execution_count": 19,
   "metadata": {},
   "outputs": [
    {
     "name": "stdout",
     "output_type": "stream",
     "text": [
      "Dataset Now :  373821\n"
     ]
    }
   ],
   "source": [
    "dataset = dataset[dataset['StockCode']!='BANK CHARGES']\n",
    "dataset = dataset[dataset['StockCode']!='C2']\n",
    "dataset = dataset[dataset['StockCode']!='DOT']\n",
    "dataset = dataset[dataset['StockCode']!='PADS']\n",
    "dataset = dataset[dataset['StockCode']!='M']\n",
    "dataset = dataset[dataset['StockCode']!='POST']\n",
    "\n",
    "print('Dataset Now : ', dataset.shape[0])"
   ]
  },
  {
   "cell_type": "markdown",
   "metadata": {},
   "source": [
    "<a href='#Online-Retail'>Back To Top</a>"
   ]
  },
  {
   "cell_type": "markdown",
   "metadata": {},
   "source": [
    "---"
   ]
  },
  {
   "cell_type": "markdown",
   "metadata": {},
   "source": [
    "## 4. Analyze Data\n",
    "\n",
    "1. 客戶購買的商品數\n",
    "2. 以月份區分，比較總額和數量\n",
    "3. 星期\n",
    "4. 小時\n",
    "5. 總額前十名的商品以及數量前十名的商品\n",
    "6. 個別商品比較\n",
    "    - Jumbo Bag Red Retrospot\n",
    "    - White Hanging Heart T-Light Holder \n",
    "    - Pack Of 72 Retrospot Cake Cases"
   ]
  },
  {
   "cell_type": "code",
   "execution_count": 20,
   "metadata": {},
   "outputs": [],
   "source": [
    "## 把全部大寫改成首字母大寫\n",
    "dataset['Description'] = dataset['Description'].str.title()"
   ]
  },
  {
   "cell_type": "markdown",
   "metadata": {},
   "source": [
    "### 4.1 客戶購買的商品數\n",
    "大部分的客戶購買的商品數都小於25，所以主要客戶為個人，少部分為廠商"
   ]
  },
  {
   "cell_type": "code",
   "execution_count": 21,
   "metadata": {},
   "outputs": [
    {
     "data": {
      "text/html": [
       "<div>\n",
       "<style scoped>\n",
       "    .dataframe tbody tr th:only-of-type {\n",
       "        vertical-align: middle;\n",
       "    }\n",
       "\n",
       "    .dataframe tbody tr th {\n",
       "        vertical-align: top;\n",
       "    }\n",
       "\n",
       "    .dataframe thead th {\n",
       "        text-align: right;\n",
       "    }\n",
       "</style>\n",
       "<table border=\"1\" class=\"dataframe\">\n",
       "  <thead>\n",
       "    <tr style=\"text-align: right;\">\n",
       "      <th></th>\n",
       "      <th>InvoiceNo</th>\n",
       "      <th>CustomerID</th>\n",
       "      <th>Number of products</th>\n",
       "    </tr>\n",
       "  </thead>\n",
       "  <tbody>\n",
       "    <tr>\n",
       "      <td>0</td>\n",
       "      <td>536365</td>\n",
       "      <td>17850.00</td>\n",
       "      <td>7</td>\n",
       "    </tr>\n",
       "    <tr>\n",
       "      <td>1</td>\n",
       "      <td>536366</td>\n",
       "      <td>17850.00</td>\n",
       "      <td>2</td>\n",
       "    </tr>\n",
       "    <tr>\n",
       "      <td>2</td>\n",
       "      <td>536367</td>\n",
       "      <td>13047.00</td>\n",
       "      <td>12</td>\n",
       "    </tr>\n",
       "    <tr>\n",
       "      <td>3</td>\n",
       "      <td>536368</td>\n",
       "      <td>13047.00</td>\n",
       "      <td>4</td>\n",
       "    </tr>\n",
       "    <tr>\n",
       "      <td>4</td>\n",
       "      <td>536369</td>\n",
       "      <td>13047.00</td>\n",
       "      <td>1</td>\n",
       "    </tr>\n",
       "  </tbody>\n",
       "</table>\n",
       "</div>"
      ],
      "text/plain": [
       "  InvoiceNo  CustomerID  Number of products\n",
       "0    536365    17850.00                   7\n",
       "1    536366    17850.00                   2\n",
       "2    536367    13047.00                  12\n",
       "3    536368    13047.00                   4\n",
       "4    536369    13047.00                   1"
      ]
     },
     "execution_count": 21,
     "metadata": {},
     "output_type": "execute_result"
    }
   ],
   "source": [
    "transaction_df = dataset.groupby(['InvoiceNo','CustomerID'],as_index=False)['InvoiceDate'].count()\n",
    "transaction_df = transaction_df.rename(columns = {'InvoiceDate':'Number of products'})\n",
    "transaction_df.head()"
   ]
  },
  {
   "cell_type": "code",
   "execution_count": 22,
   "metadata": {},
   "outputs": [
    {
     "data": {
      "image/png": "[encoded data removed]",
      "text/plain": [
       "<Figure size 648x288 with 1 Axes>"
      ]
     },
     "metadata": {
      "needs_background": "light"
     },
     "output_type": "display_data"
    }
   ],
   "source": [
    "fig, ax = plt.subplots(figsize=(9,4))\n",
    "sns.distplot(transaction_df['Number of products'],ax=ax)\n",
    "plt.show()"
   ]
  },
  {
   "cell_type": "markdown",
   "metadata": {},
   "source": [
    "### 4.2 以月份區分，比較總額和數量\n",
    "可以看出9, 10月數量少，金額多"
   ]
  },
  {
   "cell_type": "code",
   "execution_count": 23,
   "metadata": {},
   "outputs": [],
   "source": [
    "## Amount = Quantity * UnitPrice\n",
    "dataset['Amount'] = dataset.Quantity * dataset.UnitPrice\n",
    "monthly_sales = dataset.groupby(['Year_Month'])['Amount'].sum()\n",
    "monthly_sales = pd.DataFrame({'Year_Month':monthly_sales.index, 'Monthly Sales':monthly_sales.values})\n",
    "monthly_sales['index'] =  ['01', '02', '11', '12', '03', '04', '05', '06', '07', '08', '09', '10']\n",
    "monthly_sales = monthly_sales.sort_values(by=['index']).drop(['index'], axis=1).reset_index(drop=True)"
   ]
  },
  {
   "cell_type": "code",
   "execution_count": 24,
   "metadata": {},
   "outputs": [],
   "source": [
    "# InvoiceNo包含同一個人買的不同東西，所以要用unique InvoiceNo去計算\n",
    "Unique_InvoiceNo = dataset.drop_duplicates(subset=['InvoiceNo'])\n",
    "monthly_trans = Unique_InvoiceNo.groupby(['Year_Month'])['InvoiceNo'].count()\n",
    "monthly_trans = pd.DataFrame({'Year_Month':monthly_trans.index, 'InvoiceNo':monthly_trans.values})\n",
    "monthly_trans['index'] =  ['01', '02', '11', '12', '03', '04', '05', '06', '07', '08', '09', '10']\n",
    "monthly_trans = monthly_trans.sort_values(by=['index']).drop(['index'], axis=1).reset_index(drop=True)"
   ]
  },
  {
   "cell_type": "code",
   "execution_count": 25,
   "metadata": {},
   "outputs": [
    {
     "data": {
      "image/png": "[encoded data removed]",
      "text/plain": [
       "<Figure size 1728x576 with 2 Axes>"
      ]
     },
     "metadata": {
      "needs_background": "light"
     },
     "output_type": "display_data"
    }
   ],
   "source": [
    "fig,axs = plt.subplots(nrows=1, ncols=2, figsize = (24,8))\n",
    "sns.barplot(x = monthly_trans['Year_Month'], y = monthly_trans['InvoiceNo'], ax= axs[0]).set(xlabel='Total value of sales')\n",
    "axs[0].set_title('By Amount', size=12, fontweight = 'bold', fontsize=15)\n",
    "sns.barplot(x = monthly_sales['Year_Month'], y = monthly_sales['Monthly Sales'], ax= axs[1]).set(xlabel='Total amount of sales')\n",
    "axs[1].set_title('By Value', size=12, fontweight = 'bold', fontsize=15)\n",
    "plt.show()"
   ]
  },
  {
   "cell_type": "markdown",
   "metadata": {},
   "source": [
    "### 4.3 星期\n",
    "從這張圖可以看出沒有這份資料沒有星期六的交易資料，且在星期四的購買的人較多"
   ]
  },
  {
   "cell_type": "code",
   "execution_count": 26,
   "metadata": {},
   "outputs": [
    {
     "data": {
      "text/plain": [
       "Week\n",
       "1    2708\n",
       "2    3029\n",
       "3    3313\n",
       "4    3754\n",
       "5    2641\n",
       "7    2104\n",
       "Name: InvoiceNo, dtype: int64"
      ]
     },
     "execution_count": 26,
     "metadata": {},
     "output_type": "execute_result"
    }
   ],
   "source": [
    "Unique_InvoiceNo=dataset.drop_duplicates(subset=['InvoiceNo'])\n",
    "weekly_trans=Unique_InvoiceNo.groupby(['Week'])['InvoiceNo'].count()\n",
    "weekly_trans"
   ]
  },
  {
   "cell_type": "code",
   "execution_count": 27,
   "metadata": {},
   "outputs": [
    {
     "data": {
      "image/png": "[encoded data removed]",
      "text/plain": [
       "<Figure size 504x288 with 1 Axes>"
      ]
     },
     "metadata": {
      "needs_background": "light"
     },
     "output_type": "display_data"
    }
   ],
   "source": [
    "fig,ax = plt.subplots(figsize=(7,4))\n",
    "x = ['Mon', 'Tue','Wed','Thur','Fri','Sun']\n",
    "y = weekly_trans\n",
    "plt.plot(x,y)\n",
    "plt.xlabel('Week')\n",
    "plt.ylabel('Weekly Transaction')\n",
    "plt.show()"
   ]
  },
  {
   "cell_type": "markdown",
   "metadata": {},
   "source": [
    "### 4.4 小時\n",
    "從這張圖可以看出，顧客購買集中於早上10點到下午3點。"
   ]
  },
  {
   "cell_type": "code",
   "execution_count": 28,
   "metadata": {},
   "outputs": [],
   "source": [
    "Unique_InvoiceNo=dataset.drop_duplicates(subset=['InvoiceNo'])\n",
    "hourly_trans=Unique_InvoiceNo.groupby(['Hour'])['InvoiceNo'].count()\n",
    "hourly_trans.to_frame().to_csv('hourly_trans.csv')\n",
    "hourly_trans = pd.read_csv('hourly_trans.csv')\n",
    "hourly_trans = hourly_trans.sort_values(by=['Hour'])"
   ]
  },
  {
   "cell_type": "code",
   "execution_count": 29,
   "metadata": {},
   "outputs": [
    {
     "data": {
      "image/png": "[encoded data removed]",
      "text/plain": [
       "<Figure size 720x360 with 1 Axes>"
      ]
     },
     "metadata": {
      "needs_background": "light"
     },
     "output_type": "display_data"
    }
   ],
   "source": [
    "fig, ax = plt.subplots(figsize=(10,5))\n",
    "sns.set(font_scale =1.2)\n",
    "\n",
    "sns.barplot(x=\"Hour\", y=\"InvoiceNo\", data=hourly_trans) \n",
    "ax.set_title('Hourly Transaction')\n",
    "ax.set_xticklabels(ax.get_xticklabels())\n",
    "plt.show()"
   ]
  },
  {
   "cell_type": "markdown",
   "metadata": {},
   "source": [
    "### 4.5 總額前十名的商品以及數量前十名的商品 比較\n",
    "可以看出總額的前十名跟數量的前十名，有幾個重複，但大致上有些不同"
   ]
  },
  {
   "cell_type": "code",
   "execution_count": 30,
   "metadata": {},
   "outputs": [],
   "source": [
    "Top10Quan = dataset.groupby(['Description'])['Quantity'].agg('sum').sort_values(ascending=False)[0:10]\n",
    "Top10Price = dataset.groupby('Description')['Amount'].agg('sum').sort_values(ascending=False)[0:10]"
   ]
  },
  {
   "cell_type": "code",
   "execution_count": 31,
   "metadata": {},
   "outputs": [
    {
     "data": {
      "image/png": "[encoded data removed]",
      "text/plain": [
       "<Figure size 864x864 with 2 Axes>"
      ]
     },
     "metadata": {},
     "output_type": "display_data"
    }
   ],
   "source": [
    "#creating the subplot\n",
    "fig,axs = plt.subplots(nrows=2, ncols=1, figsize = (12,12))\n",
    "sns.barplot(x=Top10Quan.values, y=Top10Quan.index, ax = axs[0]).set(xlabel='Total quantity of sales')\n",
    "axs[0].set_title('By Amount', size=12, fontweight = 'bold')\n",
    "sns.barplot(x = Top10Price.values, y = Top10Price.index, ax = axs[1]).set(xlabel='Total value of sales')\n",
    "axs[1].set_title('By Value', size=12, fontweight = 'bold') \n",
    "plt.show()"
   ]
  },
  {
   "cell_type": "code",
   "execution_count": 32,
   "metadata": {
    "scrolled": false
   },
   "outputs": [
    {
     "data": {
      "text/html": [
       "<div>\n",
       "<style scoped>\n",
       "    .dataframe tbody tr th:only-of-type {\n",
       "        vertical-align: middle;\n",
       "    }\n",
       "\n",
       "    .dataframe tbody tr th {\n",
       "        vertical-align: top;\n",
       "    }\n",
       "\n",
       "    .dataframe thead th {\n",
       "        text-align: right;\n",
       "    }\n",
       "</style>\n",
       "<table border=\"1\" class=\"dataframe\">\n",
       "  <thead>\n",
       "    <tr style=\"text-align: right;\">\n",
       "      <th></th>\n",
       "      <th>Top 10 Quantity</th>\n",
       "      <th>Top 10 Quantity_中文</th>\n",
       "      <th>Rank</th>\n",
       "      <th>Top 10 Values</th>\n",
       "      <th>Top 10 Values_中文</th>\n",
       "    </tr>\n",
       "  </thead>\n",
       "  <tbody>\n",
       "    <tr>\n",
       "      <td>0</td>\n",
       "      <td>Jumbo Bag Red Retrospot</td>\n",
       "      <td>紅色紙袋</td>\n",
       "      <td>1</td>\n",
       "      <td>Regency Cakestand 3 Tier</td>\n",
       "      <td>三層蛋糕盤</td>\n",
       "    </tr>\n",
       "    <tr>\n",
       "      <td>1</td>\n",
       "      <td>World War 2 Gliders Asstd Designs</td>\n",
       "      <td>滑翔機</td>\n",
       "      <td>2</td>\n",
       "      <td>White Hanging Heart T-Light Holder</td>\n",
       "      <td>心型白色燈飾</td>\n",
       "    </tr>\n",
       "    <tr>\n",
       "      <td>2</td>\n",
       "      <td>White Hanging Heart T-Light Holder</td>\n",
       "      <td>心型白色燈飾</td>\n",
       "      <td>3</td>\n",
       "      <td>Jumbo Bag Red Retrospot</td>\n",
       "      <td>紅色紙袋</td>\n",
       "    </tr>\n",
       "    <tr>\n",
       "      <td>3</td>\n",
       "      <td>Assorted Colour Bird Ornament</td>\n",
       "      <td>裝飾鳥</td>\n",
       "      <td>4</td>\n",
       "      <td>Party Bunting</td>\n",
       "      <td>派對裝飾旗子</td>\n",
       "    </tr>\n",
       "    <tr>\n",
       "      <td>4</td>\n",
       "      <td>Pack Of 72 Retrospot Cake Cases</td>\n",
       "      <td>72個杯子蛋糕盒</td>\n",
       "      <td>5</td>\n",
       "      <td>Assorted Colour Bird Ornament</td>\n",
       "      <td>裝飾鳥</td>\n",
       "    </tr>\n",
       "    <tr>\n",
       "      <td>5</td>\n",
       "      <td>Victorian Glass Hanging T-Light</td>\n",
       "      <td>手提燈</td>\n",
       "      <td>6</td>\n",
       "      <td>Chilli Lights</td>\n",
       "      <td>辣椒造型燈泡</td>\n",
       "    </tr>\n",
       "    <tr>\n",
       "      <td>6</td>\n",
       "      <td>Jumbo Bag Pink Polkadot</td>\n",
       "      <td>粉紅色紙袋</td>\n",
       "      <td>7</td>\n",
       "      <td>Picnic Basket Wicker 60 Pieces</td>\n",
       "      <td>60個杯子蛋糕盒</td>\n",
       "    </tr>\n",
       "    <tr>\n",
       "      <td>7</td>\n",
       "      <td>Lunch Bag Red Retrospot</td>\n",
       "      <td>紅色保冷袋</td>\n",
       "      <td>8</td>\n",
       "      <td>Spotty Bunting</td>\n",
       "      <td>圓錐形派對裝飾</td>\n",
       "    </tr>\n",
       "    <tr>\n",
       "      <td>8</td>\n",
       "      <td>Popcorn Holder</td>\n",
       "      <td>爆米花袋</td>\n",
       "      <td>9</td>\n",
       "      <td>Doormat Keep Calm And Come In</td>\n",
       "      <td>門口地毯</td>\n",
       "    </tr>\n",
       "    <tr>\n",
       "      <td>9</td>\n",
       "      <td>Pack Of 60 Pink Paisley Cake Cases</td>\n",
       "      <td>60個杯子蛋糕盒</td>\n",
       "      <td>10</td>\n",
       "      <td>Paper Chain Kit 50'S Christmas</td>\n",
       "      <td>聖誕裝飾</td>\n",
       "    </tr>\n",
       "  </tbody>\n",
       "</table>\n",
       "</div>"
      ],
      "text/plain": [
       "                      Top 10 Quantity Top 10 Quantity_中文  Rank  \\\n",
       "0             Jumbo Bag Red Retrospot               紅色紙袋     1   \n",
       "1   World War 2 Gliders Asstd Designs                滑翔機     2   \n",
       "2  White Hanging Heart T-Light Holder             心型白色燈飾     3   \n",
       "3       Assorted Colour Bird Ornament                裝飾鳥     4   \n",
       "4     Pack Of 72 Retrospot Cake Cases           72個杯子蛋糕盒     5   \n",
       "5     Victorian Glass Hanging T-Light                手提燈     6   \n",
       "6             Jumbo Bag Pink Polkadot              粉紅色紙袋     7   \n",
       "7             Lunch Bag Red Retrospot              紅色保冷袋     8   \n",
       "8                      Popcorn Holder               爆米花袋     9   \n",
       "9  Pack Of 60 Pink Paisley Cake Cases           60個杯子蛋糕盒    10   \n",
       "\n",
       "                        Top 10 Values Top 10 Values_中文  \n",
       "0            Regency Cakestand 3 Tier            三層蛋糕盤  \n",
       "1  White Hanging Heart T-Light Holder           心型白色燈飾  \n",
       "2             Jumbo Bag Red Retrospot             紅色紙袋  \n",
       "3                       Party Bunting           派對裝飾旗子  \n",
       "4       Assorted Colour Bird Ornament              裝飾鳥  \n",
       "5                       Chilli Lights           辣椒造型燈泡  \n",
       "6      Picnic Basket Wicker 60 Pieces         60個杯子蛋糕盒  \n",
       "7                      Spotty Bunting          圓錐形派對裝飾  \n",
       "8       Doormat Keep Calm And Come In             門口地毯  \n",
       "9     Paper Chain Kit 50'S Christmas              聖誕裝飾  "
      ]
     },
     "execution_count": 32,
     "metadata": {},
     "output_type": "execute_result"
    }
   ],
   "source": [
    "Quantity_list = ['紅色紙袋', '滑翔機', '心型白色燈飾', '裝飾鳥', '72個杯子蛋糕盒',\n",
    "                 '手提燈', '粉紅色紙袋', '紅色保冷袋', '爆米花袋', '60個杯子蛋糕盒']\n",
    "Values_list = ['三層蛋糕盤', '心型白色燈飾', '紅色紙袋', '派對裝飾旗子', '裝飾鳥', \n",
    "               '辣椒造型燈泡', '60個杯子蛋糕盒', '圓錐形派對裝飾', '門口地毯', '聖誕裝飾']\n",
    "df = pd.DataFrame({'Top 10 Quantity':Top10Quan.index, 'Top 10 Quantity_中文':Quantity_list, 'Rank':list(range(1,11)), 'Top 10 Values':Top10Price.index, 'Top 10 Values_中文':Values_list}, index=None)\n",
    "df"
   ]
  },
  {
   "cell_type": "markdown",
   "metadata": {},
   "source": [
    "<img src='../img/Amount.png' style='zoom:30%'>"
   ]
  },
  {
   "cell_type": "markdown",
   "metadata": {},
   "source": [
    "----------------------------------------------------"
   ]
  },
  {
   "cell_type": "markdown",
   "metadata": {},
   "source": [
    "<img src='../img/Value.png' style='zoom:30%'>"
   ]
  },
  {
   "cell_type": "markdown",
   "metadata": {},
   "source": [
    "### 4.6 個別商品比較"
   ]
  },
  {
   "cell_type": "markdown",
   "metadata": {},
   "source": [
    "#### Jumbo Bag Red Retrospot : 紅色紙袋\n",
    "- 銷售量在八月達到高峰，且持續維持\n",
    "- 可能是九月之後國外節慶較多，像是十月的萬聖節、十一月的感恩節、十二月的聖誕節\n",
    "- 都需要有送禮的需求，因此紙袋銷量增加很多"
   ]
  },
  {
   "cell_type": "code",
   "execution_count": 33,
   "metadata": {},
   "outputs": [
    {
     "data": {
      "text/plain": [
       "[Text(0.5, 0, 'Total value of sales')]"
      ]
     },
     "execution_count": 33,
     "metadata": {},
     "output_type": "execute_result"
    },
    {
     "data": {
      "image/png": "[encoded data removed]",
      "text/plain": [
       "<Figure size 864x144 with 1 Axes>"
      ]
     },
     "metadata": {},
     "output_type": "display_data"
    }
   ],
   "source": [
    "fig,axs = plt.subplots(figsize = (12,2))\n",
    "abc = dataset[dataset['Description']=='Jumbo Bag Red Retrospot'].groupby(['Year_Month']).agg(sum)['Quantity']\n",
    "abc = pd.DataFrame({'Year_Month':abc.index, 'Quantity':abc.values})\n",
    "abc['index'] =  ['01', '02', '11', '12', '03', '04', '05', '06', '07', '08', '09', '10']\n",
    "abc = abc.sort_values(by=['index']).drop(['index'], axis=1).reset_index(drop=True)\n",
    "sns.barplot(x = abc['Year_Month'], y = abc['Quantity']).set(xlabel='Total value of sales')"
   ]
  },
  {
   "cell_type": "markdown",
   "metadata": {},
   "source": [
    "#### White Hanging Heart T-Light Holder : 心型白色燈飾\n",
    "- 可以明顯看出這個心形狀燈飾跟紙袋的圖就有不太一樣\n",
    "- 在11, 12月的購買數量就特別多\n",
    "- 推測可能是送給太太或女朋友的聖誕禮物"
   ]
  },
  {
   "cell_type": "code",
   "execution_count": 34,
   "metadata": {},
   "outputs": [
    {
     "data": {
      "text/plain": [
       "[Text(0.5, 0, 'Total value of sales')]"
      ]
     },
     "execution_count": 34,
     "metadata": {},
     "output_type": "execute_result"
    },
    {
     "data": {
      "image/png": "[encoded data removed]",
      "text/plain": [
       "<Figure size 864x144 with 1 Axes>"
      ]
     },
     "metadata": {},
     "output_type": "display_data"
    }
   ],
   "source": [
    "fig,axs = plt.subplots(figsize = (12,2))\n",
    "abc = dataset[dataset['Description']=='White Hanging Heart T-Light Holder'].groupby(['Year_Month']).agg(sum)['Quantity']\n",
    "abc = pd.DataFrame({'Year_Month':abc.index, 'Quantity':abc.values})\n",
    "abc['index'] =  ['01', '02', '11', '12', '03', '04', '05', '06', '07', '08', '09', '10']\n",
    "abc = abc.sort_values(by=['index']).drop(['index'], axis=1).reset_index(drop=True)\n",
    "sns.barplot(x = abc['Year_Month'], y = abc['Quantity']).set(xlabel='Total value of sales')"
   ]
  },
  {
   "cell_type": "markdown",
   "metadata": {},
   "source": [
    "#### Pack Of 72 Retrospot Cake Cases : 72個杯子蛋糕盒\n",
    "- 可以看到這個商品在3,11,12月的數量都都明顯高於其他月份\n",
    "- 每年的 3/17 是Saint Patrick's Day(聖派翠克節)，是英國人很重大的節日\n",
    "- 12月的聖誕節也是很重大的節日\n",
    "- 因為有重大的節日，就會舉辦派對，派對上都會有蛋糕，因此蛋糕盒的數量在3, 11, 12月會特別高"
   ]
  },
  {
   "cell_type": "code",
   "execution_count": 35,
   "metadata": {},
   "outputs": [
    {
     "data": {
      "text/plain": [
       "[Text(0.5, 0, 'Total value of sales')]"
      ]
     },
     "execution_count": 35,
     "metadata": {},
     "output_type": "execute_result"
    },
    {
     "data": {
      "image/png": "[encoded data removed]",
      "text/plain": [
       "<Figure size 864x144 with 1 Axes>"
      ]
     },
     "metadata": {},
     "output_type": "display_data"
    }
   ],
   "source": [
    "fig,axs = plt.subplots(figsize = (12,2))\n",
    "abc = dataset[dataset['Description']=='Pack Of 72 Retrospot Cake Cases'].groupby(['Year_Month']).agg(sum)['Quantity']\n",
    "abc = pd.DataFrame({'Year_Month':abc.index, 'Quantity':abc.values})\n",
    "abc['index'] =  ['01', '02', '11', '12', '03', '04', '05', '06', '07', '08', '09', '10']\n",
    "abc = abc.sort_values(by=['index']).drop(['index'], axis=1).reset_index(drop=True)\n",
    "sns.barplot(x = abc['Year_Month'], y = abc['Quantity']).set(xlabel='Total value of sales')"
   ]
  },
  {
   "cell_type": "markdown",
   "metadata": {},
   "source": [
    "<a href='#Online-Retail'>Back To Top</a>"
   ]
  },
  {
   "cell_type": "markdown",
   "metadata": {},
   "source": [
    "## 5. Apriori Algorithm"
   ]
  },
  {
   "cell_type": "markdown",
   "metadata": {},
   "source": [
    "### 5.1 Definition\n",
    "#### A. Support (支持度) : 意思是某特定種類在所有種類的比重\n",
    "```\n",
    "例如 : 我有100名會員，其中有20名購買過雨具，則support(雨具) = 20% 。\n",
    "```\n",
    "#### B. Confidence (信賴度) : 意思是某A種類中，含有某B種類的比重\n",
    "```\n",
    "例如 :　我有100名會員，其中40人買過涼鞋，而這40買過涼鞋者當中，又另有10人買過雨具，\n",
    "則confidence(涼鞋->雨具) = 10/40 = 25% 。\n",
    "```\n",
    "#### C. Lift (提升度) : 意思為某兩者關係的比值\n",
    "```\n",
    "如果小於1代表兩者是負相關，等於1表示兩者獨立，大於1表示兩者正相關，\n",
    "公式為confidence(A->B) / support(B) \n",
    "帶入上述例子可表示成 lift(涼鞋->雨具) = Confidence/Support　=　25/20 = 1.25 \n",
    "```"
   ]
  },
  {
   "cell_type": "code",
   "execution_count": 36,
   "metadata": {},
   "outputs": [],
   "source": [
    "df = dataset.copy()\n",
    "df['Description'] = df['Description'].str.strip()"
   ]
  },
  {
   "cell_type": "markdown",
   "metadata": {},
   "source": [
    "### 其他國家購買\n",
    "因為這個資料是英國線上零售的數據，所以這張圖是除了英國以外的國家的交易筆數"
   ]
  },
  {
   "cell_type": "code",
   "execution_count": 37,
   "metadata": {
    "scrolled": true
   },
   "outputs": [
    {
     "data": {
      "text/plain": [
       "<matplotlib.axes._subplots.AxesSubplot at 0x1a2d49ecc0>"
      ]
     },
     "execution_count": 37,
     "metadata": {},
     "output_type": "execute_result"
    },
    {
     "data": {
      "image/png": "[encoded data removed]",
      "text/plain": [
       "<Figure size 1440x288 with 1 Axes>"
      ]
     },
     "metadata": {},
     "output_type": "display_data"
    }
   ],
   "source": [
    "fig,axs = plt.subplots(figsize = (20,4))\n",
    "other_country = df[df['Country']!='United Kingdom'].groupby(['Country'])['InvoiceNo'].count().sort_values(ascending=False)[0:15]\n",
    "sns.barplot(x = other_country.index, y = other_country.values)"
   ]
  },
  {
   "cell_type": "markdown",
   "metadata": {},
   "source": [
    "---"
   ]
  },
  {
   "cell_type": "markdown",
   "metadata": {},
   "source": [
    "## 5.2 France"
   ]
  },
  {
   "cell_type": "code",
   "execution_count": 38,
   "metadata": {},
   "outputs": [],
   "source": [
    "basket = (df[df['Country'] ==\"France\"]\n",
    ".pivot_table(index=\"InvoiceNo\", columns=\"Description\", values=\"Quantity\", aggfunc=\"sum\",fill_value=0))"
   ]
  },
  {
   "cell_type": "code",
   "execution_count": 39,
   "metadata": {},
   "outputs": [
    {
     "data": {
      "text/html": [
       "<div>\n",
       "<style scoped>\n",
       "    .dataframe tbody tr th:only-of-type {\n",
       "        vertical-align: middle;\n",
       "    }\n",
       "\n",
       "    .dataframe tbody tr th {\n",
       "        vertical-align: top;\n",
       "    }\n",
       "\n",
       "    .dataframe thead th {\n",
       "        text-align: right;\n",
       "    }\n",
       "</style>\n",
       "<table border=\"1\" class=\"dataframe\">\n",
       "  <thead>\n",
       "    <tr style=\"text-align: right;\">\n",
       "      <th>Description</th>\n",
       "      <th>10 Colour Spaceboy Pen</th>\n",
       "      <th>12 Coloured Party Balloons</th>\n",
       "      <th>12 Egg House Painted Wood</th>\n",
       "      <th>12 Message Cards With Envelopes</th>\n",
       "      <th>12 Pencil Small Tube Woodland</th>\n",
       "      <th>12 Pencils Small Tube Red Retrospot</th>\n",
       "      <th>12 Pencils Small Tube Skull</th>\n",
       "      <th>12 Pencils Tall Tube Posy</th>\n",
       "      <th>12 Pencils Tall Tube Red Retrospot</th>\n",
       "      <th>12 Pencils Tall Tube Woodland</th>\n",
       "      <th>...</th>\n",
       "      <th>Wrap Suki And Friends</th>\n",
       "      <th>Wrap Vintage Petals  Design</th>\n",
       "      <th>Yellow Coat Rack Paris Fashion</th>\n",
       "      <th>Yellow Giant Garden Thermometer</th>\n",
       "      <th>Zinc  Star T-Light Holder</th>\n",
       "      <th>Zinc Folkart Sleigh Bells</th>\n",
       "      <th>Zinc Herb Garden Container</th>\n",
       "      <th>Zinc Metal Heart Decoration</th>\n",
       "      <th>Zinc T-Light Holder Star Large</th>\n",
       "      <th>Zinc T-Light Holder Stars Small</th>\n",
       "    </tr>\n",
       "    <tr>\n",
       "      <th>InvoiceNo</th>\n",
       "      <th></th>\n",
       "      <th></th>\n",
       "      <th></th>\n",
       "      <th></th>\n",
       "      <th></th>\n",
       "      <th></th>\n",
       "      <th></th>\n",
       "      <th></th>\n",
       "      <th></th>\n",
       "      <th></th>\n",
       "      <th></th>\n",
       "      <th></th>\n",
       "      <th></th>\n",
       "      <th></th>\n",
       "      <th></th>\n",
       "      <th></th>\n",
       "      <th></th>\n",
       "      <th></th>\n",
       "      <th></th>\n",
       "      <th></th>\n",
       "      <th></th>\n",
       "    </tr>\n",
       "  </thead>\n",
       "  <tbody>\n",
       "    <tr>\n",
       "      <td>536370</td>\n",
       "      <td>0</td>\n",
       "      <td>0</td>\n",
       "      <td>0</td>\n",
       "      <td>0</td>\n",
       "      <td>0</td>\n",
       "      <td>0</td>\n",
       "      <td>0</td>\n",
       "      <td>0</td>\n",
       "      <td>0</td>\n",
       "      <td>0</td>\n",
       "      <td>...</td>\n",
       "      <td>0</td>\n",
       "      <td>0</td>\n",
       "      <td>0</td>\n",
       "      <td>0</td>\n",
       "      <td>0</td>\n",
       "      <td>0</td>\n",
       "      <td>0</td>\n",
       "      <td>0</td>\n",
       "      <td>0</td>\n",
       "      <td>0</td>\n",
       "    </tr>\n",
       "    <tr>\n",
       "      <td>536852</td>\n",
       "      <td>0</td>\n",
       "      <td>0</td>\n",
       "      <td>0</td>\n",
       "      <td>0</td>\n",
       "      <td>0</td>\n",
       "      <td>0</td>\n",
       "      <td>0</td>\n",
       "      <td>0</td>\n",
       "      <td>0</td>\n",
       "      <td>0</td>\n",
       "      <td>...</td>\n",
       "      <td>0</td>\n",
       "      <td>0</td>\n",
       "      <td>0</td>\n",
       "      <td>0</td>\n",
       "      <td>0</td>\n",
       "      <td>0</td>\n",
       "      <td>0</td>\n",
       "      <td>0</td>\n",
       "      <td>0</td>\n",
       "      <td>0</td>\n",
       "    </tr>\n",
       "    <tr>\n",
       "      <td>536974</td>\n",
       "      <td>0</td>\n",
       "      <td>0</td>\n",
       "      <td>0</td>\n",
       "      <td>0</td>\n",
       "      <td>0</td>\n",
       "      <td>0</td>\n",
       "      <td>0</td>\n",
       "      <td>0</td>\n",
       "      <td>0</td>\n",
       "      <td>0</td>\n",
       "      <td>...</td>\n",
       "      <td>0</td>\n",
       "      <td>0</td>\n",
       "      <td>0</td>\n",
       "      <td>0</td>\n",
       "      <td>0</td>\n",
       "      <td>0</td>\n",
       "      <td>0</td>\n",
       "      <td>0</td>\n",
       "      <td>0</td>\n",
       "      <td>0</td>\n",
       "    </tr>\n",
       "    <tr>\n",
       "      <td>537065</td>\n",
       "      <td>0</td>\n",
       "      <td>0</td>\n",
       "      <td>0</td>\n",
       "      <td>0</td>\n",
       "      <td>0</td>\n",
       "      <td>0</td>\n",
       "      <td>0</td>\n",
       "      <td>0</td>\n",
       "      <td>0</td>\n",
       "      <td>0</td>\n",
       "      <td>...</td>\n",
       "      <td>0</td>\n",
       "      <td>0</td>\n",
       "      <td>0</td>\n",
       "      <td>0</td>\n",
       "      <td>0</td>\n",
       "      <td>0</td>\n",
       "      <td>0</td>\n",
       "      <td>0</td>\n",
       "      <td>0</td>\n",
       "      <td>0</td>\n",
       "    </tr>\n",
       "    <tr>\n",
       "      <td>537463</td>\n",
       "      <td>0</td>\n",
       "      <td>0</td>\n",
       "      <td>0</td>\n",
       "      <td>0</td>\n",
       "      <td>0</td>\n",
       "      <td>0</td>\n",
       "      <td>0</td>\n",
       "      <td>0</td>\n",
       "      <td>0</td>\n",
       "      <td>0</td>\n",
       "      <td>...</td>\n",
       "      <td>0</td>\n",
       "      <td>0</td>\n",
       "      <td>0</td>\n",
       "      <td>0</td>\n",
       "      <td>0</td>\n",
       "      <td>0</td>\n",
       "      <td>0</td>\n",
       "      <td>0</td>\n",
       "      <td>0</td>\n",
       "      <td>0</td>\n",
       "    </tr>\n",
       "  </tbody>\n",
       "</table>\n",
       "<p>5 rows × 1527 columns</p>\n",
       "</div>"
      ],
      "text/plain": [
       "Description  10 Colour Spaceboy Pen  12 Coloured Party Balloons  \\\n",
       "InvoiceNo                                                         \n",
       "536370                            0                           0   \n",
       "536852                            0                           0   \n",
       "536974                            0                           0   \n",
       "537065                            0                           0   \n",
       "537463                            0                           0   \n",
       "\n",
       "Description  12 Egg House Painted Wood  12 Message Cards With Envelopes  \\\n",
       "InvoiceNo                                                                 \n",
       "536370                               0                                0   \n",
       "536852                               0                                0   \n",
       "536974                               0                                0   \n",
       "537065                               0                                0   \n",
       "537463                               0                                0   \n",
       "\n",
       "Description  12 Pencil Small Tube Woodland  \\\n",
       "InvoiceNo                                    \n",
       "536370                                   0   \n",
       "536852                                   0   \n",
       "536974                                   0   \n",
       "537065                                   0   \n",
       "537463                                   0   \n",
       "\n",
       "Description  12 Pencils Small Tube Red Retrospot  12 Pencils Small Tube Skull  \\\n",
       "InvoiceNo                                                                       \n",
       "536370                                         0                            0   \n",
       "536852                                         0                            0   \n",
       "536974                                         0                            0   \n",
       "537065                                         0                            0   \n",
       "537463                                         0                            0   \n",
       "\n",
       "Description  12 Pencils Tall Tube Posy  12 Pencils Tall Tube Red Retrospot  \\\n",
       "InvoiceNo                                                                    \n",
       "536370                               0                                   0   \n",
       "536852                               0                                   0   \n",
       "536974                               0                                   0   \n",
       "537065                               0                                   0   \n",
       "537463                               0                                   0   \n",
       "\n",
       "Description  12 Pencils Tall Tube Woodland  ...  Wrap Suki And Friends  \\\n",
       "InvoiceNo                                   ...                          \n",
       "536370                                   0  ...                      0   \n",
       "536852                                   0  ...                      0   \n",
       "536974                                   0  ...                      0   \n",
       "537065                                   0  ...                      0   \n",
       "537463                                   0  ...                      0   \n",
       "\n",
       "Description  Wrap Vintage Petals  Design  Yellow Coat Rack Paris Fashion  \\\n",
       "InvoiceNo                                                                  \n",
       "536370                                 0                               0   \n",
       "536852                                 0                               0   \n",
       "536974                                 0                               0   \n",
       "537065                                 0                               0   \n",
       "537463                                 0                               0   \n",
       "\n",
       "Description  Yellow Giant Garden Thermometer  Zinc  Star T-Light Holder  \\\n",
       "InvoiceNo                                                                 \n",
       "536370                                     0                          0   \n",
       "536852                                     0                          0   \n",
       "536974                                     0                          0   \n",
       "537065                                     0                          0   \n",
       "537463                                     0                          0   \n",
       "\n",
       "Description  Zinc Folkart Sleigh Bells  Zinc Herb Garden Container  \\\n",
       "InvoiceNo                                                            \n",
       "536370                               0                           0   \n",
       "536852                               0                           0   \n",
       "536974                               0                           0   \n",
       "537065                               0                           0   \n",
       "537463                               0                           0   \n",
       "\n",
       "Description  Zinc Metal Heart Decoration  Zinc T-Light Holder Star Large  \\\n",
       "InvoiceNo                                                                  \n",
       "536370                                 0                               0   \n",
       "536852                                 0                               0   \n",
       "536974                                 0                               0   \n",
       "537065                                 0                               0   \n",
       "537463                                 0                               0   \n",
       "\n",
       "Description  Zinc T-Light Holder Stars Small  \n",
       "InvoiceNo                                     \n",
       "536370                                     0  \n",
       "536852                                     0  \n",
       "536974                                     0  \n",
       "537065                                     0  \n",
       "537463                                     0  \n",
       "\n",
       "[5 rows x 1527 columns]"
      ]
     },
     "execution_count": 39,
     "metadata": {},
     "output_type": "execute_result"
    }
   ],
   "source": [
    "basket.head()"
   ]
  },
  {
   "cell_type": "code",
   "execution_count": 40,
   "metadata": {
    "scrolled": true
   },
   "outputs": [
    {
     "data": {
      "text/plain": [
       "Description\n",
       "Rabbit Night Light               2806\n",
       "Mini Paint Set Vintage           2196\n",
       "Set/6 Red Spotty Paper Cups      1260\n",
       "Red Toadstool Led Night Light    1243\n",
       "Assorted Colour Bird Ornament    1204\n",
       "dtype: int64"
      ]
     },
     "execution_count": 40,
     "metadata": {},
     "output_type": "execute_result"
    }
   ],
   "source": [
    "basket.sum().sort_values(ascending =False).head()"
   ]
  },
  {
   "cell_type": "code",
   "execution_count": 41,
   "metadata": {
    "scrolled": true
   },
   "outputs": [
    {
     "data": {
      "text/plain": [
       "Description\n",
       "Red Toadstool Led Night Light       67\n",
       "Plasters In Tin Woodland Animals    66\n",
       "Rabbit Night Light                  65\n",
       "Plasters In Tin Circus Parade       62\n",
       "Lunch Bag Red Retrospot             60\n",
       "dtype: int64"
      ]
     },
     "execution_count": 41,
     "metadata": {},
     "output_type": "execute_result"
    }
   ],
   "source": [
    "# one hot encoding\n",
    "def encode_units(x):\n",
    "    if x <= 0:\n",
    "        return 0\n",
    "    if x >= 1:\n",
    "        return 1\n",
    "basket_sets = basket.applymap(encode_units)\n",
    "basket_sets.sum().sort_values(ascending =False).head()"
   ]
  },
  {
   "cell_type": "code",
   "execution_count": 42,
   "metadata": {},
   "outputs": [
    {
     "name": "stdout",
     "output_type": "stream",
     "text": [
      "34\n"
     ]
    }
   ],
   "source": [
    "frequent_itemsets = apriori(basket_sets, min_support=0.07, use_colnames=True)\n",
    "rules = association_rules(frequent_itemsets, metric=\"lift\", min_threshold=1)\n",
    "print(rules.shape[0])"
   ]
  },
  {
   "cell_type": "code",
   "execution_count": 43,
   "metadata": {},
   "outputs": [],
   "source": [
    "rules_France = rules.copy()\n",
    "rules_France.drop(['antecedent support', 'consequent support', 'leverage', 'conviction'], axis = 1, inplace=True)"
   ]
  },
  {
   "cell_type": "markdown",
   "metadata": {},
   "source": [
    "## 說明\n",
    "拿第一筆資料來看：{紅色紙巾+紅色紙杯} => {紅色紙盤} 來看\n",
    "- Support：三者品項同時出現佔所有商品品項11%\n",
    "- Confidence：有買 {紅色紙巾+紅色紙杯} 的人中，也會買 {紅色紙盤} 的人佔了97%\n",
    "- Lift：買了 {紅色紙巾+紅色紙杯} 的人也會 {紅色紙盤} 的提升度 為7.18\n",
    "\n",
    "（可以這樣理解提升度：將兩種物品捆綁銷售的結果，比分別銷售兩種物品的結果提升的倍數）"
   ]
  },
  {
   "cell_type": "markdown",
   "metadata": {},
   "source": [
    "<img src='../img/France.png' style='zoom:30%'>"
   ]
  },
  {
   "cell_type": "code",
   "execution_count": 44,
   "metadata": {},
   "outputs": [
    {
     "data": {
      "text/html": [
       "<div>\n",
       "<style scoped>\n",
       "    .dataframe tbody tr th:only-of-type {\n",
       "        vertical-align: middle;\n",
       "    }\n",
       "\n",
       "    .dataframe tbody tr th {\n",
       "        vertical-align: top;\n",
       "    }\n",
       "\n",
       "    .dataframe thead th {\n",
       "        text-align: right;\n",
       "    }\n",
       "</style>\n",
       "<table border=\"1\" class=\"dataframe\">\n",
       "  <thead>\n",
       "    <tr style=\"text-align: right;\">\n",
       "      <th></th>\n",
       "      <th>antecedents</th>\n",
       "      <th>consequents</th>\n",
       "      <th>support</th>\n",
       "      <th>confidence</th>\n",
       "      <th>lift</th>\n",
       "    </tr>\n",
       "  </thead>\n",
       "  <tbody>\n",
       "    <tr>\n",
       "      <td>30</td>\n",
       "      <td>(Set/6 Red Spotty Paper Plates, Set/20 Red Retrospot Paper Napkins)</td>\n",
       "      <td>(Set/6 Red Spotty Paper Cups)</td>\n",
       "      <td>0.11</td>\n",
       "      <td>0.97</td>\n",
       "      <td>6.64</td>\n",
       "    </tr>\n",
       "    <tr>\n",
       "      <td>28</td>\n",
       "      <td>(Set/6 Red Spotty Paper Cups, Set/20 Red Retrospot Paper Napkins)</td>\n",
       "      <td>(Set/6 Red Spotty Paper Plates)</td>\n",
       "      <td>0.11</td>\n",
       "      <td>0.97</td>\n",
       "      <td>7.18</td>\n",
       "    </tr>\n",
       "    <tr>\n",
       "      <td>21</td>\n",
       "      <td>(Set/6 Red Spotty Paper Plates)</td>\n",
       "      <td>(Set/6 Red Spotty Paper Cups)</td>\n",
       "      <td>0.13</td>\n",
       "      <td>0.96</td>\n",
       "      <td>6.53</td>\n",
       "    </tr>\n",
       "    <tr>\n",
       "      <td>20</td>\n",
       "      <td>(Set/6 Red Spotty Paper Cups)</td>\n",
       "      <td>(Set/6 Red Spotty Paper Plates)</td>\n",
       "      <td>0.13</td>\n",
       "      <td>0.89</td>\n",
       "      <td>6.53</td>\n",
       "    </tr>\n",
       "    <tr>\n",
       "      <td>0</td>\n",
       "      <td>(Alarm Clock Bakelike Red)</td>\n",
       "      <td>(Alarm Clock Bakelike Green)</td>\n",
       "      <td>0.08</td>\n",
       "      <td>0.82</td>\n",
       "      <td>8.74</td>\n",
       "    </tr>\n",
       "    <tr>\n",
       "      <td>1</td>\n",
       "      <td>(Alarm Clock Bakelike Green)</td>\n",
       "      <td>(Alarm Clock Bakelike Red)</td>\n",
       "      <td>0.08</td>\n",
       "      <td>0.82</td>\n",
       "      <td>8.74</td>\n",
       "    </tr>\n",
       "    <tr>\n",
       "      <td>29</td>\n",
       "      <td>(Set/6 Red Spotty Paper Cups, Set/6 Red Spotty Paper Plates)</td>\n",
       "      <td>(Set/20 Red Retrospot Paper Napkins)</td>\n",
       "      <td>0.11</td>\n",
       "      <td>0.81</td>\n",
       "      <td>5.72</td>\n",
       "    </tr>\n",
       "    <tr>\n",
       "      <td>19</td>\n",
       "      <td>(Set/6 Red Spotty Paper Plates)</td>\n",
       "      <td>(Set/20 Red Retrospot Paper Napkins)</td>\n",
       "      <td>0.11</td>\n",
       "      <td>0.80</td>\n",
       "      <td>5.63</td>\n",
       "    </tr>\n",
       "    <tr>\n",
       "      <td>23</td>\n",
       "      <td>(Plasters In Tin Spaceboy, Plasters In Tin Circus Parade)</td>\n",
       "      <td>(Plasters In Tin Woodland Animals)</td>\n",
       "      <td>0.07</td>\n",
       "      <td>0.79</td>\n",
       "      <td>4.31</td>\n",
       "    </tr>\n",
       "    <tr>\n",
       "      <td>14</td>\n",
       "      <td>(Plasters In Tin Spaceboy)</td>\n",
       "      <td>(Plasters In Tin Woodland Animals)</td>\n",
       "      <td>0.11</td>\n",
       "      <td>0.78</td>\n",
       "      <td>4.29</td>\n",
       "    </tr>\n",
       "  </tbody>\n",
       "</table>\n",
       "</div>"
      ],
      "text/plain": [
       "                                                            antecedents  \\\n",
       "30  (Set/6 Red Spotty Paper Plates, Set/20 Red Retrospot Paper Napkins)   \n",
       "28    (Set/6 Red Spotty Paper Cups, Set/20 Red Retrospot Paper Napkins)   \n",
       "21                                      (Set/6 Red Spotty Paper Plates)   \n",
       "20                                        (Set/6 Red Spotty Paper Cups)   \n",
       "0                                            (Alarm Clock Bakelike Red)   \n",
       "1                                          (Alarm Clock Bakelike Green)   \n",
       "29         (Set/6 Red Spotty Paper Cups, Set/6 Red Spotty Paper Plates)   \n",
       "19                                      (Set/6 Red Spotty Paper Plates)   \n",
       "23            (Plasters In Tin Spaceboy, Plasters In Tin Circus Parade)   \n",
       "14                                           (Plasters In Tin Spaceboy)   \n",
       "\n",
       "                             consequents  support  confidence  lift  \n",
       "30         (Set/6 Red Spotty Paper Cups)     0.11        0.97  6.64  \n",
       "28       (Set/6 Red Spotty Paper Plates)     0.11        0.97  7.18  \n",
       "21         (Set/6 Red Spotty Paper Cups)     0.13        0.96  6.53  \n",
       "20       (Set/6 Red Spotty Paper Plates)     0.13        0.89  6.53  \n",
       "0           (Alarm Clock Bakelike Green)     0.08        0.82  8.74  \n",
       "1             (Alarm Clock Bakelike Red)     0.08        0.82  8.74  \n",
       "29  (Set/20 Red Retrospot Paper Napkins)     0.11        0.81  5.72  \n",
       "19  (Set/20 Red Retrospot Paper Napkins)     0.11        0.80  5.63  \n",
       "23    (Plasters In Tin Woodland Animals)     0.07        0.79  4.31  \n",
       "14    (Plasters In Tin Woodland Animals)     0.11        0.78  4.29  "
      ]
     },
     "execution_count": 44,
     "metadata": {},
     "output_type": "execute_result"
    }
   ],
   "source": [
    "rules_France.sort_values(by=['confidence'],ascending=False).head(10)"
   ]
  },
  {
   "cell_type": "code",
   "execution_count": 45,
   "metadata": {
    "scrolled": false
   },
   "outputs": [
    {
     "data": {
      "text/html": [
       "<div>\n",
       "<style scoped>\n",
       "    .dataframe tbody tr th:only-of-type {\n",
       "        vertical-align: middle;\n",
       "    }\n",
       "\n",
       "    .dataframe tbody tr th {\n",
       "        vertical-align: top;\n",
       "    }\n",
       "\n",
       "    .dataframe thead th {\n",
       "        text-align: right;\n",
       "    }\n",
       "</style>\n",
       "<table border=\"1\" class=\"dataframe\">\n",
       "  <thead>\n",
       "    <tr style=\"text-align: right;\">\n",
       "      <th></th>\n",
       "      <th>antecedents</th>\n",
       "      <th>consequents</th>\n",
       "      <th>support</th>\n",
       "      <th>confidence</th>\n",
       "      <th>lift</th>\n",
       "    </tr>\n",
       "  </thead>\n",
       "  <tbody>\n",
       "    <tr>\n",
       "      <td>0</td>\n",
       "      <td>(Alarm Clock Bakelike Red)</td>\n",
       "      <td>(Alarm Clock Bakelike Green)</td>\n",
       "      <td>0.08</td>\n",
       "      <td>0.82</td>\n",
       "      <td>8.74</td>\n",
       "    </tr>\n",
       "    <tr>\n",
       "      <td>1</td>\n",
       "      <td>(Alarm Clock Bakelike Green)</td>\n",
       "      <td>(Alarm Clock Bakelike Red)</td>\n",
       "      <td>0.08</td>\n",
       "      <td>0.82</td>\n",
       "      <td>8.74</td>\n",
       "    </tr>\n",
       "    <tr>\n",
       "      <td>20</td>\n",
       "      <td>(Set/6 Red Spotty Paper Cups)</td>\n",
       "      <td>(Set/6 Red Spotty Paper Plates)</td>\n",
       "      <td>0.13</td>\n",
       "      <td>0.89</td>\n",
       "      <td>6.53</td>\n",
       "    </tr>\n",
       "    <tr>\n",
       "      <td>21</td>\n",
       "      <td>(Set/6 Red Spotty Paper Plates)</td>\n",
       "      <td>(Set/6 Red Spotty Paper Cups)</td>\n",
       "      <td>0.13</td>\n",
       "      <td>0.96</td>\n",
       "      <td>6.53</td>\n",
       "    </tr>\n",
       "    <tr>\n",
       "      <td>28</td>\n",
       "      <td>(Set/6 Red Spotty Paper Cups, Set/20 Red Retrospot Paper Napkins)</td>\n",
       "      <td>(Set/6 Red Spotty Paper Plates)</td>\n",
       "      <td>0.11</td>\n",
       "      <td>0.97</td>\n",
       "      <td>7.18</td>\n",
       "    </tr>\n",
       "    <tr>\n",
       "      <td>30</td>\n",
       "      <td>(Set/6 Red Spotty Paper Plates, Set/20 Red Retrospot Paper Napkins)</td>\n",
       "      <td>(Set/6 Red Spotty Paper Cups)</td>\n",
       "      <td>0.11</td>\n",
       "      <td>0.97</td>\n",
       "      <td>6.64</td>\n",
       "    </tr>\n",
       "  </tbody>\n",
       "</table>\n",
       "</div>"
      ],
      "text/plain": [
       "                                                            antecedents  \\\n",
       "0                                            (Alarm Clock Bakelike Red)   \n",
       "1                                          (Alarm Clock Bakelike Green)   \n",
       "20                                        (Set/6 Red Spotty Paper Cups)   \n",
       "21                                      (Set/6 Red Spotty Paper Plates)   \n",
       "28    (Set/6 Red Spotty Paper Cups, Set/20 Red Retrospot Paper Napkins)   \n",
       "30  (Set/6 Red Spotty Paper Plates, Set/20 Red Retrospot Paper Napkins)   \n",
       "\n",
       "                        consequents  support  confidence  lift  \n",
       "0      (Alarm Clock Bakelike Green)     0.08        0.82  8.74  \n",
       "1        (Alarm Clock Bakelike Red)     0.08        0.82  8.74  \n",
       "20  (Set/6 Red Spotty Paper Plates)     0.13        0.89  6.53  \n",
       "21    (Set/6 Red Spotty Paper Cups)     0.13        0.96  6.53  \n",
       "28  (Set/6 Red Spotty Paper Plates)     0.11        0.97  7.18  \n",
       "30    (Set/6 Red Spotty Paper Cups)     0.11        0.97  6.64  "
      ]
     },
     "execution_count": 45,
     "metadata": {},
     "output_type": "execute_result"
    }
   ],
   "source": [
    "rules_France[ (rules_France['lift'] >= 6) &\n",
    "       (rules_France['confidence'] >= 0.8)]"
   ]
  },
  {
   "cell_type": "code",
   "execution_count": 46,
   "metadata": {},
   "outputs": [
    {
     "name": "stderr",
     "output_type": "stream",
     "text": [
      "/Users/linnianyi/anaconda3/lib/python3.7/site-packages/networkx/drawing/nx_pylab.py:579: MatplotlibDeprecationWarning: \n",
      "The iterable function was deprecated in Matplotlib 3.1 and will be removed in 3.3. Use np.iterable instead.\n",
      "  if not cb.iterable(width):\n"
     ]
    },
    {
     "data": {
      "image/png": "[encoded data removed]",
      "text/plain": [
       "<Figure size 2520x3816 with 1 Axes>"
      ]
     },
     "metadata": {},
     "output_type": "display_data"
    }
   ],
   "source": [
    "fig, ax=plt.subplots(figsize=(35,53))\n",
    "GA=nx.from_pandas_edgelist(rules,source='antecedents',target='consequents')\n",
    "nx.draw(GA,with_labels=True)\n",
    "plt.savefig(\"../output/France.png\")\n",
    "plt.show()"
   ]
  },
  {
   "cell_type": "markdown",
   "metadata": {},
   "source": [
    "### Confidence前十名 \n",
    "1. 紅色紙巾, 紅色紙杯, 紅色紙盤\n",
    "2. 綠色鬧鐘, 紅色鬧鐘\n",
    "3. 馬戲團OK繃, 太空人OK繃, 森林動物OK繃"
   ]
  },
  {
   "cell_type": "markdown",
   "metadata": {},
   "source": [
    "---"
   ]
  },
  {
   "cell_type": "markdown",
   "metadata": {},
   "source": [
    "## 5.3 Germany"
   ]
  },
  {
   "cell_type": "code",
   "execution_count": 47,
   "metadata": {},
   "outputs": [],
   "source": [
    "basket2 = (df[df['Country'] ==\"Germany\"]\n",
    ".pivot_table(index=\"InvoiceNo\", columns=\"Description\", values=\"Quantity\", aggfunc=\"sum\",fill_value=0))"
   ]
  },
  {
   "cell_type": "code",
   "execution_count": 48,
   "metadata": {},
   "outputs": [
    {
     "data": {
      "text/html": [
       "<div>\n",
       "<style scoped>\n",
       "    .dataframe tbody tr th:only-of-type {\n",
       "        vertical-align: middle;\n",
       "    }\n",
       "\n",
       "    .dataframe tbody tr th {\n",
       "        vertical-align: top;\n",
       "    }\n",
       "\n",
       "    .dataframe thead th {\n",
       "        text-align: right;\n",
       "    }\n",
       "</style>\n",
       "<table border=\"1\" class=\"dataframe\">\n",
       "  <thead>\n",
       "    <tr style=\"text-align: right;\">\n",
       "      <th>Description</th>\n",
       "      <th>10 Colour Spaceboy Pen</th>\n",
       "      <th>12 Coloured Party Balloons</th>\n",
       "      <th>12 Ivory Rose Peg Place Settings</th>\n",
       "      <th>12 Message Cards With Envelopes</th>\n",
       "      <th>12 Pencil Small Tube Woodland</th>\n",
       "      <th>12 Pencils Small Tube Red Retrospot</th>\n",
       "      <th>12 Pencils Small Tube Skull</th>\n",
       "      <th>12 Pencils Tall Tube Posy</th>\n",
       "      <th>12 Pencils Tall Tube Red Retrospot</th>\n",
       "      <th>12 Pencils Tall Tube Skulls</th>\n",
       "      <th>...</th>\n",
       "      <th>Yuletide Images Gift Wrap Set</th>\n",
       "      <th>Zinc  Heart T-Light Holder</th>\n",
       "      <th>Zinc  Star T-Light Holder</th>\n",
       "      <th>Zinc Box Sign Home</th>\n",
       "      <th>Zinc Folkart Sleigh Bells</th>\n",
       "      <th>Zinc Heart Lattice T-Light Holder</th>\n",
       "      <th>Zinc Metal Heart Decoration</th>\n",
       "      <th>Zinc T-Light Holder Star Large</th>\n",
       "      <th>Zinc T-Light Holder Stars Small</th>\n",
       "      <th>Zinc Willie Winkie  Candle Stick</th>\n",
       "    </tr>\n",
       "    <tr>\n",
       "      <th>InvoiceNo</th>\n",
       "      <th></th>\n",
       "      <th></th>\n",
       "      <th></th>\n",
       "      <th></th>\n",
       "      <th></th>\n",
       "      <th></th>\n",
       "      <th></th>\n",
       "      <th></th>\n",
       "      <th></th>\n",
       "      <th></th>\n",
       "      <th></th>\n",
       "      <th></th>\n",
       "      <th></th>\n",
       "      <th></th>\n",
       "      <th></th>\n",
       "      <th></th>\n",
       "      <th></th>\n",
       "      <th></th>\n",
       "      <th></th>\n",
       "      <th></th>\n",
       "      <th></th>\n",
       "    </tr>\n",
       "  </thead>\n",
       "  <tbody>\n",
       "    <tr>\n",
       "      <td>536527</td>\n",
       "      <td>0</td>\n",
       "      <td>0</td>\n",
       "      <td>0</td>\n",
       "      <td>0</td>\n",
       "      <td>0</td>\n",
       "      <td>0</td>\n",
       "      <td>0</td>\n",
       "      <td>0</td>\n",
       "      <td>0</td>\n",
       "      <td>0</td>\n",
       "      <td>...</td>\n",
       "      <td>0</td>\n",
       "      <td>0</td>\n",
       "      <td>0</td>\n",
       "      <td>0</td>\n",
       "      <td>0</td>\n",
       "      <td>0</td>\n",
       "      <td>0</td>\n",
       "      <td>0</td>\n",
       "      <td>0</td>\n",
       "      <td>0</td>\n",
       "    </tr>\n",
       "    <tr>\n",
       "      <td>536840</td>\n",
       "      <td>0</td>\n",
       "      <td>0</td>\n",
       "      <td>0</td>\n",
       "      <td>0</td>\n",
       "      <td>0</td>\n",
       "      <td>0</td>\n",
       "      <td>0</td>\n",
       "      <td>0</td>\n",
       "      <td>0</td>\n",
       "      <td>0</td>\n",
       "      <td>...</td>\n",
       "      <td>0</td>\n",
       "      <td>0</td>\n",
       "      <td>0</td>\n",
       "      <td>0</td>\n",
       "      <td>0</td>\n",
       "      <td>0</td>\n",
       "      <td>0</td>\n",
       "      <td>0</td>\n",
       "      <td>0</td>\n",
       "      <td>0</td>\n",
       "    </tr>\n",
       "    <tr>\n",
       "      <td>536861</td>\n",
       "      <td>0</td>\n",
       "      <td>0</td>\n",
       "      <td>0</td>\n",
       "      <td>0</td>\n",
       "      <td>0</td>\n",
       "      <td>0</td>\n",
       "      <td>0</td>\n",
       "      <td>0</td>\n",
       "      <td>0</td>\n",
       "      <td>0</td>\n",
       "      <td>...</td>\n",
       "      <td>0</td>\n",
       "      <td>0</td>\n",
       "      <td>0</td>\n",
       "      <td>0</td>\n",
       "      <td>0</td>\n",
       "      <td>0</td>\n",
       "      <td>0</td>\n",
       "      <td>0</td>\n",
       "      <td>0</td>\n",
       "      <td>0</td>\n",
       "    </tr>\n",
       "    <tr>\n",
       "      <td>536967</td>\n",
       "      <td>0</td>\n",
       "      <td>0</td>\n",
       "      <td>0</td>\n",
       "      <td>0</td>\n",
       "      <td>0</td>\n",
       "      <td>0</td>\n",
       "      <td>0</td>\n",
       "      <td>0</td>\n",
       "      <td>0</td>\n",
       "      <td>0</td>\n",
       "      <td>...</td>\n",
       "      <td>0</td>\n",
       "      <td>0</td>\n",
       "      <td>0</td>\n",
       "      <td>0</td>\n",
       "      <td>0</td>\n",
       "      <td>0</td>\n",
       "      <td>0</td>\n",
       "      <td>0</td>\n",
       "      <td>0</td>\n",
       "      <td>0</td>\n",
       "    </tr>\n",
       "    <tr>\n",
       "      <td>536983</td>\n",
       "      <td>0</td>\n",
       "      <td>0</td>\n",
       "      <td>0</td>\n",
       "      <td>0</td>\n",
       "      <td>0</td>\n",
       "      <td>0</td>\n",
       "      <td>0</td>\n",
       "      <td>0</td>\n",
       "      <td>0</td>\n",
       "      <td>0</td>\n",
       "      <td>...</td>\n",
       "      <td>0</td>\n",
       "      <td>0</td>\n",
       "      <td>0</td>\n",
       "      <td>0</td>\n",
       "      <td>0</td>\n",
       "      <td>0</td>\n",
       "      <td>0</td>\n",
       "      <td>0</td>\n",
       "      <td>0</td>\n",
       "      <td>0</td>\n",
       "    </tr>\n",
       "  </tbody>\n",
       "</table>\n",
       "<p>5 rows × 1680 columns</p>\n",
       "</div>"
      ],
      "text/plain": [
       "Description  10 Colour Spaceboy Pen  12 Coloured Party Balloons  \\\n",
       "InvoiceNo                                                         \n",
       "536527                            0                           0   \n",
       "536840                            0                           0   \n",
       "536861                            0                           0   \n",
       "536967                            0                           0   \n",
       "536983                            0                           0   \n",
       "\n",
       "Description  12 Ivory Rose Peg Place Settings  \\\n",
       "InvoiceNo                                       \n",
       "536527                                      0   \n",
       "536840                                      0   \n",
       "536861                                      0   \n",
       "536967                                      0   \n",
       "536983                                      0   \n",
       "\n",
       "Description  12 Message Cards With Envelopes  12 Pencil Small Tube Woodland  \\\n",
       "InvoiceNo                                                                     \n",
       "536527                                     0                              0   \n",
       "536840                                     0                              0   \n",
       "536861                                     0                              0   \n",
       "536967                                     0                              0   \n",
       "536983                                     0                              0   \n",
       "\n",
       "Description  12 Pencils Small Tube Red Retrospot  12 Pencils Small Tube Skull  \\\n",
       "InvoiceNo                                                                       \n",
       "536527                                         0                            0   \n",
       "536840                                         0                            0   \n",
       "536861                                         0                            0   \n",
       "536967                                         0                            0   \n",
       "536983                                         0                            0   \n",
       "\n",
       "Description  12 Pencils Tall Tube Posy  12 Pencils Tall Tube Red Retrospot  \\\n",
       "InvoiceNo                                                                    \n",
       "536527                               0                                   0   \n",
       "536840                               0                                   0   \n",
       "536861                               0                                   0   \n",
       "536967                               0                                   0   \n",
       "536983                               0                                   0   \n",
       "\n",
       "Description  12 Pencils Tall Tube Skulls  ...  Yuletide Images Gift Wrap Set  \\\n",
       "InvoiceNo                                 ...                                  \n",
       "536527                                 0  ...                              0   \n",
       "536840                                 0  ...                              0   \n",
       "536861                                 0  ...                              0   \n",
       "536967                                 0  ...                              0   \n",
       "536983                                 0  ...                              0   \n",
       "\n",
       "Description  Zinc  Heart T-Light Holder  Zinc  Star T-Light Holder  \\\n",
       "InvoiceNo                                                            \n",
       "536527                                0                          0   \n",
       "536840                                0                          0   \n",
       "536861                                0                          0   \n",
       "536967                                0                          0   \n",
       "536983                                0                          0   \n",
       "\n",
       "Description  Zinc Box Sign Home  Zinc Folkart Sleigh Bells  \\\n",
       "InvoiceNo                                                    \n",
       "536527                        0                          0   \n",
       "536840                        0                          0   \n",
       "536861                        0                          0   \n",
       "536967                        0                          0   \n",
       "536983                        0                          0   \n",
       "\n",
       "Description  Zinc Heart Lattice T-Light Holder  Zinc Metal Heart Decoration  \\\n",
       "InvoiceNo                                                                     \n",
       "536527                                       0                            0   \n",
       "536840                                       0                            0   \n",
       "536861                                       0                            0   \n",
       "536967                                       0                            0   \n",
       "536983                                       0                            0   \n",
       "\n",
       "Description  Zinc T-Light Holder Star Large  Zinc T-Light Holder Stars Small  \\\n",
       "InvoiceNo                                                                      \n",
       "536527                                    0                                0   \n",
       "536840                                    0                                0   \n",
       "536861                                    0                                0   \n",
       "536967                                    0                                0   \n",
       "536983                                    0                                0   \n",
       "\n",
       "Description  Zinc Willie Winkie  Candle Stick  \n",
       "InvoiceNo                                      \n",
       "536527                                      0  \n",
       "536840                                      0  \n",
       "536861                                      0  \n",
       "536967                                      0  \n",
       "536983                                      0  \n",
       "\n",
       "[5 rows x 1680 columns]"
      ]
     },
     "execution_count": 48,
     "metadata": {},
     "output_type": "execute_result"
    }
   ],
   "source": [
    "basket2.head()"
   ]
  },
  {
   "cell_type": "code",
   "execution_count": 49,
   "metadata": {
    "scrolled": false
   },
   "outputs": [
    {
     "data": {
      "text/plain": [
       "Description\n",
       "Round Snack Boxes Set Of4 Woodland    1179\n",
       "Woodland Charlotte Bag                1010\n",
       "Pack Of 72 Retrospot Cake Cases        978\n",
       "Pack Of 6 Birdy Gift Tags              924\n",
       "Popart Wooden Pencils Asst             800\n",
       "dtype: int64"
      ]
     },
     "execution_count": 49,
     "metadata": {},
     "output_type": "execute_result"
    }
   ],
   "source": [
    "basket2.sum().sort_values(ascending =False).head()"
   ]
  },
  {
   "cell_type": "code",
   "execution_count": 50,
   "metadata": {
    "scrolled": true
   },
   "outputs": [
    {
     "data": {
      "text/plain": [
       "Description\n",
       "Round Snack Boxes Set Of4 Woodland    107\n",
       "Round Snack Boxes Set Of 4 Fruits      68\n",
       "Regency Cakestand 3 Tier               61\n",
       "Plasters In Tin Woodland Animals       59\n",
       "Woodland Charlotte Bag                 57\n",
       "dtype: int64"
      ]
     },
     "execution_count": 50,
     "metadata": {},
     "output_type": "execute_result"
    }
   ],
   "source": [
    "basket2_sets = basket2.applymap(encode_units)\n",
    "basket2_sets.sum().sort_values(ascending =False).head()"
   ]
  },
  {
   "cell_type": "code",
   "execution_count": 51,
   "metadata": {},
   "outputs": [
    {
     "name": "stdout",
     "output_type": "stream",
     "text": [
      "20\n"
     ]
    }
   ],
   "source": [
    "# one hot encoding\n",
    "basket_sets2 = basket2.applymap(encode_units)\n",
    "frequent_itemsets2 = apriori(basket_sets2, min_support=0.05, use_colnames=True)\n",
    "rules2 = association_rules(frequent_itemsets2, metric=\"lift\", min_threshold=1)\n",
    "print(rules2.shape[0])"
   ]
  },
  {
   "cell_type": "code",
   "execution_count": 52,
   "metadata": {},
   "outputs": [],
   "source": [
    "rules_Germany = rules2.copy()\n",
    "rules_Germany.drop(['antecedent support', 'consequent support', 'leverage', 'conviction'], axis = 1, inplace=True)"
   ]
  },
  {
   "cell_type": "markdown",
   "metadata": {},
   "source": [
    "## 說明\n",
    "拿第一筆資料來看：{紅色手提肩包} => {森林動物手提肩包} 來看\n",
    "- Support：兩者品項同時出現佔所有商品品項6%\n",
    "- Confidence：有買 {紅色手提肩包} 的人中，也會買 {森林動物手提肩包} 的人佔了87%\n",
    "- Lift：買了 {紅色手提肩包} 的人也會 {森林動物手提肩包} 的提升度 為6.51\n",
    "\n",
    "（可以這樣理解提升度：將兩種物品捆綁銷售的結果，比分別銷售兩種物品的結果提升的倍數）"
   ]
  },
  {
   "cell_type": "markdown",
   "metadata": {},
   "source": [
    "<img src='../img/Germany.png' style='zoom:30%'>"
   ]
  },
  {
   "cell_type": "code",
   "execution_count": 53,
   "metadata": {},
   "outputs": [
    {
     "data": {
      "text/html": [
       "<div>\n",
       "<style scoped>\n",
       "    .dataframe tbody tr th:only-of-type {\n",
       "        vertical-align: middle;\n",
       "    }\n",
       "\n",
       "    .dataframe tbody tr th {\n",
       "        vertical-align: top;\n",
       "    }\n",
       "\n",
       "    .dataframe thead th {\n",
       "        text-align: right;\n",
       "    }\n",
       "</style>\n",
       "<table border=\"1\" class=\"dataframe\">\n",
       "  <thead>\n",
       "    <tr style=\"text-align: right;\">\n",
       "      <th></th>\n",
       "      <th>antecedents</th>\n",
       "      <th>consequents</th>\n",
       "      <th>support</th>\n",
       "      <th>confidence</th>\n",
       "      <th>lift</th>\n",
       "    </tr>\n",
       "  </thead>\n",
       "  <tbody>\n",
       "    <tr>\n",
       "      <td>12</td>\n",
       "      <td>(Red Retrospot Charlotte Bag)</td>\n",
       "      <td>(Woodland Charlotte Bag)</td>\n",
       "      <td>0.06</td>\n",
       "      <td>0.87</td>\n",
       "      <td>6.51</td>\n",
       "    </tr>\n",
       "    <tr>\n",
       "      <td>15</td>\n",
       "      <td>(Round Snack Boxes Set Of 4 Fruits)</td>\n",
       "      <td>(Round Snack Boxes Set Of4 Woodland)</td>\n",
       "      <td>0.13</td>\n",
       "      <td>0.82</td>\n",
       "      <td>3.28</td>\n",
       "    </tr>\n",
       "    <tr>\n",
       "      <td>17</td>\n",
       "      <td>(Spaceboy Lunch Box)</td>\n",
       "      <td>(Round Snack Boxes Set Of4 Woodland)</td>\n",
       "      <td>0.07</td>\n",
       "      <td>0.69</td>\n",
       "      <td>2.74</td>\n",
       "    </tr>\n",
       "    <tr>\n",
       "      <td>3</td>\n",
       "      <td>(Plasters In Tin Circus Parade)</td>\n",
       "      <td>(Plasters In Tin Woodland Animals)</td>\n",
       "      <td>0.07</td>\n",
       "      <td>0.58</td>\n",
       "      <td>4.19</td>\n",
       "    </tr>\n",
       "    <tr>\n",
       "      <td>8</td>\n",
       "      <td>(Plasters In Tin Spaceboy)</td>\n",
       "      <td>(Plasters In Tin Woodland Animals)</td>\n",
       "      <td>0.06</td>\n",
       "      <td>0.57</td>\n",
       "      <td>4.15</td>\n",
       "    </tr>\n",
       "    <tr>\n",
       "      <td>10</td>\n",
       "      <td>(Plasters In Tin Woodland Animals)</td>\n",
       "      <td>(Round Snack Boxes Set Of4 Woodland)</td>\n",
       "      <td>0.08</td>\n",
       "      <td>0.54</td>\n",
       "      <td>2.16</td>\n",
       "    </tr>\n",
       "    <tr>\n",
       "      <td>14</td>\n",
       "      <td>(Round Snack Boxes Set Of4 Woodland)</td>\n",
       "      <td>(Round Snack Boxes Set Of 4 Fruits)</td>\n",
       "      <td>0.13</td>\n",
       "      <td>0.52</td>\n",
       "      <td>3.28</td>\n",
       "    </tr>\n",
       "    <tr>\n",
       "      <td>7</td>\n",
       "      <td>(Plasters In Tin Circus Parade)</td>\n",
       "      <td>(Round Snack Boxes Set Of4 Woodland)</td>\n",
       "      <td>0.06</td>\n",
       "      <td>0.50</td>\n",
       "      <td>1.99</td>\n",
       "    </tr>\n",
       "    <tr>\n",
       "      <td>2</td>\n",
       "      <td>(Plasters In Tin Woodland Animals)</td>\n",
       "      <td>(Plasters In Tin Circus Parade)</td>\n",
       "      <td>0.07</td>\n",
       "      <td>0.49</td>\n",
       "      <td>4.19</td>\n",
       "    </tr>\n",
       "    <tr>\n",
       "      <td>19</td>\n",
       "      <td>(Woodland Charlotte Bag)</td>\n",
       "      <td>(Round Snack Boxes Set Of4 Woodland)</td>\n",
       "      <td>0.07</td>\n",
       "      <td>0.49</td>\n",
       "      <td>1.96</td>\n",
       "    </tr>\n",
       "  </tbody>\n",
       "</table>\n",
       "</div>"
      ],
      "text/plain": [
       "                             antecedents  \\\n",
       "12         (Red Retrospot Charlotte Bag)   \n",
       "15   (Round Snack Boxes Set Of 4 Fruits)   \n",
       "17                  (Spaceboy Lunch Box)   \n",
       "3        (Plasters In Tin Circus Parade)   \n",
       "8             (Plasters In Tin Spaceboy)   \n",
       "10    (Plasters In Tin Woodland Animals)   \n",
       "14  (Round Snack Boxes Set Of4 Woodland)   \n",
       "7        (Plasters In Tin Circus Parade)   \n",
       "2     (Plasters In Tin Woodland Animals)   \n",
       "19              (Woodland Charlotte Bag)   \n",
       "\n",
       "                             consequents  support  confidence  lift  \n",
       "12              (Woodland Charlotte Bag)     0.06        0.87  6.51  \n",
       "15  (Round Snack Boxes Set Of4 Woodland)     0.13        0.82  3.28  \n",
       "17  (Round Snack Boxes Set Of4 Woodland)     0.07        0.69  2.74  \n",
       "3     (Plasters In Tin Woodland Animals)     0.07        0.58  4.19  \n",
       "8     (Plasters In Tin Woodland Animals)     0.06        0.57  4.15  \n",
       "10  (Round Snack Boxes Set Of4 Woodland)     0.08        0.54  2.16  \n",
       "14   (Round Snack Boxes Set Of 4 Fruits)     0.13        0.52  3.28  \n",
       "7   (Round Snack Boxes Set Of4 Woodland)     0.06        0.50  1.99  \n",
       "2        (Plasters In Tin Circus Parade)     0.07        0.49  4.19  \n",
       "19  (Round Snack Boxes Set Of4 Woodland)     0.07        0.49  1.96  "
      ]
     },
     "execution_count": 53,
     "metadata": {},
     "output_type": "execute_result"
    }
   ],
   "source": [
    "rules_Germany.sort_values(by=['confidence'],ascending=False).head(10)"
   ]
  },
  {
   "cell_type": "code",
   "execution_count": 54,
   "metadata": {
    "scrolled": false
   },
   "outputs": [
    {
     "data": {
      "text/html": [
       "<div>\n",
       "<style scoped>\n",
       "    .dataframe tbody tr th:only-of-type {\n",
       "        vertical-align: middle;\n",
       "    }\n",
       "\n",
       "    .dataframe tbody tr th {\n",
       "        vertical-align: top;\n",
       "    }\n",
       "\n",
       "    .dataframe thead th {\n",
       "        text-align: right;\n",
       "    }\n",
       "</style>\n",
       "<table border=\"1\" class=\"dataframe\">\n",
       "  <thead>\n",
       "    <tr style=\"text-align: right;\">\n",
       "      <th></th>\n",
       "      <th>antecedents</th>\n",
       "      <th>consequents</th>\n",
       "      <th>support</th>\n",
       "      <th>confidence</th>\n",
       "      <th>lift</th>\n",
       "    </tr>\n",
       "  </thead>\n",
       "  <tbody>\n",
       "    <tr>\n",
       "      <td>3</td>\n",
       "      <td>(Plasters In Tin Circus Parade)</td>\n",
       "      <td>(Plasters In Tin Woodland Animals)</td>\n",
       "      <td>0.07</td>\n",
       "      <td>0.58</td>\n",
       "      <td>4.19</td>\n",
       "    </tr>\n",
       "    <tr>\n",
       "      <td>8</td>\n",
       "      <td>(Plasters In Tin Spaceboy)</td>\n",
       "      <td>(Plasters In Tin Woodland Animals)</td>\n",
       "      <td>0.06</td>\n",
       "      <td>0.57</td>\n",
       "      <td>4.15</td>\n",
       "    </tr>\n",
       "    <tr>\n",
       "      <td>12</td>\n",
       "      <td>(Red Retrospot Charlotte Bag)</td>\n",
       "      <td>(Woodland Charlotte Bag)</td>\n",
       "      <td>0.06</td>\n",
       "      <td>0.87</td>\n",
       "      <td>6.51</td>\n",
       "    </tr>\n",
       "  </tbody>\n",
       "</table>\n",
       "</div>"
      ],
      "text/plain": [
       "                        antecedents                         consequents  \\\n",
       "3   (Plasters In Tin Circus Parade)  (Plasters In Tin Woodland Animals)   \n",
       "8        (Plasters In Tin Spaceboy)  (Plasters In Tin Woodland Animals)   \n",
       "12    (Red Retrospot Charlotte Bag)            (Woodland Charlotte Bag)   \n",
       "\n",
       "    support  confidence  lift  \n",
       "3      0.07        0.58  4.19  \n",
       "8      0.06        0.57  4.15  \n",
       "12     0.06        0.87  6.51  "
      ]
     },
     "execution_count": 54,
     "metadata": {},
     "output_type": "execute_result"
    }
   ],
   "source": [
    "rules_Germany[ (rules_Germany['lift'] >= 4) &\n",
    "        (rules_Germany['confidence'] >= 0.5)]"
   ]
  },
  {
   "cell_type": "code",
   "execution_count": 57,
   "metadata": {},
   "outputs": [
    {
     "data": {
      "image/png": "[encoded data removed]",
      "text/plain": [
       "<Figure size 2160x720 with 1 Axes>"
      ]
     },
     "metadata": {},
     "output_type": "display_data"
    }
   ],
   "source": [
    "fig, ax=plt.subplots(figsize=(30,10))\n",
    "GA=nx.from_pandas_edgelist(rules2,source='antecedents',target='consequents')\n",
    "nx.draw(GA,with_labels=True)\n",
    "plt.savefig(\"../output/Germany.png\")\n",
    "plt.show()"
   ]
  },
  {
   "cell_type": "markdown",
   "metadata": {},
   "source": [
    "### Confidence前十名 \n",
    "1. 紅色手提肩包, 森林動物手提肩包\n",
    "2. 水果造型點心盒, 森林動物造型點心盒, 太空人造型午餐盒\n",
    "3. 馬戲團OK繃, 太空人OK繃, 森林動物OK繃"
   ]
  },
  {
   "cell_type": "markdown",
   "metadata": {},
   "source": [
    "## 結論\n",
    "1. 不同東西 但會一起使用到的\n",
    "    - Ex：紅色紙巾, 紅色紙杯, 紅色紙盤\n",
    "    \n",
    "    \n",
    "2. 相同東西不同樣式\n",
    "    - Ex：馬戲團OK繃, 太空人OK繃, 森林動物OK繃"
   ]
  },
  {
   "cell_type": "markdown",
   "metadata": {},
   "source": [
    "<a href='#Online-Retail'>Back To Top</a>"
   ]
  },
  {
   "cell_type": "code",
   "execution_count": null,
   "metadata": {},
   "outputs": [],
   "source": []
  }
 ],
 "metadata": {
  "kernelspec": {
   "display_name": "Python 3",
   "language": "python",
   "name": "python3"
  },
  "language_info": {
   "codemirror_mode": {
    "name": "ipython",
    "version": 3
   },
   "file_extension": ".py",
   "mimetype": "text/x-python",
   "name": "python",
   "nbconvert_exporter": "python",
   "pygments_lexer": "ipython3",
   "version": "3.7.3"
  }
 },
 "nbformat": 4,
 "nbformat_minor": 2
}
