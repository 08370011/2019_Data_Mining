{
 "cells": [
  {
   "cell_type": "code",
   "execution_count": 5,
   "metadata": {},
   "outputs": [],
   "source": [
    "from apyori import apriori\n",
    "import pandas as pd"
   ]
  },
  {
   "cell_type": "code",
   "execution_count": 7,
   "metadata": {},
   "outputs": [],
   "source": [
    "data = [['r', 'z', 'h', 'j', 'p'],\n",
    "       ['z', 'y', 'x', 'w', 'v', 'u', 't', 's'],\n",
    "       ['z'],\n",
    "       ['r', 'x', 'n', 'o', 's'],\n",
    "       ['y', 'r', 'x', 'z', 'q', 't', 'p'],\n",
    "       ['y', 'z', 'x', 'e', 'q', 's', 't', 'm']]\n",
    "df = pd.DataFrame(data)"
   ]
  },
  {
   "cell_type": "code",
   "execution_count": 8,
   "metadata": {},
   "outputs": [
    {
     "data": {
      "text/html": [
       "<div>\n",
       "<style scoped>\n",
       "    .dataframe tbody tr th:only-of-type {\n",
       "        vertical-align: middle;\n",
       "    }\n",
       "\n",
       "    .dataframe tbody tr th {\n",
       "        vertical-align: top;\n",
       "    }\n",
       "\n",
       "    .dataframe thead th {\n",
       "        text-align: right;\n",
       "    }\n",
       "</style>\n",
       "<table border=\"1\" class=\"dataframe\">\n",
       "  <thead>\n",
       "    <tr style=\"text-align: right;\">\n",
       "      <th></th>\n",
       "      <th>0</th>\n",
       "      <th>1</th>\n",
       "      <th>2</th>\n",
       "      <th>3</th>\n",
       "      <th>4</th>\n",
       "      <th>5</th>\n",
       "      <th>6</th>\n",
       "      <th>7</th>\n",
       "    </tr>\n",
       "  </thead>\n",
       "  <tbody>\n",
       "    <tr>\n",
       "      <td>0</td>\n",
       "      <td>r</td>\n",
       "      <td>z</td>\n",
       "      <td>h</td>\n",
       "      <td>j</td>\n",
       "      <td>p</td>\n",
       "      <td>None</td>\n",
       "      <td>None</td>\n",
       "      <td>None</td>\n",
       "    </tr>\n",
       "    <tr>\n",
       "      <td>1</td>\n",
       "      <td>z</td>\n",
       "      <td>y</td>\n",
       "      <td>x</td>\n",
       "      <td>w</td>\n",
       "      <td>v</td>\n",
       "      <td>u</td>\n",
       "      <td>t</td>\n",
       "      <td>s</td>\n",
       "    </tr>\n",
       "    <tr>\n",
       "      <td>2</td>\n",
       "      <td>z</td>\n",
       "      <td>None</td>\n",
       "      <td>None</td>\n",
       "      <td>None</td>\n",
       "      <td>None</td>\n",
       "      <td>None</td>\n",
       "      <td>None</td>\n",
       "      <td>None</td>\n",
       "    </tr>\n",
       "    <tr>\n",
       "      <td>3</td>\n",
       "      <td>r</td>\n",
       "      <td>x</td>\n",
       "      <td>n</td>\n",
       "      <td>o</td>\n",
       "      <td>s</td>\n",
       "      <td>None</td>\n",
       "      <td>None</td>\n",
       "      <td>None</td>\n",
       "    </tr>\n",
       "    <tr>\n",
       "      <td>4</td>\n",
       "      <td>y</td>\n",
       "      <td>r</td>\n",
       "      <td>x</td>\n",
       "      <td>z</td>\n",
       "      <td>q</td>\n",
       "      <td>t</td>\n",
       "      <td>p</td>\n",
       "      <td>None</td>\n",
       "    </tr>\n",
       "    <tr>\n",
       "      <td>5</td>\n",
       "      <td>y</td>\n",
       "      <td>z</td>\n",
       "      <td>x</td>\n",
       "      <td>e</td>\n",
       "      <td>q</td>\n",
       "      <td>s</td>\n",
       "      <td>t</td>\n",
       "      <td>m</td>\n",
       "    </tr>\n",
       "  </tbody>\n",
       "</table>\n",
       "</div>"
      ],
      "text/plain": [
       "   0     1     2     3     4     5     6     7\n",
       "0  r     z     h     j     p  None  None  None\n",
       "1  z     y     x     w     v     u     t     s\n",
       "2  z  None  None  None  None  None  None  None\n",
       "3  r     x     n     o     s  None  None  None\n",
       "4  y     r     x     z     q     t     p  None\n",
       "5  y     z     x     e     q     s     t     m"
      ]
     },
     "execution_count": 8,
     "metadata": {},
     "output_type": "execute_result"
    }
   ],
   "source": [
    "df"
   ]
  },
  {
   "cell_type": "code",
   "execution_count": 9,
   "metadata": {},
   "outputs": [
    {
     "data": {
      "text/plain": [
       "<generator object apriori at 0x10c852660>"
      ]
     },
     "execution_count": 9,
     "metadata": {},
     "output_type": "execute_result"
    }
   ],
   "source": [
    "association_rules"
   ]
  },
  {
   "cell_type": "code",
   "execution_count": 10,
   "metadata": {},
   "outputs": [
    {
     "data": {
      "text/plain": [
       "[RelationRecord(items=frozenset({'e', 'm'}), support=0.16666666666666666, ordered_statistics=[OrderedStatistic(items_base=frozenset({'e'}), items_add=frozenset({'m'}), confidence=1.0, lift=6.0), OrderedStatistic(items_base=frozenset({'m'}), items_add=frozenset({'e'}), confidence=1.0, lift=6.0)]),\n",
       " RelationRecord(items=frozenset({'q', 'e'}), support=0.16666666666666666, ordered_statistics=[OrderedStatistic(items_base=frozenset({'e'}), items_add=frozenset({'q'}), confidence=1.0, lift=3.0), OrderedStatistic(items_base=frozenset({'q'}), items_add=frozenset({'e'}), confidence=0.5, lift=3.0)]),\n",
       " RelationRecord(items=frozenset({'j', 'h'}), support=0.16666666666666666, ordered_statistics=[OrderedStatistic(items_base=frozenset({'h'}), items_add=frozenset({'j'}), confidence=1.0, lift=6.0), OrderedStatistic(items_base=frozenset({'j'}), items_add=frozenset({'h'}), confidence=1.0, lift=6.0)]),\n",
       " RelationRecord(items=frozenset({'p', 'h'}), support=0.16666666666666666, ordered_statistics=[OrderedStatistic(items_base=frozenset({'h'}), items_add=frozenset({'p'}), confidence=1.0, lift=3.0), OrderedStatistic(items_base=frozenset({'p'}), items_add=frozenset({'h'}), confidence=0.5, lift=3.0)]),\n",
       " RelationRecord(items=frozenset({'p', 'j'}), support=0.16666666666666666, ordered_statistics=[OrderedStatistic(items_base=frozenset({'j'}), items_add=frozenset({'p'}), confidence=1.0, lift=3.0), OrderedStatistic(items_base=frozenset({'p'}), items_add=frozenset({'j'}), confidence=0.5, lift=3.0)]),\n",
       " RelationRecord(items=frozenset({'q', 'm'}), support=0.16666666666666666, ordered_statistics=[OrderedStatistic(items_base=frozenset({'m'}), items_add=frozenset({'q'}), confidence=1.0, lift=3.0), OrderedStatistic(items_base=frozenset({'q'}), items_add=frozenset({'m'}), confidence=0.5, lift=3.0)]),\n",
       " RelationRecord(items=frozenset({'o', 'n'}), support=0.16666666666666666, ordered_statistics=[OrderedStatistic(items_base=frozenset({'n'}), items_add=frozenset({'o'}), confidence=1.0, lift=6.0), OrderedStatistic(items_base=frozenset({'o'}), items_add=frozenset({'n'}), confidence=1.0, lift=6.0)]),\n",
       " RelationRecord(items=frozenset({'v', 'u'}), support=0.16666666666666666, ordered_statistics=[OrderedStatistic(items_base=frozenset({'u'}), items_add=frozenset({'v'}), confidence=1.0, lift=6.0), OrderedStatistic(items_base=frozenset({'v'}), items_add=frozenset({'u'}), confidence=1.0, lift=6.0)]),\n",
       " RelationRecord(items=frozenset({'w', 'u'}), support=0.16666666666666666, ordered_statistics=[OrderedStatistic(items_base=frozenset({'u'}), items_add=frozenset({'w'}), confidence=1.0, lift=6.0), OrderedStatistic(items_base=frozenset({'w'}), items_add=frozenset({'u'}), confidence=1.0, lift=6.0)]),\n",
       " RelationRecord(items=frozenset({'w', 'v'}), support=0.16666666666666666, ordered_statistics=[OrderedStatistic(items_base=frozenset({'v'}), items_add=frozenset({'w'}), confidence=1.0, lift=6.0), OrderedStatistic(items_base=frozenset({'w'}), items_add=frozenset({'v'}), confidence=1.0, lift=6.0)])]"
      ]
     },
     "execution_count": 10,
     "metadata": {},
     "output_type": "execute_result"
    }
   ],
   "source": [
    "association_results"
   ]
  },
  {
   "cell_type": "code",
   "execution_count": 11,
   "metadata": {},
   "outputs": [
    {
     "data": {
      "text/plain": [
       "RelationRecord(items=frozenset({'e', 'm'}), support=0.16666666666666666, ordered_statistics=[OrderedStatistic(items_base=frozenset({'e'}), items_add=frozenset({'m'}), confidence=1.0, lift=6.0), OrderedStatistic(items_base=frozenset({'m'}), items_add=frozenset({'e'}), confidence=1.0, lift=6.0)])"
      ]
     },
     "execution_count": 11,
     "metadata": {},
     "output_type": "execute_result"
    }
   ],
   "source": [
    "association_results[0]"
   ]
  },
  {
   "cell_type": "code",
   "execution_count": 12,
   "metadata": {},
   "outputs": [
    {
     "data": {
      "text/plain": [
       "frozenset({'e', 'm'})"
      ]
     },
     "execution_count": 12,
     "metadata": {},
     "output_type": "execute_result"
    }
   ],
   "source": [
    "association_results[0][0]"
   ]
  },
  {
   "cell_type": "code",
   "execution_count": 3,
   "metadata": {
    "scrolled": true
   },
   "outputs": [
    {
     "name": "stdout",
     "output_type": "stream",
     "text": [
      "Rule: e -> m\n",
      "Support: 0.16666666666666666\n",
      "Confidence: 1.0\n",
      "Lift: 6.0\n",
      "=====================================\n",
      "Rule: q -> e\n",
      "Support: 0.16666666666666666\n",
      "Confidence: 1.0\n",
      "Lift: 3.0\n",
      "=====================================\n",
      "Rule: j -> h\n",
      "Support: 0.16666666666666666\n",
      "Confidence: 1.0\n",
      "Lift: 6.0\n",
      "=====================================\n",
      "Rule: p -> h\n",
      "Support: 0.16666666666666666\n",
      "Confidence: 1.0\n",
      "Lift: 3.0\n",
      "=====================================\n",
      "Rule: p -> j\n",
      "Support: 0.16666666666666666\n",
      "Confidence: 1.0\n",
      "Lift: 3.0\n",
      "=====================================\n",
      "Rule: q -> m\n",
      "Support: 0.16666666666666666\n",
      "Confidence: 1.0\n",
      "Lift: 3.0\n",
      "=====================================\n",
      "Rule: o -> n\n",
      "Support: 0.16666666666666666\n",
      "Confidence: 1.0\n",
      "Lift: 6.0\n",
      "=====================================\n",
      "Rule: v -> u\n",
      "Support: 0.16666666666666666\n",
      "Confidence: 1.0\n",
      "Lift: 6.0\n",
      "=====================================\n",
      "Rule: w -> u\n",
      "Support: 0.16666666666666666\n",
      "Confidence: 1.0\n",
      "Lift: 6.0\n",
      "=====================================\n",
      "Rule: w -> v\n",
      "Support: 0.16666666666666666\n",
      "Confidence: 1.0\n",
      "Lift: 6.0\n",
      "=====================================\n"
     ]
    }
   ],
   "source": [
    "association_rules = apriori(data, min_support=0.16, min_confidence=0.2, min_lift=3, max_length=2) \n",
    "association_results = list(association_rules)\n",
    "\n",
    "for item in association_results:\n",
    "    pair = item[0] \n",
    "    items = [x for x in pair]\n",
    "    print(\"Rule: \" + items[0] + \" -> \" + items[1])\n",
    "    print(\"Support: \" + str(item[1]))\n",
    "    print(\"Confidence: \" + str(item[2][0][2]))\n",
    "    print(\"Lift: \" + str(item[2][0][3]))\n",
    "    print(\"=====================================\") "
   ]
  },
  {
   "cell_type": "code",
   "execution_count": null,
   "metadata": {},
   "outputs": [],
   "source": []
  }
 ],
 "metadata": {
  "kernelspec": {
   "display_name": "Python 3",
   "language": "python",
   "name": "python3"
  },
  "language_info": {
   "codemirror_mode": {
    "name": "ipython",
    "version": 3
   },
   "file_extension": ".py",
   "mimetype": "text/x-python",
   "name": "python",
   "nbconvert_exporter": "python",
   "pygments_lexer": "ipython3",
   "version": "3.7.3"
  }
 },
 "nbformat": 4,
 "nbformat_minor": 2
}
