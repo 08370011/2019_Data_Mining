{
 "cells": [
  {
   "cell_type": "markdown",
   "metadata": {},
   "source": [
    "http://rstudio-pubs-static.s3.amazonaws.com/465250_5aa0123ad90e4b0187a8778a0230e67b.html"
   ]
  },
  {
   "cell_type": "markdown",
   "metadata": {},
   "source": [
    "# Online Retail\n",
    "\n",
    "## 一. <a href='#資料介紹'>資料介紹</a>\n",
    "\n",
    "1. 來源\n",
    "2. 資料介紹\n",
    "3. 欄位\n",
    "4. 延伸問題\n",
    "\n",
    "## 二. <a href='#呈現'>呈現</a>\n",
    "1. <a href='#1.-Load-Libraries'>Load Libraries</a>\n",
    "2. <a href='#2.-Load-Data'>Load Data</a>\n",
    "3. <a href='#3.-Data-Preprocessing'>Data Preprocessing</a>\n",
    "    1. Drop Duplicates\n",
    "    2. Missing Value\n",
    "    3. Outlier\n",
    "    4. Date Before 2011-12-01\n",
    "    4. Date -> Year/Month/Hour\n",
    "4. <a href='#4.-Analyze-Data'>Analyze Data</a>\n",
    "5. <a href='#5.-Apriori-Algorithm'>Apriori Algorithm</a>\n",
    "6. <a href='#6.-Feature-Engineering-&-Modeling'>Feature Engineering & Modeling</a>\n",
    "\n",
    "\n",
    "## 三. <a href='#Apriori-Algorithm'>Apriori Algorithm</a>\n"
   ]
  },
  {
   "cell_type": "markdown",
   "metadata": {},
   "source": [
    "---"
   ]
  },
  {
   "cell_type": "markdown",
   "metadata": {},
   "source": [
    "## 資料介紹\n",
    "\n",
    "### 1.來源\n",
    "使用[UCI機器學習](https://archive.ics.uci.edu/ml/index.php)的[線上零售資料集](http://archive.ics.uci.edu/ml/datasets/Online+Retail)\n",
    "\n",
    "\n",
    "### 2.資料介紹\n",
    "- 資料包含了從2010年12月1日至2011年12月9日之間，在英國註冊的線上零售的所有交易數據。\n",
    "\n",
    "- 因為2011年12月的資料不滿一個月，所以資料會取 2010年12月1日到2011年11月30日來分析\n",
    "\n",
    "- 該公司主要銷售獨特的禮品，許多客戶都是批發商，客戶來自各個國家。\n",
    "\n",
    "### 3.欄位\n",
    "\n",
    "Shape：(541909, 8)\n",
    "\n",
    "\n",
    "英文欄位|中文欄位|描述\n",
    ":---:|:---:|:---:\n",
    "InvoiceNo|訂單編號|每筆交易分配唯一的6位整數，需注意退貨訂單的代碼以字母'c'開頭。\n",
    "StockCode|產品編號|每個不同的產品分配唯一的5位整數\n",
    "Description|產品名稱|對每件產品的簡略描述。\n",
    "Quantity|購買數量|每筆交易的每件產品的數量。\n",
    "InvoiceDate|交易日期及時間|每筆交易發生的日期和時間。\n",
    "UnitPrice|產品單價|單位產品價格。\n",
    "CustomerID|客戶ID|每個客戶分配唯一的5位整數。\n",
    "Country|客戶所在國家|每個客戶所在國家/地區的名稱。"
   ]
  },
  {
   "cell_type": "markdown",
   "metadata": {},
   "source": [
    "### 4. 延伸問題\n",
    "\n",
    "1. 哪些產品最受歡迎，被瀏覽的次數最多，購買的次數最多？\n",
    "\n",
    "2. 哪些用戶是最有價值的用戶，在特定的時間範圍內消費總額最高，這些高價值用戶有什麼樣的用戶特徵？\n",
    "\n",
    "3. 哪些用戶是最忠誠的用戶，回購率最高用戶，如何提高這些用戶的消費體驗，增加消費額度？\n",
    "\n",
    "4. 用戶的消費習慣是什麼，哪些產品是用戶們喜歡一起購買的？或者有特定的購買時間順序？\n",
    "\n",
    "5. 促銷對於哪些用戶最有效，哪些用戶反應最活躍？促銷策略能夠考慮這些因素"
   ]
  },
  {
   "cell_type": "markdown",
   "metadata": {},
   "source": [
    "<a href='#Online-Retail'>Back To Top</a>"
   ]
  },
  {
   "cell_type": "markdown",
   "metadata": {},
   "source": [
    "---"
   ]
  },
  {
   "cell_type": "markdown",
   "metadata": {},
   "source": [
    "## 呈現"
   ]
  },
  {
   "cell_type": "markdown",
   "metadata": {},
   "source": [
    "## 1. Load Libraries"
   ]
  },
  {
   "cell_type": "code",
   "execution_count": 156,
   "metadata": {},
   "outputs": [],
   "source": [
    "import pandas as pd\n",
    "import numpy as np\n",
    "import datetime as dt\n",
    "import matplotlib.pyplot as plt\n",
    "import seaborn as sns\n",
    "\n",
    "from mlxtend.frequent_patterns import apriori\n",
    "from mlxtend.frequent_patterns import association_rules\n",
    "\n",
    "%matplotlib inline\n",
    "pd.set_option('display.float_format',lambda x : '%.2f' % x)\n",
    "sns.set()"
   ]
  },
  {
   "cell_type": "code",
   "execution_count": 157,
   "metadata": {},
   "outputs": [
    {
     "data": {
      "text/html": [
       "<style>table {float:left}</style>\n"
      ],
      "text/plain": [
       "<IPython.core.display.HTML object>"
      ]
     },
     "metadata": {},
     "output_type": "display_data"
    }
   ],
   "source": [
    "%%html\n",
    "<style>table {float:left}</style>"
   ]
  },
  {
   "cell_type": "markdown",
   "metadata": {},
   "source": [
    "<a href='#Online-Retail'>Back To Top</a>"
   ]
  },
  {
   "cell_type": "markdown",
   "metadata": {},
   "source": [
    "---"
   ]
  },
  {
   "cell_type": "markdown",
   "metadata": {},
   "source": [
    "## 2. Load Data"
   ]
  },
  {
   "cell_type": "code",
   "execution_count": 158,
   "metadata": {},
   "outputs": [],
   "source": [
    "dataset = pd.read_csv(\"../input/Online_Retail.csv\")"
   ]
  },
  {
   "cell_type": "markdown",
   "metadata": {},
   "source": [
    "### 資料筆數：(541909, 8)"
   ]
  },
  {
   "cell_type": "code",
   "execution_count": 159,
   "metadata": {},
   "outputs": [
    {
     "data": {
      "text/plain": [
       "(541909, 8)"
      ]
     },
     "execution_count": 159,
     "metadata": {},
     "output_type": "execute_result"
    }
   ],
   "source": [
    "dataset.shape"
   ]
  },
  {
   "cell_type": "code",
   "execution_count": 160,
   "metadata": {},
   "outputs": [
    {
     "data": {
      "text/html": [
       "<div>\n",
       "<style scoped>\n",
       "    .dataframe tbody tr th:only-of-type {\n",
       "        vertical-align: middle;\n",
       "    }\n",
       "\n",
       "    .dataframe tbody tr th {\n",
       "        vertical-align: top;\n",
       "    }\n",
       "\n",
       "    .dataframe thead th {\n",
       "        text-align: right;\n",
       "    }\n",
       "</style>\n",
       "<table border=\"1\" class=\"dataframe\">\n",
       "  <thead>\n",
       "    <tr style=\"text-align: right;\">\n",
       "      <th></th>\n",
       "      <th>InvoiceNo</th>\n",
       "      <th>StockCode</th>\n",
       "      <th>Description</th>\n",
       "      <th>Quantity</th>\n",
       "      <th>InvoiceDate</th>\n",
       "      <th>UnitPrice</th>\n",
       "      <th>CustomerID</th>\n",
       "      <th>Country</th>\n",
       "    </tr>\n",
       "  </thead>\n",
       "  <tbody>\n",
       "    <tr>\n",
       "      <td>0</td>\n",
       "      <td>536365</td>\n",
       "      <td>85123A</td>\n",
       "      <td>WHITE HANGING HEART T-LIGHT HOLDER</td>\n",
       "      <td>6</td>\n",
       "      <td>2010/12/1 8:26</td>\n",
       "      <td>2.55</td>\n",
       "      <td>17850.00</td>\n",
       "      <td>United Kingdom</td>\n",
       "    </tr>\n",
       "    <tr>\n",
       "      <td>1</td>\n",
       "      <td>536365</td>\n",
       "      <td>71053</td>\n",
       "      <td>WHITE METAL LANTERN</td>\n",
       "      <td>6</td>\n",
       "      <td>2010/12/1 8:26</td>\n",
       "      <td>3.39</td>\n",
       "      <td>17850.00</td>\n",
       "      <td>United Kingdom</td>\n",
       "    </tr>\n",
       "    <tr>\n",
       "      <td>2</td>\n",
       "      <td>536365</td>\n",
       "      <td>84406B</td>\n",
       "      <td>CREAM CUPID HEARTS COAT HANGER</td>\n",
       "      <td>8</td>\n",
       "      <td>2010/12/1 8:26</td>\n",
       "      <td>2.75</td>\n",
       "      <td>17850.00</td>\n",
       "      <td>United Kingdom</td>\n",
       "    </tr>\n",
       "    <tr>\n",
       "      <td>3</td>\n",
       "      <td>536365</td>\n",
       "      <td>84029G</td>\n",
       "      <td>KNITTED UNION FLAG HOT WATER BOTTLE</td>\n",
       "      <td>6</td>\n",
       "      <td>2010/12/1 8:26</td>\n",
       "      <td>3.39</td>\n",
       "      <td>17850.00</td>\n",
       "      <td>United Kingdom</td>\n",
       "    </tr>\n",
       "    <tr>\n",
       "      <td>4</td>\n",
       "      <td>536365</td>\n",
       "      <td>84029E</td>\n",
       "      <td>RED WOOLLY HOTTIE WHITE HEART.</td>\n",
       "      <td>6</td>\n",
       "      <td>2010/12/1 8:26</td>\n",
       "      <td>3.39</td>\n",
       "      <td>17850.00</td>\n",
       "      <td>United Kingdom</td>\n",
       "    </tr>\n",
       "  </tbody>\n",
       "</table>\n",
       "</div>"
      ],
      "text/plain": [
       "  InvoiceNo StockCode                          Description  Quantity  \\\n",
       "0    536365    85123A   WHITE HANGING HEART T-LIGHT HOLDER         6   \n",
       "1    536365     71053                  WHITE METAL LANTERN         6   \n",
       "2    536365    84406B       CREAM CUPID HEARTS COAT HANGER         8   \n",
       "3    536365    84029G  KNITTED UNION FLAG HOT WATER BOTTLE         6   \n",
       "4    536365    84029E       RED WOOLLY HOTTIE WHITE HEART.         6   \n",
       "\n",
       "      InvoiceDate  UnitPrice  CustomerID         Country  \n",
       "0  2010/12/1 8:26       2.55    17850.00  United Kingdom  \n",
       "1  2010/12/1 8:26       3.39    17850.00  United Kingdom  \n",
       "2  2010/12/1 8:26       2.75    17850.00  United Kingdom  \n",
       "3  2010/12/1 8:26       3.39    17850.00  United Kingdom  \n",
       "4  2010/12/1 8:26       3.39    17850.00  United Kingdom  "
      ]
     },
     "execution_count": 160,
     "metadata": {},
     "output_type": "execute_result"
    }
   ],
   "source": [
    "dataset.head()"
   ]
  },
  {
   "cell_type": "code",
   "execution_count": 161,
   "metadata": {
    "scrolled": true
   },
   "outputs": [
    {
     "data": {
      "text/plain": [
       "array(['United Kingdom', 'France', 'Australia', 'Netherlands', 'Germany',\n",
       "       'Norway', 'EIRE', 'Switzerland', 'Spain', 'Poland', 'Portugal',\n",
       "       'Italy', 'Belgium', 'Lithuania', 'Japan', 'Iceland',\n",
       "       'Channel Islands', 'Denmark', 'Cyprus', 'Sweden', 'Austria',\n",
       "       'Israel', 'Finland', 'Bahrain', 'Greece', 'Hong Kong', 'Singapore',\n",
       "       'Lebanon', 'United Arab Emirates', 'Saudi Arabia',\n",
       "       'Czech Republic', 'Canada', 'Unspecified', 'Brazil', 'USA',\n",
       "       'European Community', 'Malta', 'RSA'], dtype=object)"
      ]
     },
     "execution_count": 161,
     "metadata": {},
     "output_type": "execute_result"
    }
   ],
   "source": [
    "dataset.Country.unique()"
   ]
  },
  {
   "cell_type": "markdown",
   "metadata": {},
   "source": [
    "<a href='#Online-Retail'>Back To Top</a>"
   ]
  },
  {
   "cell_type": "markdown",
   "metadata": {},
   "source": [
    "---"
   ]
  },
  {
   "cell_type": "markdown",
   "metadata": {},
   "source": [
    "## 3. Data Preprocessing\n",
    "1. Drop Duplicates\n",
    "2. Missing Value\n",
    "    - CustomerID：135037\n",
    "    - Description：1454\n",
    "3. Outlier\n",
    "3. Date -> Year/Month/Hour\n",
    "\n",
    "方法|刪除多少筆資料|剩多少筆資料\n",
    ":---:|:---:|:---:\n",
    "Drop Duplicates|5,268|536,641\n",
    "Missing Value|135,037|401,604\n",
    "Outlier(Quantity + UnitPrice)|8,912|392,692\n",
    "Drop Date After 2011-11-30|17,026|375,666"
   ]
  },
  {
   "cell_type": "markdown",
   "metadata": {},
   "source": [
    "### 3.1 Drop Duplicates"
   ]
  },
  {
   "cell_type": "code",
   "execution_count": 162,
   "metadata": {},
   "outputs": [
    {
     "name": "stdout",
     "output_type": "stream",
     "text": [
      "Drop Duplicates :  5268\n",
      "Dataset Now :  536641\n"
     ]
    }
   ],
   "source": [
    "dataset = dataset.drop_duplicates(subset=['InvoiceNo','StockCode','Description','Quantity','InvoiceDate','UnitPrice','CustomerID','Country'])\n",
    "duplicates_length = 541909-dataset.shape[0]\n",
    "print('Drop Duplicates : ', duplicates_length)\n",
    "print('Dataset Now : ', dataset.shape[0])"
   ]
  },
  {
   "cell_type": "markdown",
   "metadata": {},
   "source": [
    "---"
   ]
  },
  {
   "cell_type": "markdown",
   "metadata": {},
   "source": [
    "### 3.2 Missing Value"
   ]
  },
  {
   "cell_type": "code",
   "execution_count": 163,
   "metadata": {
    "scrolled": false
   },
   "outputs": [
    {
     "data": {
      "text/html": [
       "<div>\n",
       "<style scoped>\n",
       "    .dataframe tbody tr th:only-of-type {\n",
       "        vertical-align: middle;\n",
       "    }\n",
       "\n",
       "    .dataframe tbody tr th {\n",
       "        vertical-align: top;\n",
       "    }\n",
       "\n",
       "    .dataframe thead th {\n",
       "        text-align: right;\n",
       "    }\n",
       "</style>\n",
       "<table border=\"1\" class=\"dataframe\">\n",
       "  <thead>\n",
       "    <tr style=\"text-align: right;\">\n",
       "      <th></th>\n",
       "      <th>missing</th>\n",
       "    </tr>\n",
       "  </thead>\n",
       "  <tbody>\n",
       "    <tr>\n",
       "      <td>CustomerID</td>\n",
       "      <td>135037</td>\n",
       "    </tr>\n",
       "    <tr>\n",
       "      <td>Description</td>\n",
       "      <td>1454</td>\n",
       "    </tr>\n",
       "  </tbody>\n",
       "</table>\n",
       "</div>"
      ],
      "text/plain": [
       "             missing\n",
       "CustomerID    135037\n",
       "Description     1454"
      ]
     },
     "metadata": {},
     "output_type": "display_data"
    }
   ],
   "source": [
    "def na_check(df):\n",
    "    missing_data = pd.DataFrame(dataset.isnull().sum(), columns=['missing'])\n",
    "    missing_data = missing_data.sort_values(ascending=False, by=['missing'])\n",
    "    missing_data = missing_data[missing_data['missing']>0]\n",
    "    display(missing_data)\n",
    "na_check(dataset)"
   ]
  },
  {
   "cell_type": "markdown",
   "metadata": {},
   "source": [
    "#### 因為要研究用戶的消費行為以及產品的銷售情況，所以把用戶ID或者產品ID缺失的數據刪除。"
   ]
  },
  {
   "cell_type": "code",
   "execution_count": 164,
   "metadata": {},
   "outputs": [
    {
     "name": "stdout",
     "output_type": "stream",
     "text": [
      "Drop Missing Value:  135037\n",
      "Dataset Now :  401604\n"
     ]
    }
   ],
   "source": [
    "dataset = dataset.dropna(subset=['InvoiceNo','CustomerID'],how='any')\n",
    "missing_length = 541909-duplicates_length-dataset.shape[0]\n",
    "print('Drop Missing Value: ',missing_length)\n",
    "print('Dataset Now : ', dataset.shape[0])"
   ]
  },
  {
   "cell_type": "markdown",
   "metadata": {},
   "source": [
    "---"
   ]
  },
  {
   "cell_type": "markdown",
   "metadata": {},
   "source": [
    "### 3.3 Outlier"
   ]
  },
  {
   "cell_type": "code",
   "execution_count": 165,
   "metadata": {},
   "outputs": [
    {
     "data": {
      "text/html": [
       "<div>\n",
       "<style scoped>\n",
       "    .dataframe tbody tr th:only-of-type {\n",
       "        vertical-align: middle;\n",
       "    }\n",
       "\n",
       "    .dataframe tbody tr th {\n",
       "        vertical-align: top;\n",
       "    }\n",
       "\n",
       "    .dataframe thead th {\n",
       "        text-align: right;\n",
       "    }\n",
       "</style>\n",
       "<table border=\"1\" class=\"dataframe\">\n",
       "  <thead>\n",
       "    <tr style=\"text-align: right;\">\n",
       "      <th></th>\n",
       "      <th>Quantity</th>\n",
       "      <th>UnitPrice</th>\n",
       "      <th>CustomerID</th>\n",
       "    </tr>\n",
       "  </thead>\n",
       "  <tbody>\n",
       "    <tr>\n",
       "      <td>count</td>\n",
       "      <td>401604.00</td>\n",
       "      <td>401604.00</td>\n",
       "      <td>401604.00</td>\n",
       "    </tr>\n",
       "    <tr>\n",
       "      <td>mean</td>\n",
       "      <td>12.18</td>\n",
       "      <td>3.47</td>\n",
       "      <td>15281.16</td>\n",
       "    </tr>\n",
       "    <tr>\n",
       "      <td>std</td>\n",
       "      <td>250.28</td>\n",
       "      <td>69.76</td>\n",
       "      <td>1714.01</td>\n",
       "    </tr>\n",
       "    <tr>\n",
       "      <td>min</td>\n",
       "      <td>-80995.00</td>\n",
       "      <td>0.00</td>\n",
       "      <td>12346.00</td>\n",
       "    </tr>\n",
       "    <tr>\n",
       "      <td>25%</td>\n",
       "      <td>2.00</td>\n",
       "      <td>1.25</td>\n",
       "      <td>13939.00</td>\n",
       "    </tr>\n",
       "    <tr>\n",
       "      <td>50%</td>\n",
       "      <td>5.00</td>\n",
       "      <td>1.95</td>\n",
       "      <td>15145.00</td>\n",
       "    </tr>\n",
       "    <tr>\n",
       "      <td>75%</td>\n",
       "      <td>12.00</td>\n",
       "      <td>3.75</td>\n",
       "      <td>16784.00</td>\n",
       "    </tr>\n",
       "    <tr>\n",
       "      <td>max</td>\n",
       "      <td>80995.00</td>\n",
       "      <td>38970.00</td>\n",
       "      <td>18287.00</td>\n",
       "    </tr>\n",
       "  </tbody>\n",
       "</table>\n",
       "</div>"
      ],
      "text/plain": [
       "       Quantity  UnitPrice  CustomerID\n",
       "count 401604.00  401604.00   401604.00\n",
       "mean      12.18       3.47    15281.16\n",
       "std      250.28      69.76     1714.01\n",
       "min   -80995.00       0.00    12346.00\n",
       "25%        2.00       1.25    13939.00\n",
       "50%        5.00       1.95    15145.00\n",
       "75%       12.00       3.75    16784.00\n",
       "max    80995.00   38970.00    18287.00"
      ]
     },
     "execution_count": 165,
     "metadata": {},
     "output_type": "execute_result"
    }
   ],
   "source": [
    "dataset.describe()"
   ]
  },
  {
   "cell_type": "markdown",
   "metadata": {},
   "source": [
    "#### Quantity, UnitPrice\n",
    "\n",
    "1. 購買產品的數量最小值為-8095\n",
    "2. 單品單價為0\n",
    "\n",
    "-> 將這兩個不符合實際情況的異常值刪除"
   ]
  },
  {
   "cell_type": "code",
   "execution_count": 166,
   "metadata": {},
   "outputs": [
    {
     "name": "stdout",
     "output_type": "stream",
     "text": [
      "Drop Quantity <0 :  8872\n",
      "Drop UnitPrice <0 :  40\n",
      "Drop Quantity + UnitPrice： 8912\n",
      "Dataset Now :  392692\n"
     ]
    }
   ],
   "source": [
    "Quantity_num = len(dataset[dataset['Quantity']<0])\n",
    "UnitPrice_num = len(dataset[dataset['UnitPrice']<=0])\n",
    "dataset = dataset[dataset['Quantity']>0]\n",
    "dataset = dataset[dataset['UnitPrice']>0]\n",
    "\n",
    "print('Drop Quantity <0 : ', Quantity_num)\n",
    "print('Drop UnitPrice <0 : ', UnitPrice_num)\n",
    "print('Drop Quantity + UnitPrice：', Quantity_num+UnitPrice_num)\n",
    "print('Dataset Now : ', dataset.shape[0])"
   ]
  },
  {
   "cell_type": "markdown",
   "metadata": {},
   "source": [
    "---"
   ]
  },
  {
   "cell_type": "markdown",
   "metadata": {},
   "source": [
    "### 3.4 Date -> Year/Month/Hour"
   ]
  },
  {
   "cell_type": "markdown",
   "metadata": {},
   "source": [
    "#### 把Date這個變數，再細分出Year/Month/Hour，以便後續資料視覺化"
   ]
  },
  {
   "cell_type": "code",
   "execution_count": 167,
   "metadata": {},
   "outputs": [],
   "source": [
    "dataset['Year'] = dataset['InvoiceDate'].map(lambda x:x.split('/')[0])\n",
    "dataset['Month'] = dataset['InvoiceDate'].map(lambda x:x.split('/')[1])\n",
    "dataset['Date'] = dataset['InvoiceDate'].map(lambda x:x.split('/')[2].split(' ')[0])\n",
    "dataset['Hour'] = dataset['InvoiceDate'].map(lambda x:x.split(' ')[1].split(':')[0])\n",
    "dataset['Yaer_Month'] = dataset['Year'] + '-' + dataset['Month'] \n"
   ]
  },
  {
   "cell_type": "code",
   "execution_count": 168,
   "metadata": {},
   "outputs": [],
   "source": [
    "dataset.loc[:,'InvoiceDate']=pd.to_datetime(dataset.loc[:,'InvoiceDate'],\n",
    "                                                   format='%Y-%m-%d',\n",
    "                                                   errors='coerce')"
   ]
  },
  {
   "cell_type": "code",
   "execution_count": 169,
   "metadata": {},
   "outputs": [],
   "source": [
    "dataset['Week'] = dataset['InvoiceDate'].map(lambda x:x.weekday())+1"
   ]
  },
  {
   "cell_type": "code",
   "execution_count": 170,
   "metadata": {},
   "outputs": [
    {
     "data": {
      "text/html": [
       "<div>\n",
       "<style scoped>\n",
       "    .dataframe tbody tr th:only-of-type {\n",
       "        vertical-align: middle;\n",
       "    }\n",
       "\n",
       "    .dataframe tbody tr th {\n",
       "        vertical-align: top;\n",
       "    }\n",
       "\n",
       "    .dataframe thead th {\n",
       "        text-align: right;\n",
       "    }\n",
       "</style>\n",
       "<table border=\"1\" class=\"dataframe\">\n",
       "  <thead>\n",
       "    <tr style=\"text-align: right;\">\n",
       "      <th></th>\n",
       "      <th>InvoiceNo</th>\n",
       "      <th>StockCode</th>\n",
       "      <th>Description</th>\n",
       "      <th>Quantity</th>\n",
       "      <th>InvoiceDate</th>\n",
       "      <th>UnitPrice</th>\n",
       "      <th>CustomerID</th>\n",
       "      <th>Country</th>\n",
       "      <th>Year</th>\n",
       "      <th>Month</th>\n",
       "      <th>Date</th>\n",
       "      <th>Hour</th>\n",
       "      <th>Yaer_Month</th>\n",
       "      <th>Week</th>\n",
       "    </tr>\n",
       "  </thead>\n",
       "  <tbody>\n",
       "    <tr>\n",
       "      <td>541904</td>\n",
       "      <td>581587</td>\n",
       "      <td>22613</td>\n",
       "      <td>PACK OF 20 SPACEBOY NAPKINS</td>\n",
       "      <td>12</td>\n",
       "      <td>2011-12-09 12:50:00</td>\n",
       "      <td>0.85</td>\n",
       "      <td>12680.00</td>\n",
       "      <td>France</td>\n",
       "      <td>2011</td>\n",
       "      <td>12</td>\n",
       "      <td>9</td>\n",
       "      <td>12</td>\n",
       "      <td>2011-12</td>\n",
       "      <td>5</td>\n",
       "    </tr>\n",
       "    <tr>\n",
       "      <td>541905</td>\n",
       "      <td>581587</td>\n",
       "      <td>22899</td>\n",
       "      <td>CHILDREN'S APRON DOLLY GIRL</td>\n",
       "      <td>6</td>\n",
       "      <td>2011-12-09 12:50:00</td>\n",
       "      <td>2.10</td>\n",
       "      <td>12680.00</td>\n",
       "      <td>France</td>\n",
       "      <td>2011</td>\n",
       "      <td>12</td>\n",
       "      <td>9</td>\n",
       "      <td>12</td>\n",
       "      <td>2011-12</td>\n",
       "      <td>5</td>\n",
       "    </tr>\n",
       "    <tr>\n",
       "      <td>541906</td>\n",
       "      <td>581587</td>\n",
       "      <td>23254</td>\n",
       "      <td>CHILDRENS CUTLERY DOLLY GIRL</td>\n",
       "      <td>4</td>\n",
       "      <td>2011-12-09 12:50:00</td>\n",
       "      <td>4.15</td>\n",
       "      <td>12680.00</td>\n",
       "      <td>France</td>\n",
       "      <td>2011</td>\n",
       "      <td>12</td>\n",
       "      <td>9</td>\n",
       "      <td>12</td>\n",
       "      <td>2011-12</td>\n",
       "      <td>5</td>\n",
       "    </tr>\n",
       "    <tr>\n",
       "      <td>541907</td>\n",
       "      <td>581587</td>\n",
       "      <td>23255</td>\n",
       "      <td>CHILDRENS CUTLERY CIRCUS PARADE</td>\n",
       "      <td>4</td>\n",
       "      <td>2011-12-09 12:50:00</td>\n",
       "      <td>4.15</td>\n",
       "      <td>12680.00</td>\n",
       "      <td>France</td>\n",
       "      <td>2011</td>\n",
       "      <td>12</td>\n",
       "      <td>9</td>\n",
       "      <td>12</td>\n",
       "      <td>2011-12</td>\n",
       "      <td>5</td>\n",
       "    </tr>\n",
       "    <tr>\n",
       "      <td>541908</td>\n",
       "      <td>581587</td>\n",
       "      <td>22138</td>\n",
       "      <td>BAKING SET 9 PIECE RETROSPOT</td>\n",
       "      <td>3</td>\n",
       "      <td>2011-12-09 12:50:00</td>\n",
       "      <td>4.95</td>\n",
       "      <td>12680.00</td>\n",
       "      <td>France</td>\n",
       "      <td>2011</td>\n",
       "      <td>12</td>\n",
       "      <td>9</td>\n",
       "      <td>12</td>\n",
       "      <td>2011-12</td>\n",
       "      <td>5</td>\n",
       "    </tr>\n",
       "  </tbody>\n",
       "</table>\n",
       "</div>"
      ],
      "text/plain": [
       "       InvoiceNo StockCode                      Description  Quantity  \\\n",
       "541904    581587     22613      PACK OF 20 SPACEBOY NAPKINS        12   \n",
       "541905    581587     22899     CHILDREN'S APRON DOLLY GIRL          6   \n",
       "541906    581587     23254    CHILDRENS CUTLERY DOLLY GIRL          4   \n",
       "541907    581587     23255  CHILDRENS CUTLERY CIRCUS PARADE         4   \n",
       "541908    581587     22138    BAKING SET 9 PIECE RETROSPOT          3   \n",
       "\n",
       "               InvoiceDate  UnitPrice  CustomerID Country  Year Month Date  \\\n",
       "541904 2011-12-09 12:50:00       0.85    12680.00  France  2011    12    9   \n",
       "541905 2011-12-09 12:50:00       2.10    12680.00  France  2011    12    9   \n",
       "541906 2011-12-09 12:50:00       4.15    12680.00  France  2011    12    9   \n",
       "541907 2011-12-09 12:50:00       4.15    12680.00  France  2011    12    9   \n",
       "541908 2011-12-09 12:50:00       4.95    12680.00  France  2011    12    9   \n",
       "\n",
       "       Hour Yaer_Month  Week  \n",
       "541904   12    2011-12     5  \n",
       "541905   12    2011-12     5  \n",
       "541906   12    2011-12     5  \n",
       "541907   12    2011-12     5  \n",
       "541908   12    2011-12     5  "
      ]
     },
     "execution_count": 170,
     "metadata": {},
     "output_type": "execute_result"
    }
   ],
   "source": [
    "dataset.tail()"
   ]
  },
  {
   "cell_type": "markdown",
   "metadata": {},
   "source": [
    "---"
   ]
  },
  {
   "cell_type": "markdown",
   "metadata": {},
   "source": [
    "### 3.5 Date Before 2011-12-01"
   ]
  },
  {
   "cell_type": "code",
   "execution_count": 171,
   "metadata": {},
   "outputs": [
    {
     "name": "stdout",
     "output_type": "stream",
     "text": [
      "Data After 2011-12-01 :  17026\n",
      "Dataset Now :  375666\n"
     ]
    }
   ],
   "source": [
    "After_20111201_num = len(dataset[(dataset.loc[:,'Year']=='2011') & (dataset.loc[:,'Month']=='12')])\n",
    "dataset = dataset[-((dataset.loc[:,'Year']=='2011') & (dataset.loc[:,'Month']=='12'))]\n",
    "\n",
    "print('Data After 2011-12-01 : ', After_20111201_num)\n",
    "print('Dataset Now : ', dataset.shape[0])"
   ]
  },
  {
   "cell_type": "markdown",
   "metadata": {},
   "source": [
    "---"
   ]
  },
  {
   "cell_type": "markdown",
   "metadata": {},
   "source": [
    "<a href='#Online-Retail'>Back To Top</a>"
   ]
  },
  {
   "cell_type": "markdown",
   "metadata": {},
   "source": [
    "## 4. Analyze Data\n",
    "\n",
    "1. 月份交易數\n",
    "2. 星期交易數\n",
    "3. 小時交易數"
   ]
  },
  {
   "cell_type": "code",
   "execution_count": 174,
   "metadata": {},
   "outputs": [],
   "source": [
    "dataset['Description'] = dataset['Description'].str.title()"
   ]
  },
  {
   "cell_type": "markdown",
   "metadata": {},
   "source": [
    "計算結果顯示2011年9月、10月、11月的銷售單數穩步增長，2011年11月達到最高值2657單，懷疑平台年末促銷或者換季用戶大量購買冬季產品導致，可以通過查詢銷售額佔比最高的產品確認。"
   ]
  },
  {
   "cell_type": "code",
   "execution_count": 184,
   "metadata": {},
   "outputs": [],
   "source": [
    "dataset['Amount'] = dataset.Quantity * dataset.UnitPrice\n",
    "monthly_sales = dataset.groupby(['Yaer_Month'])['Amount'].sum()\n",
    "monthly_sales.to_frame().to_csv('monthly_sales.csv')\n",
    "monthly_sales = pd.read_csv('monthly_sales.csv')\n",
    "monthly_sales['index'] =  ['01', '02', '11', '12', '03', '04', '05', '06', '07', '08', '09', '10']\n",
    "monthly_sales = monthly_sales.sort_values(by=['index']).drop(['index'], axis=1)"
   ]
  },
  {
   "cell_type": "code",
   "execution_count": 192,
   "metadata": {},
   "outputs": [
    {
     "data": {
      "image/png": "[encoded data removed]",
      "text/plain": [
       "<Figure size 720x360 with 1 Axes>"
      ]
     },
     "metadata": {},
     "output_type": "display_data"
    }
   ],
   "source": [
    "fig, ax = plt.subplots(figsize=(10,5))\n",
    "sns.set(font_scale =1.2)\n",
    "\n",
    "sns.barplot(x=\"Yaer_Month\", y=\"Amount\", data=monthly_sales) \n",
    "ax.set_title('Monthly Transaction')\n",
    "ax.set_xticklabels(ax.get_xticklabels(),rotation=20)\n",
    "plt.show()"
   ]
  },
  {
   "cell_type": "code",
   "execution_count": 188,
   "metadata": {},
   "outputs": [],
   "source": [
    "# InvoiceNo包含同一個人買的不同東西，所以要用unique InvoiceNo去計算\n",
    "Unique_InvoiceNo=dataset.drop_duplicates(subset=['InvoiceNo'])\n",
    "monthly_trans=Unique_InvoiceNo.groupby(['Yaer_Month'])['InvoiceNo'].count()\n",
    "monthly_trans.to_frame().to_csv('monthly_trans.csv')\n",
    "monthly_trans = pd.read_csv('monthly_trans.csv')\n",
    "monthly_trans['index'] =  ['01', '02', '11', '12', '03', '04', '05', '06', '07', '08', '09', '10']\n",
    "monthly_trans = monthly_trans.sort_values(by=['index']).drop(['index'], axis=1)"
   ]
  },
  {
   "cell_type": "code",
   "execution_count": 189,
   "metadata": {},
   "outputs": [
    {
     "data": {
      "image/png": "[encoded data removed]",
      "text/plain": [
       "<Figure size 720x360 with 1 Axes>"
      ]
     },
     "metadata": {},
     "output_type": "display_data"
    }
   ],
   "source": [
    "fig, ax = plt.subplots(figsize=(10,5))\n",
    "sns.set(font_scale =1.2)\n",
    "\n",
    "sns.barplot(x=\"Yaer_Month\", y=\"InvoiceNo\", data=monthly_trans) \n",
    "ax.set_title('Monthly Transaction')\n",
    "ax.set_xticklabels(ax.get_xticklabels(),rotation=20)\n",
    "plt.show()"
   ]
  },
  {
   "cell_type": "code",
   "execution_count": 193,
   "metadata": {},
   "outputs": [
    {
     "data": {
      "text/plain": [
       "Week\n",
       "1    2747\n",
       "2    3074\n",
       "3    3351\n",
       "4    3801\n",
       "5    2674\n",
       "7    2107\n",
       "Name: InvoiceNo, dtype: int64"
      ]
     },
     "execution_count": 193,
     "metadata": {},
     "output_type": "execute_result"
    }
   ],
   "source": [
    "Unique_InvoiceNo=dataset.drop_duplicates(subset=['InvoiceNo'])\n",
    "weekly_trans=Unique_InvoiceNo.groupby(['Week'])['InvoiceNo'].count()\n",
    "weekly_trans"
   ]
  },
  {
   "cell_type": "code",
   "execution_count": 194,
   "metadata": {},
   "outputs": [
    {
     "data": {
      "image/png": "[encoded data removed]",
      "text/plain": [
       "<Figure size 504x288 with 1 Axes>"
      ]
     },
     "metadata": {},
     "output_type": "display_data"
    }
   ],
   "source": [
    "fig,ax = plt.subplots(figsize=(7,4))\n",
    "x = ['Mon', 'Tue','Wed','Thur','Fri','Sun']\n",
    "y = weekly_trans\n",
    "plt.plot(x,y)\n",
    "plt.xlabel('Week')\n",
    "plt.ylabel('Weekly Transaction')\n",
    "plt.show()"
   ]
  },
  {
   "cell_type": "code",
   "execution_count": 195,
   "metadata": {},
   "outputs": [],
   "source": [
    "Unique_InvoiceNo=dataset.drop_duplicates(subset=['InvoiceNo'])\n",
    "hourly_trans=Unique_InvoiceNo.groupby(['Hour'])['InvoiceNo'].count()\n",
    "hourly_trans.to_frame().to_csv('hourly_trans.csv')\n",
    "hourly_trans = pd.read_csv('hourly_trans.csv')\n",
    "hourly_trans = hourly_trans.sort_values(by=['Hour'])"
   ]
  },
  {
   "cell_type": "code",
   "execution_count": 196,
   "metadata": {},
   "outputs": [
    {
     "data": {
      "image/png": "[encoded data removed]",
      "text/plain": [
       "<Figure size 720x360 with 1 Axes>"
      ]
     },
     "metadata": {},
     "output_type": "display_data"
    }
   ],
   "source": [
    "fig, ax = plt.subplots(figsize=(10,5))\n",
    "sns.set(font_scale =1.2)\n",
    "\n",
    "sns.barplot(x=\"Hour\", y=\"InvoiceNo\", data=hourly_trans) \n",
    "ax.set_title('Hourly Transaction')\n",
    "ax.set_xticklabels(ax.get_xticklabels())\n",
    "plt.show()"
   ]
  },
  {
   "cell_type": "code",
   "execution_count": 114,
   "metadata": {},
   "outputs": [
    {
     "data": {
      "text/html": [
       "<div>\n",
       "<style scoped>\n",
       "    .dataframe tbody tr th:only-of-type {\n",
       "        vertical-align: middle;\n",
       "    }\n",
       "\n",
       "    .dataframe tbody tr th {\n",
       "        vertical-align: top;\n",
       "    }\n",
       "\n",
       "    .dataframe thead th {\n",
       "        text-align: right;\n",
       "    }\n",
       "</style>\n",
       "<table border=\"1\" class=\"dataframe\">\n",
       "  <thead>\n",
       "    <tr style=\"text-align: right;\">\n",
       "      <th></th>\n",
       "      <th>Description</th>\n",
       "      <th>Quantity</th>\n",
       "      <th>Description_Chinese</th>\n",
       "      <th>Description_Short</th>\n",
       "    </tr>\n",
       "  </thead>\n",
       "  <tbody>\n",
       "    <tr>\n",
       "      <td>1986</td>\n",
       "      <td>Medium Ceramic Top Storage Jar</td>\n",
       "      <td>77729</td>\n",
       "      <td>玻璃罐</td>\n",
       "      <td>Storage Jar</td>\n",
       "    </tr>\n",
       "    <tr>\n",
       "      <td>3777</td>\n",
       "      <td>World War 2 Gliders Asstd Designs</td>\n",
       "      <td>52956</td>\n",
       "      <td>滑翔機</td>\n",
       "      <td>Gliders</td>\n",
       "    </tr>\n",
       "    <tr>\n",
       "      <td>1761</td>\n",
       "      <td>Jumbo Bag Red Retrospot</td>\n",
       "      <td>45023</td>\n",
       "      <td>紅色紙袋</td>\n",
       "      <td>Red Bag</td>\n",
       "    </tr>\n",
       "    <tr>\n",
       "      <td>3689</td>\n",
       "      <td>White Hanging Heart T-Light Holder</td>\n",
       "      <td>35961</td>\n",
       "      <td>心型白色燈飾</td>\n",
       "      <td>Heart Light Holder</td>\n",
       "    </tr>\n",
       "    <tr>\n",
       "      <td>216</td>\n",
       "      <td>Assorted Colour Bird Ornament</td>\n",
       "      <td>33989</td>\n",
       "      <td>裝飾鳥</td>\n",
       "      <td>Bird Ornament</td>\n",
       "    </tr>\n",
       "    <tr>\n",
       "      <td>2262</td>\n",
       "      <td>Pack Of 72 Retrospot Cake Cases</td>\n",
       "      <td>33386</td>\n",
       "      <td>72個杯子蛋糕盒</td>\n",
       "      <td>72 Cake Cases</td>\n",
       "    </tr>\n",
       "    <tr>\n",
       "      <td>2041</td>\n",
       "      <td>Mini Paint Set Vintage</td>\n",
       "      <td>25785</td>\n",
       "      <td>迷你調色盤</td>\n",
       "      <td>Mini Paint</td>\n",
       "    </tr>\n",
       "    <tr>\n",
       "      <td>2591</td>\n",
       "      <td>Popcorn Holder</td>\n",
       "      <td>25557</td>\n",
       "      <td>爆米花袋</td>\n",
       "      <td>Popcorn Holder</td>\n",
       "    </tr>\n",
       "    <tr>\n",
       "      <td>2228</td>\n",
       "      <td>Pack Of 12 London Tissues</td>\n",
       "      <td>24712</td>\n",
       "      <td>12包裝衛生紙</td>\n",
       "      <td>Tissues</td>\n",
       "    </tr>\n",
       "    <tr>\n",
       "      <td>2260</td>\n",
       "      <td>Pack Of 60 Pink Paisley Cake Cases</td>\n",
       "      <td>24014</td>\n",
       "      <td>60個杯子蛋糕盒</td>\n",
       "      <td>60 Cake Cases</td>\n",
       "    </tr>\n",
       "  </tbody>\n",
       "</table>\n",
       "</div>"
      ],
      "text/plain": [
       "                             Description  Quantity Description_Chinese  \\\n",
       "1986      Medium Ceramic Top Storage Jar     77729                 玻璃罐   \n",
       "3777   World War 2 Gliders Asstd Designs     52956                 滑翔機   \n",
       "1761             Jumbo Bag Red Retrospot     45023                紅色紙袋   \n",
       "3689  White Hanging Heart T-Light Holder     35961              心型白色燈飾   \n",
       "216        Assorted Colour Bird Ornament     33989                 裝飾鳥   \n",
       "2262     Pack Of 72 Retrospot Cake Cases     33386            72個杯子蛋糕盒   \n",
       "2041             Mini Paint Set Vintage      25785               迷你調色盤   \n",
       "2591                      Popcorn Holder     25557                爆米花袋   \n",
       "2228          Pack Of 12 London Tissues      24712             12包裝衛生紙   \n",
       "2260  Pack Of 60 Pink Paisley Cake Cases     24014            60個杯子蛋糕盒   \n",
       "\n",
       "       Description_Short  \n",
       "1986         Storage Jar  \n",
       "3777             Gliders  \n",
       "1761             Red Bag  \n",
       "3689  Heart Light Holder  \n",
       "216        Bird Ornament  \n",
       "2262       72 Cake Cases  \n",
       "2041          Mini Paint  \n",
       "2591      Popcorn Holder  \n",
       "2228             Tissues  \n",
       "2260       60 Cake Cases  "
      ]
     },
     "execution_count": 114,
     "metadata": {},
     "output_type": "execute_result"
    }
   ],
   "source": [
    "Top_trans = dataset.groupby(['Description'])['Quantity'].sum()\n",
    "Top_trans.to_frame().to_csv('Top_trans.csv')\n",
    "Top_trans = pd.read_csv('Top_trans.csv')\n",
    "Top_trans = Top_trans.sort_values(['Quantity'], ascending=False)[:10]\n",
    "Top_trans['Description_Chinese'] = ['玻璃罐', '滑翔機', '紅色紙袋', '心型白色燈飾', '裝飾鳥', '72個杯子蛋糕盒', '迷你調色盤', '爆米花袋', '12包裝衛生紙', '60個杯子蛋糕盒']\n",
    "Top_trans['Description_Short'] = ['Storage Jar', 'Gliders', 'Red Bag', 'Heart Light Holder', 'Bird Ornament', '72 Cake Cases', 'Mini Paint', 'Popcorn Holder', 'Tissues', '60 Cake Cases']\n",
    "Top_trans"
   ]
  },
  {
   "cell_type": "code",
   "execution_count": 115,
   "metadata": {},
   "outputs": [
    {
     "data": {
      "image/png": "[encoded data removed]",
      "text/plain": [
       "<Figure size 1440x576 with 1 Axes>"
      ]
     },
     "metadata": {},
     "output_type": "display_data"
    }
   ],
   "source": [
    "fig, ax = plt.subplots(figsize=(20,8))\n",
    "sns.set(font_scale =1.2)\n",
    "\n",
    "sns.barplot(x=\"Description_Short\", y=\"Quantity\", data=Top_trans, orient='H') \n",
    "ax.set_title('Hourly Transaction')\n",
    "ax.set_xticklabels(ax.get_xticklabels())\n",
    "plt.show()"
   ]
  },
  {
   "cell_type": "code",
   "execution_count": 116,
   "metadata": {},
   "outputs": [],
   "source": [
    "num = dataset['Quantity'].quantile(.999)"
   ]
  },
  {
   "cell_type": "code",
   "execution_count": 117,
   "metadata": {},
   "outputs": [],
   "source": [
    "new = dataset[dataset['Quantity']<=504]"
   ]
  },
  {
   "cell_type": "code",
   "execution_count": 118,
   "metadata": {},
   "outputs": [
    {
     "data": {
      "text/html": [
       "<div>\n",
       "<style scoped>\n",
       "    .dataframe tbody tr th:only-of-type {\n",
       "        vertical-align: middle;\n",
       "    }\n",
       "\n",
       "    .dataframe tbody tr th {\n",
       "        vertical-align: top;\n",
       "    }\n",
       "\n",
       "    .dataframe thead th {\n",
       "        text-align: right;\n",
       "    }\n",
       "</style>\n",
       "<table border=\"1\" class=\"dataframe\">\n",
       "  <thead>\n",
       "    <tr style=\"text-align: right;\">\n",
       "      <th></th>\n",
       "      <th>Description</th>\n",
       "      <th>Quantity</th>\n",
       "    </tr>\n",
       "  </thead>\n",
       "  <tbody>\n",
       "    <tr>\n",
       "      <td>1761</td>\n",
       "      <td>Jumbo Bag Red Retrospot</td>\n",
       "      <td>41823</td>\n",
       "    </tr>\n",
       "    <tr>\n",
       "      <td>3776</td>\n",
       "      <td>World War 2 Gliders Asstd Designs</td>\n",
       "      <td>29532</td>\n",
       "    </tr>\n",
       "    <tr>\n",
       "      <td>3688</td>\n",
       "      <td>White Hanging Heart T-Light Holder</td>\n",
       "      <td>28979</td>\n",
       "    </tr>\n",
       "    <tr>\n",
       "      <td>216</td>\n",
       "      <td>Assorted Colour Bird Ornament</td>\n",
       "      <td>28941</td>\n",
       "    </tr>\n",
       "    <tr>\n",
       "      <td>2262</td>\n",
       "      <td>Pack Of 72 Retrospot Cake Cases</td>\n",
       "      <td>27026</td>\n",
       "    </tr>\n",
       "    <tr>\n",
       "      <td>3524</td>\n",
       "      <td>Victorian Glass Hanging T-Light</td>\n",
       "      <td>19545</td>\n",
       "    </tr>\n",
       "    <tr>\n",
       "      <td>1759</td>\n",
       "      <td>Jumbo Bag Pink Polkadot</td>\n",
       "      <td>18219</td>\n",
       "    </tr>\n",
       "    <tr>\n",
       "      <td>1936</td>\n",
       "      <td>Lunch Bag Red Retrospot</td>\n",
       "      <td>17219</td>\n",
       "    </tr>\n",
       "    <tr>\n",
       "      <td>2591</td>\n",
       "      <td>Popcorn Holder</td>\n",
       "      <td>17165</td>\n",
       "    </tr>\n",
       "    <tr>\n",
       "      <td>2260</td>\n",
       "      <td>Pack Of 60 Pink Paisley Cake Cases</td>\n",
       "      <td>16634</td>\n",
       "    </tr>\n",
       "  </tbody>\n",
       "</table>\n",
       "</div>"
      ],
      "text/plain": [
       "                             Description  Quantity\n",
       "1761             Jumbo Bag Red Retrospot     41823\n",
       "3776   World War 2 Gliders Asstd Designs     29532\n",
       "3688  White Hanging Heart T-Light Holder     28979\n",
       "216        Assorted Colour Bird Ornament     28941\n",
       "2262     Pack Of 72 Retrospot Cake Cases     27026\n",
       "3524     Victorian Glass Hanging T-Light     19545\n",
       "1759             Jumbo Bag Pink Polkadot     18219\n",
       "1936             Lunch Bag Red Retrospot     17219\n",
       "2591                      Popcorn Holder     17165\n",
       "2260  Pack Of 60 Pink Paisley Cake Cases     16634"
      ]
     },
     "execution_count": 118,
     "metadata": {},
     "output_type": "execute_result"
    }
   ],
   "source": [
    "Top_trans = new.groupby(['Description'])['Quantity'].sum()\n",
    "Top_trans.to_frame().to_csv('Top_trans.csv')\n",
    "Top_trans = pd.read_csv('Top_trans.csv')\n",
    "Top_trans = Top_trans.sort_values(['Quantity'], ascending=False)[:10]\n",
    "Top_trans"
   ]
  },
  {
   "cell_type": "markdown",
   "metadata": {},
   "source": [
    "Jumbo bag red retpospot 銷量在八月達到高峰，且持續維持高檔，可能是九月之後國外節慶較多，像是十月的萬聖節、十一月的感恩節、十二月的聖誕節。都需要有送禮的需求，因此紙袋銷量暴增。\n",
    "\n",
    "Assprted cp;our bird ornament 銷量於7月後直線上升，且在11月達到高峰，可能是因為感恩節與聖誕節要到了因此買裝飾品裝飾家裡。\n",
    "\n",
    "World war 2 gliders asstd designs從年初銷量持續穩定的增加，這種小玩具在Amazon屬於前100的熱銷產品，上網去查了一下他已經賣出約1,084,303 件，價格較便宜且拿來送禮或買給小朋友玩都很適合。\n",
    "\n",
    "White hanging heart T-light holder在十一月銷量急遽上升，可能是需要送給太太或女朋友的聖誕禮物，且這種蠟燭座是使用電力來營造如蠟燭般的效果，更具有情調。\n",
    "\n",
    "Pack of 72 retrospot cake cases在三月與十二月銷量顯著大於其他月份，四月有復活節，十二月有聖誕節，兩個重要節慶外國人常常開派對慶祝，蛋糕紙因為烤蛋糕的需求上升而顯著增加。\n",
    "\n",
    "Victorian glass hanging T-light的每月銷量變化十分極端。\n",
    "\n",
    "Popcorn holder 在十一月銷量暴增，可能也是因應節慶需求。\n",
    "\n",
    "Rabbit night light 在11月銷量大增，可能也是受到節慶影響。\n",
    "\n",
    "Jumbo bag pink polkadot在六月到九月這段時間熱銷，可能是夏天大家戶外活動，進入冬天之後銷量顯著下滑。\n",
    "\n",
    "Lunch bag red retrospot在五月到八月這段時間熱銷，可能是夏天大家喜歡出去從事野餐等戶外活動，進入冬天之後銷量顯著下滑，表示野餐袋這產品可能會受到季節性因素影響。\n",
    "\n",
    "從上述十件年度熱銷產品的銷售月份變化發現，購物行為很容易受到節慶的影響而有顯著差異。\n",
    "\n"
   ]
  },
  {
   "cell_type": "markdown",
   "metadata": {},
   "source": [
    "<a href='#Online-Retail'>Back To Top</a>"
   ]
  },
  {
   "cell_type": "markdown",
   "metadata": {},
   "source": [
    "## 5. Apriori Algorithm"
   ]
  },
  {
   "cell_type": "markdown",
   "metadata": {},
   "source": [
    "### 1. Support (支持度) : 意思是某特定種類在所有種類的比重\n",
    "```\n",
    "例如我有100名會員，其中有20名購買過雨具，則support(雨具) = 20% 。\n",
    "```\n",
    "### 2. Confidence (信賴度) : 意思是某A種類中，含有某B種類的比重\n",
    "```\n",
    "例如我有100名會員，其中40人買過涼鞋，而這40買過涼鞋者當中，又另有10人買過雨具，\n",
    "則confidence(涼鞋->雨具) = 10/40 = 25% 。\n",
    "```\n",
    "### 3. Lift (提升度) : 意思為某兩者關係的比值\n",
    "```\n",
    "如果小於1 代表兩者是負相關，等於1 表示兩者獨立，大於1 表示兩者正相關，\n",
    "公式為confidence(A->B) / support(B) \n",
    "帶入上述例子可表示成 lift(涼鞋->雨具) = 25/20 = 1.25 \n",
    "```"
   ]
  },
  {
   "cell_type": "code",
   "execution_count": 119,
   "metadata": {},
   "outputs": [],
   "source": [
    "df = dataset.copy()"
   ]
  },
  {
   "cell_type": "code",
   "execution_count": 120,
   "metadata": {},
   "outputs": [],
   "source": [
    "df['Description'] = df['Description'].str.strip()\n",
    "df.dropna(axis=0, subset=['InvoiceNo'], inplace=True)\n",
    "df['InvoiceNo'] = df['InvoiceNo'].astype('str')\n",
    "df = df[~df['InvoiceNo'].str.contains('C')]"
   ]
  },
  {
   "cell_type": "code",
   "execution_count": 121,
   "metadata": {},
   "outputs": [],
   "source": [
    "basket = (df[df['Country'] ==\"France\"]\n",
    "          .groupby(['InvoiceNo', 'Description'])['Quantity']\n",
    "          .sum().unstack().reset_index().fillna(0)\n",
    "          .set_index('InvoiceNo'))"
   ]
  },
  {
   "cell_type": "code",
   "execution_count": 122,
   "metadata": {},
   "outputs": [
    {
     "data": {
      "text/html": [
       "<div>\n",
       "<style scoped>\n",
       "    .dataframe tbody tr th:only-of-type {\n",
       "        vertical-align: middle;\n",
       "    }\n",
       "\n",
       "    .dataframe tbody tr th {\n",
       "        vertical-align: top;\n",
       "    }\n",
       "\n",
       "    .dataframe thead th {\n",
       "        text-align: right;\n",
       "    }\n",
       "</style>\n",
       "<table border=\"1\" class=\"dataframe\">\n",
       "  <thead>\n",
       "    <tr style=\"text-align: right;\">\n",
       "      <th>Description</th>\n",
       "      <th>10 Colour Spaceboy Pen</th>\n",
       "      <th>12 Coloured Party Balloons</th>\n",
       "      <th>12 Egg House Painted Wood</th>\n",
       "      <th>12 Message Cards With Envelopes</th>\n",
       "      <th>12 Pencil Small Tube Woodland</th>\n",
       "      <th>12 Pencils Small Tube Red Retrospot</th>\n",
       "      <th>12 Pencils Small Tube Skull</th>\n",
       "      <th>12 Pencils Tall Tube Posy</th>\n",
       "      <th>12 Pencils Tall Tube Red Retrospot</th>\n",
       "      <th>12 Pencils Tall Tube Woodland</th>\n",
       "      <th>...</th>\n",
       "      <th>Wrap Suki And Friends</th>\n",
       "      <th>Wrap Vintage Petals  Design</th>\n",
       "      <th>Yellow Coat Rack Paris Fashion</th>\n",
       "      <th>Yellow Giant Garden Thermometer</th>\n",
       "      <th>Zinc  Star T-Light Holder</th>\n",
       "      <th>Zinc Folkart Sleigh Bells</th>\n",
       "      <th>Zinc Herb Garden Container</th>\n",
       "      <th>Zinc Metal Heart Decoration</th>\n",
       "      <th>Zinc T-Light Holder Star Large</th>\n",
       "      <th>Zinc T-Light Holder Stars Small</th>\n",
       "    </tr>\n",
       "    <tr>\n",
       "      <th>InvoiceNo</th>\n",
       "      <th></th>\n",
       "      <th></th>\n",
       "      <th></th>\n",
       "      <th></th>\n",
       "      <th></th>\n",
       "      <th></th>\n",
       "      <th></th>\n",
       "      <th></th>\n",
       "      <th></th>\n",
       "      <th></th>\n",
       "      <th></th>\n",
       "      <th></th>\n",
       "      <th></th>\n",
       "      <th></th>\n",
       "      <th></th>\n",
       "      <th></th>\n",
       "      <th></th>\n",
       "      <th></th>\n",
       "      <th></th>\n",
       "      <th></th>\n",
       "      <th></th>\n",
       "    </tr>\n",
       "  </thead>\n",
       "  <tbody>\n",
       "    <tr>\n",
       "      <td>536370</td>\n",
       "      <td>0.00</td>\n",
       "      <td>0.00</td>\n",
       "      <td>0.00</td>\n",
       "      <td>0.00</td>\n",
       "      <td>0.00</td>\n",
       "      <td>0.00</td>\n",
       "      <td>0.00</td>\n",
       "      <td>0.00</td>\n",
       "      <td>0.00</td>\n",
       "      <td>0.00</td>\n",
       "      <td>...</td>\n",
       "      <td>0.00</td>\n",
       "      <td>0.00</td>\n",
       "      <td>0.00</td>\n",
       "      <td>0.00</td>\n",
       "      <td>0.00</td>\n",
       "      <td>0.00</td>\n",
       "      <td>0.00</td>\n",
       "      <td>0.00</td>\n",
       "      <td>0.00</td>\n",
       "      <td>0.00</td>\n",
       "    </tr>\n",
       "    <tr>\n",
       "      <td>536852</td>\n",
       "      <td>0.00</td>\n",
       "      <td>0.00</td>\n",
       "      <td>0.00</td>\n",
       "      <td>0.00</td>\n",
       "      <td>0.00</td>\n",
       "      <td>0.00</td>\n",
       "      <td>0.00</td>\n",
       "      <td>0.00</td>\n",
       "      <td>0.00</td>\n",
       "      <td>0.00</td>\n",
       "      <td>...</td>\n",
       "      <td>0.00</td>\n",
       "      <td>0.00</td>\n",
       "      <td>0.00</td>\n",
       "      <td>0.00</td>\n",
       "      <td>0.00</td>\n",
       "      <td>0.00</td>\n",
       "      <td>0.00</td>\n",
       "      <td>0.00</td>\n",
       "      <td>0.00</td>\n",
       "      <td>0.00</td>\n",
       "    </tr>\n",
       "    <tr>\n",
       "      <td>536974</td>\n",
       "      <td>0.00</td>\n",
       "      <td>0.00</td>\n",
       "      <td>0.00</td>\n",
       "      <td>0.00</td>\n",
       "      <td>0.00</td>\n",
       "      <td>0.00</td>\n",
       "      <td>0.00</td>\n",
       "      <td>0.00</td>\n",
       "      <td>0.00</td>\n",
       "      <td>0.00</td>\n",
       "      <td>...</td>\n",
       "      <td>0.00</td>\n",
       "      <td>0.00</td>\n",
       "      <td>0.00</td>\n",
       "      <td>0.00</td>\n",
       "      <td>0.00</td>\n",
       "      <td>0.00</td>\n",
       "      <td>0.00</td>\n",
       "      <td>0.00</td>\n",
       "      <td>0.00</td>\n",
       "      <td>0.00</td>\n",
       "    </tr>\n",
       "    <tr>\n",
       "      <td>537065</td>\n",
       "      <td>0.00</td>\n",
       "      <td>0.00</td>\n",
       "      <td>0.00</td>\n",
       "      <td>0.00</td>\n",
       "      <td>0.00</td>\n",
       "      <td>0.00</td>\n",
       "      <td>0.00</td>\n",
       "      <td>0.00</td>\n",
       "      <td>0.00</td>\n",
       "      <td>0.00</td>\n",
       "      <td>...</td>\n",
       "      <td>0.00</td>\n",
       "      <td>0.00</td>\n",
       "      <td>0.00</td>\n",
       "      <td>0.00</td>\n",
       "      <td>0.00</td>\n",
       "      <td>0.00</td>\n",
       "      <td>0.00</td>\n",
       "      <td>0.00</td>\n",
       "      <td>0.00</td>\n",
       "      <td>0.00</td>\n",
       "    </tr>\n",
       "    <tr>\n",
       "      <td>537463</td>\n",
       "      <td>0.00</td>\n",
       "      <td>0.00</td>\n",
       "      <td>0.00</td>\n",
       "      <td>0.00</td>\n",
       "      <td>0.00</td>\n",
       "      <td>0.00</td>\n",
       "      <td>0.00</td>\n",
       "      <td>0.00</td>\n",
       "      <td>0.00</td>\n",
       "      <td>0.00</td>\n",
       "      <td>...</td>\n",
       "      <td>0.00</td>\n",
       "      <td>0.00</td>\n",
       "      <td>0.00</td>\n",
       "      <td>0.00</td>\n",
       "      <td>0.00</td>\n",
       "      <td>0.00</td>\n",
       "      <td>0.00</td>\n",
       "      <td>0.00</td>\n",
       "      <td>0.00</td>\n",
       "      <td>0.00</td>\n",
       "    </tr>\n",
       "    <tr>\n",
       "      <td>...</td>\n",
       "      <td>...</td>\n",
       "      <td>...</td>\n",
       "      <td>...</td>\n",
       "      <td>...</td>\n",
       "      <td>...</td>\n",
       "      <td>...</td>\n",
       "      <td>...</td>\n",
       "      <td>...</td>\n",
       "      <td>...</td>\n",
       "      <td>...</td>\n",
       "      <td>...</td>\n",
       "      <td>...</td>\n",
       "      <td>...</td>\n",
       "      <td>...</td>\n",
       "      <td>...</td>\n",
       "      <td>...</td>\n",
       "      <td>...</td>\n",
       "      <td>...</td>\n",
       "      <td>...</td>\n",
       "      <td>...</td>\n",
       "      <td>...</td>\n",
       "    </tr>\n",
       "    <tr>\n",
       "      <td>579529</td>\n",
       "      <td>0.00</td>\n",
       "      <td>0.00</td>\n",
       "      <td>0.00</td>\n",
       "      <td>0.00</td>\n",
       "      <td>0.00</td>\n",
       "      <td>0.00</td>\n",
       "      <td>0.00</td>\n",
       "      <td>0.00</td>\n",
       "      <td>0.00</td>\n",
       "      <td>0.00</td>\n",
       "      <td>...</td>\n",
       "      <td>0.00</td>\n",
       "      <td>0.00</td>\n",
       "      <td>0.00</td>\n",
       "      <td>0.00</td>\n",
       "      <td>0.00</td>\n",
       "      <td>0.00</td>\n",
       "      <td>0.00</td>\n",
       "      <td>0.00</td>\n",
       "      <td>0.00</td>\n",
       "      <td>0.00</td>\n",
       "    </tr>\n",
       "    <tr>\n",
       "      <td>579634</td>\n",
       "      <td>0.00</td>\n",
       "      <td>0.00</td>\n",
       "      <td>0.00</td>\n",
       "      <td>0.00</td>\n",
       "      <td>0.00</td>\n",
       "      <td>0.00</td>\n",
       "      <td>0.00</td>\n",
       "      <td>0.00</td>\n",
       "      <td>0.00</td>\n",
       "      <td>0.00</td>\n",
       "      <td>...</td>\n",
       "      <td>0.00</td>\n",
       "      <td>0.00</td>\n",
       "      <td>0.00</td>\n",
       "      <td>0.00</td>\n",
       "      <td>0.00</td>\n",
       "      <td>0.00</td>\n",
       "      <td>0.00</td>\n",
       "      <td>0.00</td>\n",
       "      <td>0.00</td>\n",
       "      <td>0.00</td>\n",
       "    </tr>\n",
       "    <tr>\n",
       "      <td>579708</td>\n",
       "      <td>0.00</td>\n",
       "      <td>0.00</td>\n",
       "      <td>0.00</td>\n",
       "      <td>0.00</td>\n",
       "      <td>0.00</td>\n",
       "      <td>0.00</td>\n",
       "      <td>0.00</td>\n",
       "      <td>0.00</td>\n",
       "      <td>0.00</td>\n",
       "      <td>0.00</td>\n",
       "      <td>...</td>\n",
       "      <td>0.00</td>\n",
       "      <td>0.00</td>\n",
       "      <td>0.00</td>\n",
       "      <td>0.00</td>\n",
       "      <td>0.00</td>\n",
       "      <td>0.00</td>\n",
       "      <td>0.00</td>\n",
       "      <td>0.00</td>\n",
       "      <td>0.00</td>\n",
       "      <td>0.00</td>\n",
       "    </tr>\n",
       "    <tr>\n",
       "      <td>579792</td>\n",
       "      <td>0.00</td>\n",
       "      <td>20.00</td>\n",
       "      <td>0.00</td>\n",
       "      <td>0.00</td>\n",
       "      <td>0.00</td>\n",
       "      <td>0.00</td>\n",
       "      <td>0.00</td>\n",
       "      <td>0.00</td>\n",
       "      <td>0.00</td>\n",
       "      <td>0.00</td>\n",
       "      <td>...</td>\n",
       "      <td>0.00</td>\n",
       "      <td>0.00</td>\n",
       "      <td>0.00</td>\n",
       "      <td>0.00</td>\n",
       "      <td>0.00</td>\n",
       "      <td>0.00</td>\n",
       "      <td>0.00</td>\n",
       "      <td>0.00</td>\n",
       "      <td>0.00</td>\n",
       "      <td>0.00</td>\n",
       "    </tr>\n",
       "    <tr>\n",
       "      <td>579870</td>\n",
       "      <td>0.00</td>\n",
       "      <td>0.00</td>\n",
       "      <td>0.00</td>\n",
       "      <td>0.00</td>\n",
       "      <td>0.00</td>\n",
       "      <td>0.00</td>\n",
       "      <td>0.00</td>\n",
       "      <td>0.00</td>\n",
       "      <td>0.00</td>\n",
       "      <td>0.00</td>\n",
       "      <td>...</td>\n",
       "      <td>0.00</td>\n",
       "      <td>0.00</td>\n",
       "      <td>0.00</td>\n",
       "      <td>0.00</td>\n",
       "      <td>0.00</td>\n",
       "      <td>0.00</td>\n",
       "      <td>0.00</td>\n",
       "      <td>0.00</td>\n",
       "      <td>0.00</td>\n",
       "      <td>0.00</td>\n",
       "    </tr>\n",
       "  </tbody>\n",
       "</table>\n",
       "<p>371 rows × 1531 columns</p>\n",
       "</div>"
      ],
      "text/plain": [
       "Description  10 Colour Spaceboy Pen  12 Coloured Party Balloons  \\\n",
       "InvoiceNo                                                         \n",
       "536370                         0.00                        0.00   \n",
       "536852                         0.00                        0.00   \n",
       "536974                         0.00                        0.00   \n",
       "537065                         0.00                        0.00   \n",
       "537463                         0.00                        0.00   \n",
       "...                             ...                         ...   \n",
       "579529                         0.00                        0.00   \n",
       "579634                         0.00                        0.00   \n",
       "579708                         0.00                        0.00   \n",
       "579792                         0.00                       20.00   \n",
       "579870                         0.00                        0.00   \n",
       "\n",
       "Description  12 Egg House Painted Wood  12 Message Cards With Envelopes  \\\n",
       "InvoiceNo                                                                 \n",
       "536370                            0.00                             0.00   \n",
       "536852                            0.00                             0.00   \n",
       "536974                            0.00                             0.00   \n",
       "537065                            0.00                             0.00   \n",
       "537463                            0.00                             0.00   \n",
       "...                                ...                              ...   \n",
       "579529                            0.00                             0.00   \n",
       "579634                            0.00                             0.00   \n",
       "579708                            0.00                             0.00   \n",
       "579792                            0.00                             0.00   \n",
       "579870                            0.00                             0.00   \n",
       "\n",
       "Description  12 Pencil Small Tube Woodland  \\\n",
       "InvoiceNo                                    \n",
       "536370                                0.00   \n",
       "536852                                0.00   \n",
       "536974                                0.00   \n",
       "537065                                0.00   \n",
       "537463                                0.00   \n",
       "...                                    ...   \n",
       "579529                                0.00   \n",
       "579634                                0.00   \n",
       "579708                                0.00   \n",
       "579792                                0.00   \n",
       "579870                                0.00   \n",
       "\n",
       "Description  12 Pencils Small Tube Red Retrospot  12 Pencils Small Tube Skull  \\\n",
       "InvoiceNo                                                                       \n",
       "536370                                      0.00                         0.00   \n",
       "536852                                      0.00                         0.00   \n",
       "536974                                      0.00                         0.00   \n",
       "537065                                      0.00                         0.00   \n",
       "537463                                      0.00                         0.00   \n",
       "...                                          ...                          ...   \n",
       "579529                                      0.00                         0.00   \n",
       "579634                                      0.00                         0.00   \n",
       "579708                                      0.00                         0.00   \n",
       "579792                                      0.00                         0.00   \n",
       "579870                                      0.00                         0.00   \n",
       "\n",
       "Description  12 Pencils Tall Tube Posy  12 Pencils Tall Tube Red Retrospot  \\\n",
       "InvoiceNo                                                                    \n",
       "536370                            0.00                                0.00   \n",
       "536852                            0.00                                0.00   \n",
       "536974                            0.00                                0.00   \n",
       "537065                            0.00                                0.00   \n",
       "537463                            0.00                                0.00   \n",
       "...                                ...                                 ...   \n",
       "579529                            0.00                                0.00   \n",
       "579634                            0.00                                0.00   \n",
       "579708                            0.00                                0.00   \n",
       "579792                            0.00                                0.00   \n",
       "579870                            0.00                                0.00   \n",
       "\n",
       "Description  12 Pencils Tall Tube Woodland  ...  Wrap Suki And Friends  \\\n",
       "InvoiceNo                                   ...                          \n",
       "536370                                0.00  ...                   0.00   \n",
       "536852                                0.00  ...                   0.00   \n",
       "536974                                0.00  ...                   0.00   \n",
       "537065                                0.00  ...                   0.00   \n",
       "537463                                0.00  ...                   0.00   \n",
       "...                                    ...  ...                    ...   \n",
       "579529                                0.00  ...                   0.00   \n",
       "579634                                0.00  ...                   0.00   \n",
       "579708                                0.00  ...                   0.00   \n",
       "579792                                0.00  ...                   0.00   \n",
       "579870                                0.00  ...                   0.00   \n",
       "\n",
       "Description  Wrap Vintage Petals  Design  Yellow Coat Rack Paris Fashion  \\\n",
       "InvoiceNo                                                                  \n",
       "536370                              0.00                            0.00   \n",
       "536852                              0.00                            0.00   \n",
       "536974                              0.00                            0.00   \n",
       "537065                              0.00                            0.00   \n",
       "537463                              0.00                            0.00   \n",
       "...                                  ...                             ...   \n",
       "579529                              0.00                            0.00   \n",
       "579634                              0.00                            0.00   \n",
       "579708                              0.00                            0.00   \n",
       "579792                              0.00                            0.00   \n",
       "579870                              0.00                            0.00   \n",
       "\n",
       "Description  Yellow Giant Garden Thermometer  Zinc  Star T-Light Holder  \\\n",
       "InvoiceNo                                                                 \n",
       "536370                                  0.00                       0.00   \n",
       "536852                                  0.00                       0.00   \n",
       "536974                                  0.00                       0.00   \n",
       "537065                                  0.00                       0.00   \n",
       "537463                                  0.00                       0.00   \n",
       "...                                      ...                        ...   \n",
       "579529                                  0.00                       0.00   \n",
       "579634                                  0.00                       0.00   \n",
       "579708                                  0.00                       0.00   \n",
       "579792                                  0.00                       0.00   \n",
       "579870                                  0.00                       0.00   \n",
       "\n",
       "Description  Zinc Folkart Sleigh Bells  Zinc Herb Garden Container  \\\n",
       "InvoiceNo                                                            \n",
       "536370                            0.00                        0.00   \n",
       "536852                            0.00                        0.00   \n",
       "536974                            0.00                        0.00   \n",
       "537065                            0.00                        0.00   \n",
       "537463                            0.00                        0.00   \n",
       "...                                ...                         ...   \n",
       "579529                            0.00                        0.00   \n",
       "579634                            0.00                        0.00   \n",
       "579708                            0.00                        0.00   \n",
       "579792                            0.00                        0.00   \n",
       "579870                            0.00                        0.00   \n",
       "\n",
       "Description  Zinc Metal Heart Decoration  Zinc T-Light Holder Star Large  \\\n",
       "InvoiceNo                                                                  \n",
       "536370                              0.00                            0.00   \n",
       "536852                              0.00                            0.00   \n",
       "536974                              0.00                            0.00   \n",
       "537065                              0.00                            0.00   \n",
       "537463                              0.00                            0.00   \n",
       "...                                  ...                             ...   \n",
       "579529                              0.00                            0.00   \n",
       "579634                              0.00                            0.00   \n",
       "579708                              0.00                            0.00   \n",
       "579792                              0.00                            0.00   \n",
       "579870                              0.00                            0.00   \n",
       "\n",
       "Description  Zinc T-Light Holder Stars Small  \n",
       "InvoiceNo                                     \n",
       "536370                                  0.00  \n",
       "536852                                  0.00  \n",
       "536974                                  0.00  \n",
       "537065                                  0.00  \n",
       "537463                                  0.00  \n",
       "...                                      ...  \n",
       "579529                                  0.00  \n",
       "579634                                  0.00  \n",
       "579708                                  0.00  \n",
       "579792                                  0.00  \n",
       "579870                                  0.00  \n",
       "\n",
       "[371 rows x 1531 columns]"
      ]
     },
     "execution_count": 122,
     "metadata": {},
     "output_type": "execute_result"
    }
   ],
   "source": [
    "basket"
   ]
  },
  {
   "cell_type": "code",
   "execution_count": 123,
   "metadata": {},
   "outputs": [],
   "source": [
    "def encode_units(x):\n",
    "    if x <= 0:\n",
    "        return 0\n",
    "    if x >= 1:\n",
    "        return 1\n",
    "\n",
    "basket_sets = basket.applymap(encode_units)\n",
    "basket_sets.drop('Postage', inplace=True, axis=1)\n"
   ]
  },
  {
   "cell_type": "code",
   "execution_count": 124,
   "metadata": {},
   "outputs": [],
   "source": [
    "frequent_itemsets = apriori(basket_sets, min_support=0.07, use_colnames=True)"
   ]
  },
  {
   "cell_type": "code",
   "execution_count": 125,
   "metadata": {},
   "outputs": [
    {
     "data": {
      "text/html": [
       "<div>\n",
       "<style scoped>\n",
       "    .dataframe tbody tr th:only-of-type {\n",
       "        vertical-align: middle;\n",
       "    }\n",
       "\n",
       "    .dataframe tbody tr th {\n",
       "        vertical-align: top;\n",
       "    }\n",
       "\n",
       "    .dataframe thead th {\n",
       "        text-align: right;\n",
       "    }\n",
       "</style>\n",
       "<table border=\"1\" class=\"dataframe\">\n",
       "  <thead>\n",
       "    <tr style=\"text-align: right;\">\n",
       "      <th></th>\n",
       "      <th>antecedents</th>\n",
       "      <th>consequents</th>\n",
       "      <th>antecedent support</th>\n",
       "      <th>consequent support</th>\n",
       "      <th>support</th>\n",
       "      <th>confidence</th>\n",
       "      <th>lift</th>\n",
       "      <th>leverage</th>\n",
       "      <th>conviction</th>\n",
       "    </tr>\n",
       "  </thead>\n",
       "  <tbody>\n",
       "    <tr>\n",
       "      <td>0</td>\n",
       "      <td>(Alarm Clock Bakelike Red)</td>\n",
       "      <td>(Alarm Clock Bakelike Green)</td>\n",
       "      <td>0.09</td>\n",
       "      <td>0.09</td>\n",
       "      <td>0.08</td>\n",
       "      <td>0.82</td>\n",
       "      <td>8.99</td>\n",
       "      <td>0.07</td>\n",
       "      <td>5.15</td>\n",
       "    </tr>\n",
       "    <tr>\n",
       "      <td>1</td>\n",
       "      <td>(Alarm Clock Bakelike Green)</td>\n",
       "      <td>(Alarm Clock Bakelike Red)</td>\n",
       "      <td>0.09</td>\n",
       "      <td>0.09</td>\n",
       "      <td>0.08</td>\n",
       "      <td>0.82</td>\n",
       "      <td>8.99</td>\n",
       "      <td>0.07</td>\n",
       "      <td>5.15</td>\n",
       "    </tr>\n",
       "    <tr>\n",
       "      <td>2</td>\n",
       "      <td>(Alarm Clock Bakelike Red)</td>\n",
       "      <td>(Alarm Clock Bakelike Pink)</td>\n",
       "      <td>0.09</td>\n",
       "      <td>0.09</td>\n",
       "      <td>0.07</td>\n",
       "      <td>0.76</td>\n",
       "      <td>8.11</td>\n",
       "      <td>0.06</td>\n",
       "      <td>3.85</td>\n",
       "    </tr>\n",
       "    <tr>\n",
       "      <td>3</td>\n",
       "      <td>(Alarm Clock Bakelike Pink)</td>\n",
       "      <td>(Alarm Clock Bakelike Red)</td>\n",
       "      <td>0.09</td>\n",
       "      <td>0.09</td>\n",
       "      <td>0.07</td>\n",
       "      <td>0.74</td>\n",
       "      <td>8.11</td>\n",
       "      <td>0.06</td>\n",
       "      <td>3.53</td>\n",
       "    </tr>\n",
       "    <tr>\n",
       "      <td>4</td>\n",
       "      <td>(Spaceboy Lunch Box)</td>\n",
       "      <td>(Dolly Girl Lunch Box)</td>\n",
       "      <td>0.13</td>\n",
       "      <td>0.11</td>\n",
       "      <td>0.08</td>\n",
       "      <td>0.58</td>\n",
       "      <td>5.55</td>\n",
       "      <td>0.06</td>\n",
       "      <td>2.15</td>\n",
       "    </tr>\n",
       "  </tbody>\n",
       "</table>\n",
       "</div>"
      ],
      "text/plain": [
       "                    antecedents                   consequents  \\\n",
       "0    (Alarm Clock Bakelike Red)  (Alarm Clock Bakelike Green)   \n",
       "1  (Alarm Clock Bakelike Green)    (Alarm Clock Bakelike Red)   \n",
       "2    (Alarm Clock Bakelike Red)   (Alarm Clock Bakelike Pink)   \n",
       "3   (Alarm Clock Bakelike Pink)    (Alarm Clock Bakelike Red)   \n",
       "4          (Spaceboy Lunch Box)        (Dolly Girl Lunch Box)   \n",
       "\n",
       "   antecedent support  consequent support  support  confidence  lift  \\\n",
       "0                0.09                0.09     0.08        0.82  8.99   \n",
       "1                0.09                0.09     0.08        0.82  8.99   \n",
       "2                0.09                0.09     0.07        0.76  8.11   \n",
       "3                0.09                0.09     0.07        0.74  8.11   \n",
       "4                0.13                0.11     0.08        0.58  5.55   \n",
       "\n",
       "   leverage  conviction  \n",
       "0      0.07        5.15  \n",
       "1      0.07        5.15  \n",
       "2      0.06        3.85  \n",
       "3      0.06        3.53  \n",
       "4      0.06        2.15  "
      ]
     },
     "execution_count": 125,
     "metadata": {},
     "output_type": "execute_result"
    }
   ],
   "source": [
    "rules = association_rules(frequent_itemsets, metric=\"lift\", min_threshold=1)\n",
    "rules.head()"
   ]
  },
  {
   "cell_type": "code",
   "execution_count": 126,
   "metadata": {
    "scrolled": false
   },
   "outputs": [
    {
     "data": {
      "text/html": [
       "<div>\n",
       "<style scoped>\n",
       "    .dataframe tbody tr th:only-of-type {\n",
       "        vertical-align: middle;\n",
       "    }\n",
       "\n",
       "    .dataframe tbody tr th {\n",
       "        vertical-align: top;\n",
       "    }\n",
       "\n",
       "    .dataframe thead th {\n",
       "        text-align: right;\n",
       "    }\n",
       "</style>\n",
       "<table border=\"1\" class=\"dataframe\">\n",
       "  <thead>\n",
       "    <tr style=\"text-align: right;\">\n",
       "      <th></th>\n",
       "      <th>antecedents</th>\n",
       "      <th>consequents</th>\n",
       "      <th>antecedent support</th>\n",
       "      <th>consequent support</th>\n",
       "      <th>support</th>\n",
       "      <th>confidence</th>\n",
       "      <th>lift</th>\n",
       "      <th>leverage</th>\n",
       "      <th>conviction</th>\n",
       "    </tr>\n",
       "  </thead>\n",
       "  <tbody>\n",
       "    <tr>\n",
       "      <td>0</td>\n",
       "      <td>(Alarm Clock Bakelike Red)</td>\n",
       "      <td>(Alarm Clock Bakelike Green)</td>\n",
       "      <td>0.09</td>\n",
       "      <td>0.09</td>\n",
       "      <td>0.08</td>\n",
       "      <td>0.82</td>\n",
       "      <td>8.99</td>\n",
       "      <td>0.07</td>\n",
       "      <td>5.15</td>\n",
       "    </tr>\n",
       "    <tr>\n",
       "      <td>1</td>\n",
       "      <td>(Alarm Clock Bakelike Green)</td>\n",
       "      <td>(Alarm Clock Bakelike Red)</td>\n",
       "      <td>0.09</td>\n",
       "      <td>0.09</td>\n",
       "      <td>0.08</td>\n",
       "      <td>0.82</td>\n",
       "      <td>8.99</td>\n",
       "      <td>0.07</td>\n",
       "      <td>5.15</td>\n",
       "    </tr>\n",
       "    <tr>\n",
       "      <td>20</td>\n",
       "      <td>(Set/6 Red Spotty Paper Plates)</td>\n",
       "      <td>(Set/6 Red Spotty Paper Cups)</td>\n",
       "      <td>0.13</td>\n",
       "      <td>0.14</td>\n",
       "      <td>0.13</td>\n",
       "      <td>0.96</td>\n",
       "      <td>6.71</td>\n",
       "      <td>0.11</td>\n",
       "      <td>21.00</td>\n",
       "    </tr>\n",
       "    <tr>\n",
       "      <td>21</td>\n",
       "      <td>(Set/6 Red Spotty Paper Cups)</td>\n",
       "      <td>(Set/6 Red Spotty Paper Plates)</td>\n",
       "      <td>0.14</td>\n",
       "      <td>0.13</td>\n",
       "      <td>0.13</td>\n",
       "      <td>0.89</td>\n",
       "      <td>6.71</td>\n",
       "      <td>0.11</td>\n",
       "      <td>7.67</td>\n",
       "    </tr>\n",
       "    <tr>\n",
       "      <td>28</td>\n",
       "      <td>(Set/20 Red Retrospot Paper Napkins, Set/6 Red...</td>\n",
       "      <td>(Set/6 Red Spotty Paper Cups)</td>\n",
       "      <td>0.11</td>\n",
       "      <td>0.14</td>\n",
       "      <td>0.10</td>\n",
       "      <td>0.97</td>\n",
       "      <td>6.82</td>\n",
       "      <td>0.09</td>\n",
       "      <td>33.43</td>\n",
       "    </tr>\n",
       "    <tr>\n",
       "      <td>29</td>\n",
       "      <td>(Set/20 Red Retrospot Paper Napkins, Set/6 Red...</td>\n",
       "      <td>(Set/6 Red Spotty Paper Plates)</td>\n",
       "      <td>0.11</td>\n",
       "      <td>0.13</td>\n",
       "      <td>0.10</td>\n",
       "      <td>0.97</td>\n",
       "      <td>7.38</td>\n",
       "      <td>0.09</td>\n",
       "      <td>33.85</td>\n",
       "    </tr>\n",
       "  </tbody>\n",
       "</table>\n",
       "</div>"
      ],
      "text/plain": [
       "                                          antecedents  \\\n",
       "0                          (Alarm Clock Bakelike Red)   \n",
       "1                        (Alarm Clock Bakelike Green)   \n",
       "20                    (Set/6 Red Spotty Paper Plates)   \n",
       "21                      (Set/6 Red Spotty Paper Cups)   \n",
       "28  (Set/20 Red Retrospot Paper Napkins, Set/6 Red...   \n",
       "29  (Set/20 Red Retrospot Paper Napkins, Set/6 Red...   \n",
       "\n",
       "                        consequents  antecedent support  consequent support  \\\n",
       "0      (Alarm Clock Bakelike Green)                0.09                0.09   \n",
       "1        (Alarm Clock Bakelike Red)                0.09                0.09   \n",
       "20    (Set/6 Red Spotty Paper Cups)                0.13                0.14   \n",
       "21  (Set/6 Red Spotty Paper Plates)                0.14                0.13   \n",
       "28    (Set/6 Red Spotty Paper Cups)                0.11                0.14   \n",
       "29  (Set/6 Red Spotty Paper Plates)                0.11                0.13   \n",
       "\n",
       "    support  confidence  lift  leverage  conviction  \n",
       "0      0.08        0.82  8.99      0.07        5.15  \n",
       "1      0.08        0.82  8.99      0.07        5.15  \n",
       "20     0.13        0.96  6.71      0.11       21.00  \n",
       "21     0.13        0.89  6.71      0.11        7.67  \n",
       "28     0.10        0.97  6.82      0.09       33.43  \n",
       "29     0.10        0.97  7.38      0.09       33.85  "
      ]
     },
     "execution_count": 126,
     "metadata": {},
     "output_type": "execute_result"
    }
   ],
   "source": [
    "rules[ (rules['lift'] >= 6) &\n",
    "       (rules['confidence'] >= 0.8)]"
   ]
  },
  {
   "cell_type": "code",
   "execution_count": 140,
   "metadata": {
    "scrolled": true
   },
   "outputs": [
    {
     "data": {
      "text/html": [
       "<div>\n",
       "<style scoped>\n",
       "    .dataframe tbody tr th:only-of-type {\n",
       "        vertical-align: middle;\n",
       "    }\n",
       "\n",
       "    .dataframe tbody tr th {\n",
       "        vertical-align: top;\n",
       "    }\n",
       "\n",
       "    .dataframe thead th {\n",
       "        text-align: right;\n",
       "    }\n",
       "</style>\n",
       "<table border=\"1\" class=\"dataframe\">\n",
       "  <thead>\n",
       "    <tr style=\"text-align: right;\">\n",
       "      <th></th>\n",
       "      <th>antecedents</th>\n",
       "      <th>consequents</th>\n",
       "      <th>antecedent support</th>\n",
       "      <th>consequent support</th>\n",
       "      <th>support</th>\n",
       "      <th>confidence</th>\n",
       "      <th>lift</th>\n",
       "      <th>leverage</th>\n",
       "      <th>conviction</th>\n",
       "    </tr>\n",
       "  </thead>\n",
       "  <tbody>\n",
       "    <tr>\n",
       "      <td>2</td>\n",
       "      <td>(Plasters In Tin Circus Parade)</td>\n",
       "      <td>(Plasters In Tin Woodland Animals)</td>\n",
       "      <td>0.11</td>\n",
       "      <td>0.13</td>\n",
       "      <td>0.07</td>\n",
       "      <td>0.58</td>\n",
       "      <td>4.33</td>\n",
       "      <td>0.05</td>\n",
       "      <td>2.06</td>\n",
       "    </tr>\n",
       "    <tr>\n",
       "      <td>8</td>\n",
       "      <td>(Plasters In Tin Spaceboy)</td>\n",
       "      <td>(Plasters In Tin Woodland Animals)</td>\n",
       "      <td>0.11</td>\n",
       "      <td>0.13</td>\n",
       "      <td>0.06</td>\n",
       "      <td>0.57</td>\n",
       "      <td>4.28</td>\n",
       "      <td>0.05</td>\n",
       "      <td>2.03</td>\n",
       "    </tr>\n",
       "    <tr>\n",
       "      <td>12</td>\n",
       "      <td>(Red Retrospot Charlotte Bag)</td>\n",
       "      <td>(Woodland Charlotte Bag)</td>\n",
       "      <td>0.07</td>\n",
       "      <td>0.13</td>\n",
       "      <td>0.06</td>\n",
       "      <td>0.87</td>\n",
       "      <td>6.72</td>\n",
       "      <td>0.05</td>\n",
       "      <td>6.75</td>\n",
       "    </tr>\n",
       "  </tbody>\n",
       "</table>\n",
       "</div>"
      ],
      "text/plain": [
       "                        antecedents                         consequents  \\\n",
       "2   (Plasters In Tin Circus Parade)  (Plasters In Tin Woodland Animals)   \n",
       "8        (Plasters In Tin Spaceboy)  (Plasters In Tin Woodland Animals)   \n",
       "12    (Red Retrospot Charlotte Bag)            (Woodland Charlotte Bag)   \n",
       "\n",
       "    antecedent support  consequent support  support  confidence  lift  \\\n",
       "2                 0.11                0.13     0.07        0.58  4.33   \n",
       "8                 0.11                0.13     0.06        0.57  4.28   \n",
       "12                0.07                0.13     0.06        0.87  6.72   \n",
       "\n",
       "    leverage  conviction  \n",
       "2       0.05        2.06  \n",
       "8       0.05        2.03  \n",
       "12      0.05        6.75  "
      ]
     },
     "execution_count": 140,
     "metadata": {},
     "output_type": "execute_result"
    }
   ],
   "source": [
    "basket2 = (df[df['Country'] ==\"Germany\"]\n",
    "          .groupby(['InvoiceNo', 'Description'])['Quantity']\n",
    "          .sum().unstack().reset_index().fillna(0)\n",
    "          .set_index('InvoiceNo'))\n",
    "\n",
    "basket_sets2 = basket2.applymap(encode_units)\n",
    "basket_sets2.drop('Postage', inplace=True, axis=1)\n",
    "frequent_itemsets2 = apriori(basket_sets2, min_support=0.05, use_colnames=True)\n",
    "rules2 = association_rules(frequent_itemsets2, metric=\"lift\", min_threshold=1)\n",
    "\n",
    "rules2[ (rules2['lift'] >= 4) &\n",
    "        (rules2['confidence'] >= 0.5)]"
   ]
  },
  {
   "cell_type": "code",
   "execution_count": null,
   "metadata": {},
   "outputs": [],
   "source": []
  }
 ],
 "metadata": {
  "kernelspec": {
   "display_name": "Python 3",
   "language": "python",
   "name": "python3"
  },
  "language_info": {
   "codemirror_mode": {
    "name": "ipython",
    "version": 3
   },
   "file_extension": ".py",
   "mimetype": "text/x-python",
   "name": "python",
   "nbconvert_exporter": "python",
   "pygments_lexer": "ipython3",
   "version": "3.7.3"
  }
 },
 "nbformat": 4,
 "nbformat_minor": 2
}
