{
 "cells": [
  {
   "cell_type": "markdown",
   "metadata": {},
   "source": [
    "# ptt 獨立音樂版\n",
    "\n",
    "## 一. <a href='#資料介紹'>資料介紹</a>\n",
    "\n",
    "1. 來源\n",
    "2. 資料介紹\n",
    "3. 欄位\n",
    "\n",
    "\n",
    "## 二. <a href='#呈現'>呈現</a>\n",
    "1. <a href='#1.-Load-Libraries'>Load Libraries</a>\n",
    "2. <a href='#2.-Load-Data'>Load Data</a>\n",
    "3. <a href='#3.-Data-Preprocessing'>Data Preprocessing</a>  \n",
    "    1. Missing Value\n",
    "    2. Drop PostName\n",
    "    3. Add New Columns\n",
    "    3. Columns Preprocess Time\n",
    "    4. Columns Preprocess Title\n",
    "4. <a href='#4.-Analyze-Data'>Analyze Data</a>        \n",
    "4. <a href='#5.-文字雲'>文字雲</a>        \n",
    "\n",
    "\n"
   ]
  },
  {
   "cell_type": "markdown",
   "metadata": {},
   "source": [
    "## 資料介紹\n",
    "\n",
    "\n",
    "### 1.來源\n",
    "[ptt獨立音樂版](https://www.ptt.cc/bbs/nmsmusic/index.html)的所有資料 \n",
    "\n",
    "- 獨立音樂的定義：是指有別於主流商業唱片廠牌所製作的音樂。\n",
    "- 顧名思義，獨立音樂的製作過程獨立自主，從錄音到出版都由音樂家獨力完成。\n",
    "- 雖然許多獨立音樂家的風格無法清楚界定，因而歸類到不同的音樂類型，但在一般說法上或音樂評論中依舊視為一種音樂類型，包括那些非獨立製作的音樂。\n",
    "\n",
    "\n",
    "### 2.資料介紹\n",
    "自己抓ptt獨立音樂版的資料：2016/4/5～2019/11/23\n",
    "\n",
    "### 3.欄位\n",
    "\n",
    "Shape：(2517, 6)\n",
    "\n",
    "\n",
    "欄位|描述\n",
    ":---:|:---:\n",
    "Title|標題名稱\n",
    "Time|發文時間\n",
    "PostId|發文作者的帳號跟名稱\n",
    "Content|內文\n",
    "ReplyId|回覆者的id\n",
    "Reply|回覆者\n"
   ]
  },
  {
   "cell_type": "markdown",
   "metadata": {},
   "source": [
    "<a href='#ptt-獨立音樂版'>Back To Top</a>"
   ]
  },
  {
   "cell_type": "markdown",
   "metadata": {},
   "source": [
    "---"
   ]
  },
  {
   "cell_type": "markdown",
   "metadata": {},
   "source": [
    "## 呈現"
   ]
  },
  {
   "cell_type": "markdown",
   "metadata": {},
   "source": [
    "## 1. Load Libraries"
   ]
  },
  {
   "cell_type": "code",
   "execution_count": 6,
   "metadata": {},
   "outputs": [],
   "source": [
    "import pandas as pd\n",
    "import numpy as np\n",
    "import seaborn as sns\n",
    "import matplotlib.pyplot as plt\n",
    "\n",
    "import jieba\n",
    "import jieba.analyse\n",
    "from wordcloud import WordCloud\n",
    "\n",
    "%matplotlib inline\n",
    "pd.set_option('display.float_format',lambda x : '%.2f' % x)\n",
    "# pd.set_option('display.max_rows', 1000)\n",
    "# pd.set_option('display.max_columns', 30)\n",
    "\n",
    "import warnings\n",
    "warnings.filterwarnings('ignore')\n",
    "\n",
    "sns.set()"
   ]
  },
  {
   "cell_type": "markdown",
   "metadata": {},
   "source": [
    "<a href='#ptt-獨立音樂版'>Back To Top</a>"
   ]
  },
  {
   "cell_type": "markdown",
   "metadata": {},
   "source": [
    "---"
   ]
  },
  {
   "cell_type": "markdown",
   "metadata": {},
   "source": [
    "## 2. Load Data"
   ]
  },
  {
   "cell_type": "code",
   "execution_count": 7,
   "metadata": {},
   "outputs": [],
   "source": [
    "df = pd.read_csv('../input/nmsmusic_all.csv')\n",
    "df = df.rename(columns={'標題':'Title', '時間': 'Time', '作者':'PostId', '內文': 'Content', '留言作者':'ReplyId', '留言':'Reply'})\n",
    "df = df.drop(['Unnamed: 0'], axis=1)"
   ]
  },
  {
   "cell_type": "markdown",
   "metadata": {},
   "source": [
    "### 資料筆數：(2517, 6)"
   ]
  },
  {
   "cell_type": "code",
   "execution_count": 8,
   "metadata": {},
   "outputs": [
    {
     "data": {
      "text/plain": [
       "(2517, 6)"
      ]
     },
     "execution_count": 8,
     "metadata": {},
     "output_type": "execute_result"
    }
   ],
   "source": [
    "df.shape"
   ]
  },
  {
   "cell_type": "code",
   "execution_count": 9,
   "metadata": {},
   "outputs": [
    {
     "data": {
      "text/html": [
       "<div>\n",
       "<style scoped>\n",
       "    .dataframe tbody tr th:only-of-type {\n",
       "        vertical-align: middle;\n",
       "    }\n",
       "\n",
       "    .dataframe tbody tr th {\n",
       "        vertical-align: top;\n",
       "    }\n",
       "\n",
       "    .dataframe thead th {\n",
       "        text-align: right;\n",
       "    }\n",
       "</style>\n",
       "<table border=\"1\" class=\"dataframe\">\n",
       "  <thead>\n",
       "    <tr style=\"text-align: right;\">\n",
       "      <th></th>\n",
       "      <th>Title</th>\n",
       "      <th>Time</th>\n",
       "      <th>PostId</th>\n",
       "      <th>Content</th>\n",
       "      <th>ReplyId</th>\n",
       "      <th>Reply</th>\n",
       "    </tr>\n",
       "  </thead>\n",
       "  <tbody>\n",
       "    <tr>\n",
       "      <td>0</td>\n",
       "      <td>[新板成立] nmsmusic板</td>\n",
       "      <td>Tue Apr  5 19:53:04 2016</td>\n",
       "      <td>skydreaming ((‵▽′)Ψ..咦？)</td>\n",
       "      <td>\\n\\n           茲因 yanagi5566 於 Buzz_Theater 申請...</td>\n",
       "      <td>[]</td>\n",
       "      <td>[]</td>\n",
       "    </tr>\n",
       "    <tr>\n",
       "      <td>1</td>\n",
       "      <td>[閒聊] 恭喜開板</td>\n",
       "      <td>Tue Apr  5 19:53:17 2016</td>\n",
       "      <td>swattw (Swat-未來模式)</td>\n",
       "      <td>\\nAs Title\\n\\n--\\n         ◢◢ξ                ...</td>\n",
       "      <td>['moon70552']</td>\n",
       "      <td>[': 推 跟我一樣來洗文DER']</td>\n",
       "    </tr>\n",
       "    <tr>\n",
       "      <td>2</td>\n",
       "      <td>[閒聊] 恭喜開板</td>\n",
       "      <td>Tue Apr  5 20:16:28 2016</td>\n",
       "      <td>Firstshadow (MentalUTN)</td>\n",
       "      <td>\\n恭喜開板  ⊙_⊙\\n\\n\\n\\n--\\nSent from my iPhone 8\\n...</td>\n",
       "      <td>['Yanagi5566']</td>\n",
       "      <td>[': 嘻嘻']</td>\n",
       "    </tr>\n",
       "    <tr>\n",
       "      <td>3</td>\n",
       "      <td>[賀開]板恭喜開板</td>\n",
       "      <td>Tue Apr  5 20:31:07 2016</td>\n",
       "      <td>moon70552 (丟啦)</td>\n",
       "      <td>\\n【賀開板】\\n【賀開板】\\n【賀開板】\\n【賀開板】\\n【賀開板】\\n【賀開板】\\n 【...</td>\n",
       "      <td>['Yanagi5566']</td>\n",
       "      <td>[\": o'_'o\"]</td>\n",
       "    </tr>\n",
       "  </tbody>\n",
       "</table>\n",
       "</div>"
      ],
      "text/plain": [
       "              Title                      Time                    PostId  \\\n",
       "0  [新板成立] nmsmusic板  Tue Apr  5 19:53:04 2016  skydreaming ((‵▽′)Ψ..咦？)   \n",
       "1         [閒聊] 恭喜開板  Tue Apr  5 19:53:17 2016        swattw (Swat-未來模式)   \n",
       "2         [閒聊] 恭喜開板  Tue Apr  5 20:16:28 2016   Firstshadow (MentalUTN)   \n",
       "3         [賀開]板恭喜開板  Tue Apr  5 20:31:07 2016            moon70552 (丟啦)   \n",
       "\n",
       "                                             Content         ReplyId  \\\n",
       "0  \\n\\n           茲因 yanagi5566 於 Buzz_Theater 申請...              []   \n",
       "1  \\nAs Title\\n\\n--\\n         ◢◢ξ                ...   ['moon70552']   \n",
       "2  \\n恭喜開板  ⊙_⊙\\n\\n\\n\\n--\\nSent from my iPhone 8\\n...  ['Yanagi5566']   \n",
       "3  \\n【賀開板】\\n【賀開板】\\n【賀開板】\\n【賀開板】\\n【賀開板】\\n【賀開板】\\n 【...  ['Yanagi5566']   \n",
       "\n",
       "                Reply  \n",
       "0                  []  \n",
       "1  [': 推 跟我一樣來洗文DER']  \n",
       "2            [': 嘻嘻']  \n",
       "3         [\": o'_'o\"]  "
      ]
     },
     "execution_count": 9,
     "metadata": {},
     "output_type": "execute_result"
    }
   ],
   "source": [
    "df.head(4)"
   ]
  },
  {
   "cell_type": "markdown",
   "metadata": {},
   "source": [
    "<a href='#ptt-獨立音樂版'>Back To Top</a>"
   ]
  },
  {
   "cell_type": "markdown",
   "metadata": {},
   "source": [
    "---"
   ]
  },
  {
   "cell_type": "markdown",
   "metadata": {},
   "source": [
    "## 3. Data Preprocessing\n",
    "1. Missing Value\n",
    "2. Drop PostName\n",
    "3. Add New Columns\n",
    "3. Columns Preprocess Time\n",
    "4. Columns Preprocess Title"
   ]
  },
  {
   "cell_type": "markdown",
   "metadata": {},
   "source": [
    "### 3.1 Missing Value"
   ]
  },
  {
   "cell_type": "code",
   "execution_count": 10,
   "metadata": {},
   "outputs": [
    {
     "name": "stdout",
     "output_type": "stream",
     "text": [
      "No Missing Value !\n"
     ]
    }
   ],
   "source": [
    "def na_check(df):\n",
    "    missing = pd.DataFrame(df.isnull().sum(), columns=['missing'])\n",
    "    missing = missing.sort_values(ascending=False, by=['missing'])\n",
    "    missing = missing[missing['missing']>0]\n",
    "    if len(missing)==0:\n",
    "        print('No Missing Value !')\n",
    "    else:\n",
    "        display(missing)\n",
    "na_check(df)"
   ]
  },
  {
   "cell_type": "markdown",
   "metadata": {},
   "source": [
    "### 3.2 Drop PostName\n",
    "只取出發文者的id，捨棄發文者的名稱"
   ]
  },
  {
   "cell_type": "code",
   "execution_count": 11,
   "metadata": {},
   "outputs": [
    {
     "data": {
      "text/plain": [
       "0    skydreaming\n",
       "1         swattw\n",
       "2    Firstshadow\n",
       "3      moon70552\n",
       "4         rehtra\n",
       "Name: PostId, dtype: object"
      ]
     },
     "execution_count": 11,
     "metadata": {},
     "output_type": "execute_result"
    }
   ],
   "source": [
    "df['PostId'] = df['PostId'].apply(lambda x:x.split(' ')[0])\n",
    "df['PostId'][0:5]"
   ]
  },
  {
   "cell_type": "markdown",
   "metadata": {},
   "source": [
    "### 3.3 Add New Columns\n",
    "- Reply_Count：留言次數\n",
    "- Title_Content_Reply：文章標題+內容+回覆"
   ]
  },
  {
   "cell_type": "code",
   "execution_count": 12,
   "metadata": {},
   "outputs": [],
   "source": [
    "df['Reply_Count'] = df['Reply'].apply(lambda x:len(x.split(',')) if len(x)>2 else 0)"
   ]
  },
  {
   "cell_type": "code",
   "execution_count": 13,
   "metadata": {},
   "outputs": [],
   "source": [
    "df['Title_Content_Reply'] = df['Title'] + df['Content'] + df['Reply']"
   ]
  },
  {
   "cell_type": "markdown",
   "metadata": {},
   "source": [
    "### 3.4 Columns Preprocess Time\n",
    "### 把時間拆開\n",
    "1. 年\n",
    "2. 月\n",
    "3. 日\n",
    "4. 小時\n",
    "5. 星期\n",
    "    \n",
    "### 轉換英文 -> 數字\n",
    "1. 月份 (Jan -> 1)\n",
    "2. 星期(Tue -> 2)"
   ]
  },
  {
   "cell_type": "code",
   "execution_count": 14,
   "metadata": {},
   "outputs": [],
   "source": [
    "df.insert(loc=2, column='Year', value=df['Time'].apply(lambda x:x[-4:]))\n",
    "df.insert(loc=3, column='Month', value=df['Time'].apply(lambda x:x.split(' ')[1]))\n",
    "df.insert(loc=4, column='Day', value=df['Time'].apply(lambda x:x.split(' ')[-3]))\n",
    "df.insert(loc=5, column='Hour', value=df['Time'].apply(lambda x:x.split(':')[0][-2:]))\n",
    "df.insert(loc=6, column='Weekday', value=df['Time'].apply(lambda x:x.split(' ')[0]))"
   ]
  },
  {
   "cell_type": "markdown",
   "metadata": {},
   "source": [
    "### 可以看出有些資料轉換錯誤\n",
    "1. 年份應該只有2016-2019\n",
    "2. 日應該只有31天"
   ]
  },
  {
   "cell_type": "code",
   "execution_count": 15,
   "metadata": {},
   "outputs": [
    {
     "name": "stdout",
     "output_type": "stream",
     "text": [
      "Year Unique Num :  7   -------   ['2016' '2017' '2018' '2:39' '9 20' '2019' ' 201']\n",
      "Month Unique Num:  12   -------   ['Apr' 'May' 'Jun' 'Jul' 'Aug' 'Sep' 'Oct' 'Nov' 'Dec' 'Jan' 'Feb' 'Mar']\n",
      "Day Unique Num:  32   -------   ['5' '6' '7' '10' '11' '12' '13' '14' '15' '16' '17' '18' '19' '20' '21'\n",
      " '22' '23' '25' '26' '27' '28' '29' '30' '1' '2' '3' '4' '24' '9' '31' '8'\n",
      " '']\n",
      "Hour Unique Num:  24   -------   ['19' '20' '22' '01' '15' '13' '17' '18' '23' '10' '16' '00' '14' '04'\n",
      " '03' '12' '09' '02' '21' '06' '11' '07' '08' '05']\n",
      "Weekday Unique Num:  7   -------   ['Tue' 'Wed' 'Thu' 'Sun' 'Mon' 'Fri' 'Sat']\n"
     ]
    }
   ],
   "source": [
    "print('Year Unique Num : ', len(df['Year'].unique()), '  -------  ' ,df['Year'].unique())\n",
    "print('Month Unique Num: ',len(df['Month'].unique()), '  -------  ' , df['Month'].unique())\n",
    "print('Day Unique Num: ', len(df['Day'].unique()), '  -------  '  , df['Day'].unique())\n",
    "print('Hour Unique Num: ', len(df['Hour'].unique()), '  -------  ' ,  df['Hour'].unique())\n",
    "print('Weekday Unique Num: ', len(df['Weekday'].unique()), '  -------  ' ,  df['Weekday'].unique())"
   ]
  },
  {
   "cell_type": "code",
   "execution_count": 16,
   "metadata": {},
   "outputs": [],
   "source": [
    "show_unique = ['Year', 'Month', 'Day', 'Hour', 'Weekday']"
   ]
  },
  {
   "cell_type": "markdown",
   "metadata": {},
   "source": [
    "### 這邊找出轉換錯誤的然後更正"
   ]
  },
  {
   "cell_type": "code",
   "execution_count": 17,
   "metadata": {},
   "outputs": [],
   "source": [
    "df.loc[1010, 'Year']= '2018'\n",
    "df.loc[1526, 'Year']= '2018'\n",
    "df.loc[2067, 'Year']= '2019'\n",
    "df.loc[1010, 'Day']= '4'"
   ]
  },
  {
   "cell_type": "markdown",
   "metadata": {},
   "source": [
    "### 更正後的數據就都對了"
   ]
  },
  {
   "cell_type": "code",
   "execution_count": 18,
   "metadata": {},
   "outputs": [
    {
     "name": "stdout",
     "output_type": "stream",
     "text": [
      "Year Have  4  Unique  :  ['2016' '2017' '2018' '2019']\n",
      "\n",
      "\n",
      "Month Have  12  Unique  :  ['Apr' 'May' 'Jun' 'Jul' 'Aug' 'Sep' 'Oct' 'Nov' 'Dec' 'Jan' 'Feb' 'Mar']\n",
      "\n",
      "\n",
      "Day Have  31  Unique  :  ['5' '6' '7' '10' '11' '12' '13' '14' '15' '16' '17' '18' '19' '20' '21'\n",
      " '22' '23' '25' '26' '27' '28' '29' '30' '1' '2' '3' '4' '24' '9' '31' '8']\n",
      "\n",
      "\n",
      "Hour Have  24  Unique  :  ['19' '20' '22' '01' '15' '13' '17' '18' '23' '10' '16' '00' '14' '04'\n",
      " '03' '12' '09' '02' '21' '06' '11' '07' '08' '05']\n",
      "\n",
      "\n",
      "Weekday Have  7  Unique  :  ['Tue' 'Wed' 'Thu' 'Sun' 'Mon' 'Fri' 'Sat']\n",
      "\n",
      "\n"
     ]
    }
   ],
   "source": [
    "for i in show_unique:\n",
    "    u = len(df[i].unique())\n",
    "    print(i, 'Have ', u, ' Unique  : ', df[i].unique())\n",
    "    print('\\n')"
   ]
  },
  {
   "cell_type": "markdown",
   "metadata": {},
   "source": [
    "### 轉換英文成數字"
   ]
  },
  {
   "cell_type": "code",
   "execution_count": 19,
   "metadata": {},
   "outputs": [],
   "source": [
    "month_mapping = {'Apr':4, 'May':5, 'Jun':6, 'Jul':7, 'Aug':8, 'Sep':9, 'Oct':10, 'Nov':11, 'Dec':12,\n",
    "                           'Jan':1, 'Feb':2, 'Mar':3}\n",
    "weekday_mapping = {'Tue':2, 'Wed':3, 'Thu':4, 'Sun':7, 'Mon':1, 'Fri':5, 'Sat':6}\n",
    "\n",
    "df['Month'] = df['Month'].map(month_mapping)\n",
    "df['Weekday'] = df['Weekday'].map(weekday_mapping)"
   ]
  },
  {
   "cell_type": "markdown",
   "metadata": {},
   "source": [
    "### 年份+月份"
   ]
  },
  {
   "cell_type": "code",
   "execution_count": 20,
   "metadata": {},
   "outputs": [],
   "source": [
    "df['Month'] = df['Month'].apply(lambda x:'0' + str(x))"
   ]
  },
  {
   "cell_type": "code",
   "execution_count": 21,
   "metadata": {},
   "outputs": [],
   "source": [
    "df['Month'] = df['Month'].replace('010', '10')\n",
    "df['Month'] = df['Month'].replace('011', '11')\n",
    "df['Month'] = df['Month'].replace('012', '12')"
   ]
  },
  {
   "cell_type": "code",
   "execution_count": 22,
   "metadata": {},
   "outputs": [],
   "source": [
    "df.insert(loc=7, column='Year_Month', value=df['Year'] + '-'+ df['Month'])"
   ]
  },
  {
   "cell_type": "code",
   "execution_count": 23,
   "metadata": {},
   "outputs": [
    {
     "data": {
      "text/html": [
       "<div>\n",
       "<style scoped>\n",
       "    .dataframe tbody tr th:only-of-type {\n",
       "        vertical-align: middle;\n",
       "    }\n",
       "\n",
       "    .dataframe tbody tr th {\n",
       "        vertical-align: top;\n",
       "    }\n",
       "\n",
       "    .dataframe thead th {\n",
       "        text-align: right;\n",
       "    }\n",
       "</style>\n",
       "<table border=\"1\" class=\"dataframe\">\n",
       "  <thead>\n",
       "    <tr style=\"text-align: right;\">\n",
       "      <th></th>\n",
       "      <th>Title</th>\n",
       "      <th>Time</th>\n",
       "      <th>Year</th>\n",
       "      <th>Month</th>\n",
       "      <th>Day</th>\n",
       "      <th>Hour</th>\n",
       "      <th>Weekday</th>\n",
       "      <th>Year_Month</th>\n",
       "      <th>PostId</th>\n",
       "      <th>Content</th>\n",
       "      <th>ReplyId</th>\n",
       "      <th>Reply</th>\n",
       "      <th>Reply_Count</th>\n",
       "      <th>Title_Content_Reply</th>\n",
       "    </tr>\n",
       "  </thead>\n",
       "  <tbody>\n",
       "    <tr>\n",
       "      <td>0</td>\n",
       "      <td>[新板成立] nmsmusic板</td>\n",
       "      <td>Tue Apr  5 19:53:04 2016</td>\n",
       "      <td>2016</td>\n",
       "      <td>04</td>\n",
       "      <td>5</td>\n",
       "      <td>19</td>\n",
       "      <td>2</td>\n",
       "      <td>2016-04</td>\n",
       "      <td>skydreaming</td>\n",
       "      <td>\\n\\n           茲因 yanagi5566 於 Buzz_Theater 申請...</td>\n",
       "      <td>[]</td>\n",
       "      <td>[]</td>\n",
       "      <td>0</td>\n",
       "      <td>[新板成立] nmsmusic板\\n\\n           茲因 yanagi5566 於...</td>\n",
       "    </tr>\n",
       "    <tr>\n",
       "      <td>1</td>\n",
       "      <td>[閒聊] 恭喜開板</td>\n",
       "      <td>Tue Apr  5 19:53:17 2016</td>\n",
       "      <td>2016</td>\n",
       "      <td>04</td>\n",
       "      <td>5</td>\n",
       "      <td>19</td>\n",
       "      <td>2</td>\n",
       "      <td>2016-04</td>\n",
       "      <td>swattw</td>\n",
       "      <td>\\nAs Title\\n\\n--\\n         ◢◢ξ                ...</td>\n",
       "      <td>['moon70552']</td>\n",
       "      <td>[': 推 跟我一樣來洗文DER']</td>\n",
       "      <td>1</td>\n",
       "      <td>[閒聊] 恭喜開板\\nAs Title\\n\\n--\\n         ◢◢ξ       ...</td>\n",
       "    </tr>\n",
       "  </tbody>\n",
       "</table>\n",
       "</div>"
      ],
      "text/plain": [
       "              Title                      Time  Year Month Day Hour  Weekday  \\\n",
       "0  [新板成立] nmsmusic板  Tue Apr  5 19:53:04 2016  2016    04   5   19        2   \n",
       "1         [閒聊] 恭喜開板  Tue Apr  5 19:53:17 2016  2016    04   5   19        2   \n",
       "\n",
       "  Year_Month       PostId                                            Content  \\\n",
       "0    2016-04  skydreaming  \\n\\n           茲因 yanagi5566 於 Buzz_Theater 申請...   \n",
       "1    2016-04       swattw  \\nAs Title\\n\\n--\\n         ◢◢ξ                ...   \n",
       "\n",
       "         ReplyId               Reply  Reply_Count  \\\n",
       "0             []                  []            0   \n",
       "1  ['moon70552']  [': 推 跟我一樣來洗文DER']            1   \n",
       "\n",
       "                                 Title_Content_Reply  \n",
       "0  [新板成立] nmsmusic板\\n\\n           茲因 yanagi5566 於...  \n",
       "1  [閒聊] 恭喜開板\\nAs Title\\n\\n--\\n         ◢◢ξ       ...  "
      ]
     },
     "execution_count": 23,
     "metadata": {},
     "output_type": "execute_result"
    }
   ],
   "source": [
    "df.head(2)"
   ]
  },
  {
   "cell_type": "markdown",
   "metadata": {},
   "source": [
    "### 3.5 Columns Preprocess Title\n",
    "\n",
    "- 找出所有的分類，並針對有興趣的分類做標註\n",
    "\n",
    "欄位|分類\n",
    ":---:|:---:\n",
    "Info|情報\n",
    "Ques|問題\n",
    "Share|分享\n",
    "Thoughts|心得\n",
    "Chat|閒聊\n",
    "Recommend|推薦\n",
    "Transaction|交易\n",
    "Sale|售\n"
   ]
  },
  {
   "cell_type": "code",
   "execution_count": 24,
   "metadata": {},
   "outputs": [],
   "source": [
    "df['Info'] = df['Title'].apply(lambda x:1 if '情報' in x else 0)\n",
    "df['Ques'] = df['Title'].apply(lambda x:1 if '問題' in x else 0)\n",
    "df['Share'] = df['Title'].apply(lambda x:1 if '分享' in x else 0)\n",
    "df['Thoughts'] = df['Title'].apply(lambda x:1 if '心得' in x else 0)\n",
    "df['Chat'] = df['Title'].apply(lambda x:1 if '閒聊' in x else 0)\n",
    "df['Recommend'] = df['Title'].apply(lambda x:1 if '推薦' in x else 0)\n",
    "df['Transaction'] = df['Title'].apply(lambda x:1 if '交易' in x else 0)\n",
    "df['Sale'] = df['Title'].apply(lambda x:1 if '售' in x else 0)\n",
    "df['SongList'] = df['Title'].apply(lambda x:1 if '歌單' in x else 0)\n",
    "\n",
    "df['Sum_Category'] = df[['Info', 'Ques', 'Share', 'Thoughts', 'Chat', 'Recommend', 'Transaction', 'Sale', 'SongList']].sum(axis=1)\n"
   ]
  },
  {
   "cell_type": "code",
   "execution_count": 25,
   "metadata": {},
   "outputs": [
    {
     "data": {
      "text/html": [
       "<div>\n",
       "<style scoped>\n",
       "    .dataframe tbody tr th:only-of-type {\n",
       "        vertical-align: middle;\n",
       "    }\n",
       "\n",
       "    .dataframe tbody tr th {\n",
       "        vertical-align: top;\n",
       "    }\n",
       "\n",
       "    .dataframe thead th {\n",
       "        text-align: right;\n",
       "    }\n",
       "</style>\n",
       "<table border=\"1\" class=\"dataframe\">\n",
       "  <thead>\n",
       "    <tr style=\"text-align: right;\">\n",
       "      <th></th>\n",
       "      <th>Title</th>\n",
       "      <th>Time</th>\n",
       "      <th>Year</th>\n",
       "      <th>Month</th>\n",
       "      <th>Day</th>\n",
       "      <th>Hour</th>\n",
       "      <th>Weekday</th>\n",
       "      <th>Year_Month</th>\n",
       "      <th>PostId</th>\n",
       "      <th>Content</th>\n",
       "      <th>...</th>\n",
       "      <th>Info</th>\n",
       "      <th>Ques</th>\n",
       "      <th>Share</th>\n",
       "      <th>Thoughts</th>\n",
       "      <th>Chat</th>\n",
       "      <th>Recommend</th>\n",
       "      <th>Transaction</th>\n",
       "      <th>Sale</th>\n",
       "      <th>SongList</th>\n",
       "      <th>Sum_Category</th>\n",
       "    </tr>\n",
       "  </thead>\n",
       "  <tbody>\n",
       "    <tr>\n",
       "      <td>0</td>\n",
       "      <td>[新板成立] nmsmusic板</td>\n",
       "      <td>Tue Apr  5 19:53:04 2016</td>\n",
       "      <td>2016</td>\n",
       "      <td>04</td>\n",
       "      <td>5</td>\n",
       "      <td>19</td>\n",
       "      <td>2</td>\n",
       "      <td>2016-04</td>\n",
       "      <td>skydreaming</td>\n",
       "      <td>\\n\\n           茲因 yanagi5566 於 Buzz_Theater 申請...</td>\n",
       "      <td>...</td>\n",
       "      <td>0</td>\n",
       "      <td>0</td>\n",
       "      <td>0</td>\n",
       "      <td>0</td>\n",
       "      <td>0</td>\n",
       "      <td>0</td>\n",
       "      <td>0</td>\n",
       "      <td>0</td>\n",
       "      <td>0</td>\n",
       "      <td>0</td>\n",
       "    </tr>\n",
       "    <tr>\n",
       "      <td>1</td>\n",
       "      <td>[閒聊] 恭喜開板</td>\n",
       "      <td>Tue Apr  5 19:53:17 2016</td>\n",
       "      <td>2016</td>\n",
       "      <td>04</td>\n",
       "      <td>5</td>\n",
       "      <td>19</td>\n",
       "      <td>2</td>\n",
       "      <td>2016-04</td>\n",
       "      <td>swattw</td>\n",
       "      <td>\\nAs Title\\n\\n--\\n         ◢◢ξ                ...</td>\n",
       "      <td>...</td>\n",
       "      <td>0</td>\n",
       "      <td>0</td>\n",
       "      <td>0</td>\n",
       "      <td>0</td>\n",
       "      <td>1</td>\n",
       "      <td>0</td>\n",
       "      <td>0</td>\n",
       "      <td>0</td>\n",
       "      <td>0</td>\n",
       "      <td>1</td>\n",
       "    </tr>\n",
       "  </tbody>\n",
       "</table>\n",
       "<p>2 rows × 24 columns</p>\n",
       "</div>"
      ],
      "text/plain": [
       "              Title                      Time  Year Month Day Hour  Weekday  \\\n",
       "0  [新板成立] nmsmusic板  Tue Apr  5 19:53:04 2016  2016    04   5   19        2   \n",
       "1         [閒聊] 恭喜開板  Tue Apr  5 19:53:17 2016  2016    04   5   19        2   \n",
       "\n",
       "  Year_Month       PostId                                            Content  \\\n",
       "0    2016-04  skydreaming  \\n\\n           茲因 yanagi5566 於 Buzz_Theater 申請...   \n",
       "1    2016-04       swattw  \\nAs Title\\n\\n--\\n         ◢◢ξ                ...   \n",
       "\n",
       "   ... Info Ques  Share Thoughts  Chat  Recommend  Transaction  Sale  \\\n",
       "0  ...    0    0      0        0     0          0            0     0   \n",
       "1  ...    0    0      0        0     1          0            0     0   \n",
       "\n",
       "   SongList  Sum_Category  \n",
       "0         0             0  \n",
       "1         0             1  \n",
       "\n",
       "[2 rows x 24 columns]"
      ]
     },
     "execution_count": 25,
     "metadata": {},
     "output_type": "execute_result"
    }
   ],
   "source": [
    "df.head(2)"
   ]
  },
  {
   "cell_type": "code",
   "execution_count": 26,
   "metadata": {},
   "outputs": [
    {
     "name": "stdout",
     "output_type": "stream",
     "text": [
      "有標註的標題分類有： 1961 筆資料\n",
      "- - - - - - - - - - - - - - - - - - - - \n",
      "有標註的分類佔全部資料的  78 %\n"
     ]
    }
   ],
   "source": [
    "count_ = len(df[df['Sum_Category']>0]) \n",
    "percent_ = round(100 * (count_/df.shape[0] ))\n",
    "print('有標註的標題分類有：', count_ ,'筆資料')\n",
    "print('- - '*10)\n",
    "print('有標註的分類佔全部資料的 ', percent_, '%')"
   ]
  },
  {
   "cell_type": "markdown",
   "metadata": {},
   "source": [
    "<a href='#ptt-獨立音樂版'>Back To Top</a>"
   ]
  },
  {
   "cell_type": "markdown",
   "metadata": {},
   "source": [
    "---"
   ]
  },
  {
   "cell_type": "markdown",
   "metadata": {},
   "source": [
    "## 4. Analyze Data"
   ]
  },
  {
   "cell_type": "markdown",
   "metadata": {},
   "source": [
    "### 4.1 年份的發文次數\n",
    "可以看出最高的年份為2018，因為2019還有一個多月，所以發文次數還是有機會比2018高"
   ]
  },
  {
   "cell_type": "code",
   "execution_count": 27,
   "metadata": {},
   "outputs": [
    {
     "data": {
      "text/html": [
       "<div>\n",
       "<style scoped>\n",
       "    .dataframe tbody tr th:only-of-type {\n",
       "        vertical-align: middle;\n",
       "    }\n",
       "\n",
       "    .dataframe tbody tr th {\n",
       "        vertical-align: top;\n",
       "    }\n",
       "\n",
       "    .dataframe thead th {\n",
       "        text-align: right;\n",
       "    }\n",
       "</style>\n",
       "<table border=\"1\" class=\"dataframe\">\n",
       "  <thead>\n",
       "    <tr style=\"text-align: right;\">\n",
       "      <th></th>\n",
       "      <th>Year</th>\n",
       "      <th>Count</th>\n",
       "    </tr>\n",
       "  </thead>\n",
       "  <tbody>\n",
       "    <tr>\n",
       "      <td>0</td>\n",
       "      <td>2016</td>\n",
       "      <td>268</td>\n",
       "    </tr>\n",
       "    <tr>\n",
       "      <td>1</td>\n",
       "      <td>2017</td>\n",
       "      <td>488</td>\n",
       "    </tr>\n",
       "    <tr>\n",
       "      <td>2</td>\n",
       "      <td>2018</td>\n",
       "      <td>956</td>\n",
       "    </tr>\n",
       "    <tr>\n",
       "      <td>3</td>\n",
       "      <td>2019</td>\n",
       "      <td>805</td>\n",
       "    </tr>\n",
       "  </tbody>\n",
       "</table>\n",
       "</div>"
      ],
      "text/plain": [
       "   Year  Count\n",
       "0  2016    268\n",
       "1  2017    488\n",
       "2  2018    956\n",
       "3  2019    805"
      ]
     },
     "execution_count": 27,
     "metadata": {},
     "output_type": "execute_result"
    }
   ],
   "source": [
    "gb_year = df.groupby('Year').count()[['Title']]\n",
    "year_post = pd.DataFrame({'Year':gb_year.index, 'Count':gb_year['Title'].values})\n",
    "year_post"
   ]
  },
  {
   "cell_type": "code",
   "execution_count": 28,
   "metadata": {},
   "outputs": [
    {
     "data": {
      "image/png": "[encoded data removed]",
      "text/plain": [
       "<Figure size 360x360 with 1 Axes>"
      ]
     },
     "metadata": {},
     "output_type": "display_data"
    }
   ],
   "source": [
    "plt.figure(figsize=(5,5))\n",
    "sns.barplot(x=year_post.Year, y=year_post.Count)\n",
    "plt.title('Yearly Post Count')\n",
    "plt.show()"
   ]
  },
  {
   "cell_type": "markdown",
   "metadata": {},
   "source": [
    "### 4.2 月份的發文趨勢圖\n",
    "- 可以看出2018-10月的發文是最多的\n",
    "- 有些月份的發文會特別多有些會特別少\n",
    "- 原因是有些月份會有音樂祭，所以發文次數會比較多"
   ]
  },
  {
   "cell_type": "code",
   "execution_count": 29,
   "metadata": {},
   "outputs": [
    {
     "data": {
      "image/png": "[encoded data removed]",
      "text/plain": [
       "<Figure size 2664x648 with 1 Axes>"
      ]
     },
     "metadata": {},
     "output_type": "display_data"
    }
   ],
   "source": [
    "gb_y_m = df.groupby('Year_Month').count()[['Title']]\n",
    "year_month_post = pd.DataFrame({'Year_Month':gb_y_m.index, 'Count':gb_y_m['Title'].values})\n",
    "plt.figure(figsize=(37,9))\n",
    "sns.barplot(x=year_month_post.Year_Month, y=year_month_post.Count)\n",
    "plt.title('Yearly_Monthly Post Count')\n",
    "plt.show()"
   ]
  },
  {
   "cell_type": "markdown",
   "metadata": {},
   "source": [
    "### 4.3 發文時間\n",
    "\n",
    "- 可以看出發文時間大多都集中在晚上11, 12點"
   ]
  },
  {
   "cell_type": "code",
   "execution_count": 30,
   "metadata": {},
   "outputs": [
    {
     "data": {
      "image/png": "[encoded data removed]",
      "text/plain": [
       "<Figure size 864x288 with 1 Axes>"
      ]
     },
     "metadata": {},
     "output_type": "display_data"
    }
   ],
   "source": [
    "gb_h = df.groupby('Hour').count()[['Title']]\n",
    "hour_post = pd.DataFrame({'Year_Month':gb_h.index, 'Count':gb_h['Title'].values})\n",
    "plt.figure(figsize=(12,4))\n",
    "sns.barplot(x=hour_post.Year_Month, y=hour_post.Count)\n",
    "plt.title('Hourly Post Count')\n",
    "plt.show()"
   ]
  },
  {
   "cell_type": "markdown",
   "metadata": {},
   "source": [
    "### 4.4 回應比例"
   ]
  },
  {
   "cell_type": "code",
   "execution_count": 31,
   "metadata": {},
   "outputs": [],
   "source": [
    "df['Reply_Count_YesNo'] = df['Reply_Count'].apply(lambda x:1 if x>0 else 0)"
   ]
  },
  {
   "cell_type": "code",
   "execution_count": 32,
   "metadata": {},
   "outputs": [],
   "source": [
    "Reply_Count = ['Yes', 'No']\n",
    "Reply_Count_YesNo_df = pd.DataFrame({'Percent':df['Reply_Count_YesNo'].value_counts().values}, index=Reply_Count)"
   ]
  },
  {
   "cell_type": "code",
   "execution_count": 33,
   "metadata": {},
   "outputs": [
    {
     "data": {
      "image/png": "[encoded data removed]",
      "text/plain": [
       "<Figure size 720x432 with 1 Axes>"
      ]
     },
     "metadata": {},
     "output_type": "display_data"
    }
   ],
   "source": [
    "Reply_Count_YesNo_df.plot(kind='pie', y='Percent', figsize=(10,6), autopct='%1.1f%%')\n",
    "plt.rcParams.update({'font.size': 22})\n",
    "plt.show()"
   ]
  },
  {
   "cell_type": "markdown",
   "metadata": {},
   "source": [
    "## 5. 文字雲"
   ]
  },
  {
   "cell_type": "markdown",
   "metadata": {},
   "source": [
    "## 5.1 全部資料\n",
    "### 結巴\n",
    "- 這邊我使用的是結巴做斷詞\n",
    "- 我有加入我自己建的樂團名稱的字典：banddict.txt\n",
    "- 還有加入一些停用詞的字典：stopwords.txt"
   ]
  },
  {
   "cell_type": "code",
   "execution_count": 34,
   "metadata": {},
   "outputs": [],
   "source": [
    "def stopwordslist(filepath):  \n",
    "    stopwords = [line.strip() for line in open(filepath, 'r', encoding='utf-8').readlines()]  \n",
    "    return stopwords  \n",
    "\n",
    "def seg_sentence(sentence):  \n",
    "    jieba.load_userdict(\"../input/wordlist/banddict.txt\")\n",
    "    sentence_seged = jieba.cut(sentence)  \n",
    "    stopwords = stopwordslist('../input/wordlist/stopwords.txt') \n",
    "    outstr = ''  \n",
    "    for word in sentence_seged:  \n",
    "        if word not in stopwords:  \n",
    "            if word != '\\t':  \n",
    "                outstr += word  \n",
    "                outstr += ' ' \n",
    "    return outstr  \n",
    "\n",
    "def not_load_dict(sentence):\n",
    "    sentence_seged = jieba.cut(sentence)  \n",
    "    outstr = ''  \n",
    "    for word in sentence_seged:  \n",
    "        outstr += word  \n",
    "        outstr += ' ' \n",
    "    return outstr  \n",
    "\n",
    "def get_list(df):\n",
    "    index_ = list(df.index)\n",
    "    word_list =''\n",
    "    for i in index_:\n",
    "        word_list += df['Title_Content_Reply'][i]\n",
    "    \n",
    "    return word_list"
   ]
  },
  {
   "cell_type": "markdown",
   "metadata": {},
   "source": [
    "### 沒有放進自己建的樂團詞跟stopword\n",
    "有意義的詞就會比較少，就比較無法呈現我們想看的結果"
   ]
  },
  {
   "cell_type": "code",
   "execution_count": 35,
   "metadata": {},
   "outputs": [
    {
     "name": "stderr",
     "output_type": "stream",
     "text": [
      "Building prefix dict from the default dictionary ...\n",
      "Loading model from cache /var/folders/yd/hbm8w0m53sbdghwdjn63dyyw0000gn/T/jieba.cache\n",
      "Loading model cost 0.674 seconds.\n",
      "Prefix dict has been built succesfully.\n"
     ]
    }
   ],
   "source": [
    "word_list = get_list(df)\n",
    "test = not_load_dict(word_list)"
   ]
  },
  {
   "cell_type": "code",
   "execution_count": 36,
   "metadata": {
    "scrolled": true
   },
   "outputs": [
    {
     "data": {
      "text/plain": [
       "<wordcloud.wordcloud.WordCloud at 0x1a1cd65e10>"
      ]
     },
     "execution_count": 36,
     "metadata": {},
     "output_type": "execute_result"
    }
   ],
   "source": [
    "font = '/Library/Fonts/Kaiu.ttf'\n",
    "sns.set(rc={'figure.figsize':(10,6)})\n",
    "my_wordcloud = WordCloud(font_path=font, background_color=\"white\", scale=4, \n",
    "                         max_words = 100,max_font_size = 60,random_state=20).generate(test)\n",
    "my_wordcloud.to_file('../output/not_load_dict.jpg')"
   ]
  },
  {
   "cell_type": "markdown",
   "metadata": {},
   "source": [
    "<img src='../output/not_load_dict.jpg' style='zoom:50%'>"
   ]
  },
  {
   "cell_type": "markdown",
   "metadata": {},
   "source": [
    "### 放進自己建的\n",
    "- banddict：樂團名\n",
    "- stopwords：刪掉一些不需要的詞"
   ]
  },
  {
   "cell_type": "code",
   "execution_count": 37,
   "metadata": {},
   "outputs": [],
   "source": [
    "word_list = get_list(df)\n",
    "test = seg_sentence(word_list)"
   ]
  },
  {
   "cell_type": "code",
   "execution_count": 38,
   "metadata": {},
   "outputs": [
    {
     "data": {
      "text/plain": [
       "<wordcloud.wordcloud.WordCloud at 0x1a1dba9ba8>"
      ]
     },
     "execution_count": 38,
     "metadata": {},
     "output_type": "execute_result"
    }
   ],
   "source": [
    "font = '/Library/Fonts/Kaiu.ttf'\n",
    "sns.set(rc={'figure.figsize':(10,6)})\n",
    "my_wordcloud = WordCloud(font_path=font, background_color=\"white\", scale=4, \n",
    "                         max_words = 100,max_font_size = 60,random_state=20).generate(test)\n",
    "my_wordcloud.to_file('../output/load_dict.jpg')\n",
    "# plt.imshow(my_wordcloud)\n",
    "# plt.axis(\"off\")\n",
    "# plt.show()"
   ]
  },
  {
   "cell_type": "markdown",
   "metadata": {},
   "source": [
    "<img src='../output/load_dict.jpg' style='zoom:50%'>"
   ]
  },
  {
   "cell_type": "markdown",
   "metadata": {},
   "source": [
    "### 5.2 心得+分享的標題"
   ]
  },
  {
   "cell_type": "code",
   "execution_count": 39,
   "metadata": {},
   "outputs": [],
   "source": [
    "df['Thoughts_Share'] = df['Thoughts'] + df['Share']\n",
    "Thoughts_Share = df[df['Thoughts_Share']>=1]"
   ]
  },
  {
   "cell_type": "code",
   "execution_count": 40,
   "metadata": {},
   "outputs": [],
   "source": [
    "word_list = get_list(Thoughts_Share)\n",
    "test = seg_sentence(word_list)"
   ]
  },
  {
   "cell_type": "code",
   "execution_count": 41,
   "metadata": {
    "scrolled": true
   },
   "outputs": [
    {
     "data": {
      "text/plain": [
       "<wordcloud.wordcloud.WordCloud at 0x1a1dbc1da0>"
      ]
     },
     "execution_count": 41,
     "metadata": {},
     "output_type": "execute_result"
    }
   ],
   "source": [
    "font = '/Library/Fonts/Kaiu.ttf'\n",
    "sns.set(rc={'figure.figsize':(10,6)})\n",
    "my_wordcloud = WordCloud(font_path=font, background_color=\"white\", scale=4, \n",
    "                         max_words = 100,max_font_size = 60,random_state=20).generate(test)\n",
    "my_wordcloud.to_file('../output/Thoughts_Share.jpg')"
   ]
  },
  {
   "cell_type": "markdown",
   "metadata": {},
   "source": [
    "<img src='../output/Thoughts_Share.jpg' style='zoom:50%'>"
   ]
  },
  {
   "cell_type": "markdown",
   "metadata": {},
   "source": [
    "### 5.3 2018-10\n",
    "#### 把一些關鍵字放進去看，是哪些因素讓2018年10月的發文次數較多\n",
    "1. 放一些音樂祭的名稱：遊牧, 愛愛, 金音, 貴人, 巨獸\n",
    "2. 跟一些當月有辦專場的樂團：美秀, 茄子, joins (Deca joins)"
   ]
  },
  {
   "cell_type": "code",
   "execution_count": 42,
   "metadata": {},
   "outputs": [],
   "source": [
    "pd.set_option('display.float_format',lambda x : '%d' % x)"
   ]
  },
  {
   "cell_type": "code",
   "execution_count": 43,
   "metadata": {},
   "outputs": [],
   "source": [
    "df_201810 = df[df['Year_Month']=='2018-10']\n",
    "col = ['Nomad_Festival', 'Love', 'Golden', 'LUCFest', 'Bisup', 'Egg', 'Deca', 'BeastieRock']\n",
    "word_ = ['遊牧', '愛愛', '金音', '貴人', '美秀', '茄子', 'joins', '巨獸']\n",
    "percent_list = []\n",
    "\n",
    "for col, word in zip(col, word_):\n",
    "    df_201810[col] = df_201810['Title_Content_Reply'].apply(lambda x:1 if word in x else 0)\n",
    "    percent = round(100*(df_201810[col].sum()/len(df_201810)), 1)\n",
    "    percent_list.append(percent)\n",
    "    \n",
    "df_percentage_201810 = pd.DataFrame({'Word':word_, 'Percentage':percent_list})\n",
    "df_percentage_201810 = df_percentage_201810.append({'Word': 'All', 'Percentage':df_percentage_201810['Percentage'].sum()}, ignore_index=True)\n"
   ]
  },
  {
   "cell_type": "markdown",
   "metadata": {},
   "source": [
    "### 標題+內容+回覆   比例\n",
    "- 從這個表格可以看出 '遊牧', '愛愛', '金音', '貴人', '美秀', '茄子', 'joins', '巨獸' ，這幾個主題就佔了資料的 78 %\n",
    "\n",
    "\n",
    "- 最大的比例是遊牧音樂祭(10/13-10/14) 20%，演出陣容（茄子蛋、韋禮安、滅火器、草東沒有派對、麋先生、法蘭黛、Hello Nico、董事長、告五人、I Mean Us、先知瑪莉等），都是獨立音樂圈裡人氣很高的樂團\n",
    "\n",
    "\n",
    "- 再來是金音獎(10/27) 16%，是台灣繼金曲獎之後的另一項特殊性質的音樂獎，與金曲獎流行音樂類似，但其主要為獨立音樂領域，演出陣容（Vast & Hazy、南瓜妮歌迷俱樂部、TRASH、茄子蛋、老王樂隊、好樂團、三十萬年老虎鉗等）\n",
    "\n",
    "\n",
    "- 茄子蛋(9/28、9/30)、Deca Joins(10/6售票、11/15演出)、美秀集團（10/5、10/19、10/26）則是當時有舉辦或即將舉辦專場的樂團\n",
    "\n",
    "\n",
    "- 貴人音樂祭(11/30)跟巨獸搖滾(10/5)也都是10月附近的音樂祭"
   ]
  },
  {
   "cell_type": "code",
   "execution_count": 44,
   "metadata": {},
   "outputs": [
    {
     "data": {
      "text/html": [
       "<div>\n",
       "<style scoped>\n",
       "    .dataframe tbody tr th:only-of-type {\n",
       "        vertical-align: middle;\n",
       "    }\n",
       "\n",
       "    .dataframe tbody tr th {\n",
       "        vertical-align: top;\n",
       "    }\n",
       "\n",
       "    .dataframe thead th {\n",
       "        text-align: right;\n",
       "    }\n",
       "</style>\n",
       "<table border=\"1\" class=\"dataframe\">\n",
       "  <thead>\n",
       "    <tr style=\"text-align: right;\">\n",
       "      <th></th>\n",
       "      <th>Word</th>\n",
       "      <th>Percentage</th>\n",
       "    </tr>\n",
       "  </thead>\n",
       "  <tbody>\n",
       "    <tr>\n",
       "      <td>7</td>\n",
       "      <td>巨獸</td>\n",
       "      <td>1</td>\n",
       "    </tr>\n",
       "    <tr>\n",
       "      <td>3</td>\n",
       "      <td>貴人</td>\n",
       "      <td>2</td>\n",
       "    </tr>\n",
       "    <tr>\n",
       "      <td>1</td>\n",
       "      <td>愛愛</td>\n",
       "      <td>6</td>\n",
       "    </tr>\n",
       "    <tr>\n",
       "      <td>4</td>\n",
       "      <td>美秀</td>\n",
       "      <td>8</td>\n",
       "    </tr>\n",
       "    <tr>\n",
       "      <td>6</td>\n",
       "      <td>joins</td>\n",
       "      <td>10</td>\n",
       "    </tr>\n",
       "    <tr>\n",
       "      <td>5</td>\n",
       "      <td>茄子</td>\n",
       "      <td>13</td>\n",
       "    </tr>\n",
       "    <tr>\n",
       "      <td>2</td>\n",
       "      <td>金音</td>\n",
       "      <td>16</td>\n",
       "    </tr>\n",
       "    <tr>\n",
       "      <td>0</td>\n",
       "      <td>遊牧</td>\n",
       "      <td>20</td>\n",
       "    </tr>\n",
       "    <tr>\n",
       "      <td>8</td>\n",
       "      <td>All</td>\n",
       "      <td>78</td>\n",
       "    </tr>\n",
       "  </tbody>\n",
       "</table>\n",
       "</div>"
      ],
      "text/plain": [
       "    Word  Percentage\n",
       "7     巨獸           1\n",
       "3     貴人           2\n",
       "1     愛愛           6\n",
       "4     美秀           8\n",
       "6  joins          10\n",
       "5     茄子          13\n",
       "2     金音          16\n",
       "0     遊牧          20\n",
       "8    All          78"
      ]
     },
     "execution_count": 44,
     "metadata": {},
     "output_type": "execute_result"
    }
   ],
   "source": [
    "df_percentage_201810.sort_values(by='Percentage')"
   ]
  },
  {
   "cell_type": "code",
   "execution_count": 45,
   "metadata": {},
   "outputs": [],
   "source": [
    "word_list201810 = get_list(df_201810)\n",
    "test = seg_sentence(word_list201810)"
   ]
  },
  {
   "cell_type": "code",
   "execution_count": 46,
   "metadata": {},
   "outputs": [
    {
     "data": {
      "text/plain": [
       "<wordcloud.wordcloud.WordCloud at 0x1a1dba9668>"
      ]
     },
     "execution_count": 46,
     "metadata": {},
     "output_type": "execute_result"
    }
   ],
   "source": [
    "font = '/Library/Fonts/Kaiu.ttf'\n",
    "my_wordcloud = WordCloud(font_path=font, background_color=\"white\", scale=4, \n",
    "                         max_words = 100,max_font_size = 60,random_state=20).generate(test)\n",
    "my_wordcloud.to_file('../output/result_201810.jpg')"
   ]
  },
  {
   "cell_type": "markdown",
   "metadata": {},
   "source": [
    "### 文字雲\n",
    "- 可以看得出來這有些詞跟上面做的有重複，但有些詞是我上面沒有放進去的\n",
    "\n",
    "#### 巨獸搖滾\n",
    "- 巨獸搖滾佔的比重很大，原因是因為當時的巨獸搖滾面臨停辦的危機，因為創辦人的團隊撕破臉\n",
    "\n",
    "- 也因為一些經費上的不足而有考慮要停辦，經費不足的原因為玩獨立樂團的人普遍都很難賺到錢，很多個音樂祭都是借錢才辦得出來的或是要去向廠商找贊助\n",
    "\n",
    "- 那在上面為什麼巨獸只有佔2018年10月的1%呢？因為討論巨獸的言論都集中在一篇討論\n",
    "\n",
    "- 上面的分法是如果標題+內容+回覆之中有出現過的就算1次，而文字雲的分法是按照詞出現次數來做的，所以出現的次數越多字就會越大，因此這就是巨獸在上面出現的只有1%，在文字雲卻出現很大字的原因\n",
    "\n",
    "- [巨獸搖滾新聞](https://m.ltn.com.tw/news/life/breakingnews/2570131)\n",
    "\n",
    "#### 草東沒有派對\n",
    "- 草東算是獨立音樂圈裡很紅的團，甚至沒有在聽獨立音樂的人也多少都聽過草東\n",
    "\n",
    "- 在文字雲中會出現很大的字，我的判斷為他們在2017年得了金曲獎最佳新人後，團員陸續去當兵以及去美國巡迴，所以遊牧音樂季應該算是這陣子唯一看得到他們的場合，所以大家才會在這個時候的討論很多\n",
    "\n",
    "#### 告五人\n",
    "- 告五人很早就創立了，但經過這幾年時間的過去，團員都換了一輪\n",
    "\n",
    "- 而我的判斷為他們在2018/10/30，正式發行披星戴月的想你的這首單曲，這首是他們最有名的歌曲，雖然之前其實就已經有在放youtube跟streetvoice上了，很多人也都聽過了，而且他們也有演出遊牧音樂祭，所以討論的次數也會比較多\n",
    "\n",
    "\n",
    "#### 拍謝少年\n",
    "- 金音獎的最佳搖滾專輯得獎！\n",
    "\n",
    "- 嘻啤派對(10/20)、綠空鐵道音樂會(10/27)\n",
    "\n",
    "- 我的判斷為拍謝少年在10月內有兩場表演以及得了最佳搖滾專輯奬，所以討論也會比較多"
   ]
  },
  {
   "cell_type": "markdown",
   "metadata": {},
   "source": [
    "<img src='../output/result_201810.jpg' style='zoom:50%'>"
   ]
  },
  {
   "cell_type": "code",
   "execution_count": 48,
   "metadata": {},
   "outputs": [
    {
     "data": {
      "text/plain": [
       "[('巨獸', 0.07230363154592997),\n",
       " ('拍謝少年', 0.04508344084628575),\n",
       " ('告五人', 0.04508344084628575),\n",
       " ('2018', 0.039979655090102456),\n",
       " ('茄子蛋', 0.03912902413073858),\n",
       " ('12', 0.03657713125264693),\n",
       " ('音樂節', 0.033174607415191404),\n",
       " ('30', 0.031473345496463634),\n",
       " ('金音', 0.030072646583520705),\n",
       " ('草東', 0.028070821659008108),\n",
       " ('游牧', 0.0264440498183293),\n",
       " ('高雄場', 0.025518928780916463),\n",
       " ('專場', 0.025518928780916463),\n",
       " ('巨獸搖滾', 0.023817666862188697),\n",
       " ('joins', 0.023817666862188697),\n",
       " ('滅火器', 0.022967035902824815),\n",
       " ('20', 0.022116404943460934),\n",
       " ('2375EP', 0.022116404943460934),\n",
       " ('售出', 0.021898171355095346),\n",
       " ('26', 0.02041514302473317)]"
      ]
     },
     "execution_count": 48,
     "metadata": {},
     "output_type": "execute_result"
    }
   ],
   "source": [
    "keywords = jieba.analyse.extract_tags(test, topK=20, withWeight=True)\n",
    "keywords"
   ]
  },
  {
   "cell_type": "markdown",
   "metadata": {},
   "source": [
    "### 9月到現在的討論趨勢"
   ]
  },
  {
   "cell_type": "code",
   "execution_count": 49,
   "metadata": {},
   "outputs": [],
   "source": [
    "df_2019 = df[df['Year']=='2019']\n",
    "df_2019['Month'] = df_2019['Month'].astype(int)\n",
    "df_2019_9 = df_2019[df_2019['Month']>=9]"
   ]
  },
  {
   "cell_type": "code",
   "execution_count": 50,
   "metadata": {},
   "outputs": [],
   "source": [
    "word_list = get_list(df_2019_9)\n",
    "test = seg_sentence(word_list)"
   ]
  },
  {
   "cell_type": "code",
   "execution_count": 51,
   "metadata": {
    "scrolled": true
   },
   "outputs": [
    {
     "data": {
      "text/plain": [
       "<wordcloud.wordcloud.WordCloud at 0x1a19bd62e8>"
      ]
     },
     "execution_count": 51,
     "metadata": {},
     "output_type": "execute_result"
    }
   ],
   "source": [
    "font = '/Library/Fonts/Kaiu.ttf'\n",
    "sns.set(rc={'figure.figsize':(10,6)})\n",
    "my_wordcloud = WordCloud(font_path=font, background_color=\"white\", scale=4, \n",
    "                         max_words = 100,max_font_size = 60,random_state=20).generate(test)\n",
    "my_wordcloud.to_file('../output/df_2019_9.jpg')"
   ]
  },
  {
   "cell_type": "markdown",
   "metadata": {},
   "source": [
    "<img src='../output/df_2019_9.jpg' style='zoom:50%'>"
   ]
  },
  {
   "cell_type": "markdown",
   "metadata": {},
   "source": [
    "<a href='#ptt-獨立音樂版'>Back To Top</a>"
   ]
  }
 ],
 "metadata": {
  "kernelspec": {
   "display_name": "Python 3",
   "language": "python",
   "name": "python3"
  },
  "language_info": {
   "codemirror_mode": {
    "name": "ipython",
    "version": 3
   },
   "file_extension": ".py",
   "mimetype": "text/x-python",
   "name": "python",
   "nbconvert_exporter": "python",
   "pygments_lexer": "ipython3",
   "version": "3.7.3"
  }
 },
 "nbformat": 4,
 "nbformat_minor": 2
}
