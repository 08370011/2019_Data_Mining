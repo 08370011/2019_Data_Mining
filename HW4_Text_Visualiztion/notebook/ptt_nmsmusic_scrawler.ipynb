{
 "cells": [
  {
   "cell_type": "code",
   "execution_count": 1,
   "metadata": {},
   "outputs": [],
   "source": [
    "import requests\n",
    "from bs4 import BeautifulSoup\n",
    "from tqdm import tqdm"
   ]
  },
  {
   "cell_type": "code",
   "execution_count": 33,
   "metadata": {},
   "outputs": [
    {
     "name": "stdout",
     "output_type": "stream",
     "text": [
      "21\n",
      "22\n",
      "23\n",
      "24\n",
      "25\n",
      "26\n",
      "27\n",
      "28\n",
      "29\n",
      "30\n",
      "31\n",
      "32\n",
      "33\n",
      "34\n",
      "35\n",
      "36\n",
      "37\n",
      "38\n",
      "39\n",
      "40\n"
     ]
    }
   ],
   "source": [
    "for i in range(41, 61, 1):\n",
    "    print(i)"
   ]
  },
  {
   "cell_type": "code",
   "execution_count": 63,
   "metadata": {},
   "outputs": [
    {
     "name": "stderr",
     "output_type": "stream",
     "text": [
      "\n",
      "\n",
      "  0%|          | 0/40 [00:00<?, ?it/s]\u001b[A\u001b[A\n",
      "\n",
      "  2%|▎         | 1/40 [00:10<06:40, 10.27s/it]\u001b[A\u001b[A\n",
      "\n",
      "  5%|▌         | 2/40 [00:19<06:15,  9.88s/it]\u001b[A\u001b[A\n",
      "\n",
      "  8%|▊         | 3/40 [00:29<06:13, 10.10s/it]\u001b[A\u001b[A\n",
      "\n",
      " 10%|█         | 4/40 [00:43<06:46, 11.28s/it]\u001b[A\u001b[A\n",
      "\n",
      " 12%|█▎        | 5/40 [00:53<06:19, 10.85s/it]\u001b[A\u001b[A\n",
      "\n",
      " 15%|█▌        | 6/40 [01:02<05:45, 10.16s/it]\u001b[A\u001b[A\n",
      "\n",
      " 18%|█▊        | 7/40 [01:13<05:48, 10.55s/it]\u001b[A\u001b[A"
     ]
    },
    {
     "name": "stdout",
     "output_type": "stream",
     "text": [
      "出錯喔\n"
     ]
    },
    {
     "name": "stderr",
     "output_type": "stream",
     "text": [
      "\n",
      "\n",
      " 20%|██        | 8/40 [01:23<05:29, 10.29s/it]\u001b[A\u001b[A\n",
      "\n",
      " 22%|██▎       | 9/40 [01:35<05:39, 10.95s/it]\u001b[A\u001b[A\n",
      "\n",
      " 25%|██▌       | 10/40 [01:46<05:23, 10.79s/it]\u001b[A\u001b[A\n",
      "\n",
      " 28%|██▊       | 11/40 [02:04<06:20, 13.11s/it]\u001b[A\u001b[A\n",
      "\n",
      " 30%|███       | 12/40 [02:12<05:20, 11.44s/it]\u001b[A\u001b[A\n",
      "\n",
      " 32%|███▎      | 13/40 [02:22<05:00, 11.14s/it]\u001b[A\u001b[A\n",
      "\n",
      " 35%|███▌      | 14/40 [02:35<04:58, 11.47s/it]\u001b[A\u001b[A\n",
      "\n",
      " 38%|███▊      | 15/40 [02:44<04:32, 10.89s/it]\u001b[A\u001b[A\n",
      "\n",
      " 40%|████      | 16/40 [02:53<04:06, 10.26s/it]\u001b[A\u001b[A\n",
      "\n",
      " 42%|████▎     | 17/40 [03:03<03:56, 10.27s/it]\u001b[A\u001b[A\n",
      "\n",
      " 45%|████▌     | 18/40 [03:15<03:54, 10.65s/it]\u001b[A\u001b[A"
     ]
    },
    {
     "name": "stdout",
     "output_type": "stream",
     "text": [
      "出錯喔\n"
     ]
    },
    {
     "name": "stderr",
     "output_type": "stream",
     "text": [
      "\n",
      "\n",
      " 48%|████▊     | 19/40 [03:24<03:35, 10.26s/it]\u001b[A\u001b[A\n",
      "\n",
      " 50%|█████     | 20/40 [03:34<03:21, 10.06s/it]\u001b[A\u001b[A\n",
      "\n",
      " 52%|█████▎    | 21/40 [03:48<03:37, 11.44s/it]\u001b[A\u001b[A\n",
      "\n",
      " 55%|█████▌    | 22/40 [04:06<03:59, 13.28s/it]\u001b[A\u001b[A\n",
      "\n",
      " 57%|█████▊    | 23/40 [04:20<03:48, 13.43s/it]\u001b[A\u001b[A\n",
      "\n",
      " 60%|██████    | 24/40 [04:34<03:39, 13.70s/it]\u001b[A\u001b[A"
     ]
    },
    {
     "name": "stdout",
     "output_type": "stream",
     "text": [
      "出錯喔\n"
     ]
    },
    {
     "name": "stderr",
     "output_type": "stream",
     "text": [
      "\n",
      "\n",
      " 62%|██████▎   | 25/40 [04:46<03:17, 13.20s/it]\u001b[A\u001b[A\n",
      "\n",
      " 65%|██████▌   | 26/40 [04:54<02:42, 11.60s/it]\u001b[A\u001b[A\n",
      "\n",
      " 68%|██████▊   | 27/40 [05:02<02:18, 10.68s/it]\u001b[A\u001b[A\n",
      "\n",
      " 70%|███████   | 28/40 [05:15<02:15, 11.29s/it]\u001b[A\u001b[A\n",
      "\n",
      " 72%|███████▎  | 29/40 [05:23<01:53, 10.31s/it]\u001b[A\u001b[A\n",
      "\n",
      " 75%|███████▌  | 30/40 [05:31<01:36,  9.60s/it]\u001b[A\u001b[A\n",
      "\n",
      " 78%|███████▊  | 31/40 [05:45<01:38, 10.90s/it]\u001b[A\u001b[A\n",
      "\n",
      " 80%|████████  | 32/40 [05:55<01:23, 10.48s/it]\u001b[A\u001b[A\n",
      "\n",
      " 82%|████████▎ | 33/40 [06:05<01:13, 10.53s/it]\u001b[A\u001b[A\n",
      "\n",
      " 85%|████████▌ | 34/40 [06:14<00:59,  9.97s/it]\u001b[A\u001b[A\n",
      "\n",
      " 88%|████████▊ | 35/40 [06:23<00:48,  9.78s/it]\u001b[A\u001b[A\n",
      "\n",
      " 90%|█████████ | 36/40 [06:31<00:36,  9.23s/it]\u001b[A\u001b[A\n",
      "\n",
      " 92%|█████████▎| 37/40 [06:40<00:27,  9.08s/it]\u001b[A\u001b[A\n",
      "\n",
      " 95%|█████████▌| 38/40 [06:52<00:19,  9.85s/it]\u001b[A\u001b[A\n",
      "\n",
      " 98%|█████████▊| 39/40 [07:01<00:09,  9.62s/it]\u001b[A\u001b[A\n",
      "\n",
      "100%|██████████| 40/40 [07:10<00:00,  9.64s/it]\u001b[A\u001b[A"
     ]
    }
   ],
   "source": [
    "author, title, time, content, content_author, comment = [], [], [], [], [], []\n",
    "for n in tqdm(range(1,41,1)):\n",
    "    res = requests.get(\"https://www.ptt.cc/bbs/nmsmusic/index\"+str(n)+\".html\")\n",
    "    soup = BeautifulSoup(res.text)\n",
    "    for i in soup.select(\".title\"):\n",
    "        try:    \n",
    "            if i('a') == []:\n",
    "                continue\n",
    "            else:\n",
    "                res2 = requests.get(\"https://www.ptt.cc\"+i('a')[0]['href'])\n",
    "                soup2 = BeautifulSoup(res2.text)\n",
    "                \n",
    "                author.append(soup2.select(\".article-meta-value\")[0].text)\n",
    "                title.append(soup2.select(\".article-meta-value\")[2].text)\n",
    "                time.append(soup2.select(\".article-meta-value\")[3].text)\n",
    "                content.append(soup2.select(\"#main-content\")[0].text.split(\"※\")[0].split(time[-1])[1])         \n",
    "                lst = []\n",
    "                for m in soup2.select(\".push .f3.push-content\")[0:]:\n",
    "                    lst.append(m.text)\n",
    "                comment.append(lst)\n",
    "                lst_ = []\n",
    "                for z in soup2.select(\".push .f3.hl.push-userid\")[0:]:\n",
    "                    lst_.append(z.text.strip())\n",
    "                content_author.append(lst_)\n",
    "        except IndexError:\n",
    "            print(\"出錯喔\")"
   ]
  },
  {
   "cell_type": "code",
   "execution_count": 64,
   "metadata": {},
   "outputs": [],
   "source": [
    "ptt_HatePolitics = list(zip(title, time, author, content, content_author, comment))"
   ]
  },
  {
   "cell_type": "code",
   "execution_count": 65,
   "metadata": {},
   "outputs": [],
   "source": [
    "df = pd.DataFrame(ptt_HatePolitics, columns=['標題', '時間', '作者', '內文', '留言作者','留言'])"
   ]
  },
  {
   "cell_type": "code",
   "execution_count": 66,
   "metadata": {},
   "outputs": [
    {
     "data": {
      "text/html": [
       "<div>\n",
       "<style scoped>\n",
       "    .dataframe tbody tr th:only-of-type {\n",
       "        vertical-align: middle;\n",
       "    }\n",
       "\n",
       "    .dataframe tbody tr th {\n",
       "        vertical-align: top;\n",
       "    }\n",
       "\n",
       "    .dataframe thead th {\n",
       "        text-align: right;\n",
       "    }\n",
       "</style>\n",
       "<table border=\"1\" class=\"dataframe\">\n",
       "  <thead>\n",
       "    <tr style=\"text-align: right;\">\n",
       "      <th></th>\n",
       "      <th>標題</th>\n",
       "      <th>時間</th>\n",
       "      <th>作者</th>\n",
       "      <th>內文</th>\n",
       "      <th>留言作者</th>\n",
       "      <th>留言</th>\n",
       "    </tr>\n",
       "  </thead>\n",
       "  <tbody>\n",
       "    <tr>\n",
       "      <td>0</td>\n",
       "      <td>[新板成立] nmsmusic板</td>\n",
       "      <td>Tue Apr  5 19:53:04 2016</td>\n",
       "      <td>skydreaming ((‵▽′)Ψ..咦？)</td>\n",
       "      <td>\\n\\n           茲因 yanagi5566 於 Buzz_Theater 申請...</td>\n",
       "      <td>[]</td>\n",
       "      <td>[]</td>\n",
       "    </tr>\n",
       "    <tr>\n",
       "      <td>1</td>\n",
       "      <td>[閒聊] 恭喜開板</td>\n",
       "      <td>Tue Apr  5 19:53:17 2016</td>\n",
       "      <td>swattw (Swat-未來模式)</td>\n",
       "      <td>\\nAs Title\\n\\n--\\n         ◢◢ξ                ...</td>\n",
       "      <td>[moon70552]</td>\n",
       "      <td>[: 推 跟我一樣來洗文DER]</td>\n",
       "    </tr>\n",
       "    <tr>\n",
       "      <td>2</td>\n",
       "      <td>[閒聊] 恭喜開板</td>\n",
       "      <td>Tue Apr  5 20:16:28 2016</td>\n",
       "      <td>Firstshadow (MentalUTN)</td>\n",
       "      <td>\\n恭喜開板  ⊙_⊙\\n\\n\\n\\n--\\nSent from my iPhone 8\\n...</td>\n",
       "      <td>[Yanagi5566]</td>\n",
       "      <td>[: 嘻嘻]</td>\n",
       "    </tr>\n",
       "    <tr>\n",
       "      <td>3</td>\n",
       "      <td>[賀開]板恭喜開板</td>\n",
       "      <td>Tue Apr  5 20:31:07 2016</td>\n",
       "      <td>moon70552 (丟啦)</td>\n",
       "      <td>\\n【賀開板】\\n【賀開板】\\n【賀開板】\\n【賀開板】\\n【賀開板】\\n【賀開板】\\n 【...</td>\n",
       "      <td>[Yanagi5566]</td>\n",
       "      <td>[: o'_'o]</td>\n",
       "    </tr>\n",
       "    <tr>\n",
       "      <td>4</td>\n",
       "      <td>[閒聊] 恭喜開板</td>\n",
       "      <td>Tue Apr  5 22:26:38 2016</td>\n",
       "      <td>rehtra (武英殿大學士爾雅)</td>\n",
       "      <td>\\n\\n\\n恭喜恭喜～\\n祝板運昌隆～\\n\\n\\n\\n\\n--\\n女人若嫁丈夫不是出於愛，而...</td>\n",
       "      <td>[Yanagi5566]</td>\n",
       "      <td>[: 謝謝0303]</td>\n",
       "    </tr>\n",
       "  </tbody>\n",
       "</table>\n",
       "</div>"
      ],
      "text/plain": [
       "                 標題                        時間                        作者  \\\n",
       "0  [新板成立] nmsmusic板  Tue Apr  5 19:53:04 2016  skydreaming ((‵▽′)Ψ..咦？)   \n",
       "1         [閒聊] 恭喜開板  Tue Apr  5 19:53:17 2016        swattw (Swat-未來模式)   \n",
       "2         [閒聊] 恭喜開板  Tue Apr  5 20:16:28 2016   Firstshadow (MentalUTN)   \n",
       "3         [賀開]板恭喜開板  Tue Apr  5 20:31:07 2016            moon70552 (丟啦)   \n",
       "4         [閒聊] 恭喜開板  Tue Apr  5 22:26:38 2016         rehtra (武英殿大學士爾雅)   \n",
       "\n",
       "                                                  內文          留言作者  \\\n",
       "0  \\n\\n           茲因 yanagi5566 於 Buzz_Theater 申請...            []   \n",
       "1  \\nAs Title\\n\\n--\\n         ◢◢ξ                ...   [moon70552]   \n",
       "2  \\n恭喜開板  ⊙_⊙\\n\\n\\n\\n--\\nSent from my iPhone 8\\n...  [Yanagi5566]   \n",
       "3  \\n【賀開板】\\n【賀開板】\\n【賀開板】\\n【賀開板】\\n【賀開板】\\n【賀開板】\\n 【...  [Yanagi5566]   \n",
       "4  \\n\\n\\n恭喜恭喜～\\n祝板運昌隆～\\n\\n\\n\\n\\n--\\n女人若嫁丈夫不是出於愛，而...  [Yanagi5566]   \n",
       "\n",
       "                 留言  \n",
       "0                []  \n",
       "1  [: 推 跟我一樣來洗文DER]  \n",
       "2            [: 嘻嘻]  \n",
       "3         [: o'_'o]  \n",
       "4        [: 謝謝0303]  "
      ]
     },
     "execution_count": 66,
     "metadata": {},
     "output_type": "execute_result"
    }
   ],
   "source": [
    "df.head()"
   ]
  },
  {
   "cell_type": "code",
   "execution_count": 67,
   "metadata": {},
   "outputs": [
    {
     "data": {
      "text/plain": [
       "(797, 6)"
      ]
     },
     "execution_count": 67,
     "metadata": {},
     "output_type": "execute_result"
    }
   ],
   "source": [
    "df.shape"
   ]
  },
  {
   "cell_type": "code",
   "execution_count": 68,
   "metadata": {},
   "outputs": [],
   "source": [
    "df.to_csv(\"nmsmusic_1_41.csv\" ,encoding='utf-8')"
   ]
  },
  {
   "cell_type": "code",
   "execution_count": 69,
   "metadata": {},
   "outputs": [],
   "source": [
    "df1_41 = pd.read_csv('./nmsmusic_1_41.csv')\n",
    "df41_70 = pd.read_csv('./nmsmusic_41_70.csv')\n",
    "df71_100 = pd.read_csv('./nmsmusic_71_100.csv')\n",
    "df101_124 = pd.read_csv('./nmsmusic_101_124.csv')"
   ]
  },
  {
   "cell_type": "code",
   "execution_count": 70,
   "metadata": {},
   "outputs": [
    {
     "data": {
      "text/html": [
       "<div>\n",
       "<style scoped>\n",
       "    .dataframe tbody tr th:only-of-type {\n",
       "        vertical-align: middle;\n",
       "    }\n",
       "\n",
       "    .dataframe tbody tr th {\n",
       "        vertical-align: top;\n",
       "    }\n",
       "\n",
       "    .dataframe thead th {\n",
       "        text-align: right;\n",
       "    }\n",
       "</style>\n",
       "<table border=\"1\" class=\"dataframe\">\n",
       "  <thead>\n",
       "    <tr style=\"text-align: right;\">\n",
       "      <th></th>\n",
       "      <th>Unnamed: 0</th>\n",
       "      <th>標題</th>\n",
       "      <th>時間</th>\n",
       "      <th>作者</th>\n",
       "      <th>內文</th>\n",
       "      <th>留言作者</th>\n",
       "      <th>留言</th>\n",
       "    </tr>\n",
       "  </thead>\n",
       "  <tbody>\n",
       "    <tr>\n",
       "      <td>0</td>\n",
       "      <td>0</td>\n",
       "      <td>[新板成立] nmsmusic板</td>\n",
       "      <td>Tue Apr  5 19:53:04 2016</td>\n",
       "      <td>skydreaming ((‵▽′)Ψ..咦？)</td>\n",
       "      <td>\\n\\n           茲因 yanagi5566 於 Buzz_Theater 申請...</td>\n",
       "      <td>[]</td>\n",
       "      <td>[]</td>\n",
       "    </tr>\n",
       "    <tr>\n",
       "      <td>1</td>\n",
       "      <td>1</td>\n",
       "      <td>[閒聊] 恭喜開板</td>\n",
       "      <td>Tue Apr  5 19:53:17 2016</td>\n",
       "      <td>swattw (Swat-未來模式)</td>\n",
       "      <td>\\nAs Title\\n\\n--\\n         ◢◢ξ                ...</td>\n",
       "      <td>['moon70552']</td>\n",
       "      <td>[': 推 跟我一樣來洗文DER']</td>\n",
       "    </tr>\n",
       "    <tr>\n",
       "      <td>2</td>\n",
       "      <td>2</td>\n",
       "      <td>[閒聊] 恭喜開板</td>\n",
       "      <td>Tue Apr  5 20:16:28 2016</td>\n",
       "      <td>Firstshadow (MentalUTN)</td>\n",
       "      <td>\\n恭喜開板  ⊙_⊙\\n\\n\\n\\n--\\nSent from my iPhone 8\\n...</td>\n",
       "      <td>['Yanagi5566']</td>\n",
       "      <td>[': 嘻嘻']</td>\n",
       "    </tr>\n",
       "    <tr>\n",
       "      <td>3</td>\n",
       "      <td>3</td>\n",
       "      <td>[賀開]板恭喜開板</td>\n",
       "      <td>Tue Apr  5 20:31:07 2016</td>\n",
       "      <td>moon70552 (丟啦)</td>\n",
       "      <td>\\n【賀開板】\\n【賀開板】\\n【賀開板】\\n【賀開板】\\n【賀開板】\\n【賀開板】\\n 【...</td>\n",
       "      <td>['Yanagi5566']</td>\n",
       "      <td>[\": o'_'o\"]</td>\n",
       "    </tr>\n",
       "    <tr>\n",
       "      <td>4</td>\n",
       "      <td>4</td>\n",
       "      <td>[閒聊] 恭喜開板</td>\n",
       "      <td>Tue Apr  5 22:26:38 2016</td>\n",
       "      <td>rehtra (武英殿大學士爾雅)</td>\n",
       "      <td>\\n\\n\\n恭喜恭喜～\\n祝板運昌隆～\\n\\n\\n\\n\\n--\\n女人若嫁丈夫不是出於愛，而...</td>\n",
       "      <td>['Yanagi5566']</td>\n",
       "      <td>[': 謝謝0303']</td>\n",
       "    </tr>\n",
       "  </tbody>\n",
       "</table>\n",
       "</div>"
      ],
      "text/plain": [
       "   Unnamed: 0                標題                        時間  \\\n",
       "0           0  [新板成立] nmsmusic板  Tue Apr  5 19:53:04 2016   \n",
       "1           1         [閒聊] 恭喜開板  Tue Apr  5 19:53:17 2016   \n",
       "2           2         [閒聊] 恭喜開板  Tue Apr  5 20:16:28 2016   \n",
       "3           3         [賀開]板恭喜開板  Tue Apr  5 20:31:07 2016   \n",
       "4           4         [閒聊] 恭喜開板  Tue Apr  5 22:26:38 2016   \n",
       "\n",
       "                         作者  \\\n",
       "0  skydreaming ((‵▽′)Ψ..咦？)   \n",
       "1        swattw (Swat-未來模式)   \n",
       "2   Firstshadow (MentalUTN)   \n",
       "3            moon70552 (丟啦)   \n",
       "4         rehtra (武英殿大學士爾雅)   \n",
       "\n",
       "                                                  內文            留言作者  \\\n",
       "0  \\n\\n           茲因 yanagi5566 於 Buzz_Theater 申請...              []   \n",
       "1  \\nAs Title\\n\\n--\\n         ◢◢ξ                ...   ['moon70552']   \n",
       "2  \\n恭喜開板  ⊙_⊙\\n\\n\\n\\n--\\nSent from my iPhone 8\\n...  ['Yanagi5566']   \n",
       "3  \\n【賀開板】\\n【賀開板】\\n【賀開板】\\n【賀開板】\\n【賀開板】\\n【賀開板】\\n 【...  ['Yanagi5566']   \n",
       "4  \\n\\n\\n恭喜恭喜～\\n祝板運昌隆～\\n\\n\\n\\n\\n--\\n女人若嫁丈夫不是出於愛，而...  ['Yanagi5566']   \n",
       "\n",
       "                   留言  \n",
       "0                  []  \n",
       "1  [': 推 跟我一樣來洗文DER']  \n",
       "2            [': 嘻嘻']  \n",
       "3         [\": o'_'o\"]  \n",
       "4        [': 謝謝0303']  "
      ]
     },
     "execution_count": 70,
     "metadata": {},
     "output_type": "execute_result"
    }
   ],
   "source": [
    "df1_41.head()"
   ]
  },
  {
   "cell_type": "code",
   "execution_count": 75,
   "metadata": {},
   "outputs": [],
   "source": [
    "df = pd.concat([df1_41, df41_70, df71_100, df101_124])"
   ]
  },
  {
   "cell_type": "code",
   "execution_count": 77,
   "metadata": {},
   "outputs": [
    {
     "data": {
      "text/plain": [
       "(2458, 7)"
      ]
     },
     "execution_count": 77,
     "metadata": {},
     "output_type": "execute_result"
    }
   ],
   "source": [
    "df.shape"
   ]
  },
  {
   "cell_type": "code",
   "execution_count": 78,
   "metadata": {},
   "outputs": [],
   "source": [
    "df.to_csv(\"nmsmusic_1_124.csv\" ,encoding='utf-8')"
   ]
  },
  {
   "cell_type": "code",
   "execution_count": null,
   "metadata": {},
   "outputs": [],
   "source": []
  }
 ],
 "metadata": {
  "kernelspec": {
   "display_name": "Python 3",
   "language": "python",
   "name": "python3"
  },
  "language_info": {
   "codemirror_mode": {
    "name": "ipython",
    "version": 3
   },
   "file_extension": ".py",
   "mimetype": "text/x-python",
   "name": "python",
   "nbconvert_exporter": "python",
   "pygments_lexer": "ipython3",
   "version": "3.7.3"
  }
 },
 "nbformat": 4,
 "nbformat_minor": 2
}
